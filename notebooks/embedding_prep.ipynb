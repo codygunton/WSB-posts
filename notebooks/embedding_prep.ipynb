{
 "cells": [
  {
   "cell_type": "markdown",
   "id": "unauthorized-dallas",
   "metadata": {},
   "source": [
    "# Preprocessing text for embedding.\n"
   ]
  },
  {
   "cell_type": "code",
   "execution_count": 1,
   "id": "approximate-livestock",
   "metadata": {},
   "outputs": [
    {
     "name": "stdout",
     "output_type": "stream",
     "text": [
      "SparkNLP version: 2.7.4\n",
      "Tensorflow version: 2.4.1\n"
     ]
    }
   ],
   "source": [
    "%config Completer.use_jedi = False\n",
    "\n",
    "import os\n",
    "from datetime import datetime\n",
    "import sys\n",
    "import numpy as np\n",
    "import pandas as pd\n",
    "\n",
    "import sparknlp\n",
    "print(f\"SparkNLP version: {sparknlp.version()}\")\n",
    "import pyspark.sql.functions as F\n",
    "from pyspark.sql import types as T\n",
    "from sparknlp.base import LightPipeline\n",
    "\n",
    "import tensorflow as tf\n",
    "import tensorflow_hub as hub\n",
    "import tensorflow_text as tftext  # <-- need to import here f\n",
    "print(f\"Tensorflow version: {tf.__version__}\")\n",
    "\n",
    "DATA_PATH = \"../data/reddit_wsb.csv\""
   ]
  },
  {
   "cell_type": "code",
   "execution_count": 2,
   "id": "optional-crowd",
   "metadata": {},
   "outputs": [],
   "source": [
    "os.environ[\"JAVA_HOME\"] = \"/usr/lib/jvm/java-8-openjdk\"\n",
    "os.environ[\"PATH\"] = f\"{os.environ['JAVA_HOME']}/bin:{os.environ['PATH']}\"\n",
    "\n",
    "# to allow importing from parent directory of notebooks folder\n",
    "sys.path.append('..')\n",
    "\n",
    "spark = sparknlp.start()\n",
    "\n",
    "%load_ext autoreload\n",
    "%autoreload 1\n",
    "%aimport pipelines"
   ]
  },
  {
   "cell_type": "code",
   "execution_count": 4,
   "id": "appointed-attachment",
   "metadata": {},
   "outputs": [
    {
     "name": "stdout",
     "output_type": "stream",
     "text": [
      "CPU times: user 8.9 ms, sys: 148 µs, total: 9.05 ms\n",
      "Wall time: 4.25 s\n"
     ]
    }
   ],
   "source": [
    "%%time\n",
    "df = spark.read.csv(DATA_PATH, \n",
    "                    header=True,\n",
    "                    multiLine=True, \n",
    "                    inferSchema=True,\n",
    "                    quote=\"\\\"\",\n",
    "                    escape=\"\\\"\")\n",
    "\n",
    "df = df.sample(withReplacement=False, fraction=0.1, seed=1)\n",
    "\n",
    "df = (df.withColumn(\"text\", \n",
    "               F.concat_ws(\". \", df.title, df.body))\n",
    "      .drop(\"title\", \"body\", \"url\", \"comms_num\", \"created\"))"
   ]
  },
  {
   "cell_type": "markdown",
   "id": "geological-scheme",
   "metadata": {},
   "source": [
    "# Preprocess with Spark NLP: Round 1\n",
    "Will investigate my first attempt and then make any corrections."
   ]
  },
  {
   "cell_type": "code",
   "execution_count": 4,
   "id": "optimum-context",
   "metadata": {},
   "outputs": [
    {
     "name": "stdout",
     "output_type": "stream",
     "text": [
      "CPU times: user 13.1 ms, sys: 11.7 ms, total: 24.8 ms\n",
      "Wall time: 383 ms\n",
      "Processed (and counted) 2624 rows.\n"
     ]
    }
   ],
   "source": [
    "texts = (\n",
    "    pipelines.preprocess_texts(df)\n",
    "    .select(\"id\", \n",
    "            \"timestamp\", \n",
    "            \"text_no_emojis\")\n",
    "    .withColumnRenamed(\"text_no_emojis\", \"text\")\n",
    ")\n",
    "pipeline = pipelines.build_embedding_preproc_pipeline()\n",
    "\n",
    "pipeline_model = pipeline.fit(texts)\n",
    "light_model = LightPipeline(pipeline_model)\n",
    "def process_texts():\n",
    "    processed_texts = light_model.transform(texts)\n",
    "    return processed_texts\n",
    "%time processed_texts = process_texts()\n",
    "print(f\"Processed (and counted) {df.count()} rows.\")"
   ]
  },
  {
   "cell_type": "code",
   "execution_count": 5,
   "id": "unlike-circulation",
   "metadata": {},
   "outputs": [],
   "source": [
    "ddf = (\n",
    "    processed_texts\n",
    "    .withColumn(\"num_s\",\n",
    "                processed_texts[\"finished_sentences_metadata\"][0]._2\n",
    "               .cast(T.IntegerType()))\n",
    "    .withColumn(\"len_s\",\n",
    "                F.length(processed_texts[\"finished_sentences\"][0])\n",
    "                .cast(T.IntegerType()))\n",
    "    .select(\"id\", \n",
    "            \"num_s\",\n",
    "            \"len_s\",\n",
    "            F.col(\"finished_sentences\")[0]\n",
    "            .alias(\"sentence\")))"
   ]
  },
  {
   "cell_type": "markdown",
   "id": "correct-monte",
   "metadata": {},
   "source": [
    "## Look at the data"
   ]
  },
  {
   "cell_type": "markdown",
   "id": "honest-fifteen",
   "metadata": {},
   "source": [
    "### Short words"
   ]
  },
  {
   "cell_type": "code",
   "execution_count": 6,
   "id": "attached-ozone",
   "metadata": {},
   "outputs": [
    {
     "name": "stdout",
     "output_type": "stream",
     "text": [
      "+------+-----+-----+---------+\n",
      "|    id|num_s|len_s| sentence|\n",
      "+------+-----+-----+---------+\n",
      "|l6u8gs|    1|    3|      GME|\n",
      "|l6s3d9|    3|    9|It's not.|\n",
      "|l6qb4n|   28|    5|    stop?|\n",
      "|l6py0p|   18|    9|A bubble.|\n",
      "|l6py0p|   20|    3|      Us.|\n",
      "|l6kzf8|    3|    8| Strategy|\n",
      "|l6h7ew|    2|    6|   YOLO!.|\n",
      "|l6x1lz|    0|    6|   420.69|\n",
      "|l6x0ja|    0|    7|  SNDL $.|\n",
      "|l6x0i4|    2|    7|  NOK GME|\n",
      "|l6wzfq|    1|    6|   Title.|\n",
      "|l6wz0r|    3|    7|  Webull.|\n",
      "|l6wyzy|    1|    5|    HOLD!|\n",
      "|l6wyjn|    0|    5|    DOGE.|\n",
      "|l6wxv4|    0|    9|Right now|\n",
      "|l6wx09|    2|    4|     BAN.|\n",
      "|l6wx09|    3|    7|  Fuck RH|\n",
      "|l6ww9n|    6|    3|      GME|\n",
      "|l6wvc1|    1|    9|Thoughts.|\n",
      "|l6wvbc|    2|    7|  Yee haa|\n",
      "|l6yxjc|    0|    5|    xspa.|\n",
      "|l6yx3i|    1|    3|      BS.|\n",
      "|l6ywju|    0|    7|  BUY GM.|\n",
      "|l6ywep|    0|    4|     BBW.|\n",
      "|l6ywbu|    0|    5|    Nice.|\n",
      "|l6ywaa|    2|    4|     WTF!|\n",
      "|l6yw5l|    0|    6|   $SNDL.|\n",
      "|l6yw4e|    0|    8| FINALLY!|\n",
      "|l6yvux|    0|    8| Next up.|\n",
      "|l6yvux|    1|    4|     $DAL|\n",
      "|l6yvqk|    1|    5|    HOLD!|\n",
      "|l6yvkx|    0|    4|     Nice|\n",
      "|l6yvhf|    0|    8| CASHAPP.|\n",
      "|l6yxrk|    2|    8| Fuck em.|\n",
      "|l6yxp8|    0|    6|   VPOR?.|\n",
      "|l6yxnu|    0|    5|    SNDL.|\n",
      "|l6yxnu|    1|    5|    SNDL.|\n",
      "|l6yxn2|    3|    6|   Never.|\n",
      "|l6yxlf|    0|    6|   Macys?|\n",
      "|l6yxjm|    0|    9|Nokiaaaaa|\n",
      "|l6yxj0|    5|    8| What do?|\n",
      "|l6yxj0|    9|    5|    Halp.|\n",
      "|l6yxex|    0|    4|     Nice|\n",
      "|l6z0hi|    0|    8| BUY SNDL|\n",
      "|l6z0cr|    2|    4|     team|\n",
      "|l6z07n|    0|    4|     AMC.|\n",
      "|l6z05d|    0|    8| Fuck RH.|\n",
      "|l6yzxu|    2|    8| Big Sad.|\n",
      "|l6yzr7|    1|    7|  Anyone?|\n",
      "|l6yznj|    0|    4|     Txmd|\n",
      "|l6yzle|    0|    5|    Nice.|\n",
      "|l6yz0s|    1|    4|     ONLY|\n",
      "|l6yyqw|    0|    5|    $SLV.|\n",
      "|l6yyqw|    3|    9|I'm long.|\n",
      "|l6yyl9|    3|    9|Let's go.|\n",
      "|l6yyl9|    4|    5|    EXPR.|\n",
      "|l6yyl8|    1|    3|      ...|\n",
      "|l6yyl5|    0|    8| Express.|\n",
      "|l6yyee|    0|    9|Hold AMC!|\n",
      "|l6yydr|    0|    9|All Good!|\n",
      "|l6yydo|    1|    5|    Leggo|\n",
      "|l6yyam|    0|    9|$TSNP ???|\n",
      "|l6yy7n|    0|    8| SUNDIAL!|\n",
      "|l6yy3b|    1|    4|     AMC?|\n",
      "|l6yxzr|    3|    6|   BB GME|\n",
      "|l6yxyq|    1|    9|BBBBBBBBB|\n",
      "|l6zcs5|    1|    9|Such life|\n",
      "|l6zcl2|    0|    3|      D!.|\n",
      "|l6zcej|    0|    9|Fidelity.|\n",
      "|l6zcej|    4|    7|  HOLDDD.|\n",
      "|l6zcdy|    1|    4|     Haha|\n",
      "|l6zc9o|    3|    3|      ...|\n",
      "|l6zd2t|    0|    5|    Help.|\n",
      "|l6zd2t|    2|    3|      ...|\n",
      "|l6zd20|    3|    3|      ...|\n",
      "|l6zdfc|    0|    5|    MNKD.|\n",
      "|l6zdfc|    1|    4|     MNKD|\n",
      "|l6zdf3|    0|    5|    AMC .|\n",
      "|l6zdde|   11|    8| Fuck em.|\n",
      "|l6zd92|    0|    4|     AAL!|\n",
      "|l6zdsf|    1|    7|  PERIOD.|\n",
      "|l6zdom|    0|    5|    HOLD.|\n",
      "|l6zdom|    1|    4|     HOLD|\n",
      "|l6zf4i|   21|    9|9000CAD .|\n",
      "|l6zeyv|    1|    4|     DOGE|\n",
      "|l6zeq7|    0|    6|   Kodak.|\n",
      "|l6zej2|    0|    5|    DOGE.|\n",
      "|l6ze8b|    1|    3|      ...|\n",
      "|l6ze8b|    2|    6|   Hmm...|\n",
      "|l6ze2m|    0|    7|  PLTR !!|\n",
      "|l6ze2m|    2|    3|      pls|\n",
      "|l6zi1f|    2|    9|dunno why|\n",
      "|l6zhvs|    2|    7|  ALL IN!|\n",
      "|l6zhab|    4|    9|Thoughts?|\n",
      "|l6zgvx|    0|    7|  all in.|\n",
      "|l6zgnl|    2|    4|     P.S.|\n",
      "|l6zgfp|    0|    9|RH down?.|\n",
      "|l6zgfc|    1|    7|  ALL IN.|\n",
      "|l6zg8e|    3|    8| diamonds|\n",
      "|l6zfks|    0|    4|     GME!|\n",
      "+------+-----+-----+---------+\n",
      "only showing top 100 rows\n",
      "\n"
     ]
    }
   ],
   "source": [
    "ddf.where(\"len_s < 10\").show(100, truncate=100)"
   ]
  },
  {
   "cell_type": "markdown",
   "id": "aware-victoria",
   "metadata": {},
   "source": [
    "### Look into how we're handling ellipses."
   ]
  },
  {
   "cell_type": "code",
   "execution_count": 7,
   "id": "heated-northeast",
   "metadata": {},
   "outputs": [],
   "source": [
    "def show_sentences(rowid):\n",
    "    ddf.where(f\"id=='{rowid}'\").select(\"id\", \"num_s\", \"len_s\", \"sentence\").show(truncate=100)\n",
    "    print(df.where(f\"id=='{rowid}'\").toPandas().text.iloc[0])"
   ]
  },
  {
   "cell_type": "code",
   "execution_count": 8,
   "id": "traditional-partnership",
   "metadata": {},
   "outputs": [
    {
     "name": "stdout",
     "output_type": "stream",
     "text": [
      "+------+-----+-----+--------------------------------------------------------+\n",
      "|    id|num_s|len_s|                                                sentence|\n",
      "+------+-----+-----+--------------------------------------------------------+\n",
      "|l6yyl8|    0|   56|ROBINHOOD JUST EXECUTED MY ORDERS FOR GME, NOK, AND AMC.|\n",
      "|l6yyl8|    1|    3|                                                     ...|\n",
      "|l6yyl8|    2|   13|                                           SO CONFUSED??|\n",
      "+------+-----+-----+--------------------------------------------------------+\n",
      "\n",
      "ROBINHOOD JUST EXECUTED MY ORDERS FOR GME, NOK, AND AMC.... SO CONFUSED?? 🤨\n"
     ]
    }
   ],
   "source": [
    "show_sentences(\"l6yyl8\")"
   ]
  },
  {
   "cell_type": "code",
   "execution_count": 9,
   "id": "growing-iraqi",
   "metadata": {},
   "outputs": [
    {
     "name": "stdout",
     "output_type": "stream",
     "text": [
      "+------+-----+-----+----------------------------------------------------------------------------------------------------+\n",
      "|    id|num_s|len_s|                                                                                            sentence|\n",
      "+------+-----+-----+----------------------------------------------------------------------------------------------------+\n",
      "|l6zc9o|    0|   59|                                         Having issues buying GME shares on IBKR interactive broker.|\n",
      "|l6zc9o|    1|   47|                                                     I thought this was only limited to Robinhood!!.|\n",
      "|l6zc9o|    2|  115|Every time I try to buy a share I get a message, transaction in this instrument are limited to cl...|\n",
      "|l6zc9o|    3|    3|                                                                                                 ...|\n",
      "|l6zc9o|    4|   30|                                                                      Anyone else having this issue?|\n",
      "|l6zc9o|    5|   19|                                                                                 Any work around it?|\n",
      "+------+-----+-----+----------------------------------------------------------------------------------------------------+\n",
      "\n",
      "Having issues buying GME shares on IBKR interactive broker. I thought this was only limited to Robinhood!!. Every time I try to buy a share I get a message, transaction in this instrument are limited to closing-only trades..... Anyone else having this issue? Any work around it?\n"
     ]
    }
   ],
   "source": [
    "show_sentences(\"l6zc9o\")"
   ]
  },
  {
   "cell_type": "code",
   "execution_count": 10,
   "id": "excited-debut",
   "metadata": {},
   "outputs": [
    {
     "name": "stdout",
     "output_type": "stream",
     "text": [
      "+------+-----+-----+--------------------------------------------------------------+\n",
      "|    id|num_s|len_s|                                                      sentence|\n",
      "+------+-----+-----+--------------------------------------------------------------+\n",
      "|l6zd2t|    0|    5|                                                         Help.|\n",
      "|l6zd2t|    1|   62|Only one Man betting for Nok Nakd gme but not have more money.|\n",
      "|l6zd2t|    2|    3|                                                           ...|\n",
      "|l6zd2t|    3|   18|                                            Stranded helouuuuu|\n",
      "+------+-----+-----+--------------------------------------------------------------+\n",
      "\n",
      "Help. Only one Man betting for Nok Nakd gme but not have more money........ Stranded helouuuuu\n"
     ]
    }
   ],
   "source": [
    "show_sentences(\"l6zd2t\")"
   ]
  },
  {
   "cell_type": "code",
   "execution_count": 11,
   "id": "fancy-patient",
   "metadata": {},
   "outputs": [
    {
     "name": "stdout",
     "output_type": "stream",
     "text": [
      "+------+-----+-----+-----------------------------------------------+\n",
      "|    id|num_s|len_s|                                       sentence|\n",
      "+------+-----+-----+-----------------------------------------------+\n",
      "|l6zd20|    0|   15|                                Fuck Robinhood.|\n",
      "|l6zd20|    1|   47|Every stock we discussed yesterday they pulled.|\n",
      "|l6zd20|    2|   18|                             Even airlines?How?|\n",
      "|l6zd20|    3|    3|                                            ...|\n",
      "|l6zd20|    4|   23|                        We leave RH after this.|\n",
      "|l6zd20|    5|   24|                       Why are they doing this?|\n",
      "|l6zd20|    6|   38|         We should not support them after this.|\n",
      "|l6zd20|    7|   27|                    We pull support, they lose.|\n",
      "|l6zd20|    8|   24|                       They make money from us.|\n",
      "|l6zd20|    9|   13|                                  Not any more.|\n",
      "|l6zd20|   10|   44|   Position GME , NOK and some other dumb shit.|\n",
      "|l6zd20|   11|   12|                                   Rolls Royce.|\n",
      "+------+-----+-----+-----------------------------------------------+\n",
      "\n",
      "Fuck Robinhood. Every stock we discussed yesterday they pulled. Even airlines?How? ... We leave RH after this.. Why are they doing this? \n",
      "\n",
      "We should not support them after this. \n",
      "\n",
      "We pull support, they lose. They make money from us.\n",
      "\n",
      "Not any more. \n",
      "\n",
      "Position GME , NOK and some other dumb shit. Rolls Royce.\n"
     ]
    }
   ],
   "source": [
    "show_sentences(\"l6zd20\")"
   ]
  },
  {
   "cell_type": "markdown",
   "id": "everyday-formula",
   "metadata": {},
   "source": [
    "### Look how long are the longest sentences"
   ]
  },
  {
   "cell_type": "code",
   "execution_count": 12,
   "id": "patent-extreme",
   "metadata": {},
   "outputs": [
    {
     "name": "stdout",
     "output_type": "stream",
     "text": [
      "+------+-----+-----+----------------------------------------------------------------------------------------------------+\n",
      "|    id|num_s|len_s|                                                                                            sentence|\n",
      "+------+-----+-----+----------------------------------------------------------------------------------------------------+\n",
      "|l7j9q6|    6| 1942|Fact 1 Hedge funds are getting REEEEEEEEEEamed by the rotation into memes See Lots of big funds a...|\n",
      "|l87j4d|    7|  971|WSB worthy humour, only low medium finance talk Nathan For You Bonefide genius businessman Nathan...|\n",
      "|laj1ws|    2|  944|Section 78i a clearly states that \"It shall be unlawful for any person, directly or indirectly, b...|\n",
      "|l7spsb|    1|  874|I'm no motivational speaker but I want to express my hype towards what's coming, this is it, this...|\n",
      "|l6yxv4|    7|  860|FingerMotion is a small but real and rapidly growing company that makes money and has a promising...|\n",
      "|lbbnwd|    7|  859|This is good because, again it improves customer safety feeling of safety during flights This als...|\n",
      "|l8w3js|   40|  849|The ability to develop, consummate, and implement a plan of reorganization with respect to PG&E C...|\n",
      "|lbtidl|    1|  819|My stonks gone down I'm wondering why I Bought this meme at all Margin Calls fill up my email And...|\n",
      "|l8w198|   30|  807|In this scenario, they close the market for the day, get the shorts to agree with GME management ...|\n",
      "|l9afjk|    6|  803|On 08 01 21 the day of a big dip in my leveraged position I receive an email from Etoro giving me...|\n",
      "|lbieij|   24|  777|Competition across Corsair's product offering includes Gaming keyboards and mice Logitech and Raz...|\n",
      "|l7tvmu|   14|  741|Love to the wild wild honeys yeah Shout out to retards that done it come on And it ain't even abo...|\n",
      "|l7ftb8|    5|  723|During the Obama administration, the SEC asked one of its market advisory commitees if Payment fo...|\n",
      "|lahttc|    1|  718|TPT Global Tech's OTCQB TPTW Subsidiary TPT MedTech \"QuikPASS\" and \"QuikLAB\" Will Provide COVID 1...|\n",
      "|l7o2rq|   38|  699|12,500 square feet of penthouses at Faena House in Miami, Florida 1290 South Ocean Boulevard in P...|\n",
      "|l91ns5|   14|  635|\" Bernanke has also been criticized for his actions in the merging of Merrill Lynch and Bank of A...|\n",
      "|l87j4d|    6|  600|Other films I haven't seen Wall Street Money Never Sleeps Boiler Room EDIT Apparently has a big f...|\n",
      "|l6ziao|    3|  599|\"Now, Robinhood appears to be up to the same old tricks, recruiting social media influencers to e...|\n",
      "|lbieij|   20|  566|Increasing gaming and streaming engagement Some interesting facts reported in the Limelight Netwo...|\n",
      "|l71cv2|    2|  565|This massive sell off is music to my ears because it means more GME shares for my buck, but I don...|\n",
      "|l7tvmu|   11|  551|I put in work, and it's all for the kids uh But these cats done forgot what work is uh huh They d...|\n",
      "|l95gcf|    5|  546|Here you can find and support foodbanks to help support your local community US UK AU CAN Here is...|\n",
      "|l89ndw|    1|  525|PHOTO carlo allegri Reuters AMC 56.20% GME 62.98% How Clearing Demands Helped Ground the WallStre...|\n",
      "|l9odgj|    1|  514|Known Hedge Fund Losses as of 1 29 Point72 $19 billion AUM 15% Estimated losses $2.85 billion D1 ...|\n",
      "|l7tvmu|    5|  507|X gon' give it to ya uh , he gon' give it to ya X gon' give it to ya, he gon' give it to ya First...|\n",
      "|l87j4d|    2|  500|Films The Wolf of Wall Street Story of a dick stockbroker but you root for him The Big Short Mult...|\n",
      "|l72c12|    2|  484|Webull Should be fine, requires state ID and multiple business days to verify Public Currently pr...|\n",
      "|l70c65|   19|  481|In short, a one off loss does not resolve the situation, nor indiscriminate taxation towards such...|\n",
      "|l8zdad|   45|  478|You can read more about it here NIO offers special services to it's customers that I will briefly...|\n",
      "|l6te9s|    8|  471|They told me I \"also had other positions that were heavily covered in the media, but those were f...|\n",
      "|l793tc|    7|  470|REPORTED CONSTANT OUTAGES AJ BELL FIDELITY VANGUARD SCHWAB DOUGH SOFI CHASE PUBLIC FOR OUR CANADI...|\n",
      "|lbmh0g|    1|  460|Found this on Investopedia \"Although the list does not specify the cause of the failed settlement...|\n",
      "|l7qqmy|   10|  458|Now I can't make you do it, you gotta look at this subreddit, look at what we've already done, I ...|\n",
      "|l7o2rq|    2|  457|Today, I would like to talk to you about Kenneth Cordele Griffin the founder and CEO of a little ...|\n",
      "|lagmqg|   32|  457|IF we collectively hold and harden our diamonds hands even more in this week to come, and have ri...|\n",
      "|lbtidl|    5|  455|I'ma say wall street I read about your divorce too how neat I had a friend liquidate his account ...|\n",
      "|lahttc|    8|  453|TPT MedTech developed its \"QuikPASS \" Check and Verify passport system and COVID 19 vaccination m...|\n",
      "|l70c65|   20|  446|The SEC will still monitor the situation, but if it does not find any major player who has put in...|\n",
      "|l9adzw|    3|  443|The \"120%\" short float we keep seeing thrown around without any sources comes out to 80 million s...|\n",
      "|l7o2rq|   36|  442|132 East Delaware Place in Chicago, Illinois luxury high rise with residential units, office spac...|\n",
      "|laq9ef|   11|  437|All one has to do is go through the '34 Exchange Act, rule by rule and regulation by regulation, ...|\n",
      "|l70c65|   12|  437|of course the gain initially took place, but now it is only redditors who inflate each other's sh...|\n",
      "|l7qqmy|    6|  437|You know, when you try to fight the power in life, things get taken from you, that's part of life...|\n",
      "|lbah8c|    2|  430|Limitations of the Short Interest Ratio \"The short interest ratio has several flaws, the first be...|\n",
      "|lam9co|   23|  425|Wall Street has Bloomberg Terminals, High Frequency algorithms in a building next to the NYSE in ...|\n",
      "|l72qiz|   10|  422|The reasoning is simple, with Fidelity I have had fills on my options and stocks that were better...|\n",
      "|l8uox4|   25|  419|EDIT 3 IF YOU WOULD LIKE TO HELP here are the main links that I think would help the most right n...|\n",
      "|lbaktb|   62|  418|Evidence needed Shorts are on average in a losing position at current share price $90 , and can't...|\n",
      "|l7l3nn|   47|  412|NVAX's is significantly undervalued with a $10.8B market cap $170 share I'm not a CFA and prefer ...|\n",
      "|l8rxua|    7|  405|Now that the GME phenomenon has spreaded over the globe, even here although we actually cannot he...|\n",
      "+------+-----+-----+----------------------------------------------------------------------------------------------------+\n",
      "only showing top 50 rows\n",
      "\n"
     ]
    }
   ],
   "source": [
    "ddf.orderBy(\"len_s\", ascending=False).show(50, truncate=100)"
   ]
  },
  {
   "cell_type": "code",
   "execution_count": 13,
   "id": "olympic-territory",
   "metadata": {},
   "outputs": [
    {
     "name": "stdout",
     "output_type": "stream",
     "text": [
      "+------+-----+-----+----------------------------------------------------------------------------------------------------+\n",
      "|    id|num_s|len_s|                                                                                            sentence|\n",
      "+------+-----+-----+----------------------------------------------------------------------------------------------------+\n",
      "|l7j9q6|    0|   75|                         The Next Black Swan REEEEEEEtail Crushes Funds and Causes a Market Selloff.|\n",
      "|l7j9q6|    1|   26|                                                                          I will present some facts.|\n",
      "|l7j9q6|    2|   92|        These facts are all kind of similar, and arguably all say the same thing in different words.|\n",
      "|l7j9q6|    3|   82|                  This is a good thing, because your smooth ass brain needs all the help it can get.|\n",
      "|l7j9q6|    4|   83|                 You should read all of this, unless you can't read, in which case just ALL IN GME .|\n",
      "|l7j9q6|    5|   75|                         After, I will present the logical conclusion, and what you can do about it.|\n",
      "|l7j9q6|    6| 1942|Fact 1 Hedge funds are getting REEEEEEEEEEamed by the rotation into memes See Lots of big funds a...|\n",
      "|l7j9q6|    7|  137|If you imagine a short fund, that means they're asking for bailouts and you're probably gonna fin...|\n",
      "|l7j9q6|    8|   92|        Fact 3 The extreme volatility and volume in some stocks is causing a minor liquidity crisis.|\n",
      "|l7j9q6|    9|   84|                see Let's say you're broke but want to YOLO on GME, so you need to raise some money.|\n",
      "|l7j9q6|   10|  204|You go to a pawn shop and pawn them your graphics card for $1000, because they know they can go s...|\n",
      "|l7j9q6|   11|  184|Well, the next day, imagine people start speculating on graphics cards, and the prices go crazy s...|\n",
      "|l7j9q6|   12|  178|If you try to pawn that graphics card tomorrow, the pawn shop is gonna look at it and say \"hell n...|\n",
      "|l7j9q6|   13|   68|                                \" This is basically what's happening with loads of stocks right now.|\n",
      "|l7j9q6|   14|  237|Ordinarily it's not a big deal everyone knows how much a stock is worth right now, and it's extre...|\n",
      "|l7j9q6|   15|   42|                                                          So they're happy to take it as collateral.|\n",
      "|l7j9q6|   16|   72|                            But right now, some stocks are going up and down by 100% within minutes.|\n",
      "|l7j9q6|   17|   93|       A stock could literally go from hundreds of dollars to next to worthless within a day or two.|\n",
      "|l7j9q6|   18|   43|                                                         So nobody is gonna take that as collateral.|\n",
      "|l7j9q6|   19|   69|                               If you own that, for all intents and purposes, you have zero dollars.|\n",
      "+------+-----+-----+----------------------------------------------------------------------------------------------------+\n",
      "only showing top 20 rows\n",
      "\n",
      "The Next Black Swan: REEEEEEEtail Crushes Funds and Causes a Market Selloff. I will present some facts. These facts are all kind of similar, and arguably all say the same thing in different words. This is a good thing, because your smooth ass brain needs all the help it can get. You should read all of this, unless you can't read, in which case just 🚀ALL IN GME 🚀.\n",
      "\n",
      "After, I will present the logical conclusion, and what you can do about it. \n",
      "\n",
      "**Fact #1: Hedge funds are getting REEEEEEEEEEamed by the rotation into memes**\n",
      "\n",
      "See: https://twitter.com/CGasparino/status/1354571801767116801\n",
      "\n",
      "Lots of big funds are 'long-short'; they'll look at all of the stocks in a sector, like say retail or real estate, and rank them from best to worst. They'll go long the best one, and go short the worst one. You can probably already see where this is going: the 'worst ones' have gotten way too shorted and way too beaten up, and now they're being squeezed. \n",
      "\n",
      "Oh, and the 'best stocks' haven't done much since August. That means the gains don't come close to cancelling out the losses. And god help the funds who are short-only; they are getting absolutely ass-blasted, and you know they're not enjoying it cause if they did they'd be hanging out here posting fat loss porn with us.\n",
      "\n",
      "**Fact #2: Shorts getting destroyed causes deleveraging and selling elsewhere in the market**\n",
      "\n",
      "See: https://twitter.com/chamath/status/1354646282678149127?s=21 and https://twitter.com/DowdEdward/status/1354508826725085185\n",
      "\n",
      "If there's one thing we know here at WSB, it's that you're a toilet paper handed bitch if you're not levered to the tits at all times. The biggest funds know this too, and being the biggest funds, they have access to way more leverage than you and I do. This is a bit of a problem for shorts though: shorts need liquid capital to _close_ their positions. If you've ever been in a situation where you sold a covered call or spread and got money for it and then immediately used that money to buy another call or something, but then you wanted to buy your spread or your covered call back, but couldn't close it because you just spent the money on something else....now you know what is going on at these hedge funds. They collected a bunch of money a long time ago when they shorted the stonk, and then immediately spent all that money to juice their returns, and now they need to have a fire sale just to have enough liquid capital to buy back their shit at a massive premium.\n",
      "\n",
      "If you imagine the case of your typical long-short fund, that means they're being forced to sell their 'best' stocks. If you imagine a short fund, that means they're asking for bailouts and you're probably gonna find some of them behind Wendy's next week.\n",
      "\n",
      "**Fact #3: The extreme volatility and volume in some stocks is causing a minor liquidity crisis.** \n",
      "\n",
      "see: https://news.ycombinator.com/item?id=25951475\n",
      "\n",
      "Let's say you're broke but want to YOLO on GME, so you need to raise some money. You go to a pawn shop and pawn them your graphics card for $1000, because they know they can go sell that fancy RTX3090 super duper titanium RGB hentai edition for more than $1000 on ebay if they need to. \n",
      "\n",
      "Well, the next day, imagine people start speculating on graphics cards, and the prices go crazy: some start selling for 10$ and some start selling for $5,000 and every price in between. If you try to pawn that graphics card tomorrow, the pawn shop is gonna look at it and say \"hell no, we have no idea how much we can sell that for, we're not gonna take that risk.\"\n",
      "\n",
      "This is basically what's happening with loads of stocks right now. Ordinarily it's not a big deal; everyone knows how much a stock is worth right now, and it's extremely extremely likely it will be worth about the same price (+/- a few percent with 99% probability) tomorrow and the day after and the day after. So they're happy to take it as collateral. But right now, some stocks are going up and down by 100%+ within minutes. A stock could literally go from hundreds of dollars to next to worthless within a day or two. So nobody is gonna take that as collateral. If you own that, for all intents and purposes, you have zero dollars.\n",
      "\n",
      "If you want to use your positions as leverage, or if you were ALREADY using your positions as leverage, this is a huge problem. You need to find some different source of collateral. If you can't, you need to sell shit so that you have good 'ole USD. It's not just hedge funds that are feeling squeezed: it's the clearing firms and banks and...basically anyone that uses stonks as collateral for any purpose. \n",
      "\n",
      "By the way, this is what caused most of the selling back in March last year; folks needed to raise money RIGHT NOW, which meant selling all their shit RIGHT NOW, which meant stonks went down, which caused a cascade of margin calls and liquidations for folks that were levered to the tits.\n",
      "\n",
      "**Fact #4: Indices are at all-time-highs, every sentiment indicator is at MAXIMUM EUPHORIA, but volatility is rising**\n",
      "\n",
      "See: any fucking chart\n",
      "\n",
      "As one of the greatest autists of our time once said, \"be fearful when others are greedy.\" \n",
      "\n",
      "Everyone and their mother is levered to the tits; why wouldn't you be, the fed is handing out free loans to anyone with a pulse! That's great cause it makes stonks go up really fast, but if stonks start going down, they're also gonna go down really fucking fast too. Any selling will get further amplified by option gamma, the same forces that are propelling Gamestop in every direction simultaneously, and the same forces that propelled the markets upwards (particularly the big tech stonks) after the march crash.\n",
      "\n",
      "_________________________\n",
      "\n",
      "Conclusion: We are set up perfectly for a deep, violent correction.\n",
      "\n",
      "If you're a hibernating 🌈🐻 , starving for some 🌈🐻 porn, I have just the thing for you: this could turn into a full-on market crash if it really, really gets going.\n",
      "\n",
      "The more volatile the memes get, the more volatile the market is going to get. The more volatile the market gets, the more selling has to happen. The more selling, the more volatility, and boy does this escalate quickly (For those of you budding autists and retards that were literally born yesterday, just know that this feedback loop has happened many times before, like this time almost a year ago).\n",
      "\n",
      "HOWEVER, I would also like to note that this is 1000% divorced from the actual economy. Any dip will be violent and short-lived. Do not panic and BTFD, you smelly bundle of sticks. There's a lot of dry powder on the sidelines that missed the dip in march and are still pissed about it (such as yours truly, who was too busy being a 🌈🐻), and they would LOVE a chance to buy back into the market at a low-ish price.\n",
      "\n",
      "My recommendation: Do NOT be levered to the tits right now. Maybe toss a few dollars into way OTM spy puts a few weeks out, or longer, as a hedge against your long positions. Do NOT go all-in poots, cause stonks only go up and wall street is actively working on ways to defuse this bomb. \n",
      "\n",
      "But be ready for stonks to go down VERY quickly for a little while. It can happen, and if it does, it's gonna get ugly.\n",
      "\n",
      "My positions: ALL-IN GME, except for a bunch of March spy puts I'm gonna buy tomorrow cause I'm a gambling degenerate.\n",
      "\n",
      "NOT FINANCIAL ADVICE.\n"
     ]
    }
   ],
   "source": [
    "show_sentences(\"l7j9q6\")"
   ]
  },
  {
   "cell_type": "code",
   "execution_count": 14,
   "id": "fabulous-eligibility",
   "metadata": {},
   "outputs": [
    {
     "name": "stdout",
     "output_type": "stream",
     "text": [
      "+------+-----+-----+----------------------------------------------------------------------------------------------------+\n",
      "|    id|num_s|len_s|                                                                                            sentence|\n",
      "+------+-----+-----+----------------------------------------------------------------------------------------------------+\n",
      "|l87j4d|    0|   72|                            Bored that market is closed and you can't stare at a line go up all day?|\n",
      "|l87j4d|    1|   41|                                                           Here are a few entertainment suggestions.|\n",
      "|l87j4d|    2|  500|Films The Wolf of Wall Street Story of a dick stockbroker but you root for him The Big Short Mult...|\n",
      "|l87j4d|    3|   81|                   Trading Places Commodities broker and a street hustler see a reverse in fortunes.|\n",
      "|l87j4d|    4|   93|       It's a comedy film American Psycho Investment banker loves business cards and killing people.|\n",
      "|l87j4d|    5|   30|                                                                      Not much finance in this film.|\n",
      "|l87j4d|    6|  600|Other films I haven't seen Wall Street Money Never Sleeps Boiler Room EDIT Apparently has a big f...|\n",
      "|l87j4d|    7|  971|WSB worthy humour, only low medium finance talk Nathan For You Bonefide genius businessman Nathan...|\n",
      "|l87j4d|    8|  173|And for all you paper handed traders who sold this week and now have their hand on their dick wai...|\n",
      "|l87j4d|    9|  164|The aptly named paper trading competition will get going sooner rather than later, where you'll b...|\n",
      "|l87j4d|   10|   60|                                        Just make sure to enroll when the mods open up registration.|\n",
      "+------+-----+-----+----------------------------------------------------------------------------------------------------+\n",
      "\n",
      "Bored that market is closed and you can't stare at a line go up all day? Here are a few entertainment suggestions. **Films**\n",
      "\n",
      "- The Wolf of Wall Street - Story of a dick stockbroker but you root for him\n",
      "- The Big Short - Multiple dick traders but you root for them\n",
      "- Rogue Trader - A dick derivatives trader who tries to make you root for him, but you still don't as he's still a massive dick\n",
      "- Wall Street - Dick trader does illegal shit until he realises his illegal shit has consequences on people he knows\n",
      "- Margin Call - Analyst finds out his company is fucked and company tries to sell off assets before everyone knows they're fucked.\n",
      "- Trading Places - Commodities broker and a street hustler see a reverse in fortunes. It's a comedy film\n",
      "- American Psycho - Investment banker loves business cards and killing people. Not much finance in this film.\n",
      "\n",
      "**Other films I haven't seen**\n",
      "\n",
      "- Wall Street: Money Never Sleeps\n",
      "- Boiler Room - EDIT: Apparently has a big fan base on WSB\n",
      "- Glengarry Glen Ross\n",
      "- Barbarians at the gate\n",
      "- The Wizard of Lies - As suggested by /u/alaska80 \n",
      "- The Hummingbird Project - As suggested by /u/vydenmyria\n",
      "- The Other Guys - as suggested by /u/abeachlife (Note: same guy that did The Big Short + Vice, only low correlation to financial markets) \n",
      "\n",
      "**TV Shows**\n",
      "\n",
      "- Billions - Legal drama in between a hedge fund boss and a US attorney\n",
      "- Silicon Valley - Comedy about a tech startup in silicon valley\n",
      "- Succession - Follows the life of a family that owns a massive media conglomerate. WSB worthy humour, only low/medium finance talk\n",
      "- Nathan For You - Bonefide genius businessman Nathan Fielder helps struggling businesses by suggesting out of the box ideas\n",
      "- Black Monday - As suggested by /u/goosesmama87 \n",
      "- Industry - As suggested by /u/Velcro-hotdog \n",
      "\n",
      "**Documentaries**\n",
      "\n",
      "- Enron: The Smartest Guy in the Room - The Enron Story\n",
      "- Too Big to Fail - The 2008 Bailout Story\n",
      "- Panic: The Untold Story of the 2008 Financial Crisis - As suggested by /u/alaska80 \n",
      "- Inside Job - As suggested by /u/alaska80 \n",
      "- Becoming Warren Buffet - As suggested by /u/wizardvalle \n",
      "- The Inventor: Out for blood in silicon valley - As suggested by /u/wizardvalle\n",
      "- The China Hustle - As suggested by /u/wizardvalle \n",
      "- Silicon Cowboys - Suggested by the same guy above, loves his finance docs\n",
      "- Abacus - Suggested by the same guy above, loves his finance docs\n",
      "- Betting on Zero - Suggested by the same guy above, loves his finance docs\n",
      "- Chasing Madoff - Suggested by the same guy above, loves his finance docs\n",
      "\n",
      "Please add further suggestions in comments.\n",
      "\n",
      "\n",
      "And for all you paper handed traders who sold this week and now have their hand on their dick waiting for what to do next, not to worry, WSB will have entertainment for you. The aptly named paper trading competition will get going sooner rather than later, where you'll be able to prove yourself against the best traders WSB has to offer. Just make sure to enroll when the mods open up registration.\n"
     ]
    }
   ],
   "source": [
    "show_sentences(\"l87j4d\")"
   ]
  },
  {
   "cell_type": "code",
   "execution_count": 15,
   "id": "warming-gabriel",
   "metadata": {},
   "outputs": [
    {
     "name": "stdout",
     "output_type": "stream",
     "text": [
      "+------+-----+-----+----------------------------------------------------------------------------------------------------+\n",
      "|    id|num_s|len_s|                                                                                            sentence|\n",
      "+------+-----+-----+----------------------------------------------------------------------------------------------------+\n",
      "|laj1ws|    0|   55|                                             15 U.S.C.A. 78i the Illegality of Short Ladder Attacks.|\n",
      "|laj1ws|    1|  288|\"Dear SEC and President Biden, I am calling on you today, pursuant to 15 U.S.C.A. 78i, titled Man...|\n",
      "|laj1ws|    2|  944|Section 78i a clearly states that \"It shall be unlawful for any person, directly or indirectly, b...|\n",
      "|laj1ws|    3|  211|\"Short ladder attacks\" occur when large institutions in possession of the aforementioned stocks s...|\n",
      "|laj1ws|    4|  249|The fact that short ladder attacks exist is apparent from on going market activity that can be se...|\n",
      "|laj1ws|    5|  196|Further silence from the SEC on this matter, which can be investigated quite quickly, not only en...|\n",
      "|laj1ws|    6|   11|                                                                                         Government.|\n",
      "|laj1ws|    7|  330|Finally, section 78i f makes it clear that \"Any person who willfully participates in any act or t...|\n",
      "|laj1ws|    8|  137|The direct manipulation of GME and AMC stock prices is an on going crisis that directly hurts the...|\n",
      "|laj1ws|    9|   39|                                                             You must act now before it is too late.|\n",
      "|laj1ws|   10|   89|           Sincerely, Your Average Retail Investor\" This post was crafted by u SenateMajorityLeader.|\n",
      "|laj1ws|   11|  120|We have the world's eyes on this subreddit, and if we flood the forum with this information, it c...|\n",
      "|laj1ws|   12|   15|                                                                                     Keep reposting.|\n",
      "+------+-----+-----+----------------------------------------------------------------------------------------------------+\n",
      "\n",
      "15 U.S.C.A. § 78i - the Illegality of Short Ladder Attacks. \"Dear SEC and President Biden,\n",
      "\n",
      "I am calling on you today, pursuant to 15 U.S.C.A. § 78i, titled Manipulation of Security Prices, to prohibit manipulative and deceptive tactics that artificially depresses the price of GME and AMC securities in contravention of the laws of the United States.\n",
      "\n",
      "Section 78i(a) clearly states that \"It shall be unlawful for any person, directly or indirectly, by the use of the mails or any means or instrumentality of interstate commerce, or of any facility of any national securities exchange, or for any member of a national securities exchange -- (2) To effect, alone or with 1 or more other persons, a series of transactions in any security registered on a national securities exchange, any security not so registered, or in connection with any security-based swap or security-based swap agreement with respect to such security creating actual or apparent active trading in such security, or raising or depressing the price of such security, for the purpose of inducing the purchase or sale of such security by others.\"\n",
      "\n",
      "Currently, GME and AMC stock prices are actively being manipulated using a mechanism called \"short ladder attacks\" to depress the price of these stocks in contravention of 15 U.S.C.A. § 78i. \"Short ladder attacks\" occur when large institutions in possession of the aforementioned stocks sell them for just less than market value in rapid succession between one another in order to drive the price down. The fact that short ladder attacks exist is apparent from on-going market activity that can be seen here https://www.reddit.com/r/wallstreetbets/comments/la682h/visual_representation_of_a_short_ladder_attack_4/ https://preview.redd.it/nmiqx27md4e61.jpg?width=1170&format=pjpg&auto=webp&s=f3e61c081b3332670eaa8b972c309c6d56177e33\n",
      "\n",
      "https://www.reddit.com/r/wallstreetbets/comments/l71yxn/ladder_selling_explained/\n",
      "\n",
      "check this out\n",
      "\n",
      "Such blatant attacks readily establishes prima facie case of market manipulation and must be investigated by the SEC immediately. Further silence from the SEC on this matter, which can be investigated quite quickly, not only encourages further market manipulation but also further diminishes public trust and faith in the U.S. Government.\n",
      "\n",
      "Finally, section 78i(f) makes it clear that \"Any person who willfully participates in any act or transaction in violation of subsections (a), (b), or (c) of this section, shall be liable to any person who shall purchase or sell any security at a price which was affected by such act or transaction.\"\n",
      "\n",
      "I am calling on you to do your job. The direct manipulation of GME and AMC stock prices is an on-going crisis that directly hurts the public interest and is AGAINST THE LAW. You must act now before it is too late.\n",
      "\n",
      "Sincerely,\n",
      "\n",
      "Your Average Retail Investor\"\n",
      "\n",
      "This post was crafted by /u/SenateMajorityLeader. We have the world's eyes on this subreddit, and if we flood the forum with this information, it can't just be dismissed. Keep reposting.\n"
     ]
    }
   ],
   "source": [
    "show_sentences(\"laj1ws\")"
   ]
  },
  {
   "cell_type": "code",
   "execution_count": 16,
   "id": "academic-audio",
   "metadata": {},
   "outputs": [
    {
     "name": "stdout",
     "output_type": "stream",
     "text": [
      "+------+-----+-----+----------------------------------------------------------------------------------------------------+\n",
      "|    id|num_s|len_s|                                                                                            sentence|\n",
      "+------+-----+-----+----------------------------------------------------------------------------------------------------+\n",
      "|l7spsb|    0|   72|                            This is it, we're sharpening our blades the time for war is approaching.|\n",
      "|l7spsb|    1|  874|I'm no motivational speaker but I want to express my hype towards what's coming, this is it, this...|\n",
      "|l7spsb|    2|  147|Thank you so much to everyone in this sub for the ride, it's been long, it's been tough, but we'v...|\n",
      "+------+-----+-----+----------------------------------------------------------------------------------------------------+\n",
      "\n",
      "This is it, we're sharpening our blades the time for war is approaching. I'm no motivational speaker but I want to express my hype towards what's coming, this is it, this mission started and looked impossible for a fair amount of time, we have been mocked by these billionaires for trying to retaliate, we've been mocked by other subreddits however, they have now come to see the true power we have, the billionaires are now weeping about their losses, other subreddits have come to our support, we have celebrities, billionaires, the government on our side, no matter what happens today we will go down in history, today may well be remembered as the day that wall street died, forever onwards we will remember this movement, when our kids hear about it we can say we were part of it, when our wifes boyfriend talks to us about it, we can say we were part of it, it's not often a person gets to be part of history and today we have all done that. \n",
      "\n",
      "\n",
      "\n",
      "Thank you so much to everyone in this sub for the ride, it's been long, it's been tough, but we've made friends on the way, let's fly high brothers 💎🤚💎🤚💎🤚🚀🚀🚀\n"
     ]
    }
   ],
   "source": [
    "show_sentences(\"l7spsb\")"
   ]
  },
  {
   "cell_type": "markdown",
   "id": "pleased-twenty",
   "metadata": {},
   "source": [
    "### Now look at rows that had many sentences"
   ]
  },
  {
   "cell_type": "code",
   "execution_count": 17,
   "id": "black-jungle",
   "metadata": {},
   "outputs": [],
   "source": [
    "by_count = (ddf\n",
    "            .select(\"id\", \n",
    "                    F.col(\"num_s\"))\n",
    "            .groupby(\"id\")\n",
    "            .agg(F.max(F.col(\"num_s\"))\n",
    "                 .cast(T.IntegerType())\n",
    "                 .alias(\"count_s\"))\n",
    "            .orderBy(\"count_s\", ascending=False))"
   ]
  },
  {
   "cell_type": "code",
   "execution_count": 18,
   "id": "premier-advertising",
   "metadata": {},
   "outputs": [
    {
     "name": "stdout",
     "output_type": "stream",
     "text": [
      "+------+-------+\n",
      "|    id|count_s|\n",
      "+------+-------+\n",
      "|lc7uaw|    122|\n",
      "|l7o2rq|     92|\n",
      "|lbaktb|     85|\n",
      "|lamwg6|     74|\n",
      "|l7l3nn|     72|\n",
      "|l6zlqq|     70|\n",
      "|lb0gcj|     68|\n",
      "|l8rxua|     66|\n",
      "|l7yb3d|     65|\n",
      "|l7r06p|     63|\n",
      "+------+-------+\n",
      "only showing top 10 rows\n",
      "\n"
     ]
    }
   ],
   "source": [
    "by_count.show(10)"
   ]
  },
  {
   "cell_type": "code",
   "execution_count": 19,
   "id": "relevant-explorer",
   "metadata": {},
   "outputs": [
    {
     "data": {
      "text/plain": [
       "<AxesSubplot:ylabel='Density'>"
      ]
     },
     "execution_count": 19,
     "metadata": {},
     "output_type": "execute_result"
    },
    {
     "data": {
      "image/png": "[encoded data removed]",
      "text/plain": [
       "<Figure size 432x288 with 1 Axes>"
      ]
     },
     "metadata": {
      "needs_background": "light"
     },
     "output_type": "display_data"
    }
   ],
   "source": [
    "pddf = by_count.toPandas()\n",
    "pddf.plot(kind=\"kde\")"
   ]
  },
  {
   "cell_type": "code",
   "execution_count": 20,
   "id": "unknown-samoa",
   "metadata": {},
   "outputs": [
    {
     "name": "stdout",
     "output_type": "stream",
     "text": [
      "+------+-----+-----+----------------------------------------------------------------------------------------------------+\n",
      "|    id|num_s|len_s|                                                                                            sentence|\n",
      "+------+-----+-----+----------------------------------------------------------------------------------------------------+\n",
      "|lc7uaw|    0|   25|                                                                           GME and why do we matter.|\n",
      "|lc7uaw|    1|   47|                                                     I fling poop and drag my knuckles on the floor.|\n",
      "|lc7uaw|    2|   29|                                                                       I am not a financial advisor.|\n",
      "|lc7uaw|    3|   26|                                                                          Do your own due diligence.|\n",
      "|lc7uaw|    4|   40|                                                            This is for entertainment purposes only.|\n",
      "|lc7uaw|    5|  125|Lately, I've felt like we don't have a voice and don't matter but I want to remind all us apes th...|\n",
      "|lc7uaw|    6|   47|                                                     We will win TOGETHER and we will HOLD together.|\n",
      "|lc7uaw|    7|   32|                                                                    Could be days, weeks, or months.|\n",
      "|lc7uaw|    8|   39|                                                             Longer than any of our attention spans.|\n",
      "|lc7uaw|    9|   33|                                                                   So they will use TIME against us.|\n",
      "|lc7uaw|   10|   24|                                                                            BUT time is on our side.|\n",
      "|lc7uaw|   11|   96|    This is psychological warfare against us to make us DOUBT ourselves and what we WILL accomplish.|\n",
      "|lc7uaw|   12|   60|                                        We will remain retarded longer then they can remain solvent.|\n",
      "|lc7uaw|   13|   29|                                                                       They bleed interest each day.|\n",
      "|lc7uaw|   14|   50|                                                  A stock's value is based upon what we place on it.|\n",
      "|lc7uaw|   15|   23|                                                                             See TSLA for reference.|\n",
      "|lc7uaw|   16|   26|                                                                          WE LIKE THE FUCKING STOCK.|\n",
      "|lc7uaw|   17|  105|If my stock is worth 5k to me, I WILL HOLD for 5 fucking K. WHO are you to tell us how to perceiv...|\n",
      "|lc7uaw|   18|   92|        OHHHHH, you're an expert who got caught with your dick in the cookie jar thx louis rossman .|\n",
      "|lc7uaw|   19|   29|                                                                       SHORTING 130 140% of a stock.|\n",
      "+------+-----+-----+----------------------------------------------------------------------------------------------------+\n",
      "only showing top 20 rows\n",
      "\n",
      "GME and why do we matter. I  fling poop and drag my knuckles on the floor.  I am not a financial  advisor.  Do your own due diligence.  This is for entertainment purposes  only.\n",
      "\n",
      "Lately,  I've felt like we don't have a voice and don't matter but I want to  remind all us apes that we are retarded together.  We will win TOGETHER  and we will HOLD together.  Could be days, weeks, or months.  Longer  than any of our attention spans.  So they will use TIME against us.  BUT  time is on our side.\n",
      "\n",
      "This is  psychological warfare against us to make us DOUBT ourselves and what we  WILL accomplish.  We will remain retarded longer then they can remain  solvent.  They bleed interest each day.  A stock's value is based upon  what we place on it.  See TSLA for reference.  WE LIKE THE FUCKING  STOCK.  If my stock is worth 5k to me, I WILL HOLD for 5 fucking K.  WHO  are you to tell us how to perceive VALUE?  OHHHHH, you're an expert who  got caught with your dick in the cookie jar (thx louis rossman).   SHORTING 130-140% of a stock.  These hedgies aren't infallible.  Just  well connected and well resourced.  As long as we own shares that they  NEED, we have time on our side.  Even though it will not feel like it.\n",
      "\n",
      "Obligatory, don't invest what you can't lose.\n",
      "\n",
      "We  cannot let the hedgies deter us.  Now that GME is the dinner  conversation topic of the world, everyone and their moms have an  opinion.  We will be told we don't matter.  We don't know what we are  doing(probably true. I got into stocks 2 weeks ago).  We should have  sold at the peak.  We should have bought lower.  We shouldn't have  gambled.  What people are forgetting is what WE are trying, is to do  better, and be better.  Why kick a guy down when he wants a better  fucking life.  FUCK YOU.\n",
      "\n",
      "LOOK AT  THE PPL SPENDING THEIR TENDIES TO GIVE BACK.  It's our $, let us do what  we want with it.  If a hedgie can irresponsibly short a stock over  100%, why can't we take a CALCULATED risk?  BUUUT funDamentAls.   Gamestop is a dying company.  The former business model of GME is dying.   As most physical businesses are.  See 24 hour fitness.  (I've never  been inside a gym but I read stuff online)  But GME is pivoting.  PAPA  COWEN and the new board members are pivoting to e-commerce.  He's  assembling the fucking avengers to the END GAME but this is just getting  started.  GME is transforming just like Netflix when it went from DVDs  to online streaming.  We are the ugly duckling that gets super sexy  after growing pains.\n",
      "\n",
      "How about  this for fuuunDamentAls.  Hedge funds being allowed to short a stock  over 100% and nobody comments on how that happened.  Why it happened.   And how SHORTING has INFINITE room to lose.  Keep in mind, they are  sophisticated gamblers with other people's money and 401ks.  BUT  according to their calculation it's little to no risk.  Because they can  throw more $ at the problem and manipulate the market, they can fix it!   If they can't, they want to cry to the media, get the public opinion  on their side, and ask for MORE GOVERNMENT REGULATION.  Why would a  greedy $ machine ask for more oversight?  OH, that's because the SEC is  your lapdog and the government will bail you out with tax payer dollars.   SEE 2008 FINANCIAL CRISIS.  Yet, we are not allowed to exploit the law  of supply and demand.  If the demand exceeds 100% of the supply, the  inherit value ROCKETS.  See RTX cards and AMD chips.  FUCK SCALPERS for  good measure :)\n",
      "\n",
      "I want to remind  every single one of you, we do matter.  We have NUMBERS on our side.  As  a collective we've already made shorting a topic of conversation at the  political level.  This may not be a monetary victory but it hopefully  is a step in the right direction to a more equal game.  That or hold  your politicians accountable.  You are their constituents.\n",
      "\n",
      "We  play out in the open.  We share publicly available information and make  decisions base.  Really, it's just autistic people posting the exact  confirmation biases that we needed to see.  It prints $$$$ BRRrrrrr.\n",
      "\n",
      "Let's recap how the odds are stacked against us.\n",
      "\n",
      "\\-We  are too stupid to be allowed to spend our money.  We need government  intervention to \"protect us\".  The little guys, the plebes, the  unsophisticated, etc..  Yet they can't decide on how/when to get a  stimmy check to us.  THEY REALLY REALLY CARE (when hedge funds lose  money).  We some how took wallstreet down with $600.  If the stock  market was that fragile, we have BIGGER issues.\n",
      "\n",
      "\\-Momentum  was killed last week by brokers being held to new collateral  requirements by clearing houses.  Thus restricting stock purchasing with  CASH for specific securities for RETAIL investors.  This is how Phil  Jackson uses timeouts to kill momentum for the other team when they're  running HOT.  BUT Hedge Funds were still allowed to trade.  We were  allowed to sell but NOT buy.  How would NBA games look like if only one  team played while the other team sat on the bench during a timeout?  Fair?  Keep in mind, these brokers were INFORMED pre-market and didn't  have any press conferences until after market close for damage control.   Guess who also informed besides the brokers, YOUUUU SMAAHT, the  hedgies.  Seems legit.\n",
      "\n",
      "\\-News outlet and controlling the narrative.  How many analysts, journalist, and their rich ~~daddies~~  overlords are framing this as WSB pumping and dumping a meme stock.  WE  JUST LIKE THE FUCKING STOCK.  What about the narrative that WSB saved  some business that we would like to keep around post-covid.  FFS you  want to take away the movies and games?  What do you want us to do for  fun?  You deplorable sacks of shit who get no enjoyment out of life  other than sucking the souls and money out of people.  You live to see  more zeros in your account and there is a special place in hell for you.\n",
      "\n",
      "\\-SEC  holding a meeting tonight investigating market manipulation through  social media but no investigative statement on how clearing houses can  magically conjure a rule that halts trading for retail investors.   Robinhood is not the bad guy.  Many trading platforms restricted  trading.  RH is the household name that is the scapegoat.  Get the  fucking clearing house on the line and ask why they increased collateral  from 1-2% to 100 fucking percent on these specific stocks.  OHhhh,  they're not regulated but they want to invoke the SEC to regulate the  retail investors.... NICE.\n",
      "\n",
      "\\-How  shorts magically covered their positions but DO NOT have to report their  positions until weeks later.  Lack of immediate transparency gives them  ample time to reposition and multiple options to cover their asses  while blaming us.\n",
      "\n",
      "Anyways, I could  keep bitching but I just wanted to vent and rally us together.  We took  a mad beating. I just wanted to let you beautiful online strangers that  you aren't alone.  GME has transcended and has evolved into a movement.\n",
      "\n",
      "What  does GME mean to me?  A down-payment to a home for my family and I.  My  wife and I are expecting our first kid.  I'm risking something I can  lose... for a better future.\n",
      "\n",
      "What does GME mean to you?\n",
      "\n",
      "TLDR; We fucking matter.  We are going to be the catalyst of change. HOLD SHARES. Don't risk what you can't lose. APE Strong. 🦍💪💎👐  🚀🚀🚀🚀🚀🚀\n"
     ]
    }
   ],
   "source": [
    "show_sentences(\"lc7uaw\")"
   ]
  },
  {
   "cell_type": "code",
   "execution_count": 21,
   "id": "spoken-location",
   "metadata": {},
   "outputs": [
    {
     "name": "stdout",
     "output_type": "stream",
     "text": [
      "+------+-----+-----+----------------------------------------------------------------------------------------------------+\n",
      "|    id|num_s|len_s|                                                                                            sentence|\n",
      "+------+-----+-----+----------------------------------------------------------------------------------------------------+\n",
      "|l7o2rq|    0|   81|                   Know Thy Enemy Kenneth C. Griffin, the Barbarian Behind the Gates of the Citadel.|\n",
      "|l7o2rq|    1|  134|, I have returned to inflict more psychic damage upon you about the sick fucks that make up the w...|\n",
      "|l7o2rq|    2|  457|Today, I would like to talk to you about Kenneth Cordele Griffin the founder and CEO of a little ...|\n",
      "|l7o2rq|    3|  334|Seeing as how there's a few million more of you here now than there were last month when I was em...|\n",
      "|l7o2rq|    4|   96|    I do hope you take the time to read the full posts, because you may learn something interesting.|\n",
      "|l7o2rq|    5|   11|                                                                                         PSTH Stripe|\n",
      "|l7o2rq|    6|   86|              1. The markets and the flow of capital around the world are rife with financial crime.|\n",
      "|l7o2rq|    7|  126|1. The vast majority of this crime is perpetrated by large institutions like Goldman Sachs, JPMor...|\n",
      "|l7o2rq|    8|  116|Some of this crime takes the form of laundering money for drug cartels, terrorists, pedophiles, a...|\n",
      "|l7o2rq|    9|   48|                                                    Some of it involves manipulation of the markets.|\n",
      "|l7o2rq|   10|  175|1. The regulators in charge of dealing with these fucks are utterly spineless, to the point that ...|\n",
      "|l7o2rq|   11|  108|This phenomenon is known as regulatory capture and is a particularly insidious form of political ...|\n",
      "|l7o2rq|   12|  227|1. The CIA, since its inception in 1947, has acted as a sort of parallel government within the br...|\n",
      "|l7o2rq|   13|   82|                  That foreign policy has always kept the interests of business as its top priority.|\n",
      "|l7o2rq|   14|   40|                                                            One might even call this the Deep State.|\n",
      "|l7o2rq|   15|   19|                                                                                 Who is Ken Griffin?|\n",
      "|l7o2rq|   16|  161|Ken Griffin is the absolute epitome of the archetypal scumfuck egomaniac asshole that embodies ev...|\n",
      "|l7o2rq|   17|   12|                                                                                        Ahem, sorry.|\n",
      "|l7o2rq|   18|   21|                                                                               Let's try that again.|\n",
      "|l7o2rq|   19|  231|Ken Griffin started his career out as a at the age of 19 while an undergraduate at Harvard, short...|\n",
      "+------+-----+-----+----------------------------------------------------------------------------------------------------+\n",
      "only showing top 20 rows\n",
      "\n",
      "Know Thy Enemy: Kenneth C. Griffin, the Barbarian Behind the Gates of the Citadel. Привет идиоты,\n",
      "\n",
      "I have returned to inflict more psychic damage upon you about the sick fucks that make up the worldwide disease that is Big Capital. Today, I would like to talk to you about [Kenneth Cordele Griffin](https://en.wikipedia.org/wiki/Kenneth_C._Griffin), the founder and CEO of a little company called [Citadel LLC](https://en.wikipedia.org/wiki/Citadel_LLC).\n",
      "\n",
      "Now unless you have been living under a fucking rock for the past week or have drank yourself to the point of amnesia for one reason or another (forgivable), you are probably by now at least vaguely aware of what Citadel does and how it relates to current events surrounding GameStop and WSB's new favorite hedge fund, Melvin Capital. \n",
      "\n",
      "Seeing as how there's a few million more of you here now than there were last month when I was emptying the contents of the bowl of oatmeal that is my brain on these pages about [present day financial crimes perpetrated by Citadel and their ilk](https://old.reddit.com/r/wallstreetbets/comments/kbjpqy/an_alternative_hypothesis_for_psth_stripe_for_the/) and the [ouroboros of Western intelligence agencies and Big Capital](https://old.reddit.com/r/wallstreetbets/comments/kcm0r9/once_more_unto_the_breach_the_unified_field/), let's do a quick recap. I do hope you take the time to read the full posts, because you may learn something interesting. ^^^PSTH ^^^= ^^^Stripe ^^^🚀🚀🚀\n",
      "\n",
      "1.  The markets and the flow of capital around the world are rife with financial crime.\n",
      "\n",
      "1. The vast majority of this crime is perpetrated by large institutions like Goldman Sachs, JPMorgan Chase, and Deutsche Bank. Some of this crime takes the form of laundering money for drug cartels, terrorists, pedophiles, and sex traffickers. Some of it involves manipulation of the markets.\n",
      "\n",
      "1. The regulators in charge of dealing with these fucks are utterly spineless, to the point that any honest person must wonder out loud if they're in on it and getting a take. This phenomenon is known as [regulatory capture](https://en.wikipedia.org/wiki/Regulatory_capture) and is a particularly insidious form of political corruption.\n",
      "\n",
      "1. The CIA, since its inception in 1947, has acted as a sort of parallel government within the broader United States government, and has been the primary ideological engine of its foreign policy through its ties to Big Capital. That foreign policy has always kept the interests of business as its top priority. One might even call this the Deep State. \n",
      "\n",
      "#Who is Ken Griffin?\n",
      "\n",
      "Ken Griffin is the absolute epitome of the archetypal scumfuck egomaniac asshole that embodies everything that is wrong with the ultra-rich class of Big Capital. Ahem, sorry. Let's try that again.\n",
      "\n",
      "Ken Griffin started his career out as a 🌈🐻 at the age of 19 while an undergraduate at Harvard, shorting the convertible bonds market and making a bunch of money off of the [October 19th, 1987 crash, more commonly known as Black Monday.](https://www.chicagomag.com/Chicago-Magazine/June-2011/The-File-on-Citadels-Ken-Griffin/) He graduated in 1989, supposedly returned 70% in his first year as a professional fund manager, and went on to found Citadel in 1990. Citadel has swelled to gargantuan size in the last 30 years. It apparently almost [went under in 2008 during the financial crisis](https://www.wsj.com/articles/citadels-ken-griffin-leaves-2008-tumble-far-behind-1438655887), but they were fine after the empty suit known as Barack Obama reneged on his campaign promises and fully sealed the transfer of the United States to Wall Street and the rest of the 1%. The hedge fund managed $35 billion as of October 2020 (probably less now LOLOLOL) and a [little more than a quarter of all equity volume flows through Citadel Securities in their capacity as a market maker.](https://www.chicagobusiness.com/finance-banking/ken-griffins-citadel-securities-reaps-record-67-billion-volatility)\n",
      "\n",
      "He lives in Chicago, but that's not very important. I will note that Chicago has been a historically CIA rat-infested city, as evidenced by the group of [University of Chicago-trained economists](https://en.wikipedia.org/wiki/Chicago_Boys) that helped carry out the regime change ops and aggressive neoliberalization of South America in the 20th century. He's not a complete political partisan, but he does tend to favor Republicans. He has donated to Democratic Party luminaries like [Rod Blagojevich and Rahm Emanuel](https://www.chicagotribune.com/politics/ct-met-ken-griffin-political-donations-20190213-story.html), libertarian psychopaths like the [Koch Brothers, and neocon war hawk freaks like Karl \"Turd Blossom\" Rove.](https://www.chicagotribune.com/business/ct-biz-0310-ken-griffin-interview-story.html) His most recent political contributions were to Kelly Loeffler and David Perdue, the two imbecilic former Senators from Georgia who were both busted for dumping stocks on insider information shortly before the [Great Beer Virus Crash of 2020.](https://en.wikipedia.org/wiki/2020_stock_market_crash) The thread tying these fine folks together is that what most people in the United States think of as politics is more akin to a game show than a real system of governance, and the ultra-rich value their class allegiance much higher than their allegiance to any one political party. As a slight aside, [Loeffler's husband](https://en.wikipedia.org/wiki/Jeffrey_Sprecher) is the chairman of the New York Stock Exchange. How in the fuck is the spouse of a (formerly) sitting Senator allowed to hold that position? Yuck.\n",
      "\n",
      "\n",
      "#The Ken Griffin Real Estate Portfolio\n",
      "\n",
      "(Disclaimer: Griffin may not still own every property in this section and I don't care to find out which, if any, he has divested himself from, because frankly, the levels of opulence make me feel fucking sick. Also, if this is considered d0xxing or something because some of these may be personal residences, I will remove them upon request. This is all publicly available information, though.)\n",
      "\n",
      "* [132 East Delaware Place](https://imgur.com/yDdrrEL) in Chicago, Illinois -- luxury high rise with residential units, office space, and retail stores\n",
      "* [800 North Michigan Avenue](https://imgur.com/d8dIoNO) in Chicago, Illinois -- penthouse unit\n",
      "* [820 Fifth Avenue](https://imgur.com/WSt7nit), New York City, New York -- overlooking Central Park in Manhattan\n",
      "* [Big Ass Mansion](https://virtualglobetrotting.com/map/ken-griffins-house-2/view/google/) in Aspen, Colorado\n",
      "* [Two properties at the Hualalai Resort](https://www.businessinsider.com/ken-griffin-buys-in-hawaii-2011-3?op=1) in Kailua-Kona, Hawaii\n",
      "* [Multiple mansions at 10, 20, 30, 40, 50, 60, and 70 Blossom Way](https://therealdeal.com/miami/2015/07/01/chicago-hedge-fund-buys-palm-beach-mansion-for-15-2m/) in Palm Beach, Florida. [Further links here](https://therealdeal.com/miami/2018/05/17/billionaire-ken-griffin-adds-to-palm-beach-assemblage-with-20m-estate/) and [here.](https://nypost.com/2019/09/10/billionaire-owner-of-americas-priciest-home-drops-99m-on-another-mansion/)\n",
      "* [12,500 square feet of penthouses at Faena House](https://nypost.com/2020/12/16/ken-griffin-sells-faena-house-penthouses-in-miami-at-a-loss/) in Miami, Florida\n",
      "* [1290 South Ocean Boulevard](https://therealdeal.com/miami/2017/01/14/billionaire-pays-85-million-for-palm-beach-estate/) in Palm Beach, Florida\n",
      "* [3 Carlton Gardens](https://therealdeal.com/chicago/2019/01/21/billionaire-ken-griffin-buys-historic-london-mansion-for-122m/) in London, England -- former home of Charles de Gaulle, former President of France\n",
      "* [Numerous units at 220 Central Park South](https://nypost.com/2019/10/10/ken-griffin-buys-two-more-units-in-220-central-park-south/) in New York City, New York -- a four-floor penthouse and two adjacent apartments on the 20th floor\n",
      "* [650 Meadow Lane](https://behindthehedges.com/oceanfront-bridgehampton-home-with-storied-past-sells-for-50-million-in-off-market-deal/) in Southampton, New York -- purchased from Calvin Klein\n",
      "* [Vacant double lot costing $37 million](https://therealdeal.com/miami/2020/08/25/billionaire-hedge-funder-ken-griffin-pays-37m-for-star-island-property/) Star Island, Miami Beach, Florida\n",
      "\n",
      "#The Ken Griffin Art Portfolio\n",
      "\n",
      "Many of the pieces listed here are not held personally by Griffin, but are loaned out to institutions like the Museum of Modern Art in New York and the Art Institute of Chicago. For the extreme smoothbrains among you, the reason Griffin blows giant bags on horrible pieces of art and puts them on public display is so that he can use them as tax writeoffs.\n",
      "\n",
      "Herein lies the part where you may call me a conspiracy theorist if you please, but I think Griffin's art portfolio is indicative of some type of covert relationship with the intelligence agencies. I sincerely do not believe that any person can reach these strata of society without at least brushing elbows with some glowies. The most expensive pieces in his collection come from the school of art known as [abstract expressionism](https://en.wikipedia.org/wiki/Abstract_expressionism), which was [quite literally a CIA-sponsored project](https://www.independent.co.uk/news/world/modern-art-was-cia-weapon-1578808.html) meant to counter the influence of [Soviet realism](https://en.wikipedia.org/wiki/Socialist_realism) during the Cold War. The idea was that the Soviets would see the wacky vomitus that people like Jackson Pollock would spew all over a canvas as an expression of the ideals of freedom and individuality and break free of the bonds of Communism.\n",
      "\n",
      "* [False Start](https://www.moma.org/collection/works/67552) by Jasper Johns. Housed at the MoMA, purchased by Griffin for $80 million.\n",
      "* [Curtain, Jug and Fruit Bowl](https://www.theartist.me/artwork/curtain-jug-and-fruit-bowl/) by Paul Cézanne. Housed at the Whitney Museum of American Art in New York. Purchased by the previous buyer at auction for $60.5 million -- Griffin's purchase price is not known.\n",
      "* [Self Portrait](https://www.wikiart.org/en/paul-cezanne/self-portrait-1) by Paul Cézanne. I think this is the correct one. He did a whole bunch of these over the course of his life. Price unknown.\n",
      "* [Water Lilies](https://www.wikiart.org/en/claude-monet/water-lilies-8) by Claude Monet. He did like 250 of these, this is the one that comes up when searching it with the year of the one Griffin is known to own, 1905. Price unknown.\n",
      "* [The Green Dancer](https://www.wikiart.org/en/edgar-degas/the-green-dancer-1879) by Edgar Degas. On display at the Thyssen-Bornemisza Museum in Madrid, Spain\n",
      "* [Little Dancer Aged Fourteen](https://www.nga.gov/collection/highlights/degas-little-dancer-aged-fourteen.html) by Edgar Degas. An extraordinarily ugly wax sculpture on display at the National Gallery of Art in Washington, D.C.\n",
      "* [Interchange](https://en.wikipedia.org/wiki/Interchange_\\(de_Kooning\\)) by Willem de Kooning. Abstract expressionist trash purchased for $300 million from noted [Jeffrey Epstein associate and suspected pedophile David Geffen](https://www.hollywoodreporter.com/news/strange-saga-jeffrey-epstein-s-link-brock-pierce-1240462). Recall that Epstein is highly suspected of being some type of intelligence asset tasked with blackmailing rich scumbags by anyone who has studied his story closely.\n",
      "* [Number 17A](https://en.wikipedia.org/wiki/Number_17A) by Jackson Pollock. More abstract expression trash, also purchased from David Geffen for $200 million.\n",
      "\n",
      "#How does Citadel spend its money?\n",
      "\n",
      "Good question! They buy politicians. Remember regulatory capture? Here's Citadel doing just that: current Secretary of the Treasury, former Chair of the Federal Reserve, and sentient potato woman Janet Yellen took more than [$800,000 in speaking fees from Citadel](https://www.realclearpolitics.com/video/2021/01/28/wh_wont_say_if_janet_yellen_should_recuse_herself_after_taking_800k_in_speaking_fees_from_key_figure_in_gamestoprobinhood_scandal_hft_firm_citadel.html#!). In fact, [Yellen \"earned\" over $7 million in speaking fees](https://www.nytimes.com/2021/01/18/us/politics/janet-yellen-treasury.html) from various other financial institutions including Goldman Sachs and Citigroup between her stints at the Fed and at Treasury. What do we think? Is she just such an enrapturing speaker that she's worth every penny? Or is she getting a kickback for helping to deregulate financial markets and a bribe to look the other way when short sellers and market makers collude to shut retail traders out of the market en masse, like they did yesterday with GME?\n",
      "\n",
      "They also buy stakes in distressed hedge funds, apparently. Remember the [$2.75 billion bailout](https://nypost.com/2021/01/25/this-short-seller-just-got-a-2-75-billion-bailout/) that Citadel and Point72 gave to Melvin Capital on Monday, which they promptly pissed away doubling down on their GME short? Isn't it weird that Robinhood shut down trading on the very stocks that the hedge funds were bleeding out from and then forced people to liquidate their long positions at the very bottom of a coordinated short seller attack? Doesn't it seem a little strange that the hedge fund branch of Citadel is allowed to own part of another hedge fund that's being bled dry, as [Citadel Securities buys order flow from Robinhood](https://www.institutionalinvestor.com/article/b1m2p1cv68bx56/Twitter-Freaked-Out-Over-Robinhood-Selling-Its-Trade-Flow-But-the-App-and-Others-Have-Been-Doing-It-for-Years) to [illegally front-run retail orders?](https://imgur.com/0yT6vpJ)\n",
      "\n",
      "There's also this, on the topic of Melvin Capital and pedophiles and sex traffickers: Melvin Capital's 5th largest long holding is a company called L Brands, which is the parent of Victoria's Secret and Bath & Body Works. Victoria's Secret, as seasoned Jeffrey Epstein gumshoes will know, was founded by one [Leslie Wexner](https://en.wikipedia.org/wiki/Les_Wexner), who had a very troubling relationship with Epstein. Epstein was Wexner's personal money manager and Wexner was Epstein's only known client. Wexner and Epstein were so close that [Wexner gave Epstein a mansion on the Upper East Side in Manhattan](https://www.theatlantic.com/ideas/archive/2019/08/victorias-secret-epstein/595507/) in 2011, years after it was already known that he was a pedophile creep. Epstein would tell the girls he was sexually assaulting that he was a [modeling scout for Victoria's Secret](https://www.theatlantic.com/ideas/archive/2019/08/victorias-secret-epstein/595507/). [Jean-Luc Brunel](https://en.wikipedia.org/wiki/Jean-Luc_Brunel), another Epstein-associated \"modeling scout\" and sex criminal who was [recently arrested in France](https://www.nbcnews.com/news/world/modeling-agent-jean-luc-brunel-charged-rape-minor-jeffrey-epstein-n1251804), would supply models to Victoria's Secret through his agency MC2 Model Management. Basically, what I'm saying is that Melvin Capital, and now Citadel by extension, are long sex trafficking pedophiles.\n",
      "\n",
      "#How can I poke this asshole in the eye?\n",
      "\n",
      "It seems like there's two big things you can do to [do your part.](https://imgur.com/tL98PiA) \n",
      "\n",
      "The first is to 💎👐 GME. The institutions are clearly scared shitless at how much blowback is coming their way or they wouldn't be taking such drastic measures to try to tip the scales in the favor of the shorts at the expense of everyone else. Turn off share lending in your brokerage if you can and still haven't.\n",
      "\n",
      "The second is to transfer your assets out of Robinhood yesterday and graduate to a big boy brokerage. Citadel Securities (remember, this is the market maker, not the hedge fund) [banked a record $6.7 billion in profit last year](https://www.chicagobusiness.com/finance-banking/ken-griffins-citadel-securities-reaps-record-67-billion-volatility). You can bet that this has at least a little to do with the influx of Robinhooders pressing the market order button on their phones and letting Citadel front run their orders while Robinhood gives them a garbage fill.\n",
      "\n",
      "##TLDR: Ken Griffin final boss. Citadel bad. Robinhood bad. GME go up. Stop FOMOing into other dumb shit and stick to the plan.\n"
     ]
    }
   ],
   "source": [
    "show_sentences(\"l7o2rq\")"
   ]
  },
  {
   "cell_type": "markdown",
   "id": "advance-bacteria",
   "metadata": {},
   "source": [
    "## Takeaways (potential additional processing steps):\n",
    "  - most sentences are < 30 lines long (and even < 15?).\n",
    "  - split sentences on linebreaks (so keep these in DocumentNormalizer)\n",
    "  - split sentenceson -'s\n",
    "  - look again at asterisks.\n",
    "  - some people just write enormously long run-on sentences.\n",
    "  - really short senteces often seem worth keeping (e.g., \"HOLD\" etc).\n",
    "  - improve ellipsis handling.\n",
    "  - the style \"Exemplified. Here. By. This. String.\" could be handled as a special case? Probably not worth it.\n",
    "  - Could try to disambiguate stock names as in \"GME\" |-> \"The publicly-traded stock GME\".\n",
    "  - Could concatenate sentences to aim for sentences around some length.\n",
    "  - Could do two layers of sentence splitting: one for paragraphs and one for splitting long paragraphs."
   ]
  },
  {
   "cell_type": "markdown",
   "id": "southeast-exercise",
   "metadata": {},
   "source": [
    "# Round 2: Chanage document processing "
   ]
  },
  {
   "cell_type": "code",
   "execution_count": 5,
   "id": "optical-olive",
   "metadata": {},
   "outputs": [
    {
     "name": "stdout",
     "output_type": "stream",
     "text": [
      "CPU times: user 17.5 ms, sys: 4.59 ms, total: 22.1 ms\n",
      "Wall time: 384 ms\n",
      "Processed (and counted) 2624 rows.\n"
     ]
    }
   ],
   "source": [
    "texts = (\n",
    "    pipelines.preprocess_texts(df)\n",
    "    .select(\"id\", \n",
    "            \"timestamp\", \n",
    "            \"text_no_emojis\")\n",
    "    .withColumnRenamed(\"text_no_emojis\", \"text\")\n",
    ")\n",
    "pipeline = pipelines.build_embedding_preproc_pipeline()\n",
    "\n",
    "pipeline_model = pipeline.fit(texts)\n",
    "light_model = LightPipeline(pipeline_model)\n",
    "def process_texts():\n",
    "    processed_texts = light_model.transform(texts)\n",
    "    return processed_texts\n",
    "%time processed_texts = process_texts()\n",
    "print(f\"Processed (and counted) {df.count()} rows.\")\n",
    "\n",
    "ddf = (\n",
    "    processed_texts\n",
    "    .withColumn(\"num_s\",\n",
    "                processed_texts[\"finished_sentences_metadata\"][0]._2\n",
    "               .cast(T.IntegerType()))\n",
    "    .withColumn(\"len_s\",\n",
    "                F.length(processed_texts[\"finished_sentences\"][0])\n",
    "                .cast(T.IntegerType()))\n",
    "    .select(\"id\", \n",
    "            \"num_s\",\n",
    "            \"len_s\",\n",
    "            F.col(\"finished_sentences\")[0]\n",
    "            .alias(\"sentence\"))\n",
    ")"
   ]
  },
  {
   "cell_type": "markdown",
   "id": "optical-format",
   "metadata": {},
   "source": [
    "# Output for future processing"
   ]
  },
  {
   "cell_type": "code",
   "execution_count": 6,
   "id": "minor-judge",
   "metadata": {},
   "outputs": [
    {
     "name": "stdout",
     "output_type": "stream",
     "text": [
      "+------+-----+-----+--------------------------------------------------------------------------------+\n",
      "|    id|num_s|len_s|                                                                        sentence|\n",
      "+------+-----+-----+--------------------------------------------------------------------------------+\n",
      "|l6uhhn|    0|   16|                                                                Exit the system.|\n",
      "|l6uhhn|    1|  101|The CEO of NASDAQ pushed to halt trading \"to give investors a chance to recal...|\n",
      "|l6uhhn|    2|   68|            Now SEC is investigating, brokers are disallowing buying more calls.|\n",
      "|l6uhhn|    3|  180|This is the institutions flat out admitting they will change the rules to bai...|\n",
      "|l6uhhn|    4|  263|have you tried cutting out avocados and coffee, maybe doing Uber on the side?...|\n",
      "|l6uhhn|    5|  130|we didn't hurt wall street as a whole, just a few funds went down while other...|\n",
      "|l6uhhn|    6|   39|                                         The media wants to pin the blame on us.|\n",
      "|l6uhhn|    7|   61|                   It should be crystal clear that this is a rigged game by now.|\n",
      "|l6uhhn|    8|   78|  Its time to build new exchanges that can't arbitrarily change the rules on us.|\n",
      "|l6uhhn|    9|  111|Cr o has some version of these, maybe they can be repurposed to be trade stoc...|\n",
      "|l6uhhn|   10|   83|I don't know exactly what it will look like yet, but the broad next steps i s...|\n",
      "|l6uhhn|   11|   36|                                            1. exit the current financial system|\n",
      "|l6uhhn|   12|   19|                                                             2. build a new one.|\n",
      "|l6ub4i|    0|   92|Currently Holding AMC and NOK Is it retarded that I think I should move it al...|\n",
      "|l6u8gs|    0|   18|                                                              420 wasn't a meme.|\n",
      "|l6u8gs|    1|    3|                                                                             GME|\n",
      "|l6tqpv|    0|   15|                                                                 Y'all broke it.|\n",
      "|l6tqpv|    1|   17|                                                               How do we fix it?|\n",
      "|l6tqpv|    2|   11|                                                                     Any advice?|\n",
      "|l6to43|    0|   40|                                        Are we ready to attack the Citadel !!!!.|\n",
      "|l6tfyh|    0|   55|                         They're trying to say this was all done by 'Nazis' now.|\n",
      "|l6te9s|    0|   47|                                 My brokerage wants to force close my GME calls.|\n",
      "|l6te9s|    1|   79| My brokerage called me and asked me to close my 115 calls expiring this friday.|\n",
      "|l6te9s|    2|  135|If I wouldn't close them at todays market open, they'd do it, and they'd do i...|\n",
      "|l6te9s|    3|   58|                      I could open a position expiring next week if I wanted to.|\n",
      "|l6te9s|    4|  161|Their reasoning was that I didn't have enough cash to exercise the calls and ...|\n",
      "|l6te9s|    5|   71|         Therefore my calls would get exercised with my balance in the negative.|\n",
      "|l6te9s|    6|  127|Now, I'm fine with closing the position and rolling it out to next week and a...|\n",
      "|l6te9s|    7|  139|But this still sounds fishy to me, like they wanted to minimize the amount of...|\n",
      "|l6te9s|    8|  471|They told me I \"also had other positions that were heavily covered in the med...|\n",
      "|l6te9s|    9|   47|                                 But he didn't seem like he wanted to hear that.|\n",
      "|l6td49|    0|   15|                                                                 Iacta alea est.|\n",
      "|l6td49|    1|   33|                                               I was the lucky one in my family.|\n",
      "|l6td49|    2|   51|                             In 2008 I was in the middle of my first enlistment.|\n",
      "|l6td49|    3|  154|My college had been taken care of beforehand, because I'd been accepted into ...|\n",
      "|l6td49|    4|   98|A week after graduating high school I received a degree in psychology and wen...|\n",
      "|l6td49|    5|   16|                                                                I remember 2008.|\n",
      "|l6td49|    6|   72|        I remember my father's savings being nuked, his portfolio going to zero.|\n",
      "|l6td49|    7|  135|Twenty years in the United States Navy and he'd had his savings completely ob...|\n",
      "|l6td49|    8|  136|I remember my mother calling me in the middle of the night I was in Okinawa, ...|\n",
      "|l6td49|    9|  111|That day I started sending a measly $1,000 a month to my family to take care ...|\n",
      "|l6td49|   10|  159|My grandmother's retirement was gone in the blink of an eye but she survived,...|\n",
      "|l6td49|   11|   56|                        But she had to get a reverse mortgage to keep the house.|\n",
      "|l6td49|   12|  144|I didn't have to send money too long only about five months until my father g...|\n",
      "|l6td49|   13|   44|                                    But I remember the desperation in her voice.|\n",
      "|l6td49|   14|   11|                                                                     I'm 34 now.|\n",
      "|l6td49|   15|   34|                                              I've done my time in the military.|\n",
      "|l6td49|   16|   39|                                         No pension, I didn't serve long enough.|\n",
      "|l6td49|   17|   60|                    But now I can look at this entire debacle and fucking laugh.|\n",
      "|l6td49|   18|   26|                                                      I'm a capitalist at heart.|\n",
      "+------+-----+-----+--------------------------------------------------------------------------------+\n",
      "only showing top 50 rows\n",
      "\n"
     ]
    }
   ],
   "source": [
    "out_df = (\n",
    "    processed_texts\n",
    "    .withColumn(\"num_s\",\n",
    "                processed_texts[\"finished_sentences_metadata\"][0]._2)\n",
    "    .withColumn(\"len_s\",\n",
    "                F.length(processed_texts[\"finished_sentences\"][0]))\n",
    "    .select(\"id\", \n",
    "            \"num_s\",\n",
    "            \"len_s\",\n",
    "            F.col(\"finished_sentences\")[0]\n",
    "            .alias(\"sentence\"))\n",
    ")\n",
    "out_df.show(50, truncate=80)"
   ]
  },
  {
   "cell_type": "markdown",
   "id": "protective-pressing",
   "metadata": {},
   "source": [
    "Write to CSV (but use tab as delimiter)."
   ]
  },
  {
   "cell_type": "code",
   "execution_count": 7,
   "id": "restricted-animation",
   "metadata": {},
   "outputs": [
    {
     "name": "stdout",
     "output_type": "stream",
     "text": [
      "Write csv file inside ../data/sentences_2021-03-01_12:46:05\n",
      "CPU times: user 3.87 ms, sys: 76 µs, total: 3.95 ms\n",
      "Wall time: 4.41 s\n"
     ]
    }
   ],
   "source": [
    "%%time\n",
    "day, time = str(datetime.now()).split()\n",
    "time = time.split(\".\")[0]\n",
    "timestamp = \"_\".join([day, time])\n",
    "OUTPUT_DIR = f\"../data/sentences_{timestamp}\"\n",
    "out_df.write.csv(OUTPUT_DIR, header=True, sep=\"\\t\")\n",
    "print(f\"Write csv file inside {OUTPUT_DIR}\")"
   ]
  },
  {
   "cell_type": "markdown",
   "id": "aggregate-storm",
   "metadata": {},
   "source": [
    "# Process with Tensorflow"
   ]
  },
  {
   "cell_type": "code",
   "execution_count": 8,
   "id": "solved-damages",
   "metadata": {},
   "outputs": [
    {
     "name": "stdout",
     "output_type": "stream",
     "text": [
      "id\tsentence_num\tsentence\n",
      "l6uhhn\t0\tExit the system.\n",
      "l6uhhn\t1\t\"The CEO of NASDAQ pushed to halt trading \\\"to give investors a chance to recalibrate their positions\\\".\"\n",
      "l6uhhn\t2\tNow SEC is investigating, brokers are disallowing buying more calls.\n",
      "l6uhhn\t3\t\"This is the institutions flat out admitting they will change the rules to bail out the rich but if it happens to us, we get a \\\"well shucks you should have known investing is risky!\"\n",
      "l6uhhn\t4\t\"have you tried cutting out avocados and coffee, maybe doing Uber on the side?\\\" We may have collectively driven up enough sentiment in wall street to make other big players go long on GME with us we do not have the money to move the stock as much as it did alone .\"\n",
      "l6uhhn\t5\twe didn't hurt wall street as a whole, just a few funds went down while others went up and profited off the shorts the same as us.\n",
      "l6uhhn\t6\tThe media wants to pin the blame on us.\n",
      "l6uhhn\t7\tIt should be crystal clear that this is a rigged game by now.\n",
      "l6uhhn\t8\tIts time to build new exchanges that can't arbitrarily change the rules on us.\n"
     ]
    }
   ],
   "source": [
    "DATA_PATH = f\"../data/sentences_2021-03-01_12:46:05/part*\"\n",
    "! head {DATA_PATH}"
   ]
  },
  {
   "cell_type": "code",
   "execution_count": 104,
   "id": "antique-batman",
   "metadata": {},
   "outputs": [],
   "source": [
    "ds = (tf.data.experimental.make_csv_dataset(\n",
    "    DATA_PATH,\n",
    "    batch_size=8, \n",
    "    field_delim=\"\\t\",\n",
    "    shuffle=False,\n",
    "    header=True,\n",
    "    column_defaults=[tf.string, tf.int32, tf.string],\n",
    "    use_quote_delim=False))"
   ]
  },
  {
   "cell_type": "code",
   "execution_count": 12,
   "id": "split-rwanda",
   "metadata": {},
   "outputs": [
    {
     "name": "stdout",
     "output_type": "stream",
     "text": [
      "CPU times: user 8.54 s, sys: 696 ms, total: 9.24 s\n",
      "Wall time: 9.2 s\n"
     ]
    }
   ],
   "source": [
    "%%time\n",
    "preprocessor = hub.KerasLayer(\n",
    "    \"https://tfhub.dev/tensorflow/bert_en_uncased_preprocess/3\")\n",
    "encoder = hub.KerasLayer(\n",
    "    \"https://tfhub.dev/google/universal-sentence-encoder-cmlm/en-base/1\")"
   ]
  },
  {
   "cell_type": "code",
   "execution_count": 17,
   "id": "every-direction",
   "metadata": {},
   "outputs": [],
   "source": [
    "emb = encoder(preprocessor([\"here is an example sentence\"]))"
   ]
  },
  {
   "cell_type": "code",
   "execution_count": 19,
   "id": "interior-donna",
   "metadata": {},
   "outputs": [
    {
     "data": {
      "text/plain": [
       "True"
      ]
     },
     "execution_count": 19,
     "metadata": {},
     "output_type": "execute_result"
    }
   ],
   "source": [
    "np.all(emb['default'] == emb['pooled_output'])"
   ]
  },
  {
   "cell_type": "code",
   "execution_count": 105,
   "id": "italic-footwear",
   "metadata": {},
   "outputs": [
    {
     "data": {
      "text/plain": [
       "<tf.Tensor: shape=(8,), dtype=string, numpy=\n",
       "array([b'Exit the system.',\n",
       "       b'\"The CEO of NASDAQ pushed to halt trading \\\\\"to give investors a chance to recalibrate their positions\\\\\".\"',\n",
       "       b'Now SEC is investigating, brokers are disallowing buying more calls.',\n",
       "       b'\"This is the institutions flat out admitting they will change the rules to bail out the rich but if it happens to us, we get a \\\\\"well shucks you should have known investing is risky!\"',\n",
       "       b'\"have you tried cutting out avocados and coffee, maybe doing Uber on the side?\\\\\" We may have collectively driven up enough sentiment in wall street to make other big players go long on GME with us we do not have the money to move the stock as much as it did alone .\"',\n",
       "       b\"we didn't hurt wall street as a whole, just a few funds went down while others went up and profited off the shorts the same as us.\",\n",
       "       b'The media wants to pin the blame on us.',\n",
       "       b'It should be crystal clear that this is a rigged game by now.'],\n",
       "      dtype=object)>"
      ]
     },
     "execution_count": 105,
     "metadata": {},
     "output_type": "execute_result"
    }
   ],
   "source": [
    "lilds = ds.take(2)\n",
    "t = next(iter(lilds))\n",
    "t['sentence']"
   ]
  },
  {
   "cell_type": "code",
   "execution_count": 106,
   "id": "documentary-respect",
   "metadata": {},
   "outputs": [],
   "source": [
    "def get_embeddings(t):\n",
    "    embs = encoder(preprocessor(t['sentence']))\n",
    "    embs = embs['pooled_output']\n",
    "    t['embedding'] = embs\n",
    "    return t"
   ]
  },
  {
   "cell_type": "code",
   "execution_count": 107,
   "id": "breeding-platform",
   "metadata": {},
   "outputs": [],
   "source": [
    "lilds2 = lilds.map(get_embeddings)"
   ]
  },
  {
   "cell_type": "code",
   "execution_count": 109,
   "id": "musical-patch",
   "metadata": {},
   "outputs": [
    {
     "data": {
      "text/plain": [
       "OrderedDict([('id',\n",
       "              <tf.Tensor: shape=(8,), dtype=string, numpy=\n",
       "              array([b'l6uhhn', b'l6uhhn', b'l6uhhn', b'l6uhhn', b'l6uhhn', b'l6uhhn',\n",
       "                     b'l6uhhn', b'l6uhhn'], dtype=object)>),\n",
       "             ('sentence_num',\n",
       "              <tf.Tensor: shape=(8,), dtype=int32, numpy=array([0, 1, 2, 3, 4, 5, 6, 7], dtype=int32)>),\n",
       "             ('sentence',\n",
       "              <tf.Tensor: shape=(8,), dtype=string, numpy=\n",
       "              array([b'Exit the system.',\n",
       "                     b'\"The CEO of NASDAQ pushed to halt trading \\\\\"to give investors a chance to recalibrate their positions\\\\\".\"',\n",
       "                     b'Now SEC is investigating, brokers are disallowing buying more calls.',\n",
       "                     b'\"This is the institutions flat out admitting they will change the rules to bail out the rich but if it happens to us, we get a \\\\\"well shucks you should have known investing is risky!\"',\n",
       "                     b'\"have you tried cutting out avocados and coffee, maybe doing Uber on the side?\\\\\" We may have collectively driven up enough sentiment in wall street to make other big players go long on GME with us we do not have the money to move the stock as much as it did alone .\"',\n",
       "                     b\"we didn't hurt wall street as a whole, just a few funds went down while others went up and profited off the shorts the same as us.\",\n",
       "                     b'The media wants to pin the blame on us.',\n",
       "                     b'It should be crystal clear that this is a rigged game by now.'],\n",
       "                    dtype=object)>),\n",
       "             ('embedding',\n",
       "              <tf.Tensor: shape=(8, 768), dtype=float32, numpy=\n",
       "              array([[ 0.01614291, -0.002207  , -0.01730992, ...,  0.05507977,\n",
       "                       0.01185986,  0.03169957],\n",
       "                     [-0.03955621, -0.02472893,  0.08845674, ..., -0.0166242 ,\n",
       "                      -0.04794706, -0.01507394],\n",
       "                     [ 0.08133287, -0.05522264,  0.05068399, ..., -0.14945647,\n",
       "                       0.01227233,  0.12930347],\n",
       "                     ...,\n",
       "                     [-0.05741328, -0.09607815,  0.01858783, ...,  0.05354688,\n",
       "                       0.04563466,  0.11351186],\n",
       "                     [ 0.08184772, -0.09661114,  0.04723744, ...,  0.02620391,\n",
       "                      -0.02265274,  0.15874691],\n",
       "                     [ 0.0593391 , -0.07148134, -0.0152655 , ...,  0.00403769,\n",
       "                      -0.08021829,  0.13344559]], dtype=float32)>)])"
      ]
     },
     "execution_count": 109,
     "metadata": {},
     "output_type": "execute_result"
    }
   ],
   "source": [
    "next(iter(lilds2))"
   ]
  },
  {
   "cell_type": "markdown",
   "id": "coastal-merchant",
   "metadata": {},
   "source": [
    "# Scratch: using petastorm for interface Spark <-> Tensorflow"
   ]
  },
  {
   "cell_type": "code",
   "execution_count": 44,
   "id": "atomic-member",
   "metadata": {},
   "outputs": [],
   "source": [
    "# petastorm is a high-performance library for \n",
    "# working with parquet files in the context of \n",
    "# training ML models on huge data sets.\n",
    "\n",
    "# I also looked at using TFRecords, but it seemed\n",
    "# like it might be a pain to integrate the tf-spark\n",
    "# connector with Spark NLP.\n",
    "\n",
    "try:\n",
    "    import petastorm\n",
    "except ModuleNotFoundError:\n",
    "    ! pip install petastorm==0.9.8\n",
    "    import petastorm\n",
    "    \n",
    "from petastorm.spark import (SparkDatasetConverter, \n",
    "                             make_spark_converter)\n",
    "\n",
    "import tensorflow.compat.v1 as tf"
   ]
  },
  {
   "cell_type": "code",
   "execution_count": 28,
   "id": "north-gender",
   "metadata": {},
   "outputs": [
    {
     "name": "stdout",
     "output_type": "stream",
     "text": [
      "CPU times: user 34.7 ms, sys: 10.7 ms, total: 45.4 ms\n",
      "Wall time: 364 ms\n"
     ]
    }
   ],
   "source": [
    "%%time\n",
    "CACHE_DIR = f\"{os.environ['PWD']}/data/cache/\"\n",
    "spark.conf.set(SparkDatasetConverter.PARENT_CACHE_DIR_URL_CONF,\n",
    "               f\"file://{CACHE_DIR}\")\n",
    "# this writes the parquet file(s)\n",
    "converter = make_spark_converter(out_df)\n",
    "# with this context, we have access to an object of type\n",
    "# tensorflow.python.data.ops.dataset_ops.DatasetV1Adapter\n",
    "dataset_context_manager = converter.make_tf_dataset()"
   ]
  },
  {
   "cell_type": "code",
   "execution_count": 43,
   "id": "closed-ethiopia",
   "metadata": {},
   "outputs": [
    {
     "name": "stdout",
     "output_type": "stream",
     "text": [
      "<DatasetV1Adapter shapes: inferred_schema_view(id=(None,), timestamp=(None,), sentence_num=(None,), sentence=(None,)), types: inferred_schema_view(id=tf.string, timestamp=tf.int64, sentence_num=tf.string, sentence=tf.string)> \n",
      "\n",
      "inferred_schema_view(id=<tf.Tensor: shape=(32,), dtype=string, numpy=\n",
      "array([b'l6ulcx', b'l6uibd', b'l6uhhn', b'l6uhhn', b'l6uhhn', b'l6uhhn',\n",
      "       b'l6uhhn', b'l6uhhn', b'l6uhhn', b'l6uhhn', b'l6uhhn', b'l6uhhn',\n",
      "       b'l6uhhn', b'l6uhhn', b'l6uhhn', b'l6ugk6', b'l6ugk6', b'l6ufgy',\n",
      "       b'l6uf7d', b'l6uf6d', b'l6uf6d', b'l6uf6d', b'l6uf6d', b'l6uf6d',\n",
      "       b'l6uf6d', b'l6uf6d', b'l6uf6d', b'l6uf6d', b'l6uf6d', b'l6ub9l',\n",
      "       b'l6ub9l', b'l6ub9l'], dtype=object)>, timestamp=<tf.Tensor: shape=(32,), dtype=int64, numpy=\n",
      "array([1611887861000000000, 1611887530000000000, 1611887435000000000,\n",
      "       1611887435000000000, 1611887435000000000, 1611887435000000000,\n",
      "       1611887435000000000, 1611887435000000000, 1611887435000000000,\n",
      "       1611887435000000000, 1611887435000000000, 1611887435000000000,\n",
      "       1611887435000000000, 1611887435000000000, 1611887435000000000,\n",
      "       1611887337000000000, 1611887337000000000, 1611887216000000000,\n",
      "       1611887190000000000, 1611887187000000000, 1611887187000000000,\n",
      "       1611887187000000000, 1611887187000000000, 1611887187000000000,\n",
      "       1611887187000000000, 1611887187000000000, 1611887187000000000,\n",
      "       1611887187000000000, 1611887187000000000, 1611886771000000000,\n",
      "       1611886771000000000, 1611886771000000000])>, sentence_num=<tf.Tensor: shape=(32,), dtype=string, numpy=\n",
      "array([b'0', b'0', b'0', b'1', b'2', b'3', b'4', b'5', b'6', b'7', b'8',\n",
      "       b'9', b'10', b'11', b'12', b'0', b'1', b'0', b'0', b'0', b'1',\n",
      "       b'2', b'3', b'4', b'5', b'6', b'7', b'8', b'9', b'0', b'1', b'2'],\n",
      "      dtype=object)>, sentence=<tf.Tensor: shape=(32,), dtype=string, numpy=\n",
      "array([b\"It's not about the money, it's about sending a message.\",\n",
      "       b'Math Professor Scott Steiner says the numbers spell DISASTER for Gamestop shorts',\n",
      "       b'Exit the system.',\n",
      "       b'The CEO of NASDAQ pushed to halt trading \"to give investors a chance to recalibrate their positions\".',\n",
      "       b'Now SEC is investigating, brokers are disallowing buying more calls.',\n",
      "       b'This is the institutions flat out admitting they will change the rules to bail out the rich but if it happens to us, we get a \"well shucks you should have known investing is risky!',\n",
      "       b'have you tried cutting out avocados and coffee, maybe doing Uber on the side?\" We may have collectively driven up enough sentiment in wall street to make other big players go long on GME with us we do not have the money to move the stock as much as it did alone .',\n",
      "       b\"we didn't hurt wall street as a whole, just a few funds went down while others went up and profited off the shorts the same as us.\",\n",
      "       b'The media wants to pin the blame on us.',\n",
      "       b'It should be crystal clear that this is a rigged game by now.',\n",
      "       b\"Its time to build new exchanges that can't arbitrarily change the rules on us.\",\n",
      "       b'Cr o has some version of these, maybe they can be repurposed to be trade stock without government intervention.',\n",
      "       b\"I don't know exactly what it will look like yet, but the broad next steps i see are\",\n",
      "       b'1. exit the current financial system', b'2. build a new one.',\n",
      "       b'NEW SEC FILING FOR GME!',\n",
      "       b'CAN SOMEONE LESS RETARDED THAN ME PLEASE INTERPRET?',\n",
      "       b'Not to distract from GME, just thought our AMC brothers should be aware of this',\n",
      "       b'WE BREAKING THROUGH',\n",
      "       b\"SHORT STOCK DOESN'T HAVE AN EXPIRATION DATE.\",\n",
      "       b'Hedgefund whales are spreading disinfo saying Friday is make or break for $GME.',\n",
      "       b'Call options expiring ITM on Friday will drive the price up if levels are maintained, but may not trigger the short squeeze.',\n",
      "       b'It may be Friday, but it could be next week the we see the real squeeze.',\n",
      "       b\"DON'T PANIC IF THE SQUEEZE DOESN'T HAPPEN FRIDAY.\",\n",
      "       b\"It's not guaranteed to.\",\n",
      "       b'The only thing that is guaranteed mathematically is that the shorts will have to cover at some point in the future.',\n",
      "       b\"They are trying to get enough people hooked on the false expectation of Friday so that if when it doesn't happen, enough will sell out of panic despair.\",\n",
      "       b\"DON'T BE THAT PERSON.\", b'WE LIKE THE STOCK',\n",
      "       b'THIS IS THE MOMENT.', b\"Life isn't fair.\",\n",
      "       b'My mother always told me that when I would complain about arbitrary treatment.'],\n",
      "      dtype=object)>)\n"
     ]
    }
   ],
   "source": [
    "with dataset_context_manager as dataset:\n",
    "    print(dataset, \"\\n\")\n",
    "    for batch in dataset.take(1):\n",
    "        print(batch)"
   ]
  }
 ],
 "metadata": {
  "kernelspec": {
   "display_name": "Python 3",
   "language": "python",
   "name": "python3"
  },
  "language_info": {
   "codemirror_mode": {
    "name": "ipython",
    "version": 3
   },
   "file_extension": ".py",
   "mimetype": "text/x-python",
   "name": "python",
   "nbconvert_exporter": "python",
   "pygments_lexer": "ipython3",
   "version": "3.7.7"
  }
 },
 "nbformat": 4,
 "nbformat_minor": 5
}

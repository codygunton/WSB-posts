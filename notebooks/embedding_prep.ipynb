{
 "cells": [
  {
   "cell_type": "markdown",
   "id": "treated-opinion",
   "metadata": {},
   "source": [
    "# Preprocessing text for embedding.\n"
   ]
  },
  {
   "cell_type": "code",
   "execution_count": 16,
   "id": "forward-million",
   "metadata": {},
   "outputs": [
    {
     "name": "stdout",
     "output_type": "stream",
     "text": [
      "SparkNLP version: 2.7.4\n",
      "Tensorflow version: 2.4.1\n",
      "Plotly version: 4.14.3\n"
     ]
    }
   ],
   "source": [
    "%config Completer.use_jedi = False\n",
    "\n",
    "import os\n",
    "from datetime import datetime\n",
    "import sys\n",
    "import numpy as np\n",
    "import pandas as pd\n",
    "\n",
    "import sparknlp\n",
    "print(f\"SparkNLP version: {sparknlp.version()}\")\n",
    "import pyspark.sql.functions as F\n",
    "from pyspark.sql import types as T\n",
    "from sparknlp.base import LightPipeline\n",
    "\n",
    "import tensorflow as tf\n",
    "import tensorflow_hub as hub\n",
    "import tensorflow_text as tftext  # <-- need to import here f\n",
    "print(f\"Tensorflow version: {tf.__version__}\")\n",
    "\n",
    "\n",
    "import umap\n",
    "\n",
    "try:\n",
    "    import plotly\n",
    "except ImportError as e:\n",
    "    ! pip install plotly==4.14.3\n",
    "    import plotly\n",
    "import plotly.express as px\n",
    "print(f\"Plotly version: {plotly.__version__}\")\n",
    "\n",
    "DATA_PATH = \"../data/reddit_wsb.csv\""
   ]
  },
  {
   "cell_type": "code",
   "execution_count": null,
   "id": "banner-twenty",
   "metadata": {},
   "outputs": [],
   "source": [
    "os.environ[\"JAVA_HOME\"] = \"/usr/lib/jvm/java-8-openjdk\"\n",
    "os.environ[\"PATH\"] = f\"{os.environ['JAVA_HOME']}/bin:{os.environ['PATH']}\"\n",
    "\n",
    "# to allow importing from parent directory of notebooks folder\n",
    "sys.path.append('..')\n",
    "\n",
    "spark = sparknlp.start()\n",
    "\n",
    "%load_ext autoreload\n",
    "%autoreload 1\n",
    "%aimport embedding_pipeline"
   ]
  },
  {
   "cell_type": "markdown",
   "id": "affected-skill",
   "metadata": {},
   "source": [
    "# Preprocess with Spark NLP: Round 1\n",
    "Will investigate my first attempt and then make any corrections."
   ]
  },
  {
   "cell_type": "code",
   "execution_count": 266,
   "id": "actual-concern",
   "metadata": {},
   "outputs": [
    {
     "name": "stdout",
     "output_type": "stream",
     "text": [
      "CPU times: user 4.33 ms, sys: 3.53 ms, total: 7.86 ms\n",
      "Wall time: 342 ms\n"
     ]
    }
   ],
   "source": [
    "%%time\n",
    "# the format of the reddit data is that the string columns\n",
    "# are wrapped in \"s, and that internal quotes have are \n",
    "# wrapped in \"\"s or 's.\n",
    "df = spark.read.csv(DATA_PATH, \n",
    "                    header=True,\n",
    "                    multiLine=True, \n",
    "                    inferSchema=True,\n",
    "                    quote=\"\\\"\",\n",
    "                    escape=\"\\\"\")\n",
    "\n",
    "df = df.sample(withReplacement=False, fraction=0.1, seed=1)\n",
    "\n",
    "df = (df.withColumn(\"text\", \n",
    "               F.concat_ws(\". \", df.title, df.body))\n",
    "      .drop(\"title\", \"body\", \"url\", \"comms_num\", \"created\"))"
   ]
  },
  {
   "cell_type": "code",
   "execution_count": 4,
   "id": "satisfactory-interface",
   "metadata": {},
   "outputs": [
    {
     "name": "stdout",
     "output_type": "stream",
     "text": [
      "CPU times: user 17.7 ms, sys: 1.53 ms, total: 19.2 ms\n",
      "Wall time: 324 ms\n",
      "Processed (and counted) 2624 rows.\n"
     ]
    }
   ],
   "source": [
    "texts = (\n",
    "    embedding_pipeline.preprocess_texts(df)\n",
    "    .select(\"id\", \n",
    "            \"timestamp\", \n",
    "            \"text\")\n",
    ")\n",
    "pipeline = embedding_pipeline.build_embedding_preproc_pipeline()\n",
    "\n",
    "pipeline_model = pipeline.fit(texts)\n",
    "light_model = LightPipeline(pipeline_model)\n",
    "def process_texts():\n",
    "    processed_texts = light_model.transform(texts)\n",
    "    return processed_texts\n",
    "%time processed_texts = process_texts()\n",
    "print(f\"Processed (and counted) {df.count()} rows.\")"
   ]
  },
  {
   "cell_type": "code",
   "execution_count": 5,
   "id": "offshore-music",
   "metadata": {},
   "outputs": [],
   "source": [
    "ddf = (\n",
    "    processed_texts\n",
    "    .withColumn(\"num_s\",\n",
    "                processed_texts[\"finished_sentences_metadata\"][0]._2\n",
    "               .cast(T.IntegerType()))\n",
    "    .withColumn(\"len_s\",\n",
    "                F.length(processed_texts[\"finished_sentences\"][0])\n",
    "                .cast(T.IntegerType()))\n",
    "    .select(\"id\", \n",
    "            \"num_s\",\n",
    "            \"len_s\",\n",
    "            F.col(\"finished_sentences\")[0]\n",
    "            .alias(\"sentence\")))"
   ]
  },
  {
   "cell_type": "markdown",
   "id": "protective-henry",
   "metadata": {},
   "source": [
    "## Look at the data"
   ]
  },
  {
   "cell_type": "markdown",
   "id": "raised-scanner",
   "metadata": {},
   "source": [
    "### Short words"
   ]
  },
  {
   "cell_type": "code",
   "execution_count": 6,
   "id": "domestic-remains",
   "metadata": {},
   "outputs": [
    {
     "name": "stdout",
     "output_type": "stream",
     "text": [
      "+------+-----+-----+---------+\n",
      "|    id|num_s|len_s| sentence|\n",
      "+------+-----+-----+---------+\n",
      "|l6u8gs|    1|    3|      GME|\n",
      "|l6s3d9|    3|    9|It's not.|\n",
      "|l6qb4n|   28|    5|    stop?|\n",
      "|l6py0p|   18|    9|A bubble.|\n",
      "|l6py0p|   20|    3|      Us.|\n",
      "|l6kzf8|    3|    8| Strategy|\n",
      "|l6h7ew|    2|    6|   YOLO!.|\n",
      "|l6x1lz|    0|    6|   420.69|\n",
      "|l6x0ja|    0|    7|  SNDL $.|\n",
      "|l6x0i4|    2|    7|  NOK GME|\n",
      "|l6wzfq|    1|    6|   Title.|\n",
      "|l6wz0r|    3|    7|  Webull.|\n",
      "|l6wyzy|    1|    5|    HOLD!|\n",
      "|l6wyjn|    0|    5|    DOGE.|\n",
      "|l6wxv4|    0|    9|Right now|\n",
      "|l6wx09|    2|    4|     BAN.|\n",
      "|l6wx09|    3|    7|  Fuck RH|\n",
      "|l6ww9n|    6|    3|      GME|\n",
      "|l6wvc1|    1|    9|Thoughts.|\n",
      "|l6wvbc|    2|    7|  Yee haa|\n",
      "|l6yxjc|    0|    5|    xspa.|\n",
      "|l6yx3i|    1|    3|      BS.|\n",
      "|l6ywju|    0|    7|  BUY GM.|\n",
      "|l6ywep|    0|    4|     BBW.|\n",
      "|l6ywbu|    0|    5|    Nice.|\n",
      "|l6ywaa|    2|    4|     WTF!|\n",
      "|l6yw5l|    0|    6|   $SNDL.|\n",
      "|l6yw4e|    0|    8| FINALLY!|\n",
      "|l6yvux|    0|    8| Next up.|\n",
      "|l6yvux|    1|    4|     $DAL|\n",
      "|l6yvqk|    1|    5|    HOLD!|\n",
      "|l6yvkx|    0|    4|     Nice|\n",
      "|l6yvhf|    0|    8| CASHAPP.|\n",
      "|l6yxrk|    2|    8| Fuck em.|\n",
      "|l6yxp8|    0|    6|   VPOR?.|\n",
      "|l6yxnu|    0|    5|    SNDL.|\n",
      "|l6yxnu|    1|    5|    SNDL.|\n",
      "|l6yxn2|    3|    6|   Never.|\n",
      "|l6yxlf|    0|    6|   Macys?|\n",
      "|l6yxjm|    0|    9|Nokiaaaaa|\n",
      "|l6yxj0|    5|    8| What do?|\n",
      "|l6yxj0|    9|    5|    Halp.|\n",
      "|l6yxex|    0|    4|     Nice|\n",
      "|l6z0hi|    0|    8| BUY SNDL|\n",
      "|l6z0cr|    2|    4|     team|\n",
      "|l6z07n|    0|    4|     AMC.|\n",
      "|l6z05d|    0|    8| Fuck RH.|\n",
      "|l6yzxu|    2|    8| Big Sad.|\n",
      "|l6yzr7|    1|    7|  Anyone?|\n",
      "|l6yznj|    0|    4|     Txmd|\n",
      "|l6yzle|    0|    5|    Nice.|\n",
      "|l6yz0s|    1|    4|     ONLY|\n",
      "|l6yyqw|    0|    5|    $SLV.|\n",
      "|l6yyqw|    3|    9|I'm long.|\n",
      "|l6yyl9|    3|    9|Let's go.|\n",
      "|l6yyl9|    4|    5|    EXPR.|\n",
      "|l6yyl8|    1|    3|      ...|\n",
      "|l6yyl5|    0|    8| Express.|\n",
      "|l6yyee|    0|    9|Hold AMC!|\n",
      "|l6yydr|    0|    9|All Good!|\n",
      "|l6yydo|    1|    5|    Leggo|\n",
      "|l6yyam|    0|    9|$TSNP ???|\n",
      "|l6yy7n|    0|    8| SUNDIAL!|\n",
      "|l6yy3b|    1|    4|     AMC?|\n",
      "|l6yxzr|    3|    6|   BB GME|\n",
      "|l6yxyq|    1|    9|BBBBBBBBB|\n",
      "|l6zcs5|    1|    9|Such life|\n",
      "|l6zcl2|    0|    3|      D!.|\n",
      "|l6zcej|    0|    9|Fidelity.|\n",
      "|l6zcej|    4|    7|  HOLDDD.|\n",
      "|l6zcdy|    1|    4|     Haha|\n",
      "|l6zc9o|    3|    3|      ...|\n",
      "|l6zd2t|    0|    5|    Help.|\n",
      "|l6zd2t|    2|    3|      ...|\n",
      "|l6zd20|    3|    3|      ...|\n",
      "|l6zdfc|    0|    5|    MNKD.|\n",
      "|l6zdfc|    1|    4|     MNKD|\n",
      "|l6zdf3|    0|    5|    AMC .|\n",
      "|l6zdde|   11|    8| Fuck em.|\n",
      "|l6zd92|    0|    4|     AAL!|\n",
      "|l6zdsf|    1|    7|  PERIOD.|\n",
      "|l6zdom|    0|    5|    HOLD.|\n",
      "|l6zdom|    1|    4|     HOLD|\n",
      "|l6zf4i|   21|    9|9000CAD .|\n",
      "|l6zeyv|    1|    4|     DOGE|\n",
      "|l6zeq7|    0|    6|   Kodak.|\n",
      "|l6zej2|    0|    5|    DOGE.|\n",
      "|l6ze8b|    1|    3|      ...|\n",
      "|l6ze8b|    2|    6|   Hmm...|\n",
      "|l6ze2m|    0|    7|  PLTR !!|\n",
      "|l6ze2m|    2|    3|      pls|\n",
      "|l6zi1f|    2|    9|dunno why|\n",
      "|l6zhvs|    2|    7|  ALL IN!|\n",
      "|l6zhab|    4|    9|Thoughts?|\n",
      "|l6zgvx|    0|    7|  all in.|\n",
      "|l6zgnl|    2|    4|     P.S.|\n",
      "|l6zgfp|    0|    9|RH down?.|\n",
      "|l6zgfc|    1|    7|  ALL IN.|\n",
      "|l6zg8e|    3|    8| diamonds|\n",
      "|l6zfks|    0|    4|     GME!|\n",
      "+------+-----+-----+---------+\n",
      "only showing top 100 rows\n",
      "\n"
     ]
    }
   ],
   "source": [
    "ddf.where(\"len_s < 10\").show(100, truncate=100)"
   ]
  },
  {
   "cell_type": "markdown",
   "id": "particular-fence",
   "metadata": {},
   "source": [
    "### Look into how we're handling ellipses."
   ]
  },
  {
   "cell_type": "code",
   "execution_count": 7,
   "id": "future-hudson",
   "metadata": {},
   "outputs": [],
   "source": [
    "def show_sentences(rowid):\n",
    "    ddf.where(f\"id=='{rowid}'\").select(\"id\", \"num_s\", \"len_s\", \"sentence\").show(truncate=100)\n",
    "    print(df.where(f\"id=='{rowid}'\").toPandas().text.iloc[0])"
   ]
  },
  {
   "cell_type": "code",
   "execution_count": 8,
   "id": "criminal-alliance",
   "metadata": {},
   "outputs": [
    {
     "name": "stdout",
     "output_type": "stream",
     "text": [
      "+------+-----+-----+--------------------------------------------------------+\n",
      "|    id|num_s|len_s|                                                sentence|\n",
      "+------+-----+-----+--------------------------------------------------------+\n",
      "|l6yyl8|    0|   56|ROBINHOOD JUST EXECUTED MY ORDERS FOR GME, NOK, AND AMC.|\n",
      "|l6yyl8|    1|    3|                                                     ...|\n",
      "|l6yyl8|    2|   13|                                           SO CONFUSED??|\n",
      "+------+-----+-----+--------------------------------------------------------+\n",
      "\n",
      "ROBINHOOD JUST EXECUTED MY ORDERS FOR GME, NOK, AND AMC.... SO CONFUSED?? 🤨\n"
     ]
    }
   ],
   "source": [
    "show_sentences(\"l6yyl8\")"
   ]
  },
  {
   "cell_type": "code",
   "execution_count": 9,
   "id": "grateful-livestock",
   "metadata": {},
   "outputs": [
    {
     "name": "stdout",
     "output_type": "stream",
     "text": [
      "+------+-----+-----+----------------------------------------------------------------------------------------------------+\n",
      "|    id|num_s|len_s|                                                                                            sentence|\n",
      "+------+-----+-----+----------------------------------------------------------------------------------------------------+\n",
      "|l6zc9o|    0|   59|                                         Having issues buying GME shares on IBKR interactive broker.|\n",
      "|l6zc9o|    1|   47|                                                     I thought this was only limited to Robinhood!!.|\n",
      "|l6zc9o|    2|  115|Every time I try to buy a share I get a message, transaction in this instrument are limited to cl...|\n",
      "|l6zc9o|    3|    3|                                                                                                 ...|\n",
      "|l6zc9o|    4|   30|                                                                      Anyone else having this issue?|\n",
      "|l6zc9o|    5|   19|                                                                                 Any work around it?|\n",
      "+------+-----+-----+----------------------------------------------------------------------------------------------------+\n",
      "\n",
      "Having issues buying GME shares on IBKR interactive broker. I thought this was only limited to Robinhood!!. Every time I try to buy a share I get a message, transaction in this instrument are limited to closing-only trades..... Anyone else having this issue? Any work around it?\n"
     ]
    }
   ],
   "source": [
    "show_sentences(\"l6zc9o\")"
   ]
  },
  {
   "cell_type": "code",
   "execution_count": 10,
   "id": "proud-history",
   "metadata": {},
   "outputs": [
    {
     "name": "stdout",
     "output_type": "stream",
     "text": [
      "+------+-----+-----+--------------------------------------------------------------+\n",
      "|    id|num_s|len_s|                                                      sentence|\n",
      "+------+-----+-----+--------------------------------------------------------------+\n",
      "|l6zd2t|    0|    5|                                                         Help.|\n",
      "|l6zd2t|    1|   62|Only one Man betting for Nok Nakd gme but not have more money.|\n",
      "|l6zd2t|    2|    3|                                                           ...|\n",
      "|l6zd2t|    3|   18|                                            Stranded helouuuuu|\n",
      "+------+-----+-----+--------------------------------------------------------------+\n",
      "\n",
      "Help. Only one Man betting for Nok Nakd gme but not have more money........ Stranded helouuuuu\n"
     ]
    }
   ],
   "source": [
    "show_sentences(\"l6zd2t\")"
   ]
  },
  {
   "cell_type": "code",
   "execution_count": 11,
   "id": "polish-bolivia",
   "metadata": {},
   "outputs": [
    {
     "name": "stdout",
     "output_type": "stream",
     "text": [
      "+------+-----+-----+-----------------------------------------------+\n",
      "|    id|num_s|len_s|                                       sentence|\n",
      "+------+-----+-----+-----------------------------------------------+\n",
      "|l6zd20|    0|   15|                                Fuck Robinhood.|\n",
      "|l6zd20|    1|   47|Every stock we discussed yesterday they pulled.|\n",
      "|l6zd20|    2|   18|                             Even airlines?How?|\n",
      "|l6zd20|    3|    3|                                            ...|\n",
      "|l6zd20|    4|   23|                        We leave RH after this.|\n",
      "|l6zd20|    5|   24|                       Why are they doing this?|\n",
      "|l6zd20|    6|   38|         We should not support them after this.|\n",
      "|l6zd20|    7|   27|                    We pull support, they lose.|\n",
      "|l6zd20|    8|   24|                       They make money from us.|\n",
      "|l6zd20|    9|   13|                                  Not any more.|\n",
      "|l6zd20|   10|   44|   Position GME , NOK and some other dumb shit.|\n",
      "|l6zd20|   11|   12|                                   Rolls Royce.|\n",
      "+------+-----+-----+-----------------------------------------------+\n",
      "\n",
      "Fuck Robinhood. Every stock we discussed yesterday they pulled. Even airlines?How? ... We leave RH after this.. Why are they doing this? \n",
      "\n",
      "We should not support them after this. \n",
      "\n",
      "We pull support, they lose. They make money from us.\n",
      "\n",
      "Not any more. \n",
      "\n",
      "Position GME , NOK and some other dumb shit. Rolls Royce.\n"
     ]
    }
   ],
   "source": [
    "show_sentences(\"l6zd20\")"
   ]
  },
  {
   "cell_type": "markdown",
   "id": "hollywood-poison",
   "metadata": {},
   "source": [
    "### Look how long are the longest sentences"
   ]
  },
  {
   "cell_type": "code",
   "execution_count": 12,
   "id": "coordinated-modern",
   "metadata": {},
   "outputs": [
    {
     "name": "stdout",
     "output_type": "stream",
     "text": [
      "+------+-----+-----+----------------------------------------------------------------------------------------------------+\n",
      "|    id|num_s|len_s|                                                                                            sentence|\n",
      "+------+-----+-----+----------------------------------------------------------------------------------------------------+\n",
      "|l7j9q6|    6| 1942|Fact 1 Hedge funds are getting REEEEEEEEEEamed by the rotation into memes See Lots of big funds a...|\n",
      "|l87j4d|    7|  971|WSB worthy humour, only low medium finance talk Nathan For You Bonefide genius businessman Nathan...|\n",
      "|laj1ws|    2|  944|Section 78i a clearly states that \"It shall be unlawful for any person, directly or indirectly, b...|\n",
      "|l7spsb|    1|  874|I'm no motivational speaker but I want to express my hype towards what's coming, this is it, this...|\n",
      "|l6yxv4|    7|  860|FingerMotion is a small but real and rapidly growing company that makes money and has a promising...|\n",
      "|lbbnwd|    7|  859|This is good because, again it improves customer safety feeling of safety during flights This als...|\n",
      "|l8w3js|   40|  849|The ability to develop, consummate, and implement a plan of reorganization with respect to PG&E C...|\n",
      "|lbtidl|    1|  819|My stonks gone down I'm wondering why I Bought this meme at all Margin Calls fill up my email And...|\n",
      "|l8w198|   30|  807|In this scenario, they close the market for the day, get the shorts to agree with GME management ...|\n",
      "|l9afjk|    6|  803|On 08 01 21 the day of a big dip in my leveraged position I receive an email from Etoro giving me...|\n",
      "|lbieij|   24|  777|Competition across Corsair's product offering includes Gaming keyboards and mice Logitech and Raz...|\n",
      "|l7tvmu|   14|  741|Love to the wild wild honeys yeah Shout out to retards that done it come on And it ain't even abo...|\n",
      "|l7ftb8|    5|  723|During the Obama administration, the SEC asked one of its market advisory commitees if Payment fo...|\n",
      "|lahttc|    1|  718|TPT Global Tech's OTCQB TPTW Subsidiary TPT MedTech \"QuikPASS\" and \"QuikLAB\" Will Provide COVID 1...|\n",
      "|l7o2rq|   38|  699|12,500 square feet of penthouses at Faena House in Miami, Florida 1290 South Ocean Boulevard in P...|\n",
      "|l91ns5|   14|  635|\" Bernanke has also been criticized for his actions in the merging of Merrill Lynch and Bank of A...|\n",
      "|l87j4d|    6|  600|Other films I haven't seen Wall Street Money Never Sleeps Boiler Room EDIT Apparently has a big f...|\n",
      "|l6ziao|    3|  599|\"Now, Robinhood appears to be up to the same old tricks, recruiting social media influencers to e...|\n",
      "|lbieij|   20|  566|Increasing gaming and streaming engagement Some interesting facts reported in the Limelight Netwo...|\n",
      "|l71cv2|    2|  565|This massive sell off is music to my ears because it means more GME shares for my buck, but I don...|\n",
      "|l7tvmu|   11|  551|I put in work, and it's all for the kids uh But these cats done forgot what work is uh huh They d...|\n",
      "|l95gcf|    5|  546|Here you can find and support foodbanks to help support your local community US UK AU CAN Here is...|\n",
      "|l89ndw|    1|  525|PHOTO carlo allegri Reuters AMC 56.20% GME 62.98% How Clearing Demands Helped Ground the WallStre...|\n",
      "|l9odgj|    1|  514|Known Hedge Fund Losses as of 1 29 Point72 $19 billion AUM 15% Estimated losses $2.85 billion D1 ...|\n",
      "|l7tvmu|    5|  507|X gon' give it to ya uh , he gon' give it to ya X gon' give it to ya, he gon' give it to ya First...|\n",
      "|l87j4d|    2|  500|Films The Wolf of Wall Street Story of a dick stockbroker but you root for him The Big Short Mult...|\n",
      "|l72c12|    2|  484|Webull Should be fine, requires state ID and multiple business days to verify Public Currently pr...|\n",
      "|l70c65|   19|  481|In short, a one off loss does not resolve the situation, nor indiscriminate taxation towards such...|\n",
      "|l8zdad|   45|  478|You can read more about it here NIO offers special services to it's customers that I will briefly...|\n",
      "|l6te9s|    8|  471|They told me I \"also had other positions that were heavily covered in the media, but those were f...|\n",
      "|l793tc|    7|  470|REPORTED CONSTANT OUTAGES AJ BELL FIDELITY VANGUARD SCHWAB DOUGH SOFI CHASE PUBLIC FOR OUR CANADI...|\n",
      "|lbmh0g|    1|  460|Found this on Investopedia \"Although the list does not specify the cause of the failed settlement...|\n",
      "|l7qqmy|   10|  458|Now I can't make you do it, you gotta look at this subreddit, look at what we've already done, I ...|\n",
      "|l7o2rq|    2|  457|Today, I would like to talk to you about Kenneth Cordele Griffin the founder and CEO of a little ...|\n",
      "|lagmqg|   32|  457|IF we collectively hold and harden our diamonds hands even more in this week to come, and have ri...|\n",
      "|lbtidl|    5|  455|I'ma say wall street I read about your divorce too how neat I had a friend liquidate his account ...|\n",
      "|lahttc|    8|  453|TPT MedTech developed its \"QuikPASS \" Check and Verify passport system and COVID 19 vaccination m...|\n",
      "|l70c65|   20|  446|The SEC will still monitor the situation, but if it does not find any major player who has put in...|\n",
      "|l9adzw|    3|  443|The \"120%\" short float we keep seeing thrown around without any sources comes out to 80 million s...|\n",
      "|l7o2rq|   36|  442|132 East Delaware Place in Chicago, Illinois luxury high rise with residential units, office spac...|\n",
      "|laq9ef|   11|  437|All one has to do is go through the '34 Exchange Act, rule by rule and regulation by regulation, ...|\n",
      "|l70c65|   12|  437|of course the gain initially took place, but now it is only redditors who inflate each other's sh...|\n",
      "|l7qqmy|    6|  437|You know, when you try to fight the power in life, things get taken from you, that's part of life...|\n",
      "|lbah8c|    2|  430|Limitations of the Short Interest Ratio \"The short interest ratio has several flaws, the first be...|\n",
      "|lam9co|   23|  425|Wall Street has Bloomberg Terminals, High Frequency algorithms in a building next to the NYSE in ...|\n",
      "|l72qiz|   10|  422|The reasoning is simple, with Fidelity I have had fills on my options and stocks that were better...|\n",
      "|l8uox4|   25|  419|EDIT 3 IF YOU WOULD LIKE TO HELP here are the main links that I think would help the most right n...|\n",
      "|lbaktb|   62|  418|Evidence needed Shorts are on average in a losing position at current share price $90 , and can't...|\n",
      "|l7l3nn|   47|  412|NVAX's is significantly undervalued with a $10.8B market cap $170 share I'm not a CFA and prefer ...|\n",
      "|l8rxua|    7|  405|Now that the GME phenomenon has spreaded over the globe, even here although we actually cannot he...|\n",
      "+------+-----+-----+----------------------------------------------------------------------------------------------------+\n",
      "only showing top 50 rows\n",
      "\n"
     ]
    }
   ],
   "source": [
    "ddf.orderBy(\"len_s\", ascending=False).show(50, truncate=100)"
   ]
  },
  {
   "cell_type": "code",
   "execution_count": 13,
   "id": "improved-addition",
   "metadata": {},
   "outputs": [
    {
     "name": "stdout",
     "output_type": "stream",
     "text": [
      "+------+-----+-----+----------------------------------------------------------------------------------------------------+\n",
      "|    id|num_s|len_s|                                                                                            sentence|\n",
      "+------+-----+-----+----------------------------------------------------------------------------------------------------+\n",
      "|l7j9q6|    0|   75|                         The Next Black Swan REEEEEEEtail Crushes Funds and Causes a Market Selloff.|\n",
      "|l7j9q6|    1|   26|                                                                          I will present some facts.|\n",
      "|l7j9q6|    2|   92|        These facts are all kind of similar, and arguably all say the same thing in different words.|\n",
      "|l7j9q6|    3|   82|                  This is a good thing, because your smooth ass brain needs all the help it can get.|\n",
      "|l7j9q6|    4|   83|                 You should read all of this, unless you can't read, in which case just ALL IN GME .|\n",
      "|l7j9q6|    5|   75|                         After, I will present the logical conclusion, and what you can do about it.|\n",
      "|l7j9q6|    6| 1942|Fact 1 Hedge funds are getting REEEEEEEEEEamed by the rotation into memes See Lots of big funds a...|\n",
      "|l7j9q6|    7|  137|If you imagine a short fund, that means they're asking for bailouts and you're probably gonna fin...|\n",
      "|l7j9q6|    8|   92|        Fact 3 The extreme volatility and volume in some stocks is causing a minor liquidity crisis.|\n",
      "|l7j9q6|    9|   84|                see Let's say you're broke but want to YOLO on GME, so you need to raise some money.|\n",
      "|l7j9q6|   10|  204|You go to a pawn shop and pawn them your graphics card for $1000, because they know they can go s...|\n",
      "|l7j9q6|   11|  184|Well, the next day, imagine people start speculating on graphics cards, and the prices go crazy s...|\n",
      "|l7j9q6|   12|  178|If you try to pawn that graphics card tomorrow, the pawn shop is gonna look at it and say \"hell n...|\n",
      "|l7j9q6|   13|   68|                                \" This is basically what's happening with loads of stocks right now.|\n",
      "|l7j9q6|   14|  237|Ordinarily it's not a big deal everyone knows how much a stock is worth right now, and it's extre...|\n",
      "|l7j9q6|   15|   42|                                                          So they're happy to take it as collateral.|\n",
      "|l7j9q6|   16|   72|                            But right now, some stocks are going up and down by 100% within minutes.|\n",
      "|l7j9q6|   17|   93|       A stock could literally go from hundreds of dollars to next to worthless within a day or two.|\n",
      "|l7j9q6|   18|   43|                                                         So nobody is gonna take that as collateral.|\n",
      "|l7j9q6|   19|   69|                               If you own that, for all intents and purposes, you have zero dollars.|\n",
      "+------+-----+-----+----------------------------------------------------------------------------------------------------+\n",
      "only showing top 20 rows\n",
      "\n",
      "The Next Black Swan: REEEEEEEtail Crushes Funds and Causes a Market Selloff. I will present some facts. These facts are all kind of similar, and arguably all say the same thing in different words. This is a good thing, because your smooth ass brain needs all the help it can get. You should read all of this, unless you can't read, in which case just 🚀ALL IN GME 🚀.\n",
      "\n",
      "After, I will present the logical conclusion, and what you can do about it. \n",
      "\n",
      "**Fact #1: Hedge funds are getting REEEEEEEEEEamed by the rotation into memes**\n",
      "\n",
      "See: https://twitter.com/CGasparino/status/1354571801767116801\n",
      "\n",
      "Lots of big funds are 'long-short'; they'll look at all of the stocks in a sector, like say retail or real estate, and rank them from best to worst. They'll go long the best one, and go short the worst one. You can probably already see where this is going: the 'worst ones' have gotten way too shorted and way too beaten up, and now they're being squeezed. \n",
      "\n",
      "Oh, and the 'best stocks' haven't done much since August. That means the gains don't come close to cancelling out the losses. And god help the funds who are short-only; they are getting absolutely ass-blasted, and you know they're not enjoying it cause if they did they'd be hanging out here posting fat loss porn with us.\n",
      "\n",
      "**Fact #2: Shorts getting destroyed causes deleveraging and selling elsewhere in the market**\n",
      "\n",
      "See: https://twitter.com/chamath/status/1354646282678149127?s=21 and https://twitter.com/DowdEdward/status/1354508826725085185\n",
      "\n",
      "If there's one thing we know here at WSB, it's that you're a toilet paper handed bitch if you're not levered to the tits at all times. The biggest funds know this too, and being the biggest funds, they have access to way more leverage than you and I do. This is a bit of a problem for shorts though: shorts need liquid capital to _close_ their positions. If you've ever been in a situation where you sold a covered call or spread and got money for it and then immediately used that money to buy another call or something, but then you wanted to buy your spread or your covered call back, but couldn't close it because you just spent the money on something else....now you know what is going on at these hedge funds. They collected a bunch of money a long time ago when they shorted the stonk, and then immediately spent all that money to juice their returns, and now they need to have a fire sale just to have enough liquid capital to buy back their shit at a massive premium.\n",
      "\n",
      "If you imagine the case of your typical long-short fund, that means they're being forced to sell their 'best' stocks. If you imagine a short fund, that means they're asking for bailouts and you're probably gonna find some of them behind Wendy's next week.\n",
      "\n",
      "**Fact #3: The extreme volatility and volume in some stocks is causing a minor liquidity crisis.** \n",
      "\n",
      "see: https://news.ycombinator.com/item?id=25951475\n",
      "\n",
      "Let's say you're broke but want to YOLO on GME, so you need to raise some money. You go to a pawn shop and pawn them your graphics card for $1000, because they know they can go sell that fancy RTX3090 super duper titanium RGB hentai edition for more than $1000 on ebay if they need to. \n",
      "\n",
      "Well, the next day, imagine people start speculating on graphics cards, and the prices go crazy: some start selling for 10$ and some start selling for $5,000 and every price in between. If you try to pawn that graphics card tomorrow, the pawn shop is gonna look at it and say \"hell no, we have no idea how much we can sell that for, we're not gonna take that risk.\"\n",
      "\n",
      "This is basically what's happening with loads of stocks right now. Ordinarily it's not a big deal; everyone knows how much a stock is worth right now, and it's extremely extremely likely it will be worth about the same price (+/- a few percent with 99% probability) tomorrow and the day after and the day after. So they're happy to take it as collateral. But right now, some stocks are going up and down by 100%+ within minutes. A stock could literally go from hundreds of dollars to next to worthless within a day or two. So nobody is gonna take that as collateral. If you own that, for all intents and purposes, you have zero dollars.\n",
      "\n",
      "If you want to use your positions as leverage, or if you were ALREADY using your positions as leverage, this is a huge problem. You need to find some different source of collateral. If you can't, you need to sell shit so that you have good 'ole USD. It's not just hedge funds that are feeling squeezed: it's the clearing firms and banks and...basically anyone that uses stonks as collateral for any purpose. \n",
      "\n",
      "By the way, this is what caused most of the selling back in March last year; folks needed to raise money RIGHT NOW, which meant selling all their shit RIGHT NOW, which meant stonks went down, which caused a cascade of margin calls and liquidations for folks that were levered to the tits.\n",
      "\n",
      "**Fact #4: Indices are at all-time-highs, every sentiment indicator is at MAXIMUM EUPHORIA, but volatility is rising**\n",
      "\n",
      "See: any fucking chart\n",
      "\n",
      "As one of the greatest autists of our time once said, \"be fearful when others are greedy.\" \n",
      "\n",
      "Everyone and their mother is levered to the tits; why wouldn't you be, the fed is handing out free loans to anyone with a pulse! That's great cause it makes stonks go up really fast, but if stonks start going down, they're also gonna go down really fucking fast too. Any selling will get further amplified by option gamma, the same forces that are propelling Gamestop in every direction simultaneously, and the same forces that propelled the markets upwards (particularly the big tech stonks) after the march crash.\n",
      "\n",
      "_________________________\n",
      "\n",
      "Conclusion: We are set up perfectly for a deep, violent correction.\n",
      "\n",
      "If you're a hibernating 🌈🐻 , starving for some 🌈🐻 porn, I have just the thing for you: this could turn into a full-on market crash if it really, really gets going.\n",
      "\n",
      "The more volatile the memes get, the more volatile the market is going to get. The more volatile the market gets, the more selling has to happen. The more selling, the more volatility, and boy does this escalate quickly (For those of you budding autists and retards that were literally born yesterday, just know that this feedback loop has happened many times before, like this time almost a year ago).\n",
      "\n",
      "HOWEVER, I would also like to note that this is 1000% divorced from the actual economy. Any dip will be violent and short-lived. Do not panic and BTFD, you smelly bundle of sticks. There's a lot of dry powder on the sidelines that missed the dip in march and are still pissed about it (such as yours truly, who was too busy being a 🌈🐻), and they would LOVE a chance to buy back into the market at a low-ish price.\n",
      "\n",
      "My recommendation: Do NOT be levered to the tits right now. Maybe toss a few dollars into way OTM spy puts a few weeks out, or longer, as a hedge against your long positions. Do NOT go all-in poots, cause stonks only go up and wall street is actively working on ways to defuse this bomb. \n",
      "\n",
      "But be ready for stonks to go down VERY quickly for a little while. It can happen, and if it does, it's gonna get ugly.\n",
      "\n",
      "My positions: ALL-IN GME, except for a bunch of March spy puts I'm gonna buy tomorrow cause I'm a gambling degenerate.\n",
      "\n",
      "NOT FINANCIAL ADVICE.\n"
     ]
    }
   ],
   "source": [
    "show_sentences(\"l7j9q6\")"
   ]
  },
  {
   "cell_type": "code",
   "execution_count": 14,
   "id": "competitive-council",
   "metadata": {},
   "outputs": [
    {
     "name": "stdout",
     "output_type": "stream",
     "text": [
      "+------+-----+-----+----------------------------------------------------------------------------------------------------+\n",
      "|    id|num_s|len_s|                                                                                            sentence|\n",
      "+------+-----+-----+----------------------------------------------------------------------------------------------------+\n",
      "|l87j4d|    0|   72|                            Bored that market is closed and you can't stare at a line go up all day?|\n",
      "|l87j4d|    1|   41|                                                           Here are a few entertainment suggestions.|\n",
      "|l87j4d|    2|  500|Films The Wolf of Wall Street Story of a dick stockbroker but you root for him The Big Short Mult...|\n",
      "|l87j4d|    3|   81|                   Trading Places Commodities broker and a street hustler see a reverse in fortunes.|\n",
      "|l87j4d|    4|   93|       It's a comedy film American Psycho Investment banker loves business cards and killing people.|\n",
      "|l87j4d|    5|   30|                                                                      Not much finance in this film.|\n",
      "|l87j4d|    6|  600|Other films I haven't seen Wall Street Money Never Sleeps Boiler Room EDIT Apparently has a big f...|\n",
      "|l87j4d|    7|  971|WSB worthy humour, only low medium finance talk Nathan For You Bonefide genius businessman Nathan...|\n",
      "|l87j4d|    8|  173|And for all you paper handed traders who sold this week and now have their hand on their dick wai...|\n",
      "|l87j4d|    9|  164|The aptly named paper trading competition will get going sooner rather than later, where you'll b...|\n",
      "|l87j4d|   10|   60|                                        Just make sure to enroll when the mods open up registration.|\n",
      "+------+-----+-----+----------------------------------------------------------------------------------------------------+\n",
      "\n",
      "Bored that market is closed and you can't stare at a line go up all day? Here are a few entertainment suggestions. **Films**\n",
      "\n",
      "- The Wolf of Wall Street - Story of a dick stockbroker but you root for him\n",
      "- The Big Short - Multiple dick traders but you root for them\n",
      "- Rogue Trader - A dick derivatives trader who tries to make you root for him, but you still don't as he's still a massive dick\n",
      "- Wall Street - Dick trader does illegal shit until he realises his illegal shit has consequences on people he knows\n",
      "- Margin Call - Analyst finds out his company is fucked and company tries to sell off assets before everyone knows they're fucked.\n",
      "- Trading Places - Commodities broker and a street hustler see a reverse in fortunes. It's a comedy film\n",
      "- American Psycho - Investment banker loves business cards and killing people. Not much finance in this film.\n",
      "\n",
      "**Other films I haven't seen**\n",
      "\n",
      "- Wall Street: Money Never Sleeps\n",
      "- Boiler Room - EDIT: Apparently has a big fan base on WSB\n",
      "- Glengarry Glen Ross\n",
      "- Barbarians at the gate\n",
      "- The Wizard of Lies - As suggested by /u/alaska80 \n",
      "- The Hummingbird Project - As suggested by /u/vydenmyria\n",
      "- The Other Guys - as suggested by /u/abeachlife (Note: same guy that did The Big Short + Vice, only low correlation to financial markets) \n",
      "\n",
      "**TV Shows**\n",
      "\n",
      "- Billions - Legal drama in between a hedge fund boss and a US attorney\n",
      "- Silicon Valley - Comedy about a tech startup in silicon valley\n",
      "- Succession - Follows the life of a family that owns a massive media conglomerate. WSB worthy humour, only low/medium finance talk\n",
      "- Nathan For You - Bonefide genius businessman Nathan Fielder helps struggling businesses by suggesting out of the box ideas\n",
      "- Black Monday - As suggested by /u/goosesmama87 \n",
      "- Industry - As suggested by /u/Velcro-hotdog \n",
      "\n",
      "**Documentaries**\n",
      "\n",
      "- Enron: The Smartest Guy in the Room - The Enron Story\n",
      "- Too Big to Fail - The 2008 Bailout Story\n",
      "- Panic: The Untold Story of the 2008 Financial Crisis - As suggested by /u/alaska80 \n",
      "- Inside Job - As suggested by /u/alaska80 \n",
      "- Becoming Warren Buffet - As suggested by /u/wizardvalle \n",
      "- The Inventor: Out for blood in silicon valley - As suggested by /u/wizardvalle\n",
      "- The China Hustle - As suggested by /u/wizardvalle \n",
      "- Silicon Cowboys - Suggested by the same guy above, loves his finance docs\n",
      "- Abacus - Suggested by the same guy above, loves his finance docs\n",
      "- Betting on Zero - Suggested by the same guy above, loves his finance docs\n",
      "- Chasing Madoff - Suggested by the same guy above, loves his finance docs\n",
      "\n",
      "Please add further suggestions in comments.\n",
      "\n",
      "\n",
      "And for all you paper handed traders who sold this week and now have their hand on their dick waiting for what to do next, not to worry, WSB will have entertainment for you. The aptly named paper trading competition will get going sooner rather than later, where you'll be able to prove yourself against the best traders WSB has to offer. Just make sure to enroll when the mods open up registration.\n"
     ]
    }
   ],
   "source": [
    "show_sentences(\"l87j4d\")"
   ]
  },
  {
   "cell_type": "code",
   "execution_count": 15,
   "id": "bacterial-converter",
   "metadata": {},
   "outputs": [
    {
     "name": "stdout",
     "output_type": "stream",
     "text": [
      "+------+-----+-----+----------------------------------------------------------------------------------------------------+\n",
      "|    id|num_s|len_s|                                                                                            sentence|\n",
      "+------+-----+-----+----------------------------------------------------------------------------------------------------+\n",
      "|laj1ws|    0|   55|                                             15 U.S.C.A. 78i the Illegality of Short Ladder Attacks.|\n",
      "|laj1ws|    1|  288|\"Dear SEC and President Biden, I am calling on you today, pursuant to 15 U.S.C.A. 78i, titled Man...|\n",
      "|laj1ws|    2|  944|Section 78i a clearly states that \"It shall be unlawful for any person, directly or indirectly, b...|\n",
      "|laj1ws|    3|  211|\"Short ladder attacks\" occur when large institutions in possession of the aforementioned stocks s...|\n",
      "|laj1ws|    4|  249|The fact that short ladder attacks exist is apparent from on going market activity that can be se...|\n",
      "|laj1ws|    5|  196|Further silence from the SEC on this matter, which can be investigated quite quickly, not only en...|\n",
      "|laj1ws|    6|   11|                                                                                         Government.|\n",
      "|laj1ws|    7|  330|Finally, section 78i f makes it clear that \"Any person who willfully participates in any act or t...|\n",
      "|laj1ws|    8|  137|The direct manipulation of GME and AMC stock prices is an on going crisis that directly hurts the...|\n",
      "|laj1ws|    9|   39|                                                             You must act now before it is too late.|\n",
      "|laj1ws|   10|   89|           Sincerely, Your Average Retail Investor\" This post was crafted by u SenateMajorityLeader.|\n",
      "|laj1ws|   11|  120|We have the world's eyes on this subreddit, and if we flood the forum with this information, it c...|\n",
      "|laj1ws|   12|   15|                                                                                     Keep reposting.|\n",
      "+------+-----+-----+----------------------------------------------------------------------------------------------------+\n",
      "\n",
      "15 U.S.C.A. § 78i - the Illegality of Short Ladder Attacks. \"Dear SEC and President Biden,\n",
      "\n",
      "I am calling on you today, pursuant to 15 U.S.C.A. § 78i, titled Manipulation of Security Prices, to prohibit manipulative and deceptive tactics that artificially depresses the price of GME and AMC securities in contravention of the laws of the United States.\n",
      "\n",
      "Section 78i(a) clearly states that \"It shall be unlawful for any person, directly or indirectly, by the use of the mails or any means or instrumentality of interstate commerce, or of any facility of any national securities exchange, or for any member of a national securities exchange -- (2) To effect, alone or with 1 or more other persons, a series of transactions in any security registered on a national securities exchange, any security not so registered, or in connection with any security-based swap or security-based swap agreement with respect to such security creating actual or apparent active trading in such security, or raising or depressing the price of such security, for the purpose of inducing the purchase or sale of such security by others.\"\n",
      "\n",
      "Currently, GME and AMC stock prices are actively being manipulated using a mechanism called \"short ladder attacks\" to depress the price of these stocks in contravention of 15 U.S.C.A. § 78i. \"Short ladder attacks\" occur when large institutions in possession of the aforementioned stocks sell them for just less than market value in rapid succession between one another in order to drive the price down. The fact that short ladder attacks exist is apparent from on-going market activity that can be seen here https://www.reddit.com/r/wallstreetbets/comments/la682h/visual_representation_of_a_short_ladder_attack_4/ https://preview.redd.it/nmiqx27md4e61.jpg?width=1170&format=pjpg&auto=webp&s=f3e61c081b3332670eaa8b972c309c6d56177e33\n",
      "\n",
      "https://www.reddit.com/r/wallstreetbets/comments/l71yxn/ladder_selling_explained/\n",
      "\n",
      "check this out\n",
      "\n",
      "Such blatant attacks readily establishes prima facie case of market manipulation and must be investigated by the SEC immediately. Further silence from the SEC on this matter, which can be investigated quite quickly, not only encourages further market manipulation but also further diminishes public trust and faith in the U.S. Government.\n",
      "\n",
      "Finally, section 78i(f) makes it clear that \"Any person who willfully participates in any act or transaction in violation of subsections (a), (b), or (c) of this section, shall be liable to any person who shall purchase or sell any security at a price which was affected by such act or transaction.\"\n",
      "\n",
      "I am calling on you to do your job. The direct manipulation of GME and AMC stock prices is an on-going crisis that directly hurts the public interest and is AGAINST THE LAW. You must act now before it is too late.\n",
      "\n",
      "Sincerely,\n",
      "\n",
      "Your Average Retail Investor\"\n",
      "\n",
      "This post was crafted by /u/SenateMajorityLeader. We have the world's eyes on this subreddit, and if we flood the forum with this information, it can't just be dismissed. Keep reposting.\n"
     ]
    }
   ],
   "source": [
    "show_sentences(\"laj1ws\")"
   ]
  },
  {
   "cell_type": "code",
   "execution_count": 16,
   "id": "graphic-click",
   "metadata": {},
   "outputs": [
    {
     "name": "stdout",
     "output_type": "stream",
     "text": [
      "+------+-----+-----+----------------------------------------------------------------------------------------------------+\n",
      "|    id|num_s|len_s|                                                                                            sentence|\n",
      "+------+-----+-----+----------------------------------------------------------------------------------------------------+\n",
      "|l7spsb|    0|   72|                            This is it, we're sharpening our blades the time for war is approaching.|\n",
      "|l7spsb|    1|  874|I'm no motivational speaker but I want to express my hype towards what's coming, this is it, this...|\n",
      "|l7spsb|    2|  147|Thank you so much to everyone in this sub for the ride, it's been long, it's been tough, but we'v...|\n",
      "+------+-----+-----+----------------------------------------------------------------------------------------------------+\n",
      "\n",
      "This is it, we're sharpening our blades the time for war is approaching. I'm no motivational speaker but I want to express my hype towards what's coming, this is it, this mission started and looked impossible for a fair amount of time, we have been mocked by these billionaires for trying to retaliate, we've been mocked by other subreddits however, they have now come to see the true power we have, the billionaires are now weeping about their losses, other subreddits have come to our support, we have celebrities, billionaires, the government on our side, no matter what happens today we will go down in history, today may well be remembered as the day that wall street died, forever onwards we will remember this movement, when our kids hear about it we can say we were part of it, when our wifes boyfriend talks to us about it, we can say we were part of it, it's not often a person gets to be part of history and today we have all done that. \n",
      "\n",
      "\n",
      "\n",
      "Thank you so much to everyone in this sub for the ride, it's been long, it's been tough, but we've made friends on the way, let's fly high brothers 💎🤚💎🤚💎🤚🚀🚀🚀\n"
     ]
    }
   ],
   "source": [
    "show_sentences(\"l7spsb\")"
   ]
  },
  {
   "cell_type": "markdown",
   "id": "welsh-straight",
   "metadata": {},
   "source": [
    "### Now look at rows that had many sentences"
   ]
  },
  {
   "cell_type": "code",
   "execution_count": 17,
   "id": "sunrise-nowhere",
   "metadata": {},
   "outputs": [],
   "source": [
    "by_count = (ddf\n",
    "            .select(\"id\", \n",
    "                    F.col(\"num_s\"))\n",
    "            .groupby(\"id\")\n",
    "            .agg(F.max(F.col(\"num_s\"))\n",
    "                 .cast(T.IntegerType())\n",
    "                 .alias(\"count_s\"))\n",
    "            .orderBy(\"count_s\", ascending=False))"
   ]
  },
  {
   "cell_type": "code",
   "execution_count": 18,
   "id": "permanent-slovenia",
   "metadata": {},
   "outputs": [
    {
     "name": "stdout",
     "output_type": "stream",
     "text": [
      "+------+-------+\n",
      "|    id|count_s|\n",
      "+------+-------+\n",
      "|lc7uaw|    122|\n",
      "|l7o2rq|     92|\n",
      "|lbaktb|     85|\n",
      "|lamwg6|     74|\n",
      "|l7l3nn|     72|\n",
      "|l6zlqq|     70|\n",
      "|lb0gcj|     68|\n",
      "|l8rxua|     66|\n",
      "|l7yb3d|     65|\n",
      "|l7r06p|     63|\n",
      "+------+-------+\n",
      "only showing top 10 rows\n",
      "\n"
     ]
    }
   ],
   "source": [
    "by_count.show(10)"
   ]
  },
  {
   "cell_type": "code",
   "execution_count": 19,
   "id": "residential-reflection",
   "metadata": {},
   "outputs": [
    {
     "data": {
      "text/plain": [
       "<AxesSubplot:ylabel='Density'>"
      ]
     },
     "execution_count": 19,
     "metadata": {},
     "output_type": "execute_result"
    },
    {
     "data": {
      "image/png": "[encoded data removed]",
      "text/plain": [
       "<Figure size 432x288 with 1 Axes>"
      ]
     },
     "metadata": {
      "needs_background": "light"
     },
     "output_type": "display_data"
    }
   ],
   "source": [
    "pddf = by_count.toPandas()\n",
    "pddf.plot(kind=\"kde\")"
   ]
  },
  {
   "cell_type": "code",
   "execution_count": 20,
   "id": "forty-queue",
   "metadata": {},
   "outputs": [
    {
     "name": "stdout",
     "output_type": "stream",
     "text": [
      "+------+-----+-----+----------------------------------------------------------------------------------------------------+\n",
      "|    id|num_s|len_s|                                                                                            sentence|\n",
      "+------+-----+-----+----------------------------------------------------------------------------------------------------+\n",
      "|lc7uaw|    0|   25|                                                                           GME and why do we matter.|\n",
      "|lc7uaw|    1|   47|                                                     I fling poop and drag my knuckles on the floor.|\n",
      "|lc7uaw|    2|   29|                                                                       I am not a financial advisor.|\n",
      "|lc7uaw|    3|   26|                                                                          Do your own due diligence.|\n",
      "|lc7uaw|    4|   40|                                                            This is for entertainment purposes only.|\n",
      "|lc7uaw|    5|  125|Lately, I've felt like we don't have a voice and don't matter but I want to remind all us apes th...|\n",
      "|lc7uaw|    6|   47|                                                     We will win TOGETHER and we will HOLD together.|\n",
      "|lc7uaw|    7|   32|                                                                    Could be days, weeks, or months.|\n",
      "|lc7uaw|    8|   39|                                                             Longer than any of our attention spans.|\n",
      "|lc7uaw|    9|   33|                                                                   So they will use TIME against us.|\n",
      "|lc7uaw|   10|   24|                                                                            BUT time is on our side.|\n",
      "|lc7uaw|   11|   96|    This is psychological warfare against us to make us DOUBT ourselves and what we WILL accomplish.|\n",
      "|lc7uaw|   12|   60|                                        We will remain retarded longer then they can remain solvent.|\n",
      "|lc7uaw|   13|   29|                                                                       They bleed interest each day.|\n",
      "|lc7uaw|   14|   50|                                                  A stock's value is based upon what we place on it.|\n",
      "|lc7uaw|   15|   23|                                                                             See TSLA for reference.|\n",
      "|lc7uaw|   16|   26|                                                                          WE LIKE THE FUCKING STOCK.|\n",
      "|lc7uaw|   17|  105|If my stock is worth 5k to me, I WILL HOLD for 5 fucking K. WHO are you to tell us how to perceiv...|\n",
      "|lc7uaw|   18|   92|        OHHHHH, you're an expert who got caught with your dick in the cookie jar thx louis rossman .|\n",
      "|lc7uaw|   19|   29|                                                                       SHORTING 130 140% of a stock.|\n",
      "+------+-----+-----+----------------------------------------------------------------------------------------------------+\n",
      "only showing top 20 rows\n",
      "\n",
      "GME and why do we matter. I  fling poop and drag my knuckles on the floor.  I am not a financial  advisor.  Do your own due diligence.  This is for entertainment purposes  only.\n",
      "\n",
      "Lately,  I've felt like we don't have a voice and don't matter but I want to  remind all us apes that we are retarded together.  We will win TOGETHER  and we will HOLD together.  Could be days, weeks, or months.  Longer  than any of our attention spans.  So they will use TIME against us.  BUT  time is on our side.\n",
      "\n",
      "This is  psychological warfare against us to make us DOUBT ourselves and what we  WILL accomplish.  We will remain retarded longer then they can remain  solvent.  They bleed interest each day.  A stock's value is based upon  what we place on it.  See TSLA for reference.  WE LIKE THE FUCKING  STOCK.  If my stock is worth 5k to me, I WILL HOLD for 5 fucking K.  WHO  are you to tell us how to perceive VALUE?  OHHHHH, you're an expert who  got caught with your dick in the cookie jar (thx louis rossman).   SHORTING 130-140% of a stock.  These hedgies aren't infallible.  Just  well connected and well resourced.  As long as we own shares that they  NEED, we have time on our side.  Even though it will not feel like it.\n",
      "\n",
      "Obligatory, don't invest what you can't lose.\n",
      "\n",
      "We  cannot let the hedgies deter us.  Now that GME is the dinner  conversation topic of the world, everyone and their moms have an  opinion.  We will be told we don't matter.  We don't know what we are  doing(probably true. I got into stocks 2 weeks ago).  We should have  sold at the peak.  We should have bought lower.  We shouldn't have  gambled.  What people are forgetting is what WE are trying, is to do  better, and be better.  Why kick a guy down when he wants a better  fucking life.  FUCK YOU.\n",
      "\n",
      "LOOK AT  THE PPL SPENDING THEIR TENDIES TO GIVE BACK.  It's our $, let us do what  we want with it.  If a hedgie can irresponsibly short a stock over  100%, why can't we take a CALCULATED risk?  BUUUT funDamentAls.   Gamestop is a dying company.  The former business model of GME is dying.   As most physical businesses are.  See 24 hour fitness.  (I've never  been inside a gym but I read stuff online)  But GME is pivoting.  PAPA  COWEN and the new board members are pivoting to e-commerce.  He's  assembling the fucking avengers to the END GAME but this is just getting  started.  GME is transforming just like Netflix when it went from DVDs  to online streaming.  We are the ugly duckling that gets super sexy  after growing pains.\n",
      "\n",
      "How about  this for fuuunDamentAls.  Hedge funds being allowed to short a stock  over 100% and nobody comments on how that happened.  Why it happened.   And how SHORTING has INFINITE room to lose.  Keep in mind, they are  sophisticated gamblers with other people's money and 401ks.  BUT  according to their calculation it's little to no risk.  Because they can  throw more $ at the problem and manipulate the market, they can fix it!   If they can't, they want to cry to the media, get the public opinion  on their side, and ask for MORE GOVERNMENT REGULATION.  Why would a  greedy $ machine ask for more oversight?  OH, that's because the SEC is  your lapdog and the government will bail you out with tax payer dollars.   SEE 2008 FINANCIAL CRISIS.  Yet, we are not allowed to exploit the law  of supply and demand.  If the demand exceeds 100% of the supply, the  inherit value ROCKETS.  See RTX cards and AMD chips.  FUCK SCALPERS for  good measure :)\n",
      "\n",
      "I want to remind  every single one of you, we do matter.  We have NUMBERS on our side.  As  a collective we've already made shorting a topic of conversation at the  political level.  This may not be a monetary victory but it hopefully  is a step in the right direction to a more equal game.  That or hold  your politicians accountable.  You are their constituents.\n",
      "\n",
      "We  play out in the open.  We share publicly available information and make  decisions base.  Really, it's just autistic people posting the exact  confirmation biases that we needed to see.  It prints $$$$ BRRrrrrr.\n",
      "\n",
      "Let's recap how the odds are stacked against us.\n",
      "\n",
      "\\-We  are too stupid to be allowed to spend our money.  We need government  intervention to \"protect us\".  The little guys, the plebes, the  unsophisticated, etc..  Yet they can't decide on how/when to get a  stimmy check to us.  THEY REALLY REALLY CARE (when hedge funds lose  money).  We some how took wallstreet down with $600.  If the stock  market was that fragile, we have BIGGER issues.\n",
      "\n",
      "\\-Momentum  was killed last week by brokers being held to new collateral  requirements by clearing houses.  Thus restricting stock purchasing with  CASH for specific securities for RETAIL investors.  This is how Phil  Jackson uses timeouts to kill momentum for the other team when they're  running HOT.  BUT Hedge Funds were still allowed to trade.  We were  allowed to sell but NOT buy.  How would NBA games look like if only one  team played while the other team sat on the bench during a timeout?  Fair?  Keep in mind, these brokers were INFORMED pre-market and didn't  have any press conferences until after market close for damage control.   Guess who also informed besides the brokers, YOUUUU SMAAHT, the  hedgies.  Seems legit.\n",
      "\n",
      "\\-News outlet and controlling the narrative.  How many analysts, journalist, and their rich ~~daddies~~  overlords are framing this as WSB pumping and dumping a meme stock.  WE  JUST LIKE THE FUCKING STOCK.  What about the narrative that WSB saved  some business that we would like to keep around post-covid.  FFS you  want to take away the movies and games?  What do you want us to do for  fun?  You deplorable sacks of shit who get no enjoyment out of life  other than sucking the souls and money out of people.  You live to see  more zeros in your account and there is a special place in hell for you.\n",
      "\n",
      "\\-SEC  holding a meeting tonight investigating market manipulation through  social media but no investigative statement on how clearing houses can  magically conjure a rule that halts trading for retail investors.   Robinhood is not the bad guy.  Many trading platforms restricted  trading.  RH is the household name that is the scapegoat.  Get the  fucking clearing house on the line and ask why they increased collateral  from 1-2% to 100 fucking percent on these specific stocks.  OHhhh,  they're not regulated but they want to invoke the SEC to regulate the  retail investors.... NICE.\n",
      "\n",
      "\\-How  shorts magically covered their positions but DO NOT have to report their  positions until weeks later.  Lack of immediate transparency gives them  ample time to reposition and multiple options to cover their asses  while blaming us.\n",
      "\n",
      "Anyways, I could  keep bitching but I just wanted to vent and rally us together.  We took  a mad beating. I just wanted to let you beautiful online strangers that  you aren't alone.  GME has transcended and has evolved into a movement.\n",
      "\n",
      "What  does GME mean to me?  A down-payment to a home for my family and I.  My  wife and I are expecting our first kid.  I'm risking something I can  lose... for a better future.\n",
      "\n",
      "What does GME mean to you?\n",
      "\n",
      "TLDR; We fucking matter.  We are going to be the catalyst of change. HOLD SHARES. Don't risk what you can't lose. APE Strong. 🦍💪💎👐  🚀🚀🚀🚀🚀🚀\n"
     ]
    }
   ],
   "source": [
    "show_sentences(\"lc7uaw\")"
   ]
  },
  {
   "cell_type": "code",
   "execution_count": 21,
   "id": "considered-constant",
   "metadata": {},
   "outputs": [
    {
     "name": "stdout",
     "output_type": "stream",
     "text": [
      "+------+-----+-----+----------------------------------------------------------------------------------------------------+\n",
      "|    id|num_s|len_s|                                                                                            sentence|\n",
      "+------+-----+-----+----------------------------------------------------------------------------------------------------+\n",
      "|l7o2rq|    0|   81|                   Know Thy Enemy Kenneth C. Griffin, the Barbarian Behind the Gates of the Citadel.|\n",
      "|l7o2rq|    1|  134|, I have returned to inflict more psychic damage upon you about the sick fucks that make up the w...|\n",
      "|l7o2rq|    2|  457|Today, I would like to talk to you about Kenneth Cordele Griffin the founder and CEO of a little ...|\n",
      "|l7o2rq|    3|  334|Seeing as how there's a few million more of you here now than there were last month when I was em...|\n",
      "|l7o2rq|    4|   96|    I do hope you take the time to read the full posts, because you may learn something interesting.|\n",
      "|l7o2rq|    5|   11|                                                                                         PSTH Stripe|\n",
      "|l7o2rq|    6|   86|              1. The markets and the flow of capital around the world are rife with financial crime.|\n",
      "|l7o2rq|    7|  126|1. The vast majority of this crime is perpetrated by large institutions like Goldman Sachs, JPMor...|\n",
      "|l7o2rq|    8|  116|Some of this crime takes the form of laundering money for drug cartels, terrorists, pedophiles, a...|\n",
      "|l7o2rq|    9|   48|                                                    Some of it involves manipulation of the markets.|\n",
      "|l7o2rq|   10|  175|1. The regulators in charge of dealing with these fucks are utterly spineless, to the point that ...|\n",
      "|l7o2rq|   11|  108|This phenomenon is known as regulatory capture and is a particularly insidious form of political ...|\n",
      "|l7o2rq|   12|  227|1. The CIA, since its inception in 1947, has acted as a sort of parallel government within the br...|\n",
      "|l7o2rq|   13|   82|                  That foreign policy has always kept the interests of business as its top priority.|\n",
      "|l7o2rq|   14|   40|                                                            One might even call this the Deep State.|\n",
      "|l7o2rq|   15|   19|                                                                                 Who is Ken Griffin?|\n",
      "|l7o2rq|   16|  161|Ken Griffin is the absolute epitome of the archetypal scumfuck egomaniac asshole that embodies ev...|\n",
      "|l7o2rq|   17|   12|                                                                                        Ahem, sorry.|\n",
      "|l7o2rq|   18|   21|                                                                               Let's try that again.|\n",
      "|l7o2rq|   19|  231|Ken Griffin started his career out as a at the age of 19 while an undergraduate at Harvard, short...|\n",
      "+------+-----+-----+----------------------------------------------------------------------------------------------------+\n",
      "only showing top 20 rows\n",
      "\n",
      "Know Thy Enemy: Kenneth C. Griffin, the Barbarian Behind the Gates of the Citadel. Привет идиоты,\n",
      "\n",
      "I have returned to inflict more psychic damage upon you about the sick fucks that make up the worldwide disease that is Big Capital. Today, I would like to talk to you about [Kenneth Cordele Griffin](https://en.wikipedia.org/wiki/Kenneth_C._Griffin), the founder and CEO of a little company called [Citadel LLC](https://en.wikipedia.org/wiki/Citadel_LLC).\n",
      "\n",
      "Now unless you have been living under a fucking rock for the past week or have drank yourself to the point of amnesia for one reason or another (forgivable), you are probably by now at least vaguely aware of what Citadel does and how it relates to current events surrounding GameStop and WSB's new favorite hedge fund, Melvin Capital. \n",
      "\n",
      "Seeing as how there's a few million more of you here now than there were last month when I was emptying the contents of the bowl of oatmeal that is my brain on these pages about [present day financial crimes perpetrated by Citadel and their ilk](https://old.reddit.com/r/wallstreetbets/comments/kbjpqy/an_alternative_hypothesis_for_psth_stripe_for_the/) and the [ouroboros of Western intelligence agencies and Big Capital](https://old.reddit.com/r/wallstreetbets/comments/kcm0r9/once_more_unto_the_breach_the_unified_field/), let's do a quick recap. I do hope you take the time to read the full posts, because you may learn something interesting. ^^^PSTH ^^^= ^^^Stripe ^^^🚀🚀🚀\n",
      "\n",
      "1.  The markets and the flow of capital around the world are rife with financial crime.\n",
      "\n",
      "1. The vast majority of this crime is perpetrated by large institutions like Goldman Sachs, JPMorgan Chase, and Deutsche Bank. Some of this crime takes the form of laundering money for drug cartels, terrorists, pedophiles, and sex traffickers. Some of it involves manipulation of the markets.\n",
      "\n",
      "1. The regulators in charge of dealing with these fucks are utterly spineless, to the point that any honest person must wonder out loud if they're in on it and getting a take. This phenomenon is known as [regulatory capture](https://en.wikipedia.org/wiki/Regulatory_capture) and is a particularly insidious form of political corruption.\n",
      "\n",
      "1. The CIA, since its inception in 1947, has acted as a sort of parallel government within the broader United States government, and has been the primary ideological engine of its foreign policy through its ties to Big Capital. That foreign policy has always kept the interests of business as its top priority. One might even call this the Deep State. \n",
      "\n",
      "#Who is Ken Griffin?\n",
      "\n",
      "Ken Griffin is the absolute epitome of the archetypal scumfuck egomaniac asshole that embodies everything that is wrong with the ultra-rich class of Big Capital. Ahem, sorry. Let's try that again.\n",
      "\n",
      "Ken Griffin started his career out as a 🌈🐻 at the age of 19 while an undergraduate at Harvard, shorting the convertible bonds market and making a bunch of money off of the [October 19th, 1987 crash, more commonly known as Black Monday.](https://www.chicagomag.com/Chicago-Magazine/June-2011/The-File-on-Citadels-Ken-Griffin/) He graduated in 1989, supposedly returned 70% in his first year as a professional fund manager, and went on to found Citadel in 1990. Citadel has swelled to gargantuan size in the last 30 years. It apparently almost [went under in 2008 during the financial crisis](https://www.wsj.com/articles/citadels-ken-griffin-leaves-2008-tumble-far-behind-1438655887), but they were fine after the empty suit known as Barack Obama reneged on his campaign promises and fully sealed the transfer of the United States to Wall Street and the rest of the 1%. The hedge fund managed $35 billion as of October 2020 (probably less now LOLOLOL) and a [little more than a quarter of all equity volume flows through Citadel Securities in their capacity as a market maker.](https://www.chicagobusiness.com/finance-banking/ken-griffins-citadel-securities-reaps-record-67-billion-volatility)\n",
      "\n",
      "He lives in Chicago, but that's not very important. I will note that Chicago has been a historically CIA rat-infested city, as evidenced by the group of [University of Chicago-trained economists](https://en.wikipedia.org/wiki/Chicago_Boys) that helped carry out the regime change ops and aggressive neoliberalization of South America in the 20th century. He's not a complete political partisan, but he does tend to favor Republicans. He has donated to Democratic Party luminaries like [Rod Blagojevich and Rahm Emanuel](https://www.chicagotribune.com/politics/ct-met-ken-griffin-political-donations-20190213-story.html), libertarian psychopaths like the [Koch Brothers, and neocon war hawk freaks like Karl \"Turd Blossom\" Rove.](https://www.chicagotribune.com/business/ct-biz-0310-ken-griffin-interview-story.html) His most recent political contributions were to Kelly Loeffler and David Perdue, the two imbecilic former Senators from Georgia who were both busted for dumping stocks on insider information shortly before the [Great Beer Virus Crash of 2020.](https://en.wikipedia.org/wiki/2020_stock_market_crash) The thread tying these fine folks together is that what most people in the United States think of as politics is more akin to a game show than a real system of governance, and the ultra-rich value their class allegiance much higher than their allegiance to any one political party. As a slight aside, [Loeffler's husband](https://en.wikipedia.org/wiki/Jeffrey_Sprecher) is the chairman of the New York Stock Exchange. How in the fuck is the spouse of a (formerly) sitting Senator allowed to hold that position? Yuck.\n",
      "\n",
      "\n",
      "#The Ken Griffin Real Estate Portfolio\n",
      "\n",
      "(Disclaimer: Griffin may not still own every property in this section and I don't care to find out which, if any, he has divested himself from, because frankly, the levels of opulence make me feel fucking sick. Also, if this is considered d0xxing or something because some of these may be personal residences, I will remove them upon request. This is all publicly available information, though.)\n",
      "\n",
      "* [132 East Delaware Place](https://imgur.com/yDdrrEL) in Chicago, Illinois -- luxury high rise with residential units, office space, and retail stores\n",
      "* [800 North Michigan Avenue](https://imgur.com/d8dIoNO) in Chicago, Illinois -- penthouse unit\n",
      "* [820 Fifth Avenue](https://imgur.com/WSt7nit), New York City, New York -- overlooking Central Park in Manhattan\n",
      "* [Big Ass Mansion](https://virtualglobetrotting.com/map/ken-griffins-house-2/view/google/) in Aspen, Colorado\n",
      "* [Two properties at the Hualalai Resort](https://www.businessinsider.com/ken-griffin-buys-in-hawaii-2011-3?op=1) in Kailua-Kona, Hawaii\n",
      "* [Multiple mansions at 10, 20, 30, 40, 50, 60, and 70 Blossom Way](https://therealdeal.com/miami/2015/07/01/chicago-hedge-fund-buys-palm-beach-mansion-for-15-2m/) in Palm Beach, Florida. [Further links here](https://therealdeal.com/miami/2018/05/17/billionaire-ken-griffin-adds-to-palm-beach-assemblage-with-20m-estate/) and [here.](https://nypost.com/2019/09/10/billionaire-owner-of-americas-priciest-home-drops-99m-on-another-mansion/)\n",
      "* [12,500 square feet of penthouses at Faena House](https://nypost.com/2020/12/16/ken-griffin-sells-faena-house-penthouses-in-miami-at-a-loss/) in Miami, Florida\n",
      "* [1290 South Ocean Boulevard](https://therealdeal.com/miami/2017/01/14/billionaire-pays-85-million-for-palm-beach-estate/) in Palm Beach, Florida\n",
      "* [3 Carlton Gardens](https://therealdeal.com/chicago/2019/01/21/billionaire-ken-griffin-buys-historic-london-mansion-for-122m/) in London, England -- former home of Charles de Gaulle, former President of France\n",
      "* [Numerous units at 220 Central Park South](https://nypost.com/2019/10/10/ken-griffin-buys-two-more-units-in-220-central-park-south/) in New York City, New York -- a four-floor penthouse and two adjacent apartments on the 20th floor\n",
      "* [650 Meadow Lane](https://behindthehedges.com/oceanfront-bridgehampton-home-with-storied-past-sells-for-50-million-in-off-market-deal/) in Southampton, New York -- purchased from Calvin Klein\n",
      "* [Vacant double lot costing $37 million](https://therealdeal.com/miami/2020/08/25/billionaire-hedge-funder-ken-griffin-pays-37m-for-star-island-property/) Star Island, Miami Beach, Florida\n",
      "\n",
      "#The Ken Griffin Art Portfolio\n",
      "\n",
      "Many of the pieces listed here are not held personally by Griffin, but are loaned out to institutions like the Museum of Modern Art in New York and the Art Institute of Chicago. For the extreme smoothbrains among you, the reason Griffin blows giant bags on horrible pieces of art and puts them on public display is so that he can use them as tax writeoffs.\n",
      "\n",
      "Herein lies the part where you may call me a conspiracy theorist if you please, but I think Griffin's art portfolio is indicative of some type of covert relationship with the intelligence agencies. I sincerely do not believe that any person can reach these strata of society without at least brushing elbows with some glowies. The most expensive pieces in his collection come from the school of art known as [abstract expressionism](https://en.wikipedia.org/wiki/Abstract_expressionism), which was [quite literally a CIA-sponsored project](https://www.independent.co.uk/news/world/modern-art-was-cia-weapon-1578808.html) meant to counter the influence of [Soviet realism](https://en.wikipedia.org/wiki/Socialist_realism) during the Cold War. The idea was that the Soviets would see the wacky vomitus that people like Jackson Pollock would spew all over a canvas as an expression of the ideals of freedom and individuality and break free of the bonds of Communism.\n",
      "\n",
      "* [False Start](https://www.moma.org/collection/works/67552) by Jasper Johns. Housed at the MoMA, purchased by Griffin for $80 million.\n",
      "* [Curtain, Jug and Fruit Bowl](https://www.theartist.me/artwork/curtain-jug-and-fruit-bowl/) by Paul Cézanne. Housed at the Whitney Museum of American Art in New York. Purchased by the previous buyer at auction for $60.5 million -- Griffin's purchase price is not known.\n",
      "* [Self Portrait](https://www.wikiart.org/en/paul-cezanne/self-portrait-1) by Paul Cézanne. I think this is the correct one. He did a whole bunch of these over the course of his life. Price unknown.\n",
      "* [Water Lilies](https://www.wikiart.org/en/claude-monet/water-lilies-8) by Claude Monet. He did like 250 of these, this is the one that comes up when searching it with the year of the one Griffin is known to own, 1905. Price unknown.\n",
      "* [The Green Dancer](https://www.wikiart.org/en/edgar-degas/the-green-dancer-1879) by Edgar Degas. On display at the Thyssen-Bornemisza Museum in Madrid, Spain\n",
      "* [Little Dancer Aged Fourteen](https://www.nga.gov/collection/highlights/degas-little-dancer-aged-fourteen.html) by Edgar Degas. An extraordinarily ugly wax sculpture on display at the National Gallery of Art in Washington, D.C.\n",
      "* [Interchange](https://en.wikipedia.org/wiki/Interchange_\\(de_Kooning\\)) by Willem de Kooning. Abstract expressionist trash purchased for $300 million from noted [Jeffrey Epstein associate and suspected pedophile David Geffen](https://www.hollywoodreporter.com/news/strange-saga-jeffrey-epstein-s-link-brock-pierce-1240462). Recall that Epstein is highly suspected of being some type of intelligence asset tasked with blackmailing rich scumbags by anyone who has studied his story closely.\n",
      "* [Number 17A](https://en.wikipedia.org/wiki/Number_17A) by Jackson Pollock. More abstract expression trash, also purchased from David Geffen for $200 million.\n",
      "\n",
      "#How does Citadel spend its money?\n",
      "\n",
      "Good question! They buy politicians. Remember regulatory capture? Here's Citadel doing just that: current Secretary of the Treasury, former Chair of the Federal Reserve, and sentient potato woman Janet Yellen took more than [$800,000 in speaking fees from Citadel](https://www.realclearpolitics.com/video/2021/01/28/wh_wont_say_if_janet_yellen_should_recuse_herself_after_taking_800k_in_speaking_fees_from_key_figure_in_gamestoprobinhood_scandal_hft_firm_citadel.html#!). In fact, [Yellen \"earned\" over $7 million in speaking fees](https://www.nytimes.com/2021/01/18/us/politics/janet-yellen-treasury.html) from various other financial institutions including Goldman Sachs and Citigroup between her stints at the Fed and at Treasury. What do we think? Is she just such an enrapturing speaker that she's worth every penny? Or is she getting a kickback for helping to deregulate financial markets and a bribe to look the other way when short sellers and market makers collude to shut retail traders out of the market en masse, like they did yesterday with GME?\n",
      "\n",
      "They also buy stakes in distressed hedge funds, apparently. Remember the [$2.75 billion bailout](https://nypost.com/2021/01/25/this-short-seller-just-got-a-2-75-billion-bailout/) that Citadel and Point72 gave to Melvin Capital on Monday, which they promptly pissed away doubling down on their GME short? Isn't it weird that Robinhood shut down trading on the very stocks that the hedge funds were bleeding out from and then forced people to liquidate their long positions at the very bottom of a coordinated short seller attack? Doesn't it seem a little strange that the hedge fund branch of Citadel is allowed to own part of another hedge fund that's being bled dry, as [Citadel Securities buys order flow from Robinhood](https://www.institutionalinvestor.com/article/b1m2p1cv68bx56/Twitter-Freaked-Out-Over-Robinhood-Selling-Its-Trade-Flow-But-the-App-and-Others-Have-Been-Doing-It-for-Years) to [illegally front-run retail orders?](https://imgur.com/0yT6vpJ)\n",
      "\n",
      "There's also this, on the topic of Melvin Capital and pedophiles and sex traffickers: Melvin Capital's 5th largest long holding is a company called L Brands, which is the parent of Victoria's Secret and Bath & Body Works. Victoria's Secret, as seasoned Jeffrey Epstein gumshoes will know, was founded by one [Leslie Wexner](https://en.wikipedia.org/wiki/Les_Wexner), who had a very troubling relationship with Epstein. Epstein was Wexner's personal money manager and Wexner was Epstein's only known client. Wexner and Epstein were so close that [Wexner gave Epstein a mansion on the Upper East Side in Manhattan](https://www.theatlantic.com/ideas/archive/2019/08/victorias-secret-epstein/595507/) in 2011, years after it was already known that he was a pedophile creep. Epstein would tell the girls he was sexually assaulting that he was a [modeling scout for Victoria's Secret](https://www.theatlantic.com/ideas/archive/2019/08/victorias-secret-epstein/595507/). [Jean-Luc Brunel](https://en.wikipedia.org/wiki/Jean-Luc_Brunel), another Epstein-associated \"modeling scout\" and sex criminal who was [recently arrested in France](https://www.nbcnews.com/news/world/modeling-agent-jean-luc-brunel-charged-rape-minor-jeffrey-epstein-n1251804), would supply models to Victoria's Secret through his agency MC2 Model Management. Basically, what I'm saying is that Melvin Capital, and now Citadel by extension, are long sex trafficking pedophiles.\n",
      "\n",
      "#How can I poke this asshole in the eye?\n",
      "\n",
      "It seems like there's two big things you can do to [do your part.](https://imgur.com/tL98PiA) \n",
      "\n",
      "The first is to 💎👐 GME. The institutions are clearly scared shitless at how much blowback is coming their way or they wouldn't be taking such drastic measures to try to tip the scales in the favor of the shorts at the expense of everyone else. Turn off share lending in your brokerage if you can and still haven't.\n",
      "\n",
      "The second is to transfer your assets out of Robinhood yesterday and graduate to a big boy brokerage. Citadel Securities (remember, this is the market maker, not the hedge fund) [banked a record $6.7 billion in profit last year](https://www.chicagobusiness.com/finance-banking/ken-griffins-citadel-securities-reaps-record-67-billion-volatility). You can bet that this has at least a little to do with the influx of Robinhooders pressing the market order button on their phones and letting Citadel front run their orders while Robinhood gives them a garbage fill.\n",
      "\n",
      "##TLDR: Ken Griffin final boss. Citadel bad. Robinhood bad. GME go up. Stop FOMOing into other dumb shit and stick to the plan.\n"
     ]
    }
   ],
   "source": [
    "show_sentences(\"l7o2rq\")"
   ]
  },
  {
   "cell_type": "markdown",
   "id": "exceptional-singapore",
   "metadata": {},
   "source": [
    "---\n",
    "## Takeaways:\n",
    "  - most sentences are < 30 lines long (and even < 15?).\n",
    "  - some people just write enormously long run-on sentences.\n",
    "  - really short senteces often seem worth keeping (e.g., \"HOLD\" etc).\n",
    "  - Could try to disambiguate stock names as in \"GME\" |-> \"The publicly-traded stock GME\".\n",
    "  - Could concatenate sentences to aim for sentences around some length.\n",
    "  - Could do two layers of sentence splitting: one for paragraphs and one for splitting long paragraphs.\n",
    "  - the style \"Exemplified. Here. By. This. String.\" could be handled as a special case? Probably not worth it.\n",
    "  \n",
    " To do\n",
    "  - ✓ check on quotation escaping.\n",
    "  - ✓ split sentences on linebreaks (so keep these in DocumentNormalizer)\n",
    "  - ✓ split sentenceson -'s\n",
    "  - look again at asterisks.\n",
    "  - ✓ improve ellipsis handling.\n"
   ]
  },
  {
   "cell_type": "markdown",
   "id": "israeli-documentation",
   "metadata": {},
   "source": [
    "# Round 2: Change document processing "
   ]
  },
  {
   "cell_type": "code",
   "execution_count": 299,
   "id": "growing-champagne",
   "metadata": {},
   "outputs": [
    {
     "name": "stdout",
     "output_type": "stream",
     "text": [
      "+---+-----------------------------------------+\n",
      "| id|                                     text|\n",
      "+---+-----------------------------------------+\n",
      "|  0|                       YO💎 🙌\n",
      "\n",
      " -YO\n",
      "\n",
      "-YO|\n",
      "|  1|              Yo\n",
      "\n",
      " *YO 'what's up' \n",
      "\n",
      " *YO|\n",
      "|  2|                  hey       hey      hey.|\n",
      "|  3|                       🚀...🚀... 🚀 ... |\n",
      "|  4| Mo shouldn't sell 💎 🙌 should not sell.|\n",
      "|  5|           He said to me 'Sir, yes Sir!'.|\n",
      "|  6|                      I said \"No Siree!\".|\n",
      "|  7|             Some quotes “are like this”.|\n",
      "|  8|I paid a steep $5🚀🚀🚀. \n",
      " What say you??|\n",
      "|  9|                                       . |\n",
      "| 10|                               . . . . ..|\n",
      "| 11|                            . ... ... ...|\n",
      "| 12|    Don't sell GME, I say.. I don't sell.|\n",
      "| 13|         He's a seller.... I do not sell!|\n",
      "| 14|i'm gonna sell. .......... I should sell!|\n",
      "+---+-----------------------------------------+\n",
      "\n",
      "+---+------------------------------------------+\n",
      "| id|                                      text|\n",
      "+---+------------------------------------------+\n",
      "|  0|                  YO.  . . .  . YO. . . YO|\n",
      "|  1|         Yo. .  . YO 'what's up' . .  . YO|\n",
      "|  2|                   hey       hey      hey.|\n",
      "|  3|                               . . . .  . |\n",
      "|  4|  Mo shouldn't sell .  .  should not sell.|\n",
      "|  5|            He said to me 'Sir, yes Sir!'.|\n",
      "|  6|                       I said \"No Siree!\".|\n",
      "|  7|              Some quotes \"are like this\".|\n",
      "|  8|I paid a steep $5. . . . .  What say you??|\n",
      "|  9|                                        . |\n",
      "| 10|                                 . . . . .|\n",
      "| 11|                                   . . . .|\n",
      "| 12|      Don't sell GME, I say. I don't sell.|\n",
      "| 13|             He's a seller. I do not sell!|\n",
      "| 14|          i'm gonna sell. . I should sell!|\n",
      "+---+------------------------------------------+\n",
      "\n"
     ]
    }
   ],
   "source": [
    "# the format of the reddit data is that the string columns\n",
    "# are wrapped in \"s, and that internal quotes have are \n",
    "# wrapped in \"\"s or 's. We need to format our text here\n",
    "# properly to match that.\n",
    "text_list = [\n",
    "    \"\\\"YO💎 🙌\\n\\n -YO\\n\\n-YO\\\"\",\n",
    "    \"\\\"Yo\\n\\n *YO 'what's up' \\n\\n *YO\\\"\",\n",
    "    \"hey       hey      hey.\",\n",
    "    \"🚀...🚀... 🚀 ... \",\n",
    "    \"\\\"Mo shouldn't sell 💎 🙌 should not sell.\\\"\",\n",
    "    \"\\\"He said to me 'Sir, yes Sir!'.\\\"\",\n",
    "    \"\\\"I said \\\"\\\"No Siree!\\\"\\\".\\\"\",\n",
    "    \"Some quotes “are like this”.\",\n",
    "    \"\\\"I paid a steep $5🚀🚀🚀. \\n What say you??\\\"\",\n",
    "    \" . \",\n",
    "    \". . . . ..\", \n",
    "    \". ... ... ...\",\n",
    "    \"\\\"Don't sell GME, I say.. I don't sell.\\\"\",\n",
    "    \"\\\"He's a seller.... I do not sell!\\\"\",\n",
    "    \"\\\"i'm gonna sell. .......... I should sell!\\\"\",\n",
    "]\n",
    "\n",
    "with open(\"eg_texts.csv\", \"w\") as fobj:\n",
    "    fobj.write(\"id\\ttext\\n\")\n",
    "    for idx, s in enumerate(text_list):\n",
    "        fobj.write(\"\\t\".join([str(idx), s+\"\\n\"]))\n",
    "        \n",
    "eg_df = spark.read.csv(\"eg_texts.csv\",\n",
    "                    header=True,\n",
    "                    multiLine=True,\n",
    "                    sep=\"\\t\",\n",
    "                    inferSchema=True,\n",
    "                    quote=\"\\\"\",\n",
    "                    escape=\"\\\"\"\n",
    "                      )\n",
    "eg_df.show(truncate=80)\n",
    "texts = (\n",
    "    embedding_pipeline.preprocess_texts(eg_df)\n",
    ")\n",
    "texts.show(truncate=1000)"
   ]
  },
  {
   "cell_type": "code",
   "execution_count": 298,
   "id": "acting-constitution",
   "metadata": {},
   "outputs": [
    {
     "name": "stdout",
     "output_type": "stream",
     "text": [
      "CPU times: user 17.8 ms, sys: 1.57 ms, total: 19.3 ms\n",
      "Wall time: 120 ms\n",
      "Processed (and counted) 2624 rows.\n",
      "+---+-----+-----+------------------------------+\n",
      "|id |num_s|len_s|sentence                      |\n",
      "+---+-----+-----+------------------------------+\n",
      "|0  |0    |3    |YO.                           |\n",
      "|0  |1    |3    |YO.                           |\n",
      "|1  |0    |3    |Yo.                           |\n",
      "|1  |1    |16   |YO 'what's up' .              |\n",
      "|2  |0    |12   |hey hey hey.                  |\n",
      "|4  |0    |19   |Mo shouldn't sell .           |\n",
      "|4  |1    |16   |should not sell.              |\n",
      "|5  |0    |30   |He said to me 'Sir, yes Sir!'.|\n",
      "|6  |0    |19   |I said \"No Siree!\".           |\n",
      "|7  |0    |28   |Some quotes \"are like this\".  |\n",
      "|8  |0    |18   |I paid a steep $5.            |\n",
      "|8  |1    |14   |What say you??                |\n",
      "|12 |0    |22   |Don't sell GME, I say.        |\n",
      "|12 |1    |13   |I don't sell.                 |\n",
      "|13 |0    |14   |He's a seller.                |\n",
      "|13 |1    |14   |I do not sell!                |\n",
      "|14 |0    |15   |i'm gonna sell.               |\n",
      "|14 |1    |14   |I should sell!                |\n",
      "+---+-----+-----+------------------------------+\n",
      "\n"
     ]
    }
   ],
   "source": [
    "pipeline = embedding_pipeline.build_embedding_preproc_pipeline()\n",
    "\n",
    "pipeline_model = pipeline.fit(texts)\n",
    "light_model = LightPipeline(pipeline_model)\n",
    "def process_texts():\n",
    "    processed_texts = light_model.transform(texts)\n",
    "    return processed_texts\n",
    "%time processed_texts = process_texts()\n",
    "print(f\"Processed (and counted) {df.count()} rows.\")\n",
    "\n",
    "ddf = (\n",
    "    processed_texts\n",
    "    .withColumn(\"num_s\",\n",
    "                processed_texts[\"finished_sentences_metadata\"][0]._2\n",
    "               .cast(T.IntegerType()))\n",
    "    .withColumn(\"len_s\",\n",
    "                F.length(processed_texts[\"finished_sentences\"][0])\n",
    "                .cast(T.IntegerType()))\n",
    "    .select(\"id\", \n",
    "            \"num_s\",\n",
    "            \"len_s\",\n",
    "            F.col(\"finished_sentences\")[0]\n",
    "            .alias(\"sentence\"))\n",
    ")\n",
    "\n",
    "ddf.show(truncate=False)"
   ]
  },
  {
   "cell_type": "code",
   "execution_count": 296,
   "id": "protected-procurement",
   "metadata": {},
   "outputs": [
    {
     "name": "stdout",
     "output_type": "stream",
     "text": [
      "+---+-------+\n",
      "| id|count_s|\n",
      "+---+-------+\n",
      "| 12|      1|\n",
      "| 13|      1|\n",
      "| 14|      1|\n",
      "|  1|      1|\n",
      "|  8|      1|\n",
      "|  4|      1|\n",
      "|  0|      1|\n",
      "|  6|      0|\n",
      "|  5|      0|\n",
      "|  2|      0|\n",
      "|  7|      0|\n",
      "+---+-------+\n",
      "\n"
     ]
    }
   ],
   "source": [
    "by_count = (ddf\n",
    "            .select(\"id\", \n",
    "                    F.col(\"num_s\"))\n",
    "            .groupby(\"id\")\n",
    "            .agg(F.max(F.col(\"num_s\"))\n",
    "                 .cast(T.IntegerType())\n",
    "                 .alias(\"count_s\"))\n",
    "            .orderBy(\"count_s\", ascending=False))\n",
    "by_count.show()"
   ]
  },
  {
   "cell_type": "markdown",
   "id": "suitable-carry",
   "metadata": {},
   "source": [
    "## Now look at the real data."
   ]
  },
  {
   "cell_type": "code",
   "execution_count": 5,
   "id": "growing-quantum",
   "metadata": {},
   "outputs": [
    {
     "name": "stdout",
     "output_type": "stream",
     "text": [
      "CPU times: user 3.71 ms, sys: 4.6 ms, total: 8.31 ms\n",
      "Wall time: 4.48 s\n"
     ]
    }
   ],
   "source": [
    "%%time\n",
    "df = spark.read.csv(DATA_PATH, \n",
    "                    header=True,\n",
    "                    multiLine=True, \n",
    "                    inferSchema=True,\n",
    "                    quote=\"\\\"\",\n",
    "                    escape=\"\\\"\")\n",
    "\n",
    "df = df.sample(withReplacement=False, fraction=0.1, seed=1)\n",
    "\n",
    "df = (df.withColumn(\"text\", \n",
    "               F.concat_ws(\". \", df.title, df.body))\n",
    "      .drop(\"title\", \"body\", \"url\", \"comms_num\", \"created\"))"
   ]
  },
  {
   "cell_type": "code",
   "execution_count": 6,
   "id": "marine-shuttle",
   "metadata": {},
   "outputs": [
    {
     "name": "stdout",
     "output_type": "stream",
     "text": [
      "CPU times: user 16.2 ms, sys: 3.25 ms, total: 19.5 ms\n",
      "Wall time: 341 ms\n",
      "Processed (and counted) 2624 rows.\n"
     ]
    }
   ],
   "source": [
    "texts = (\n",
    "    embedding_pipeline.preprocess_texts(df)\n",
    "    .select(\"id\", \n",
    "            \"text\")\n",
    ")\n",
    "pipeline = embedding_pipeline.build_embedding_preproc_pipeline()\n",
    "\n",
    "pipeline_model = pipeline.fit(texts)\n",
    "light_model = LightPipeline(pipeline_model)\n",
    "def process_texts():\n",
    "    processed_texts = light_model.transform(texts)\n",
    "    return processed_texts\n",
    "%time processed_texts = process_texts()\n",
    "print(f\"Processed (and counted) {df.count()} rows.\")"
   ]
  },
  {
   "cell_type": "code",
   "execution_count": 7,
   "id": "arctic-wright",
   "metadata": {},
   "outputs": [],
   "source": [
    "ddf = (\n",
    "    processed_texts\n",
    "    .withColumn(\"num_s\",\n",
    "                processed_texts[\"finished_sentences_metadata\"][0]._2\n",
    "               .cast(T.IntegerType()))\n",
    "    .withColumn(\"len_s\",\n",
    "                F.length(processed_texts[\"finished_sentences\"][0])\n",
    "                .cast(T.IntegerType()))\n",
    "    .select(\"id\", \n",
    "            \"num_s\",\n",
    "            \"len_s\",\n",
    "            F.col(\"finished_sentences\")[0]\n",
    "            .alias(\"sentence\")))"
   ]
  },
  {
   "cell_type": "markdown",
   "id": "coated-envelope",
   "metadata": {},
   "source": [
    "Which posts have the longests sentenecs?"
   ]
  },
  {
   "cell_type": "code",
   "execution_count": 8,
   "id": "environmental-aruba",
   "metadata": {},
   "outputs": [
    {
     "name": "stdout",
     "output_type": "stream",
     "text": [
      "+------+-------+\n",
      "|    id|count_s|\n",
      "+------+-------+\n",
      "|lc7uaw|    122|\n",
      "|l7o2rq|    116|\n",
      "|lbaktb|    114|\n",
      "|lbieij|    107|\n",
      "|lamwg6|    103|\n",
      "+------+-------+\n",
      "only showing top 5 rows\n",
      "\n"
     ]
    }
   ],
   "source": [
    "by_count = (ddf\n",
    "            .select(\"id\", \n",
    "                    F.col(\"num_s\"))\n",
    "            .groupby(\"id\")\n",
    "            .agg(F.max(F.col(\"num_s\"))\n",
    "                 .cast(T.IntegerType())\n",
    "                 .alias(\"count_s\"))\n",
    "            .orderBy(\"count_s\", ascending=False))\n",
    "by_count.show(5)"
   ]
  },
  {
   "cell_type": "code",
   "execution_count": 9,
   "id": "optimum-battery",
   "metadata": {},
   "outputs": [],
   "source": [
    "def show_sentences(rowid):\n",
    "    print(\"\\n\")\n",
    "    (ddf\n",
    "     .where(f\"id=='{rowid}'\")\n",
    "     .select(\"id\", \"num_s\", \"len_s\", \"sentence\")\n",
    "     .show(150, truncate=100))\n",
    "    print(df.where(f\"id=='{rowid}'\").toPandas().text.iloc[0])\n",
    "    print(\"\\n\")"
   ]
  },
  {
   "cell_type": "code",
   "execution_count": 10,
   "id": "commercial-incentive",
   "metadata": {},
   "outputs": [
    {
     "name": "stdout",
     "output_type": "stream",
     "text": [
      "\n",
      "\n",
      "+------+-----+-----+----------------------------------------------------------------------------------------------------+\n",
      "|    id|num_s|len_s|                                                                                            sentence|\n",
      "+------+-----+-----+----------------------------------------------------------------------------------------------------+\n",
      "|l7o2rq|    0|   81|                   Know Thy Enemy Kenneth C. Griffin, the Barbarian Behind the Gates of the Citadel.|\n",
      "|l7o2rq|    1|  132|I have returned to inflict more psychic damage upon you about the sick fucks that make up the wor...|\n",
      "|l7o2rq|    2|  125|Today, I would like to talk to you about Kenneth Cordele Griffin the founder and CEO of a little ...|\n",
      "|l7o2rq|    3|  333|Now unless you have been living under a fucking rock for the past week or have drank yourself to ...|\n",
      "|l7o2rq|    4|  334|Seeing as how there's a few million more of you here now than there were last month when I was em...|\n",
      "|l7o2rq|    5|   96|    I do hope you take the time to read the full posts, because you may learn something interesting.|\n",
      "|l7o2rq|    6|   13|                                                                                       PSTH Stripe .|\n",
      "|l7o2rq|    7|   86|              1. The markets and the flow of capital around the world are rife with financial crime.|\n",
      "|l7o2rq|    8|  126|1. The vast majority of this crime is perpetrated by large institutions like Goldman Sachs, JPMor...|\n",
      "|l7o2rq|    9|  116|Some of this crime takes the form of laundering money for drug cartels, terrorists, pedophiles, a...|\n",
      "|l7o2rq|   10|   48|                                                    Some of it involves manipulation of the markets.|\n",
      "|l7o2rq|   11|  175|1. The regulators in charge of dealing with these fucks are utterly spineless, to the point that ...|\n",
      "|l7o2rq|   12|  108|This phenomenon is known as regulatory capture and is a particularly insidious form of political ...|\n",
      "|l7o2rq|   13|  227|1. The CIA, since its inception in 1947, has acted as a sort of parallel government within the br...|\n",
      "|l7o2rq|   14|   82|                  That foreign policy has always kept the interests of business as its top priority.|\n",
      "|l7o2rq|   15|   40|                                                            One might even call this the Deep State.|\n",
      "|l7o2rq|   16|   20|                                                                                Who is Ken Griffin?.|\n",
      "|l7o2rq|   17|  161|Ken Griffin is the absolute epitome of the archetypal scumfuck egomaniac asshole that embodies ev...|\n",
      "|l7o2rq|   18|   12|                                                                                        Ahem, sorry.|\n",
      "|l7o2rq|   19|   21|                                                                               Let's try that again.|\n",
      "|l7o2rq|   20|   41|                                                           Ken Griffin started his career out as a .|\n",
      "|l7o2rq|   21|  191|at the age of 19 while an undergraduate at Harvard, shorting the convertible bonds market and mak...|\n",
      "|l7o2rq|   22|  133|He graduated in 1989, supposedly returned 70% in his first year as a professional fund manager, a...|\n",
      "|l7o2rq|   23|   60|                                        Citadel has swelled to gargantuan size in the last 30 years.|\n",
      "|l7o2rq|   24|  252|It apparently almost went under in 2008 during the financial crisis but they were fine after the ...|\n",
      "|l7o2rq|   25|  203|The hedge fund managed $35 billion as of October 2020 probably less now LOLOLOL and a little more...|\n",
      "|l7o2rq|   26|   51|                                                 He lives in Chicago, but that's not very important.|\n",
      "|l7o2rq|   27|  256|I will note that Chicago has been a historically CIA rat infested city, as evidenced by the group...|\n",
      "|l7o2rq|   28|   78|                      He's not a complete political partisan, but he does tend to favor Republicans.|\n",
      "|l7o2rq|   29|  189|He has donated to Democratic Party luminaries like Rod Blagojevich and Rahm Emanuel libertarian p...|\n",
      "|l7o2rq|   30|  241|His most recent political contributions were to Kelly Loeffler and David Perdue, the two imbecili...|\n",
      "|l7o2rq|   31|  281|The thread tying these fine folks together is that what most people in the United States think of...|\n",
      "|l7o2rq|   32|   85|               As a slight aside, Loeffler's husband is the chairman of the New York Stock Exchange.|\n",
      "|l7o2rq|   33|   90|          How in the fuck is the spouse of a formerly sitting Senator allowed to hold that position?|\n",
      "|l7o2rq|   34|    5|                                                                                               Yuck.|\n",
      "|l7o2rq|   35|   38|                                                              The Ken Griffin Real Estate Portfolio.|\n",
      "|l7o2rq|   36|  208|Disclaimer Griffin may not still own every property in this section and I don't care to find out ...|\n",
      "|l7o2rq|   37|  131|Also, if this is considered d0xxing or something because some of these may be personal residences...|\n",
      "|l7o2rq|   38|   51|                                                 This is all publicly available information, though.|\n",
      "|l7o2rq|   39|   46|                                                      132 East Delaware Place in Chicago, Illinois .|\n",
      "|l7o2rq|   40|   73|                           luxury high rise with residential units, office space, and retail stores.|\n",
      "|l7o2rq|   41|   48|                                                    800 North Michigan Avenue in Chicago, Illinois .|\n",
      "|l7o2rq|   42|   15|                                                                                     penthouse unit.|\n",
      "|l7o2rq|   43|   42|                                                          820 Fifth Avenue New York City, New York .|\n",
      "|l7o2rq|   44|   38|                                                              overlooking Central Park in Manhattan.|\n",
      "|l7o2rq|   45|   35|                                                                 Big Ass Mansion in Aspen, Colorado.|\n",
      "|l7o2rq|   46|   61|                                       Two properties at the Hualalai Resort in Kailua Kona, Hawaii.|\n",
      "|l7o2rq|   47|   87|             Multiple mansions at 10, 20, 30, 40, 50, 60, and 70 Blossom Way in Palm Beach, Florida.|\n",
      "|l7o2rq|   48|   28|                                                                        Further links here and here.|\n",
      "|l7o2rq|   49|   66|                                  12,500 square feet of penthouses at Faena House in Miami, Florida.|\n",
      "|l7o2rq|   50|   50|                                                  1290 South Ocean Boulevard in Palm Beach, Florida.|\n",
      "|l7o2rq|   51|   38|                                                              3 Carlton Gardens in London, England .|\n",
      "|l7o2rq|   52|   61|                                       former home of Charles de Gaulle, former President of France.|\n",
      "|l7o2rq|   53|   69|                               Numerous units at 220 Central Park South in New York City, New York .|\n",
      "|l7o2rq|   54|   69|                               a four floor penthouse and two adjacent apartments on the 20th floor.|\n",
      "|l7o2rq|   55|   42|                                                          650 Meadow Lane in Southampton, New York .|\n",
      "|l7o2rq|   56|   28|                                                                        purchased from Calvin Klein.|\n",
      "|l7o2rq|   57|   72|                            Vacant double lot costing $37 million Star Island, Miami Beach, Florida.|\n",
      "|l7o2rq|   58|   30|                                                                      The Ken Griffin Art Portfolio.|\n",
      "|l7o2rq|   59|  177|Many of the pieces listed here are not held personally by Griffin, but are loaned out to institut...|\n",
      "|l7o2rq|   60|  178|For the extreme smoothbrains among you, the reason Griffin blows giant bags on horrible pieces of...|\n",
      "|l7o2rq|   61|  197|Herein lies the part where you may call me a conspiracy theorist if you please, but I think Griff...|\n",
      "|l7o2rq|   62|  128|I sincerely do not believe that any person can reach these strata of society without at least bru...|\n",
      "|l7o2rq|   63|  223|The most expensive pieces in his collection come from the school of art known as abstract express...|\n",
      "|l7o2rq|   64|  221|The idea was that the Soviets would see the wacky vomitus that people like Jackson Pollock would ...|\n",
      "|l7o2rq|   65|   28|                                                                        False Start by Jasper Johns.|\n",
      "|l7o2rq|   66|   57|                                           Housed at the MoMA, purchased by Griffin for $80 million.|\n",
      "|l7o2rq|   67|   44|                                                        Curtain, Jug and Fruit Bowl by Paul C zanne.|\n",
      "|l7o2rq|   68|   57|                                           Housed at the Whitney Museum of American Art in New York.|\n",
      "|l7o2rq|   69|   62|                                      Purchased by the previous buyer at auction for $60.5 million .|\n",
      "|l7o2rq|   70|   38|                                                              Griffin's purchase price is not known.|\n",
      "|l7o2rq|   71|   30|                                                                      Self Portrait by Paul C zanne.|\n",
      "|l7o2rq|   72|   32|                                                                    I think this is the correct one.|\n",
      "|l7o2rq|   73|   58|                                          He did a whole bunch of these over the course of his life.|\n",
      "|l7o2rq|   74|   14|                                                                                      Price unknown.|\n",
      "|l7o2rq|   75|   29|                                                                       Water Lilies by Claude Monet.|\n",
      "|l7o2rq|   76|  129|He did like 250 of these, this is the one that comes up when searching it with the year of the on...|\n",
      "|l7o2rq|   77|   14|                                                                                      Price unknown.|\n",
      "|l7o2rq|   78|   32|                                                                    The Green Dancer by Edgar Degas.|\n",
      "|l7o2rq|   79|   61|                                       On display at the Thyssen Bornemisza Museum in Madrid, Spain.|\n",
      "|l7o2rq|   80|   43|                                                         Little Dancer Aged Fourteen by Edgar Degas.|\n",
      "|l7o2rq|   81|  100|An extraordinarily ugly wax sculpture on display at the National Gallery of Art in Washington, D.C..|\n",
      "|l7o2rq|   82|   33|                                                                   Interchange by Willem de Kooning.|\n",
      "|l7o2rq|   83|  294|Abstract expressionist trash purchased for $300 million from noted Jeffrey Epstein associate and ...|\n",
      "|l7o2rq|   84|   30|                                                                      Number 17A by Jackson Pollock.|\n",
      "|l7o2rq|   85|   82|                  More abstract expression trash, also purchased from David Geffen for $200 million.|\n",
      "|l7o2rq|   86|   34|                                                                  How does Citadel spend its money?.|\n",
      "|l7o2rq|   87|   14|                                                                                      Good question!|\n",
      "|l7o2rq|   88|   21|                                                                               They buy politicians.|\n",
      "|l7o2rq|   89|   28|                                                                        Remember regulatory capture?|\n",
      "|l7o2rq|   90|  380|Here's Citadel doing just that current Secretary of the Treasury, former Chair of the Federal Res...|\n",
      "|l7o2rq|   91|   17|                                                                                   What do we think?|\n",
      "|l7o2rq|   92|   69|                               Is she just such an enrapturing speaker that she's worth every penny?|\n",
      "|l7o2rq|   93|  237|Or is she getting a kickback for helping to deregulate financial markets and a bribe to look the ...|\n",
      "|l7o2rq|   94|   59|                                         They also buy stakes in distressed hedge funds, apparently.|\n",
      "|l7o2rq|   95|  159|Remember the $2.75 billion bailout that Citadel and Point72 gave to Melvin Capital on Monday, whi...|\n",
      "|l7o2rq|   96|  224|Isn't it weird that Robinhood shut down trading on the very stocks that the hedge funds were blee...|\n",
      "|l7o2rq|   97|  229|Doesn't it seem a little strange that the hedge fund branch of Citadel is allowed to own part of ...|\n",
      "|l7o2rq|   98|  220|There's also this, on the topic of Melvin Capital and pedophiles and sex traffickers Melvin Capit...|\n",
      "|l7o2rq|   99|  151|Victoria's Secret, as seasoned Jeffrey Epstein gumshoes will know, was founded by one Leslie Wexn...|\n",
      "|l7o2rq|  100|   87|             Epstein was Wexner's personal money manager and Wexner was Epstein's only known client.|\n",
      "|l7o2rq|  101|  176|Wexner and Epstein were so close that Wexner gave Epstein a mansion on the Upper East Side in Man...|\n",
      "|l7o2rq|  102|  301|Epstein would tell the girls he was sexually assaulting that he was a modeling scout for Victoria...|\n",
      "|l7o2rq|  103|  117|Basically, what I'm saying is that Melvin Capital, and now Citadel by extension, are long sex tra...|\n",
      "|l7o2rq|  104|   40|                                                            How can I poke this asshole in the eye?.|\n",
      "|l7o2rq|  105|   64|                                    It seems like there's two big things you can do to do your part.|\n",
      "|l7o2rq|  106|   17|                                                                                   The first is to .|\n",
      "|l7o2rq|  107|    4|                                                                                                GME.|\n",
      "|l7o2rq|  108|  219|The institutions are clearly scared shitless at how much blowback is coming their way or they wou...|\n",
      "|l7o2rq|  109|   70|                              Turn off share lending in your brokerage if you can and still haven't.|\n",
      "|l7o2rq|  110|  101|The second is to transfer your assets out of Robinhood yesterday and graduate to a big boy broker...|\n",
      "|l7o2rq|  111|  339|Citadel Securities remember, this is the market maker, not the hedge fund banked a record $6.7 bi...|\n",
      "|l7o2rq|  112|   28|                                                                        TLDR Ken Griffin final boss.|\n",
      "|l7o2rq|  113|   12|                                                                                        Citadel bad.|\n",
      "|l7o2rq|  114|   14|                                                                                      Robinhood bad.|\n",
      "|l7o2rq|  115|   10|                                                                                          GME go up.|\n",
      "|l7o2rq|  116|   56|                                            Stop FOMOing into other dumb shit and stick to the plan.|\n",
      "+------+-----+-----+----------------------------------------------------------------------------------------------------+\n",
      "\n",
      "Know Thy Enemy: Kenneth C. Griffin, the Barbarian Behind the Gates of the Citadel. Привет идиоты,\n",
      "\n",
      "I have returned to inflict more psychic damage upon you about the sick fucks that make up the worldwide disease that is Big Capital. Today, I would like to talk to you about [Kenneth Cordele Griffin](https://en.wikipedia.org/wiki/Kenneth_C._Griffin), the founder and CEO of a little company called [Citadel LLC](https://en.wikipedia.org/wiki/Citadel_LLC).\n",
      "\n",
      "Now unless you have been living under a fucking rock for the past week or have drank yourself to the point of amnesia for one reason or another (forgivable), you are probably by now at least vaguely aware of what Citadel does and how it relates to current events surrounding GameStop and WSB's new favorite hedge fund, Melvin Capital. \n",
      "\n",
      "Seeing as how there's a few million more of you here now than there were last month when I was emptying the contents of the bowl of oatmeal that is my brain on these pages about [present day financial crimes perpetrated by Citadel and their ilk](https://old.reddit.com/r/wallstreetbets/comments/kbjpqy/an_alternative_hypothesis_for_psth_stripe_for_the/) and the [ouroboros of Western intelligence agencies and Big Capital](https://old.reddit.com/r/wallstreetbets/comments/kcm0r9/once_more_unto_the_breach_the_unified_field/), let's do a quick recap. I do hope you take the time to read the full posts, because you may learn something interesting. ^^^PSTH ^^^= ^^^Stripe ^^^🚀🚀🚀\n",
      "\n",
      "1.  The markets and the flow of capital around the world are rife with financial crime.\n",
      "\n",
      "1. The vast majority of this crime is perpetrated by large institutions like Goldman Sachs, JPMorgan Chase, and Deutsche Bank. Some of this crime takes the form of laundering money for drug cartels, terrorists, pedophiles, and sex traffickers. Some of it involves manipulation of the markets.\n",
      "\n",
      "1. The regulators in charge of dealing with these fucks are utterly spineless, to the point that any honest person must wonder out loud if they're in on it and getting a take. This phenomenon is known as [regulatory capture](https://en.wikipedia.org/wiki/Regulatory_capture) and is a particularly insidious form of political corruption.\n",
      "\n",
      "1. The CIA, since its inception in 1947, has acted as a sort of parallel government within the broader United States government, and has been the primary ideological engine of its foreign policy through its ties to Big Capital. That foreign policy has always kept the interests of business as its top priority. One might even call this the Deep State. \n",
      "\n",
      "#Who is Ken Griffin?\n",
      "\n",
      "Ken Griffin is the absolute epitome of the archetypal scumfuck egomaniac asshole that embodies everything that is wrong with the ultra-rich class of Big Capital. Ahem, sorry. Let's try that again.\n",
      "\n",
      "Ken Griffin started his career out as a 🌈🐻 at the age of 19 while an undergraduate at Harvard, shorting the convertible bonds market and making a bunch of money off of the [October 19th, 1987 crash, more commonly known as Black Monday.](https://www.chicagomag.com/Chicago-Magazine/June-2011/The-File-on-Citadels-Ken-Griffin/) He graduated in 1989, supposedly returned 70% in his first year as a professional fund manager, and went on to found Citadel in 1990. Citadel has swelled to gargantuan size in the last 30 years. It apparently almost [went under in 2008 during the financial crisis](https://www.wsj.com/articles/citadels-ken-griffin-leaves-2008-tumble-far-behind-1438655887), but they were fine after the empty suit known as Barack Obama reneged on his campaign promises and fully sealed the transfer of the United States to Wall Street and the rest of the 1%. The hedge fund managed $35 billion as of October 2020 (probably less now LOLOLOL) and a [little more than a quarter of all equity volume flows through Citadel Securities in their capacity as a market maker.](https://www.chicagobusiness.com/finance-banking/ken-griffins-citadel-securities-reaps-record-67-billion-volatility)\n",
      "\n",
      "He lives in Chicago, but that's not very important. I will note that Chicago has been a historically CIA rat-infested city, as evidenced by the group of [University of Chicago-trained economists](https://en.wikipedia.org/wiki/Chicago_Boys) that helped carry out the regime change ops and aggressive neoliberalization of South America in the 20th century. He's not a complete political partisan, but he does tend to favor Republicans. He has donated to Democratic Party luminaries like [Rod Blagojevich and Rahm Emanuel](https://www.chicagotribune.com/politics/ct-met-ken-griffin-political-donations-20190213-story.html), libertarian psychopaths like the [Koch Brothers, and neocon war hawk freaks like Karl \"Turd Blossom\" Rove.](https://www.chicagotribune.com/business/ct-biz-0310-ken-griffin-interview-story.html) His most recent political contributions were to Kelly Loeffler and David Perdue, the two imbecilic former Senators from Georgia who were both busted for dumping stocks on insider information shortly before the [Great Beer Virus Crash of 2020.](https://en.wikipedia.org/wiki/2020_stock_market_crash) The thread tying these fine folks together is that what most people in the United States think of as politics is more akin to a game show than a real system of governance, and the ultra-rich value their class allegiance much higher than their allegiance to any one political party. As a slight aside, [Loeffler's husband](https://en.wikipedia.org/wiki/Jeffrey_Sprecher) is the chairman of the New York Stock Exchange. How in the fuck is the spouse of a (formerly) sitting Senator allowed to hold that position? Yuck.\n",
      "\n",
      "\n",
      "#The Ken Griffin Real Estate Portfolio\n",
      "\n",
      "(Disclaimer: Griffin may not still own every property in this section and I don't care to find out which, if any, he has divested himself from, because frankly, the levels of opulence make me feel fucking sick. Also, if this is considered d0xxing or something because some of these may be personal residences, I will remove them upon request. This is all publicly available information, though.)\n",
      "\n",
      "* [132 East Delaware Place](https://imgur.com/yDdrrEL) in Chicago, Illinois -- luxury high rise with residential units, office space, and retail stores\n",
      "* [800 North Michigan Avenue](https://imgur.com/d8dIoNO) in Chicago, Illinois -- penthouse unit\n",
      "* [820 Fifth Avenue](https://imgur.com/WSt7nit), New York City, New York -- overlooking Central Park in Manhattan\n",
      "* [Big Ass Mansion](https://virtualglobetrotting.com/map/ken-griffins-house-2/view/google/) in Aspen, Colorado\n",
      "* [Two properties at the Hualalai Resort](https://www.businessinsider.com/ken-griffin-buys-in-hawaii-2011-3?op=1) in Kailua-Kona, Hawaii\n",
      "* [Multiple mansions at 10, 20, 30, 40, 50, 60, and 70 Blossom Way](https://therealdeal.com/miami/2015/07/01/chicago-hedge-fund-buys-palm-beach-mansion-for-15-2m/) in Palm Beach, Florida. [Further links here](https://therealdeal.com/miami/2018/05/17/billionaire-ken-griffin-adds-to-palm-beach-assemblage-with-20m-estate/) and [here.](https://nypost.com/2019/09/10/billionaire-owner-of-americas-priciest-home-drops-99m-on-another-mansion/)\n",
      "* [12,500 square feet of penthouses at Faena House](https://nypost.com/2020/12/16/ken-griffin-sells-faena-house-penthouses-in-miami-at-a-loss/) in Miami, Florida\n",
      "* [1290 South Ocean Boulevard](https://therealdeal.com/miami/2017/01/14/billionaire-pays-85-million-for-palm-beach-estate/) in Palm Beach, Florida\n",
      "* [3 Carlton Gardens](https://therealdeal.com/chicago/2019/01/21/billionaire-ken-griffin-buys-historic-london-mansion-for-122m/) in London, England -- former home of Charles de Gaulle, former President of France\n",
      "* [Numerous units at 220 Central Park South](https://nypost.com/2019/10/10/ken-griffin-buys-two-more-units-in-220-central-park-south/) in New York City, New York -- a four-floor penthouse and two adjacent apartments on the 20th floor\n",
      "* [650 Meadow Lane](https://behindthehedges.com/oceanfront-bridgehampton-home-with-storied-past-sells-for-50-million-in-off-market-deal/) in Southampton, New York -- purchased from Calvin Klein\n",
      "* [Vacant double lot costing $37 million](https://therealdeal.com/miami/2020/08/25/billionaire-hedge-funder-ken-griffin-pays-37m-for-star-island-property/) Star Island, Miami Beach, Florida\n",
      "\n",
      "#The Ken Griffin Art Portfolio\n",
      "\n",
      "Many of the pieces listed here are not held personally by Griffin, but are loaned out to institutions like the Museum of Modern Art in New York and the Art Institute of Chicago. For the extreme smoothbrains among you, the reason Griffin blows giant bags on horrible pieces of art and puts them on public display is so that he can use them as tax writeoffs.\n",
      "\n",
      "Herein lies the part where you may call me a conspiracy theorist if you please, but I think Griffin's art portfolio is indicative of some type of covert relationship with the intelligence agencies. I sincerely do not believe that any person can reach these strata of society without at least brushing elbows with some glowies. The most expensive pieces in his collection come from the school of art known as [abstract expressionism](https://en.wikipedia.org/wiki/Abstract_expressionism), which was [quite literally a CIA-sponsored project](https://www.independent.co.uk/news/world/modern-art-was-cia-weapon-1578808.html) meant to counter the influence of [Soviet realism](https://en.wikipedia.org/wiki/Socialist_realism) during the Cold War. The idea was that the Soviets would see the wacky vomitus that people like Jackson Pollock would spew all over a canvas as an expression of the ideals of freedom and individuality and break free of the bonds of Communism.\n",
      "\n",
      "* [False Start](https://www.moma.org/collection/works/67552) by Jasper Johns. Housed at the MoMA, purchased by Griffin for $80 million.\n",
      "* [Curtain, Jug and Fruit Bowl](https://www.theartist.me/artwork/curtain-jug-and-fruit-bowl/) by Paul Cézanne. Housed at the Whitney Museum of American Art in New York. Purchased by the previous buyer at auction for $60.5 million -- Griffin's purchase price is not known.\n",
      "* [Self Portrait](https://www.wikiart.org/en/paul-cezanne/self-portrait-1) by Paul Cézanne. I think this is the correct one. He did a whole bunch of these over the course of his life. Price unknown.\n",
      "* [Water Lilies](https://www.wikiart.org/en/claude-monet/water-lilies-8) by Claude Monet. He did like 250 of these, this is the one that comes up when searching it with the year of the one Griffin is known to own, 1905. Price unknown.\n",
      "* [The Green Dancer](https://www.wikiart.org/en/edgar-degas/the-green-dancer-1879) by Edgar Degas. On display at the Thyssen-Bornemisza Museum in Madrid, Spain\n",
      "* [Little Dancer Aged Fourteen](https://www.nga.gov/collection/highlights/degas-little-dancer-aged-fourteen.html) by Edgar Degas. An extraordinarily ugly wax sculpture on display at the National Gallery of Art in Washington, D.C.\n",
      "* [Interchange](https://en.wikipedia.org/wiki/Interchange_\\(de_Kooning\\)) by Willem de Kooning. Abstract expressionist trash purchased for $300 million from noted [Jeffrey Epstein associate and suspected pedophile David Geffen](https://www.hollywoodreporter.com/news/strange-saga-jeffrey-epstein-s-link-brock-pierce-1240462). Recall that Epstein is highly suspected of being some type of intelligence asset tasked with blackmailing rich scumbags by anyone who has studied his story closely.\n",
      "* [Number 17A](https://en.wikipedia.org/wiki/Number_17A) by Jackson Pollock. More abstract expression trash, also purchased from David Geffen for $200 million.\n",
      "\n",
      "#How does Citadel spend its money?\n",
      "\n",
      "Good question! They buy politicians. Remember regulatory capture? Here's Citadel doing just that: current Secretary of the Treasury, former Chair of the Federal Reserve, and sentient potato woman Janet Yellen took more than [$800,000 in speaking fees from Citadel](https://www.realclearpolitics.com/video/2021/01/28/wh_wont_say_if_janet_yellen_should_recuse_herself_after_taking_800k_in_speaking_fees_from_key_figure_in_gamestoprobinhood_scandal_hft_firm_citadel.html#!). In fact, [Yellen \"earned\" over $7 million in speaking fees](https://www.nytimes.com/2021/01/18/us/politics/janet-yellen-treasury.html) from various other financial institutions including Goldman Sachs and Citigroup between her stints at the Fed and at Treasury. What do we think? Is she just such an enrapturing speaker that she's worth every penny? Or is she getting a kickback for helping to deregulate financial markets and a bribe to look the other way when short sellers and market makers collude to shut retail traders out of the market en masse, like they did yesterday with GME?\n",
      "\n",
      "They also buy stakes in distressed hedge funds, apparently. Remember the [$2.75 billion bailout](https://nypost.com/2021/01/25/this-short-seller-just-got-a-2-75-billion-bailout/) that Citadel and Point72 gave to Melvin Capital on Monday, which they promptly pissed away doubling down on their GME short? Isn't it weird that Robinhood shut down trading on the very stocks that the hedge funds were bleeding out from and then forced people to liquidate their long positions at the very bottom of a coordinated short seller attack? Doesn't it seem a little strange that the hedge fund branch of Citadel is allowed to own part of another hedge fund that's being bled dry, as [Citadel Securities buys order flow from Robinhood](https://www.institutionalinvestor.com/article/b1m2p1cv68bx56/Twitter-Freaked-Out-Over-Robinhood-Selling-Its-Trade-Flow-But-the-App-and-Others-Have-Been-Doing-It-for-Years) to [illegally front-run retail orders?](https://imgur.com/0yT6vpJ)\n",
      "\n",
      "There's also this, on the topic of Melvin Capital and pedophiles and sex traffickers: Melvin Capital's 5th largest long holding is a company called L Brands, which is the parent of Victoria's Secret and Bath & Body Works. Victoria's Secret, as seasoned Jeffrey Epstein gumshoes will know, was founded by one [Leslie Wexner](https://en.wikipedia.org/wiki/Les_Wexner), who had a very troubling relationship with Epstein. Epstein was Wexner's personal money manager and Wexner was Epstein's only known client. Wexner and Epstein were so close that [Wexner gave Epstein a mansion on the Upper East Side in Manhattan](https://www.theatlantic.com/ideas/archive/2019/08/victorias-secret-epstein/595507/) in 2011, years after it was already known that he was a pedophile creep. Epstein would tell the girls he was sexually assaulting that he was a [modeling scout for Victoria's Secret](https://www.theatlantic.com/ideas/archive/2019/08/victorias-secret-epstein/595507/). [Jean-Luc Brunel](https://en.wikipedia.org/wiki/Jean-Luc_Brunel), another Epstein-associated \"modeling scout\" and sex criminal who was [recently arrested in France](https://www.nbcnews.com/news/world/modeling-agent-jean-luc-brunel-charged-rape-minor-jeffrey-epstein-n1251804), would supply models to Victoria's Secret through his agency MC2 Model Management. Basically, what I'm saying is that Melvin Capital, and now Citadel by extension, are long sex trafficking pedophiles.\n",
      "\n",
      "#How can I poke this asshole in the eye?\n",
      "\n",
      "It seems like there's two big things you can do to [do your part.](https://imgur.com/tL98PiA) \n",
      "\n",
      "The first is to 💎👐 GME. The institutions are clearly scared shitless at how much blowback is coming their way or they wouldn't be taking such drastic measures to try to tip the scales in the favor of the shorts at the expense of everyone else. Turn off share lending in your brokerage if you can and still haven't.\n",
      "\n",
      "The second is to transfer your assets out of Robinhood yesterday and graduate to a big boy brokerage. Citadel Securities (remember, this is the market maker, not the hedge fund) [banked a record $6.7 billion in profit last year](https://www.chicagobusiness.com/finance-banking/ken-griffins-citadel-securities-reaps-record-67-billion-volatility). You can bet that this has at least a little to do with the influx of Robinhooders pressing the market order button on their phones and letting Citadel front run their orders while Robinhood gives them a garbage fill.\n",
      "\n",
      "##TLDR: Ken Griffin final boss. Citadel bad. Robinhood bad. GME go up. Stop FOMOing into other dumb shit and stick to the plan.\n",
      "\n",
      "\n",
      "\n",
      "\n",
      "+------+-----+-----+----------------------------------------------------------------------------------------------------+\n",
      "|    id|num_s|len_s|                                                                                            sentence|\n",
      "+------+-----+-----+----------------------------------------------------------------------------------------------------+\n",
      "|lamwg6|    0|    6|                                                                                              BCRX .|\n",
      "|lamwg6|    1|   49|                                                   A Group of Longs From StockTwits Make Their Case.|\n",
      "|lamwg6|    2|   60|                                        yes yes, BCRX is a really weird way to spell GME AMC BB etc.|\n",
      "|lamwg6|    3|   19|                                                                                 Moving right along.|\n",
      "|lamwg6|    4|   12|                                                                                        The Shorts .|\n",
      "|lamwg6|    5|   14|                                                                                      The Side Show.|\n",
      "|lamwg6|    6|   78|                      Let's be honest, the real reason anyone is in WSB right now is to fist shorts.|\n",
      "|lamwg6|    7|   74|                          BCRX, however, is also a company that needs to gap up to reach fair value.|\n",
      "|lamwg6|    8|   35|                                                                 Fist the shorts and hold the gains.|\n",
      "|lamwg6|    9|  234|Biocryst has a high and steadily growing institutional ownership currently reported at 71% Biocry...|\n",
      "|lamwg6|   10|   32|                                                                    This leaves 56m tradable shares.|\n",
      "|lamwg6|   11|   56|                                            The shorts have 30m shares or 70% of the tradable float.|\n",
      "|lamwg6|   12|   74|                          This is not as big as the $GME naked short taken on by u DeepFuckingValue.|\n",
      "|lamwg6|   13|   82|                  But, we think this is a stock that if it gaps up can hold the gain based on value.|\n",
      "|lamwg6|   14|   85|               Institutions run an algorithm almost every day and short the stock check the charts .|\n",
      "|lamwg6|   15|   59|                                         We can make these fuckers squirm with the slightest effort.|\n",
      "|lamwg6|   16|    8|                                                                                            Rating .|\n",
      "|lamwg6|   17|    5|                                                                                               10. .|\n",
      "|lamwg6|   18|   10|                                                                                          Orladeyo .|\n",
      "|lamwg6|   19|   12|                                                                                        The Prelude.|\n",
      "|lamwg6|   20|  123|Orladeyo has recently been approved in the US and Japan to treat Hereditary Angioedema European a...|\n",
      "|lamwg6|   21|  125|HAE is a rare disease that affects roughly 1 50,000 people, or about 25,000 people in the three r...|\n",
      "|lamwg6|   22|   74|                          Orladeyo treats a rare disease and that means the medication is expensive.|\n",
      "|lamwg6|   23|   88|            It costs $485,000 year in the US and will roughly cost half of that in Japan and the EU.|\n",
      "|lamwg6|   24|  191|The company has projected they will capture 40% of the market page 15 Capturing 40% of the market...|\n",
      "|lamwg6|   25|  106|Work your own numbers and you'll find SP should be more than $9 and the current market cap of 1.6...|\n",
      "|lamwg6|   26|  160|FDA approval of Orladeyo enabled BioCryst to cross a bridge from a small unprofitable research co...|\n",
      "|lamwg6|   27|    8|                                                                                            Rating .|\n",
      "|lamwg6|   28|    5|                                                                                               10. .|\n",
      "|lamwg6|   29|   10|                                                                                          Factor D .|\n",
      "|lamwg6|   30|   15|                                                                                     The Main Event.|\n",
      "|lamwg6|   31|   28|                                                                        Factor D is the blockbuster.|\n",
      "|lamwg6|   32|   10|                                                                                          Full stop.|\n",
      "|lamwg6|   33|  102|The company is already pursuing PNH but has indicated their intended subsequent targets for this ...|\n",
      "|lamwg6|   34|  135|They're small targets like \"Lupus\" and \"IGA Nephropathy\" along with 6 others page 24 and it's alr...|\n",
      "|lamwg6|   35|   36|                                                                So what's this look like money wise?|\n",
      "|lamwg6|   36|  112|Alexion's drugs SOLIRIS and ULTOMIRIS are the current treatment for PNH those make up 4.3B of the...|\n",
      "|lamwg6|   37|   52|                                                AstraZeneca just bought them out for a whopping 39B.|\n",
      "|lamwg6|   38|   80|                    If Factor D receives same valuation, that alone puts SP at $222 given our float.|\n",
      "|lamwg6|   39|   54|                                              The sky is truly the limit over the next 24 48 months.|\n",
      "|lamwg6|   40|  101|The point is, the company is ready to gap up on merit, but is being held back by high short activ...|\n",
      "|lamwg6|   41|    8|                                                                                            Rating .|\n",
      "|lamwg6|   42|    5|                                                                                               10. .|\n",
      "|lamwg6|   43|   13|                                                                                       Galidesivir .|\n",
      "|lamwg6|   44|   14|                                                                                      The Wild Card.|\n",
      "|lamwg6|   45|  142|If you aren't already excited, maybe you'll be excited by a drug that provides 90% protection aga...|\n",
      "|lamwg6|   46|   20|                                                                                Huge Ebola outbreak?|\n",
      "|lamwg6|   47|   33|                                                                   BioTerror attack in a major city?|\n",
      "|lamwg6|   48|  109|Think humanity might end in a pandemic more lethal than covid with people hemorrhaging blood from...|\n",
      "|lamwg6|   49|   11|                                                                                         No problem.|\n",
      "|lamwg6|   50|   68|                                Just distribute the galidesivir and most everyone will be protected.|\n",
      "|lamwg6|   51|  111|Animal studies suggest high protection against Zika Yellow Fever, Marburg, Tick Borne Encephaliti...|\n",
      "|lamwg6|   52|   37|                                                               Why didn't we already have this drug?|\n",
      "|lamwg6|   53|   74|                          That's anyone's guess, but politics seems to have something to do with it.|\n",
      "|lamwg6|   54|  119|No one can yet determine the value or ultimate use of galidesivir as it is tied up in government ...|\n",
      "|lamwg6|   55|  143|The company has already stated that it is developing galidesivir for government contracts and sha...|\n",
      "|lamwg6|   56|   48|                                                    So, we'll just call this the sleeping wild card.|\n",
      "|lamwg6|   57|    8|                                                                                            Rating .|\n",
      "|lamwg6|   58|    4|                                                                                                FOP.|\n",
      "|lamwg6|   59|   19|                                                                                 The Feel Good Drug.|\n",
      "|lamwg6|   60|   26|                                                                          This is not a money maker.|\n",
      "|lamwg6|   61|  232|But, in case you haven't found a soft spot for this company, they appear close to a first time cu...|\n",
      "|lamwg6|   62|   61|                                       Children affected by FOP often end up wheelchair bound by age|\n",
      "|lamwg6|   63|   91|         11. Can't tell you this drug will be a money maker as the affected population is too small.|\n",
      "|lamwg6|   64|   50|                                                  But, gosh, don't you want the company to succeed?.|\n",
      "|lamwg6|   65|    8|                                                                                            Rating .|\n",
      "|lamwg6|   66|   17|                                                                                   The Competition .|\n",
      "|lamwg6|   67|   17|                                                                                   The Class Clowns.|\n",
      "|lamwg6|   68|   35|                                                                 Disease Hereditary Angioedema HAE .|\n",
      "|lamwg6|   69|  147|For the prophylactic preventative market, the competitors are Cinryze, Takhzyro from Takeda which...|\n",
      "|lamwg6|   70|   58|                                          Haegarda CSL Behring has a subcutaneous injection as well.|\n",
      "|lamwg6|   71|  101|Orladeyo recently received FDA approval to be the first and only oral prophylactic treatment for ...|\n",
      "|lamwg6|   72|  101|The patents of the competitors expire in 2032 and no generics are expected on the market before 2...|\n",
      "|lamwg6|   73|  260|Orladeyo was granted extended patent protection until 2037 Royalty Pharma did a deep dive on BioC...|\n",
      "|lamwg6|   74|   49|                                                   Disease Paroxysmal Nocturnal Hemoglobinuria PNH .|\n",
      "|lamwg6|   75|  123|Alexion holds the sole drug Soliris and its spin off Ultomiris both IVF C5 inhibitors to treat th...|\n",
      "|lamwg6|   76|   54|                                              Alexion has market exclusivity until 2025 for Soliris.|\n",
      "|lamwg6|   77|  131|This activist letter this article highlight that analysts believe the 39B purchase of Alexion was...|\n",
      "|lamwg6|   78|  132|If Factor D received at least the same discounted valuation as ALXN, that would mean its market c...|\n",
      "|lamwg6|   79|    9|                                                                                           Excited?.|\n",
      "|lamwg6|   80|   73|                           Factor D is expected not just to be equivalent to Soliris, but exceed it.|\n",
      "|lamwg6|   81|  169|BioCryst Medical Director Bill Sheridan believes Factor D will make competitors \"obsolete\" as it ...|\n",
      "|lamwg6|   82|   78|                      Unlike competitors, Factor D will also be both an oral pill and a monotherapy.|\n",
      "|lamwg6|   83|   45|                                                       In other words, there's not much competition.|\n",
      "|lamwg6|   84|   86|              Also, PNH is only the first of 8 serious illnesses expected to be treated by Factor D.|\n",
      "|lamwg6|   85|   13|                                                                                       The Insiders.|\n",
      "|lamwg6|   86|   20|                                                                                Still not convinced?|\n",
      "|lamwg6|   87|   49|                                                   CFO Anthony Doyle joined BioCryst April 02, 2020.|\n",
      "|lamwg6|   88|  107|Four months after joining the company he used $220,320 of his own money to purchase shares in Bio...|\n",
      "|lamwg6|   89|   81|                   As he is mortal like the rest of us, we assume CFO Anthony Doyle also pays taxes.|\n",
      "|lamwg6|   90|  131|Therefore, it appears as if he put the entirety of his after tax salary, for a whole year, into a...|\n",
      "|lamwg6|   91|  144|Famed biotech investor Alex Denner has also been accumulating a passive position, ATM, right next...|\n",
      "|lamwg6|   92|    8|                                                                                            Rating .|\n",
      "|lamwg6|   93|    5|                                                                                               10. .|\n",
      "|lamwg6|   94|   22|                                                                              Too Many Good Things?.|\n",
      "|lamwg6|   95|   69|                               BCRX researched small molecules and crystalline structures for years.|\n",
      "|lamwg6|   96|  140|If that's opaque, the easier way to think of it is they first developed an engine and are now in ...|\n",
      "|lamwg6|   97|   30|                                                                      No More Shareholder Dilutions.|\n",
      "|lamwg6|   98|  207|If your interest is perking, you'll be happy to hear CEO John Stonehouse promised listen to quest...|\n",
      "|lamwg6|   99|   45|                                                       The company does not plan to revise guidance.|\n",
      "|lamwg6|  100|   57|                                           This post was prepared by a group of longs on stocktwits.|\n",
      "|lamwg6|  101|   14|                                                                                      Come, join us.|\n",
      "|lamwg6|  102|   50|                                                  Not investment advice, just some DD by some longs.|\n",
      "|lamwg6|  103|   19|                                                                                 Positions GME, BCRX|\n",
      "+------+-----+-----+----------------------------------------------------------------------------------------------------+\n",
      "\n",
      "BCRX -- A Group of Longs From StockTwits Make Their Case.  yes yes, BCRX is a really weird way to spell GME/AMC/BB etc.  Moving right along....\n",
      "\n",
      "**The Shorts - The Side Show**\n",
      "\n",
      "Let’s be honest, the real reason anyone is in WSB right now is to fist shorts. BCRX, however, is also a company that needs to gap up to reach fair value.  Fist the shorts and hold the gains.\n",
      "\n",
      "Biocryst has a high and steadily growing institutional ownership [currently reported at 71%](https://www.nasdaq.com/market-activity/stocks/bcrx/institutional-holdings). Biocryst has a float of 175m (124m of which are held by institutions), who are buying every share they can and not likely to sell any time soon.  This leaves 56m tradable shares. [The shorts have 30m shares or 70% of the tradable float.](http://nasdaqtrader.com/Trader.aspx?id=ShortInterest) This is not as big as the $GME naked short taken on by u/DeepFuckingValue. But, we think this is a stock that if it gaps up can hold the gain based on value. Institutions run an algorithm almost every day and short the stock (check the charts). We can make these fuckers squirm with the slightest effort.\n",
      "\n",
      "Rating: 🚀🚀🚀🚀/10\n",
      "\n",
      "**Orladeyo - The Prelude**\n",
      "\n",
      "Orladeyo has recently been approved in the [US](https://biopharmajournal.com/2020/12/07/biocryst-pharmaceuticals-inc-nasdaqbcrx-receives-fda-approval-for-orladeyo-in-preventing-hae-attacks/) and [Japan](https://www.nasdaq.com/articles/biocryst-bcrx-wins-japanese-approval-for-hae-drug-orladeyo-2021-01-25) to treat Hereditary Angioedema(European approval expected shortly). HAE is a rare disease that affects roughly 1/50,000 people, or about \\~25,000 people in the three regions mentioned previously.\n",
      "\n",
      "Orladeyo treats a rare disease and that means the medication is expensive. It costs [$485,000/year in the US](https://endpts.com/biocryst-wins-approval-for-hae-pill-and-charges-half-a-million-dollars-but-will-anyone-take-it/#:~:text=Six%20years%20after%20the%20FDA,BioCryst%20has%20notched%20another%20approval.&text=Despite%20inferior%20efficacy%2C%20BioCryst%20will,had%20projected%20a%20%24300%2C000%20tag.) and will roughly cost half of that in Japan and the EU. The company has projected they will capture 40% of the market [(page 15)](https://ir.biocryst.com/static-files/bcd71bf3-ef71-4803-81c4-edd4e33ebb38).  Capturing 40% of the market is a share price of [$70 when trading at a reasonable (if not conservative) 7x revenue multiple.](https://docs.google.com/spreadsheets/d/1tLvclUzTqCitwKfawL7kGCLquJxA2T7IJKLg52VWotE/edit?usp=sharing) Work your own numbers and you’ll find SP should be more than $9 and the current market cap of 1.6 billion. FDA approval of Orladeyo enabled BioCryst to cross a bridge from a small unprofitable research company to expanding [commercial biotech](https://seekingalpha.com/article/4393550-biocryst-time-to-switch-hats-mid-cap-fits-now-maybe-large-cap) now engaged in execution. \n",
      "\n",
      "Rating: 🚀🚀🚀🚀/10\n",
      "\n",
      "**Factor D -  The Main Event**\n",
      "\n",
      "Factor D is the blockbuster.  Full stop.  The company is already pursuing PNH but has indicated their intended subsequent targets for this drug. They’re small targets like “Lupus” and “IGA Nephropathy” along with[ 6 others (page 24)](https://ir.biocryst.com/static-files/41ee0771-0acc-479e-a39e-2842101c6aa9) and it’s already being hailed as [“best in class”](https://thefly.com/landingPageNews.php?id=3087617&headline=BCRX-BioCryst-has-potential-bestinclass-PNH-treatment-says-JMP-Securities)\n",
      "\n",
      "So what’s this look like money wise?  Alexion’s drugs SOLIRIS® and ULTOMIRIS® are the current treatment for PNH those [make up 4.3B of their 5B revenues.](https://ir.alexion.com/node/22191/pdf)  AstraZeneca just bought them out for a whopping 39B.  If Factor D receives same valuation, that alone puts SP at $222 given our float.  [The sky is truly the limit](https://docs.google.com/spreadsheets/d/1tLvclUzTqCitwKfawL7kGCLquJxA2T7IJKLg52VWotE/edit?usp=sharing) over the next 24-48 months.  The point is, the company is ready to gap up on merit, but is being held back by high short activity.\n",
      "\n",
      "Rating: 🚀🚀🚀🚀🚀🚀🚀🚀🚀🚀/10\n",
      "\n",
      "**Galidesivir - The Wild Card**\n",
      "\n",
      "If you aren’t already excited, maybe you’ll be excited by a drug [that provides 90% protection against Ebola](https://www.researchgate.net/publication/320203179_Efficacy_of_Galidesivir_against_Ebola_Virus_Disease_in_Rhesus_Monkeys) when dosed 72 hours post exposure. Huge Ebola outbreak? BioTerror attack in a major city?  Think humanity might end in a pandemic more lethal than covid with people hemorrhaging blood from their eyes? No problem. Just distribute the [galidesivir](https://www.sciencedirect.com/topics/medicine-and-dentistry/galidesivir) and most everyone will be protected. (Animal studies suggest high protection against [Zika](https://academic.oup.com/ofid/article/4/suppl_1/S55/4294108), Yellow Fever, Marburg, [Tick Borne Encephalitis](https://pubmed.ncbi.nlm.nih.gov/31142664/) and others). \n",
      "\n",
      "Why didn’t we already have this drug?  That’s anyone’s guess, but politics seems to have something to do with it.  No one can yet determine the value or ultimate use of galidesivir as it is tied up in government development contracts. The company has already [stated](https://ir.biocryst.com/events/event-details/biocryst-third-quarter-2020-conference-call) that it is developing galidesivir for government contracts and shareholders seem to have little to do with this. So, we’ll just call this the sleeping wild card. \n",
      "\n",
      "Rating: 🕵🏽‍♂️ 🛸\n",
      "\n",
      "**FOP- The Feel Good Drug**\n",
      "\n",
      "This is not a money maker. But, in case you haven’t found a soft spot for this company, they appear close to a first time cure for an extremely rare disease called [FOP](https://www.biocryst.com/our-pipeline/fop-program/). It slowly (and painfully) cripples children when their joints fuse together with excess bone. Children affected by FOP often end up wheelchair bound by age 11. Can’t tell you this drug will be a money maker as the affected population is too small. But, gosh, don’t you want the company to succeed?\n",
      "\n",
      "Rating: ❤️\n",
      "\n",
      "**The Competition - The Class Clowns**\n",
      "\n",
      "Disease:  Hereditary Angioedema (HAE)\n",
      "\n",
      "For the prophylactic (preventative) market, the competitors are Cinryze, Takhzyro (from Takeda) which are IVF and subcutaneous injections respectively. Haegarda (CSL Behring) has a subcutaneous injection as well. Orladeyo recently received [FDA approval](https://biopharmajournal.com/2020/12/07/biocryst-pharmaceuticals-inc-nasdaqbcrx-receives-fda-approval-for-orladeyo-in-preventing-hae-attacks/) to be the first and only oral prophylactic treatment for HAE.\n",
      "\n",
      "The patents of the competitors expire in 2032 and no generics are expected on the market before 2032. Orladeyo was granted extended patent protection until [2037](https://ir.biocryst.com/news-releases/news-release-details/new-composition-matter-patent-allowance-extends-protection). [Royalty Pharma](https://www.royaltypharma.com/news-releases/news-release-details/royalty-pharma-acquires-royalty-interest-orladeyo-and-bcx9930) did a deep dive on BioCryst’s expected Orladeyo revenues when it agreed to royalty financing that enabled BCRX to fast track Factor D development and expand it to 8 clinical indications.  \n",
      "\n",
      "Disease: Paroxysmal Nocturnal Hemoglobinuria (PNH) \n",
      "\n",
      "Alexion holds the sole drug Soliris and its spin off Ultomiris (both IVF C5 inhibitors) to treat the rare blood disorder PNH. Alexion has market exclusivity until 2025 for Soliris. [This activist letter ](http://www.elliottletters.com/alexion.pdf)and [this article](https://www.fiercepharma.com/pharma/alexion-moves-from-cfo-clancy-and-his-legendary-caution-does-mean-more-m-a-coming) highlight that analysts believe the 39B purchase of Alexion was a fire sale due to mismanagement. If Factor D received at least the same discounted valuation as ALXN, that would mean its market cap would increase from 1.6B to 39B. Excited?\n",
      "\n",
      "Factor D is expected not just to be equivalent to Soliris, but exceed it. BioCryst Medical Director Bill Sheridan believes Factor D will make competitors [“obsolete”](https://ir.biocryst.com/events/event-details/39th-annual-jp-morgan-healthcare-conference) as it cures patients earlier in the disease process than C5 and C3 inhibitors. Unlike competitors, Factor D will also be both an oral pill \\*and\\* a monotherapy. In other words, there’s not much competition. Also, PNH is only the first of 8 serious illnesses expected to be treated by Factor D.\n",
      "\n",
      "**The Insiders**\n",
      "\n",
      "Still not convinced? CFO Anthony Doyle joined BioCryst April 02, 2020. Four months after joining the company he used $220,320 of his own money to [purchase shares in BioCryst ATM.](https://www.secform4.com/insider-trading/1808688.htm) As he is mortal like the rest of us, we assume CFO Anthony Doyle also pays taxes. Therefore, it appears as if he put the entirety of his after tax salary, for a whole year, into aligning himself with shareholders. Famed biotech investor Alex Denner has also been accumulating a passive position, ATM, right next to retail, [as recently as a couple weeks ago](https://fintel.io/doc/sec-bcrx-biocryst-pharmaceuticals-sarissa-capital-management-lp-sc-13g-2021-january-25-18652).\n",
      "\n",
      "Rating: 🚀🚀🚀🚀🚀🚀🚀🚀🚀/10\n",
      "\n",
      "**Too Many Good Things?**\n",
      "\n",
      "BCRX researched small molecules and crystalline structures for years. If that’s opaque, the easier way to think of it is they first [developed](https://magazine.einsteinmed.org/enzymologist-extraordinaire/) an [engine](https://m.box.com/shared_item/https%3a%2f%2fmontefiore.ent.box.com%2fs%2fbdbl0u3qnbnp6id3nmo0n5ke8siudtp2) and are now in execution and placing the engine into cars. \n",
      "\n",
      "**No More Shareholder Dilutions**\n",
      "\n",
      "If your interest is perking, you’ll be happy to hear CEO John Stonehouse [promised(listen to question and answer section)](https://ir.biocryst.com/events/event-details/39th-annual-jp-morgan-healthcare-conference) there will be no shareholder dilutions, as all company operations are funded into 2023. The company does not plan to revise guidance.\n",
      "\n",
      "This post was prepared by a group of longs on stocktwits.  Come, join us.\n",
      "\n",
      "Not investment advice, just some DD by some longs.\n",
      "\n",
      "Positions: GME, BCRX\n",
      "\n",
      "\n",
      "\n",
      "\n",
      "+------+-----+-----+----------------------------------------------------------------------------------------------------+\n",
      "|    id|num_s|len_s|                                                                                            sentence|\n",
      "+------+-----+-----+----------------------------------------------------------------------------------------------------+\n",
      "|lbieij|    0|   31|                                                                     $CRSR Corsair DD Earnings play.|\n",
      "|lbieij|    1|   22|                                                                              Corsair Gaming $CRSR .|\n",
      "|lbieij|    2|   42|                                                          Redefining gaming, eSports, and streaming.|\n",
      "|lbieij|    3|   17|                                                                                   Company Overview.|\n",
      "|lbieij|    4|  120|Corsair Gaming is an American computer hardware and peripherals company founded in 1994 and headq...|\n",
      "|lbieij|    5|  338|They acquired Elgato Gaming in 2018 to expand to the streaming gear market, Origin PC and SCUF ga...|\n",
      "|lbieij|    6|  106|Corsair went public on September 23, 2020, with its IPO priced at $17, valuing the company at abo...|\n",
      "|lbieij|    7|   27|                                                                         Understanding the Business.|\n",
      "|lbieij|    8|   18|                                                                                  Value Proposition.|\n",
      "|lbieij|    9|   77|                       Corsair provides specialized, high performance gear for gamers and streamers.|\n",
      "|lbieij|   10|  196|Their products are designed to provide speed and reliability for competitive gaming, high quality...|\n",
      "|lbieij|   11|   16|                                                                                    Revenue Streams.|\n",
      "|lbieij|   12|  129|Currently, Corsair groups its product offering into two segments gamer and creator peripherals an...|\n",
      "|lbieij|   13|   31|                                                                     Gamer and Creator Peripherals .|\n",
      "|lbieij|   14|  148|which represents around 25% of net revenue, includes gaming mice, keyboards, and headsets, stream...|\n",
      "|lbieij|   15|   27|                                                                         Gaming Components Systems .|\n",
      "|lbieij|   16|  179|which represents around 75% of net revenue includes computer cases, power supply units PSU , high...|\n",
      "|lbieij|   17|   31|                                                                     Acquisitions and Partnerships .|\n",
      "|lbieij|   18|  209|During 3Q 2020 Corsair acquired Gamer Sensei, a gaming coaching platform, EpocCam, an app that al...|\n",
      "|lbieij|   19|    9|                                                                                           Industry.|\n",
      "|lbieij|   20|   12|                                                                                        Market Size.|\n",
      "|lbieij|   21|  124|According to Jon Peddie Research, the global gaming and streaming gear markets is expected to rea...|\n",
      "|lbieij|   22|   87|             Before the pandemic JPR estimated the market to grow at a modest 1.05% CAGR until 2022.|\n",
      "|lbieij|   23|   74|                          However, during 2020 the market has grown an estimated 10% year over year.|\n",
      "|lbieij|   24|  100|Additionally, DFC Intelligence research estimated that the video game coaching market surpasses $1B.|\n",
      "|lbieij|   25|   22|                                                                              Industry Fundamentals.|\n",
      "|lbieij|   26|   96|    Growth in the gaming and streaming gear industries are driven by strong and robust fundamentals.|\n",
      "|lbieij|   27|   36|                                                                Popularity of gaming is increasing .|\n",
      "|lbieij|   28|  182|According to Newzoo, there are an estimated 2.7B gamers worldwide, which are expected to spend $1...|\n",
      "|lbieij|   29|   80|                    PC and console gaming represents 51% of the total market, and mobile gaming 49%.|\n",
      "|lbieij|   30|   96|    Corsair has stated that currently there is no interest in expanding to the mobile gaming market.|\n",
      "|lbieij|   31|   42|                                                          Tech driven improvements in game quality .|\n",
      "|lbieij|   32|  103|Advances in computer power have enabled gaming platforms to provide increasingly immersive experi...|\n",
      "|lbieij|   33|   77|                       This in turn, places increased demand on high performance computing hardware.|\n",
      "|lbieij|   34|   44|                                                        Increasing gaming and streaming engagement .|\n",
      "|lbieij|   35|  112|Some interesting facts reported in the Limelight Networks' State of Online Gaming 2019 research r...|\n",
      "|lbieij|   36|   86|              On average, video gamers spend six hours and 20 minutes each week playing video games.|\n",
      "|lbieij|   37|   90|          More than 38% of gamers would like to become professionals if it could support themselves.|\n",
      "|lbieij|   38|  127|Gamers from novice to aspiring professionals report missing daily activities due to gaming, misse...|\n",
      "|lbieij|   39|  109|Watching gamers play video games online is more popular than watching traditional sports for 18 2...|\n",
      "|lbieij|   40|   35|                                                                 The eSports and streaming flywheel.|\n",
      "|lbieij|   41|  161|The rise in popularity and viewership of eSports brings more investment from publishers, sponsors...|\n",
      "|lbieij|   42|  184|Increased investment brings more players and increased performance focus of gamers who advance fr...|\n",
      "|lbieij|   43|   30|                                                                      Competitive Landscape & Risks.|\n",
      "|lbieij|   44|   12|                                                                                        Competition.|\n",
      "|lbieij|   45|  114|The gaming and streaming market is characterized by intense competition, constant price pressure ...|\n",
      "|lbieij|   46|   56|                                            Competition across Corsair's product offering includes .|\n",
      "|lbieij|   47|   27|                                                                         Gaming keyboards and mice .|\n",
      "|lbieij|   48|   19|                                                                                 Logitech and Razer.|\n",
      "|lbieij|   49|   64|                                    Headsets and related audio products Logitech, Razer, and HyperX.|\n",
      "|lbieij|   50|   16|                                                                                    Streaming gear .|\n",
      "|lbieij|   51|   23|                                                                             Logitech and AVerMedia.|\n",
      "|lbieij|   52|   25|                                                                           Performance controllers .|\n",
      "|lbieij|   53|   23|                                                                             Microsoft and Logitech.|\n",
      "|lbieij|   54|   45|                                                       PSUs, cooling solutions, and computer cases .|\n",
      "|lbieij|   55|   53|                                               Cooler Master, NZXT, EVGA, Seasonic, and Thermaltake.|\n",
      "|lbieij|   56|   25|                                                                           High performance memory .|\n",
      "|lbieij|   57|   28|                                                                        G.Skill, HyperX, and Micron.|\n",
      "|lbieij|   58|   39|                                                             Pre built and custom built gaming PCs .|\n",
      "|lbieij|   59|   65|                                   Alienware Dell , Omen HP , Asus, Razer, iBuypower and Cyberpower.|\n",
      "|lbieij|   60|   21|                                                                               Competitive Strategy.|\n",
      "|lbieij|   61|  255|The company follows a differentiation leadership strategy by prioritizing high performance and pr...|\n",
      "|lbieij|   62|   13|                                                                                       Market Share.|\n",
      "|lbieij|   63|  170|According to NPD Group, by 2020 Corsair had 1 market share position in the US in its gaming compo...|\n",
      "|lbieij|   64|  177|Their gamer and creator peripheral products are not yet market leaders, however, the company incr...|\n",
      "|lbieij|   65|   16|                                                                                    Growth Strategy.|\n",
      "|lbieij|   66|   35|                                                                 Move into the Asia Pacific region .|\n",
      "|lbieij|   67|   66|                                  The Asia Pacific Region represents a long term growth opportunity.|\n",
      "|lbieij|   68|   71|                             According to Newzoo, they represent 54% of the global gaming community.|\n",
      "|lbieij|   69|   28|                                                                        Complimentary acquisitions .|\n",
      "|lbieij|   70|  135|Corsair has carried out this strategy aggressively since 2018 with the acquisitions of Elgato Gam...|\n",
      "|lbieij|   71|  110|They plan to continue evaluating and pursuing new acquisitions that may strengthen their competit...|\n",
      "|lbieij|   72|   13|                                                                                       New Markets .|\n",
      "|lbieij|   73|  225|Uses of streaming gear has spread into areas including, podcasting, video blogging, interactive f...|\n",
      "|lbieij|   74|   23|                                                                             Threat of New Entrants.|\n",
      "|lbieij|   75|  289|Because of the continued convergence between the computing devices and consumer electronics marke...|\n",
      "|lbieij|   76|   23|                                                                             Threat of Substitution.|\n",
      "|lbieij|   77|   21|                                                                               A significant medium.|\n",
      "|lbieij|   78|  127|to long term risk for Corsair's business model is the evolution of cloud computing and augmented ...|\n",
      "|lbieij|   79|  205|Cloud computing refers to a computing environment in which software is run on third party servers...|\n",
      "|lbieij|   80|  157|Through cloud computing, gamers will be able to access and play sophisticated games without the n...|\n",
      "|lbieij|   81|  136|According to Grand View Research, the global cloud gaming market is expected to grow at a CAGR of...|\n",
      "|lbieij|   82|  134|Additionally, Corsair must be able to adapt its product offering to meet the needs of the evolvin...|\n",
      "|lbieij|   83|    6|                                                                                              Moats.|\n",
      "|lbieij|   84|  156|There does not seem to be any relevant, structural moats, that may prohibit competitors from capt...|\n",
      "|lbieij|   85|   21|                                                                               Other Relevant Risks.|\n",
      "|lbieij|   86|  146|Due to the concentration of their production facilities in Taiwan and China, Corsair may be adver...|\n",
      "|lbieij|   87|   18|                                                                                  Financial Summary.|\n",
      "|lbieij|   88|   23|                                                                             Proforma Balance Sheet.|\n",
      "|lbieij|   89|   17|                                                                                   Income Statement.|\n",
      "|lbieij|   90|   77|                       For the 9 months ended September 2020 compared to the same period last year .|\n",
      "|lbieij|   91|  142|The 49% increase in net revenue is mostly attributed to a large number of consumers gaming and wo...|\n",
      "|lbieij|   92|  183|The company's gross margin is influenced by its product mix for the period, gamer and creator per...|\n",
      "|lbieij|   93|   28|                                                                        Proforma Cashflow Statement.|\n",
      "|lbieij|   94|  124|Cash used in investing activities consists primarily on the acquisitions of Elgato in 2018, and S...|\n",
      "|lbieij|   95|   16|                                                                                    Peer Comparison.|\n",
      "|lbieij|   96|   56|                                            Logitech International LOGI and Micron Technologies MU .|\n",
      "|lbieij|   97|   27|                                                                         Why am I posting this now?.|\n",
      "|lbieij|   98|   78|                      I believe they are going to have very strong 4th quarter 2020 earning results.|\n",
      "|lbieij|   99|   83|                 2020 had record pc sales,and pc video games has reported record numbers of players.|\n",
      "|lbieij|  100|   67|                                 They are in my opinion the leading pc peripherals brand for gamers.|\n",
      "|lbieij|  101|   53|                                               They also have strong support from r wallstreetbets .|\n",
      "|lbieij|  102|   17|                                                                                   Record pc sales .|\n",
      "|lbieij|  103|   15|                                                                                     Google trends .|\n",
      "|lbieij|  104|   38|                                                              My price target for this earnings $55.|\n",
      "|lbieij|  105|   40|                                                            disclaimer I am not a financial advisor.|\n",
      "|lbieij|  106|   52|                                                Do not trade based on the information I have posted.|\n",
      "|lbieij|  107|   38|                                                              credit u italiansomali and u erythaean|\n",
      "+------+-----+-----+----------------------------------------------------------------------------------------------------+\n",
      "\n",
      "$CRSR Corsair DD / Earnings play.  \n",
      "\n",
      "Corsair Gaming ($CRSR)\n",
      "\n",
      "*Redefining gaming, eSports, and streaming*\n",
      "\n",
      "Company Overview\n",
      "\n",
      "Corsair Gaming is an American computer hardware and peripherals company founded in 1994 and headquartered in California.\n",
      "\n",
      "They acquired Elgato Gaming in 2018 to expand to the streaming gear market, Origin PC and SCUF gaming in 2019 to expand into the custom-built PC systems and console controllers markets, respectively, and during 2020 they acquired Gamer Sensei and EpocCam, and partnered with Pipeline to grow into the gaming and streaming coaching market.\n",
      "\n",
      "Corsair went public on September 23, 2020, with its IPO priced at $17, valuing the company at about $1.3B.\n",
      "\n",
      "Understanding the Business\n",
      "\n",
      "**Value Proposition**\n",
      "\n",
      "Corsair provides specialized, high-performance gear for gamers and streamers. Their products are designed to provide speed and reliability for competitive gaming, high quality content for streamers, and powerful PC components that allows gamers to run modern games smoothly.\n",
      "\n",
      "**Revenue Streams**\n",
      "\n",
      "Currently, Corsair groups its product offering into two segments: gamer and creator peripherals and gaming components and systems.\n",
      "\n",
      "Gamer and Creator Peripherals:\n",
      "\n",
      "which represents around 25% of net revenue, includes gaming mice, keyboards, and headsets, streaming gear, and high performance console controllers.\n",
      "\n",
      "Gaming Components Systems:\n",
      "\n",
      "which represents around 75% of net revenue includes computer cases, power supply units (PSU), high performance memory products (40% of net revenue), and custom-built gaming systems.\n",
      "\n",
      "Acquisitions and Partnerships:\n",
      "\n",
      "During 3Q 2020 Corsair acquired Gamer Sensei, a gaming coaching platform, EpocCam, an app that allows iPhones to serve as a webcam, and partnered with Pipeline, a course-based education platform for streamers.\n",
      "\n",
      "Industry\n",
      "\n",
      "**Market Size**\n",
      "\n",
      "According to Jon Peddie Research, the global gaming and streaming gear markets is expected to reach $40B by the end of 2020. Before the pandemic JPR estimated the market to grow at a modest 1.05% CAGR until 2022. However, during 2020 the market has grown an estimated 10% year-over-year.\n",
      "\n",
      "Additionally, DFC Intelligence research estimated that the video-game coaching market surpasses $1B.\n",
      "\n",
      "**Industry Fundamentals**\n",
      "\n",
      "Growth in the gaming and streaming gear industries are driven by strong and robust fundamentals.\n",
      "\n",
      "Popularity of gaming is increasing:\n",
      "\n",
      "According to Newzoo, there are an estimated 2.7B gamers worldwide, which are expected to spend $159B on games in 2020 and is expected to grow at an 8.3% CAGR to exceed $200B by 2023. PC and console gaming represents 51% of the total market, and mobile gaming 49%. Corsair has stated that currently there is no interest in expanding to the mobile gaming market.\n",
      "\n",
      "Tech-driven improvements in game quality:\n",
      "\n",
      "Advances in computer power have enabled gaming platforms to provide increasingly immersive experiences. This in turn, places increased demand on high-performance computing hardware.\n",
      "\n",
      "Increasing gaming and streaming engagement:\n",
      "\n",
      "Some interesting facts reported in the Limelight Networks’ State of Online Gaming 2019 research report include:\n",
      "\n",
      "* On average, video gamers spend six hours and 20 minutes each week playing video games\n",
      "* More than 38% of gamers would like to become professionals if it could support themselves\n",
      "* Gamers from novice to aspiring professionals report missing daily activities due to gaming, missed sleep is the most pervasive\n",
      "* Watching gamers play video games online is more popular than watching traditional sports for 18-25 year olds.\n",
      "\n",
      "**The eSports and streaming flywheel**\n",
      "\n",
      "The rise in popularity and viewership of eSports brings more investment from publishers, sponsors, advertisers, team owners, and leagues to the eSports industry. Increased investment brings more players and increased performance focus of gamers who advance from less engaged gaming to high-performance gameplay, which in turn brings more viewers.\n",
      "\n",
      "Competitive Landscape & Risks\n",
      "\n",
      "**Competition**\n",
      "\n",
      "The gaming and streaming market is characterized by intense competition, constant price pressure and rapid change. Competition across Corsair’s product offering includes:\n",
      "\n",
      "**Gaming keyboards and mice** \\- Logitech and Razer\n",
      "\n",
      "**Headsets and related audio products** \\-Logitech, Razer, and HyperX\n",
      "\n",
      "**Streaming gear** \\- Logitech and AVerMedia\n",
      "\n",
      "**Performance controllers** \\- Microsoft and Logitech\n",
      "\n",
      "**PSUs, cooling solutions, and computer cases** \\- Cooler Master, NZXT, EVGA, Seasonic, and Thermaltake\n",
      "\n",
      "**High performance memory** \\- G.Skill, HyperX, and Micron\n",
      "\n",
      "**Pre-built and custom-built gaming PCs** \\- Alienware (Dell), Omen (HP), Asus, Razer, iBuypower and Cyberpower\n",
      "\n",
      "**Competitive Strategy**\n",
      "\n",
      "The company follows a differentiation leadership strategy by prioritizing high-performance and professional quality and charging a price premium on their products in exchange for superior quality, high value added features, and superior brand recognition.\n",
      "\n",
      "**Market Share**\n",
      "\n",
      "According to NPD Group, by 2020 Corsair had #1 market share position in the US in its gaming components and systems products with 42% of the market share from 26% in 2015. Their gamer and creator peripheral products are not yet market leaders, however, the company increased its market share in that segment from 5% in 2013 to 18% by 2020 in the US.\n",
      "\n",
      "**Growth Strategy**\n",
      "\n",
      "Move into the Asia Pacific region:\n",
      "\n",
      "The Asia Pacific Region represents a long-term growth opportunity. According to Newzoo, they represent 54% of the global gaming community.\n",
      "\n",
      "Complimentary acquisitions:\n",
      "\n",
      "Corsair has carried out this strategy aggressively since 2018 with the acquisitions of Elgato Gaming, Origin PC, SCUF and Gamer Sensei. They plan to continue evaluating and pursuing new acquisitions that may strengthen their competitive position.\n",
      "\n",
      "New Markets:\n",
      "\n",
      "Uses of streaming gear has spread into areas including, podcasting, video blogging, interactive fitness, remote learning, and work-from-home, which represent a promising avenue for continued expansion in this product segment.\n",
      "\n",
      "**Threat of New Entrants**\n",
      "\n",
      "Because of the continued convergence between the computing devices and consumer electronics markets, increased competition from well-established consumer electronics companies is expected in the gaming and streaming peripherals segment (e.g. use of Audio-technica microphones by streamers).\n",
      "\n",
      "**Threat of Substitution**\n",
      "\n",
      "A significant medium- to long-term risk for Corsair’s business model is the evolution of cloud computing and augmented/virtual reality entertainment.\n",
      "\n",
      "Cloud computing refers to a computing environment in which software is run on third-party servers and accessed by end users over the internet, requiring minimal processing power from the end-user’s system. Through cloud computing, gamers will be able to access and play sophisticated games without the need of expensive high-performance PC systems and components.\n",
      "\n",
      "According to Grand View Research, the global cloud gaming market is expected to grow at a CAGR of 48% from 2020 to reach $7.2B by 2027.\n",
      "\n",
      "Additionally, Corsair must be able to adapt its product offering to meet the needs of the evolving augmented/virtual reality industry.\n",
      "\n",
      "**Moats**\n",
      "\n",
      "There does not seem to be any relevant, structural moats, that may prohibit competitors from capturing Corsair’s market share across their product offering.\n",
      "\n",
      "**Other Relevant Risks**\n",
      "\n",
      "Due to the concentration of their production facilities in Taiwan and China, Corsair may be adversely by geopolitical tensions and trade disputes.\n",
      "\n",
      "Financial Summary\n",
      "\n",
      "**Proforma Balance Sheet**\n",
      "\n",
      "[**https://postimg.cc/QHgY1ZxL**](https://postimg.cc/QHgY1ZxL)\n",
      "\n",
      "**Income Statement**\n",
      "\n",
      "[**https://postimg.cc/qNkbGDzN**](https://postimg.cc/qNkbGDzN)\n",
      "\n",
      "**For the 9 months ended September 2020 compared to the same period last year:**\n",
      "\n",
      "The 49% increase in net revenue is mostly attributed to a large number of consumers gaming and working from home during the COVID-19 pandemic.\n",
      "\n",
      "The company’s gross margin is influenced by its product mix for the period, gamer and creator peripherals have a higher gross margin (25-35%) than gaming components and systems (15-25%).\n",
      "\n",
      "**Proforma Cashflow Statement**\n",
      "\n",
      "[**https://postimg.cc/XXCzNyRY**](https://postimg.cc/XXCzNyRY)\n",
      "\n",
      "Cash used in investing activities consists primarily on the acquisitions of Elgato in 2018, and SCUF and Origin PC in 2019.\n",
      "\n",
      "**Peer Comparison**\n",
      "\n",
      "[**https://postimg.cc/Whcfd1V6**](https://postimg.cc/Whcfd1V6)\n",
      "\n",
      "Logitech International (LOGI) and Micron Technologies (MU)\n",
      "\n",
      "**Why am I posting this now?**\n",
      "\n",
      "I believe they are going to have very strong 4th quarter 2020 earning results. 2020 had record pc sales,and pc video games has reported record numbers of players. They are in my opinion the leading pc peripherals brand for gamers. They also have strong support from [r/wallstreetbets](https://www.reddit.com/r/wallstreetbets/).\n",
      "\n",
      "**Record pc sales:**\n",
      "\n",
      "[https://www.businesstoday.in/technology/news/record-pc-sales-in-2020-as-covid-limits-work-education-to-homes/story/427858.html#:\\~:text=According%20to%20the%20latest%20data,units%20in%20Q4%20of%202020&text=COVID%2D19%20pandemic%20has%20turned,personal%20computer%20(PC)%20industry](https://www.businesstoday.in/technology/news/record-pc-sales-in-2020-as-covid-limits-work-education-to-homes/story/427858.html#:~:text=According%20to%20the%20latest%20data,units%20in%20Q4%20of%202020&text=COVID%2D19%20pandemic%20has%20turned,personal%20computer%20(PC)%20industry).\n",
      "\n",
      "**Google trends:**\n",
      "\n",
      "[https://imgur.com/oKPn6R5](https://imgur.com/oKPn6R5)\n",
      "\n",
      "**My price target for this earnings: $55**\n",
      "\n",
      "disclaimer:I am not a financial advisor. Do not trade based on the information I have posted.\n",
      "\n",
      "credit: [u/italiansomali](https://www.reddit.com/user/italiansomali/) and [u/erythaean](https://www.reddit.com/u/erythaean/)\n",
      "\n",
      "\n",
      "\n",
      "\n",
      "+------+-----+-----+----------------------------------------------------------------------------------------------------+\n",
      "|    id|num_s|len_s|                                                                                            sentence|\n",
      "+------+-----+-----+----------------------------------------------------------------------------------------------------+\n",
      "|lahttc|    0|   32|                                                                    KILL CITADEL AND 10,00% RETURNS.|\n",
      "|lahttc|    1|  216|TPT Global Tech's OTCQB TPTW Subsidiary TPT MedTech \"QuikPASS\" and \"QuikLAB\" Will Provide COVID 1...|\n",
      "|lahttc|    2|   56|                                            \"Getting Fans back into COVID Free Events is the Goal\" .|\n",
      "|lahttc|    3|  448|SAN DIEGO, CA ACCESSWIRE January 29, 2021 TPT Global Tech, Inc. www.tptglobaltech.com \"TPTW or th...|\n",
      "|lahttc|    4|  101|The company will have on site one of its drive up medical grade mobile \"QuikLABs\" to provide test...|\n",
      "|lahttc|    5|  216|All participants in the event including television crews, event staff, and all celebrity VIP gues...|\n",
      "|lahttc|    6|  244|All of the event goers will download the \"QuikPASS\" Check and Verify Passport app, drive up to th...|\n",
      "|lahttc|    7|  198|Once cleared the guest will then show or scan their \"QuikPASS\" QR code which displays their HIPPA...|\n",
      "|lahttc|    8|   95|     The event will have such stars as Tim Tebow, Ezekiel Elliott, Diplo, The Miz, Anthony Anderson.|\n",
      "|lahttc|    9|   24|                                                                            Nelly, Offset, and more.|\n",
      "|lahttc|   10|  453|TPT MedTech developed its \"QuikPASS \" Check and Verify passport system and COVID 19 vaccination m...|\n",
      "|lahttc|   11|  277|The \"QuikPASS\" \"Check and Verify\" passport style platform works with third party testing labs and...|\n",
      "|lahttc|   12|  248|\"We are very excited to showcase our \"QuikLAB\" \"QuikPASS Check and Verify Passport platform to cr...|\n",
      "|lahttc|   13|   38|                                                              Here is a link to TMZ's event review .|\n",
      "|lahttc|   14|   23|                                                                             About TPT Global Tech .|\n",
      "|lahttc|   15|   20|                                                                                TPT Global Tech Inc.|\n",
      "|lahttc|   16|  246|TPTW based in San Diego, California, is a technology based company with divisions providing telec...|\n",
      "|lahttc|   17|  146|TPT Global Tech offers Software as a Service SaaS , Technology Platform as a Service PAAS , Cloud...|\n",
      "|lahttc|   18|  136|It offers carrier grade performance and support for businesses over its private IP MPLS fiber and...|\n",
      "|lahttc|   19|  169|TPT's cloud based UCaaS services allow businesses of any size to enjoy all the latest voice, data...|\n",
      "|lahttc|   20|  272|TPT Global Tech also operates as a Master Distributor for Nationwide Mobile Virtual Network Opera...|\n",
      "|lahttc|   21|   28|                                                                        Forward Looking Statements .|\n",
      "|lahttc|   22|  315|This press release contains \"forward looking statements\" within the meaning of various provisions...|\n",
      "|lahttc|   23|  220|Specifically, statements about the Company's plans for accelerated growth, improved profitability...|\n",
      "|lahttc|   24|  192|Although the company believes that the assumptions upon which its forward looking statements are ...|\n",
      "|lahttc|   25|   64|                                    Such forward looking statements should not be construed as fact.|\n",
      "|lahttc|   26|  234|The information contained in such statements is beyond the ability of the Company to control, and...|\n",
      "|lahttc|   27|  154|All forward looking statements in the press release are expressly qualified by these cautionary s...|\n",
      "|lahttc|   28|    9|                                                                                           Contact .|\n",
      "|lahttc|   29|   17|                                                                                   Frank Benedetto .|\n",
      "|lahttc|   30|   14|                                                                                      619 915 9422 .|\n",
      "|lahttc|   31|   28|                                                                        SOURCE TPT Global Tech, Inc.|\n",
      "|lahttc|   32|   39|                                                             View source version on accesswire.com .|\n",
      "+------+-----+-----+----------------------------------------------------------------------------------------------------+\n",
      "\n",
      "KILL CITADEL AND 10,00% RETURNS. **TPT Global Tech's \\[OTCQB:TPTW\\] Subsidiary TPT MedTech \"QuikPASS\" and \"QuikLAB\" Will Provide COVID-19 Testing for NBA Legend Shaquille O'Neal's Televised Big Game Event \"Shaq Bowl\" in Tampa, FLPress Release | 01/29/2021**   \n",
      "\n",
      "\n",
      "[https://www.otcmarkets.com/stock/TPTW/news/TPT-Global-Techs-OTCQBTPTW-Subsidiary-TPT-MedTech-QuikPASS-and-QuikLAB-Will-Provide-COVID-19-Testing-for-NBA-Legend-Shaq?id=288078](https://www.otcmarkets.com/stock/TPTW/news/TPT-Global-Techs-OTCQBTPTW-Subsidiary-TPT-MedTech-QuikPASS-and-QuikLAB-Will-Provide-COVID-19-Testing-for-NBA-Legend-Shaq?id=288078)   \n",
      "\n",
      "\n",
      "\"Getting Fans back into COVID Free Events is the Goal\"   \n",
      "\n",
      "\n",
      "SAN DIEGO, CA / ACCESSWIRE / January 29, 2021 / TPT Global Tech, Inc. www.tptglobaltech.com (\"TPTW or the Company\") (OTCBB:TPTW) announced today that its subsidiary TPT MedTech's www.tptmedtech.com \"QuikLAB™\" and \"QuikPASS™\" technology platforms were selected to utilize the companies QuikLAB and QuikPASS Check and Verify Passport testing and monitoring systems at this years \"SHAQ Bowl\", a pre Big Game event hosted by former NBA Champion Shaquille O'Neal. The company will have on-site one of its drive-up medical-grade mobile \"QuikLABs\" to provide testing. All participants in the event including television crews, event staff, and all celebrity/VIP guests will have to be tested utilizing the TPT's \"QuikPASS\" Check and Verify Passport app before they can enter the event. All of the event goers will download the \"QuikPASS\" Check and Verify Passport app, drive up to the \"QuikLAB\" testing site at the event, get tested, and receive their results electronically via the \"QuikPASS\" app within approximately 15 minutes. Once cleared the guest will then show or scan their \"QuikPASS\" QR code which displays their HIPPA compliant testing records to verify that they have been tested and they are free to enjoy the event.   \n",
      "\n",
      "\n",
      "The event will have such stars as Tim Tebow, Ezekiel Elliott, Diplo, The Miz, Anthony Anderson. Nelly, Offset, and more.   \n",
      "\n",
      "\n",
      "TPT MedTech developed its \"QuikPASS™\" Check and Verify passport system and COVID-19/vaccination monitoring platform for corporations, government organizations, schools, airlines, hospitals, sports venues, restaurants, hotels, and nightclubs to check and verify that an individual has been tested for COVID-19 or vaccinated providing proof individuals can travel or gain access to venues with the idea that everyone inside that venue would be COVID free. The \"QuikPASS\" \"Check and Verify\" passport-style platform works with third-party testing labs and organizations that participate on the \"QuikPASS\" Network and will be offered FREE to US domestic and international business commerce and government organizations around the world.   \n",
      "\n",
      "\n",
      "\"We are very excited to showcase our \"QuikLAB\" \"QuikPASS Check and Verify Passport platform to create our first Covid 19 free Entertainment event for Mr. O'Neals Pre Big Game Event \"Shaq Bowl\", this year in Tampa Florida,\" said Stephen Thomas, CEO.   \n",
      "\n",
      "\n",
      "Here is a link to TMZ's event review: [https://www.tmz.com/2021/01/28/shaq-bowl-super-bowl-pregame-video-shaquille-oneal/](https://www.tmz.com/2021/01/28/shaq-bowl-super-bowl-pregame-video-shaquille-oneal/)   \n",
      "\n",
      "\n",
      "About TPT Global Tech   \n",
      "TPT Global Tech Inc. (TPTW) based in San Diego, California, is a technology-based company with divisions providing telecommunications, medical technology and product distribution, media content for domestic and international syndication as well as technology solutions. TPT Global Tech offers Software as a Service (SaaS), Technology Platform as a Service (PAAS), Cloud-based Unified Communication as a Service (UCaaS). It offers carrier-grade performance and support for businesses over its private IP MPLS fiber and wireless network in the United States. TPT's cloud-based UCaaS services allow businesses of any size to enjoy all the latest voice, data, media and collaboration features in today's global technology markets. TPT Global Tech also operates as a Master Distributor for Nationwide Mobile Virtual Network Operators (MVNO) and Independent Sales Organization (ISO) as a Master Distributor for Pre-Paid Cell phone services, Mobile phones Cell phone Accessories and Global Roaming Cell phones.   \n",
      "\n",
      "\n",
      "Forward-Looking Statements   \n",
      "This press release contains \"forward-looking statements\" within the meaning of various provisions of the safe harbor provisions of the Private Securities Litigation Reform Act of 1995, commonly identified by such terms as \"believes,\" \"looking ahead,\" \"anticipates,\" \"estimates\" and other terms with similar meaning. Specifically, statements about the Company's plans for accelerated growth, improved profitability, future business partners, M&A activity, new service offerings, and pursuit of new markets are forward-looking statements. Although the company believes that the assumptions upon which its forward-looking statements are based are reasonable, it can give no assurance that these assumptions will prove to be correct. Such forward-looking statements should not be construed as fact. The information contained in such statements is beyond the ability of the Company to control, and in many cases, the Company cannot predict what factors would cause results to differ materially from those indicated in such statements. All forward-looking statements in the press release are expressly qualified by these cautionary statements and by reference to the underlying assumptions.   \n",
      "\n",
      "\n",
      "Contact:   \n",
      "\n",
      "\n",
      "Frank Benedetto   \n",
      "619-915-9422   \n",
      "\n",
      "\n",
      "SOURCE: TPT Global Tech, Inc.   \n",
      "\n",
      "\n",
      "View source version on accesswire.com:   \n",
      "[https://www.accesswire.com/626778/TPT-Global-Techs-OTCQBTPTW-Subsidiary-TPT-MedTech-QuikPASS-and-QuikLAB-Will-Provide-COVID-19-Testing-for-NBA-Legend-Shaquille-ONeals-Televised-Big-Game-Event-Shaq-Bowl-in-Tampa-FL](https://www.accesswire.com/626778/TPT-Global-Techs-OTCQBTPTW-Subsidiary-TPT-MedTech-QuikPASS-and-QuikLAB-Will-Provide-COVID-19-Testing-for-NBA-Legend-Shaquille-ONeals-Televised-Big-Game-Event-Shaq-Bowl-in-Tampa-FL)\n",
      "\n",
      "\n",
      "\n",
      "\n",
      "+------+-----+-----+----------------------------------------------------------------------------------------------------+\n",
      "|    id|num_s|len_s|                                                                                            sentence|\n",
      "+------+-----+-----+----------------------------------------------------------------------------------------------------+\n",
      "|lc7uaw|    0|   25|                                                                           GME and why do we matter.|\n",
      "|lc7uaw|    1|   47|                                                     I fling poop and drag my knuckles on the floor.|\n",
      "|lc7uaw|    2|   29|                                                                       I am not a financial advisor.|\n",
      "|lc7uaw|    3|   26|                                                                          Do your own due diligence.|\n",
      "|lc7uaw|    4|   40|                                                            This is for entertainment purposes only.|\n",
      "|lc7uaw|    5|  125|Lately, I've felt like we don't have a voice and don't matter but I want to remind all us apes th...|\n",
      "|lc7uaw|    6|   47|                                                     We will win TOGETHER and we will HOLD together.|\n",
      "|lc7uaw|    7|   32|                                                                    Could be days, weeks, or months.|\n",
      "|lc7uaw|    8|   39|                                                             Longer than any of our attention spans.|\n",
      "|lc7uaw|    9|   33|                                                                   So they will use TIME against us.|\n",
      "|lc7uaw|   10|   24|                                                                            BUT time is on our side.|\n",
      "|lc7uaw|   11|   96|    This is psychological warfare against us to make us DOUBT ourselves and what we WILL accomplish.|\n",
      "|lc7uaw|   12|   60|                                        We will remain retarded longer then they can remain solvent.|\n",
      "|lc7uaw|   13|   29|                                                                       They bleed interest each day.|\n",
      "|lc7uaw|   14|   50|                                                  A stock's value is based upon what we place on it.|\n",
      "|lc7uaw|   15|   23|                                                                             See TSLA for reference.|\n",
      "|lc7uaw|   16|   26|                                                                          WE LIKE THE FUCKING STOCK.|\n",
      "|lc7uaw|   17|  105|If my stock is worth 5k to me, I WILL HOLD for 5 fucking K. WHO are you to tell us how to perceiv...|\n",
      "|lc7uaw|   18|   92|        OHHHHH, you're an expert who got caught with your dick in the cookie jar thx louis rossman .|\n",
      "|lc7uaw|   19|   29|                                                                       SHORTING 130 140% of a stock.|\n",
      "|lc7uaw|   20|   32|                                                                    These hedgies aren't infallible.|\n",
      "|lc7uaw|   21|   39|                                                             Just well connected and well resourced.|\n",
      "|lc7uaw|   22|   66|                                  As long as we own shares that they NEED, we have time on our side.|\n",
      "|lc7uaw|   23|   37|                                                               Even though it will not feel like it.|\n",
      "|lc7uaw|   24|   45|                                                       Obligatory, don't invest what you can't lose.|\n",
      "|lc7uaw|   25|   35|                                                                 We cannot let the hedgies deter us.|\n",
      "|lc7uaw|   26|  100|Now that GME is the dinner conversation topic of the world, everyone and their moms have an opinion.|\n",
      "|lc7uaw|   27|   32|                                                                    We will be told we don't matter.|\n",
      "|lc7uaw|   28|   46|                                                      We don't know what we are doing probably true.|\n",
      "|lc7uaw|   29|   31|                                                                     I got into stocks 2 weeks ago .|\n",
      "|lc7uaw|   30|   32|                                                                    We should have sold at the peak.|\n",
      "|lc7uaw|   31|   28|                                                                        We should have bought lower.|\n",
      "|lc7uaw|   32|   26|                                                                          We shouldn't have gambled.|\n",
      "|lc7uaw|   33|   81|                   What people are forgetting is what WE are trying, is to do better, and be better.|\n",
      "|lc7uaw|   34|   56|                                            Why kick a guy down when he wants a better fucking life.|\n",
      "|lc7uaw|   35|    9|                                                                                           FUCK YOU.|\n",
      "|lc7uaw|   36|   52|                                                LOOK AT THE PPL SPENDING THEIR TENDIES TO GIVE BACK.|\n",
      "|lc7uaw|   37|   43|                                                         It's our $, let us do what we want with it.|\n",
      "|lc7uaw|   38|   91|         If a hedgie can irresponsibly short a stock over 100%, why can't we take a CALCULATED risk?|\n",
      "|lc7uaw|   39|   19|                                                                                 BUUUT funDamentAls.|\n",
      "|lc7uaw|   40|   28|                                                                        Gamestop is a dying company.|\n",
      "|lc7uaw|   41|   42|                                                          The former business model of GME is dying.|\n",
      "|lc7uaw|   42|   32|                                                                    As most physical businesses are.|\n",
      "|lc7uaw|   43|   20|                                                                                See 24 hour fitness.|\n",
      "|lc7uaw|   44|   73|                           I've never been inside a gym but I read stuff online But GME is pivoting.|\n",
      "|lc7uaw|   45|   64|                                    PAPA COWEN and the new board members are pivoting to e commerce.|\n",
      "|lc7uaw|   46|   86|              He's assembling the fucking avengers to the END GAME but this is just getting started.|\n",
      "|lc7uaw|   47|   81|                   GME is transforming just like Netflix when it went from DVDs to online streaming.|\n",
      "|lc7uaw|   48|   66|                                  We are the ugly duckling that gets super sexy after growing pains.|\n",
      "|lc7uaw|   49|   34|                                                                  How about this for fuuunDamentAls.|\n",
      "|lc7uaw|   50|   94|      Hedge funds being allowed to short a stock over 100% and nobody comments on how that happened.|\n",
      "|lc7uaw|   51|   16|                                                                                    Why it happened.|\n",
      "|lc7uaw|   52|   43|                                                         And how SHORTING has INFINITE room to lose.|\n",
      "|lc7uaw|   53|   82|                  Keep in mind, they are sophisticated gamblers with other people's money and 401ks.|\n",
      "|lc7uaw|   54|   58|                                          BUT according to their calculation it's little to no risk.|\n",
      "|lc7uaw|   55|   88|            Because they can throw more $ at the problem and manipulate the market, they can fix it!|\n",
      "|lc7uaw|   56|  123|If they can't, they want to cry to the media, get the public opinion on their side, and ask for M...|\n",
      "|lc7uaw|   57|   52|                                                Why would a greedy $ machine ask for more oversight?|\n",
      "|lc7uaw|   58|  102|OH, that's because the SEC is your lapdog and the government will bail you out with tax payer dol...|\n",
      "|lc7uaw|   59|   26|                                                                          SEE 2008 FINANCIAL CRISIS.|\n",
      "|lc7uaw|   60|   64|                                    Yet, we are not allowed to exploit the law of supply and demand.|\n",
      "|lc7uaw|   61|   68|                                If the demand exceeds 100% of the supply, the inherit value ROCKETS.|\n",
      "|lc7uaw|   62|   28|                                                                        See RTX cards and AMD chips.|\n",
      "|lc7uaw|   63|   32|                                                                    FUCK SCALPERS for good measure .|\n",
      "|lc7uaw|   64|   55|                                             I want to remind every single one of you, we do matter.|\n",
      "|lc7uaw|   65|   28|                                                                        We have NUMBERS on our side.|\n",
      "|lc7uaw|   66|   91|         As a collective we've already made shorting a topic of conversation at the political level.|\n",
      "|lc7uaw|   67|  106|This may not be a monetary victory but it hopefully is a step in the right direction to a more eq...|\n",
      "|lc7uaw|   68|   42|                                                          That or hold your politicians accountable.|\n",
      "|lc7uaw|   69|   27|                                                                         You are their constituents.|\n",
      "|lc7uaw|   70|   24|                                                                            We play out in the open.|\n",
      "|lc7uaw|   71|   64|                                    We share publicly available information and make decisions base.|\n",
      "|lc7uaw|   72|   94|      Really, it's just autistic people posting the exact confirmation biases that we needed to see.|\n",
      "|lc7uaw|   73|   24|                                                                            It prints $$$$ BRRrrrrr.|\n",
      "|lc7uaw|   74|   48|                                                    Let's recap how the odds are stacked against us.|\n",
      "|lc7uaw|   75|   51|                                                 We are too stupid to be allowed to spend our money.|\n",
      "|lc7uaw|   76|   48|                                                    We need government intervention to \"protect us\".|\n",
      "|lc7uaw|   77|   54|                                              The little guys, the plebes, the unsophisticated, etc.|\n",
      "|lc7uaw|   78|   62|                                      Yet they can't decide on how when to get a stimmy check to us.|\n",
      "|lc7uaw|   79|   53|                                               THEY REALLY REALLY CARE when hedge funds lose money .|\n",
      "|lc7uaw|   80|   43|                                                         We some how took wallstreet down with $600.|\n",
      "|lc7uaw|   81|   60|                                        If the stock market was that fragile, we have BIGGER issues.|\n",
      "|lc7uaw|   82|  102|Momentum was killed last week by brokers being held to new collateral requirements by clearing ho...|\n",
      "|lc7uaw|   83|   89|           Thus restricting stock purchasing with CASH for specific securities for RETAIL investors.|\n",
      "|lc7uaw|   84|  100|This is how Phil Jackson uses timeouts to kill momentum for the other team when they're running HOT.|\n",
      "|lc7uaw|   85|   44|                                                        BUT Hedge Funds were still allowed to trade.|\n",
      "|lc7uaw|   86|   36|                                                                We were allowed to sell but NOT buy.|\n",
      "|lc7uaw|   87|  109|How would NBA games look like if only one team played while the other team sat on the bench durin...|\n",
      "|lc7uaw|   88|    5|                                                                                               Fair?|\n",
      "|lc7uaw|   89|  135|Keep in mind, these brokers were INFORMED pre market and didn't have any press conferences until ...|\n",
      "|lc7uaw|   90|   72|                            Guess who also informed besides the brokers, YOUUUU SMAAHT, the hedgies.|\n",
      "|lc7uaw|   91|   12|                                                                                        Seems legit.|\n",
      "|lc7uaw|   92|   42|                                                          News outlet and controlling the narrative.|\n",
      "|lc7uaw|   93|  121|How many analysts, journalist, and their rich daddies overlords are framing this as WSB pumping a...|\n",
      "|lc7uaw|   94|   31|                                                                     WE JUST LIKE THE FUCKING STOCK.|\n",
      "|lc7uaw|   95|   99| What about the narrative that WSB saved some business that we would like to keep around post covid.|\n",
      "|lc7uaw|   96|   47|                                                     FFS you want to take away the movies and games?|\n",
      "|lc7uaw|   97|   34|                                                                  What do you want us to do for fun?|\n",
      "|lc7uaw|   98|  115|You deplorable sacks of shit who get no enjoyment out of life other than sucking the souls and mo...|\n",
      "|lc7uaw|   99|   88|            You live to see more zeros in your account and there is a special place in hell for you.|\n",
      "|lc7uaw|  100|  208|SEC holding a meeting tonight investigating market manipulation through social media but no inves...|\n",
      "|lc7uaw|  101|   29|                                                                       Robinhood is not the bad guy.|\n",
      "|lc7uaw|  102|   42|                                                          Many trading platforms restricted trading.|\n",
      "|lc7uaw|  103|   47|                                                     RH is the household name that is the scapegoat.|\n",
      "|lc7uaw|  104|  139|Get the fucking clearing house on the line and ask why they increased collateral from 1 2% to 100...|\n",
      "|lc7uaw|  105|   94|      OHhhh, they're not regulated but they want to invoke the SEC to regulate the retail investors.|\n",
      "|lc7uaw|  106|    5|                                                                                               NICE.|\n",
      "|lc7uaw|  107|  105|How shorts magically covered their positions but DO NOT have to report their positions until week...|\n",
      "|lc7uaw|  108|  126|Lack of immediate transparency gives them ample time to reposition and multiple options to cover ...|\n",
      "|lc7uaw|  109|   79|                     Anyways, I could keep bitching but I just wanted to vent and rally us together.|\n",
      "|lc7uaw|  110|   22|                                                                              We took a mad beating.|\n",
      "|lc7uaw|  111|   74|                          I just wanted to let you beautiful online strangers that you aren't alone.|\n",
      "|lc7uaw|  112|   52|                                                GME has transcended and has evolved into a movement.|\n",
      "|lc7uaw|  113|   25|                                                                           What does GME mean to me?|\n",
      "|lc7uaw|  114|   88|            A down payment to a home for my family and I. My wife and I are expecting our first kid.|\n",
      "|lc7uaw|  115|   33|                                                                   I'm risking something I can lose.|\n",
      "|lc7uaw|  116|   20|                                                                                for a better future.|\n",
      "|lc7uaw|  117|   27|                                                                         What does GME mean to you?.|\n",
      "|lc7uaw|  118|   23|                                                                             TLDR We fucking matter.|\n",
      "|lc7uaw|  119|   42|                                                          We are going to be the catalyst of change.|\n",
      "|lc7uaw|  120|   12|                                                                                        HOLD SHARES.|\n",
      "|lc7uaw|  121|   31|                                                                     Don't risk what you can't lose.|\n",
      "|lc7uaw|  122|   11|                                                                                         APE Strong.|\n",
      "+------+-----+-----+----------------------------------------------------------------------------------------------------+\n",
      "\n",
      "GME and why do we matter. I  fling poop and drag my knuckles on the floor.  I am not a financial  advisor.  Do your own due diligence.  This is for entertainment purposes  only.\n",
      "\n",
      "Lately,  I've felt like we don't have a voice and don't matter but I want to  remind all us apes that we are retarded together.  We will win TOGETHER  and we will HOLD together.  Could be days, weeks, or months.  Longer  than any of our attention spans.  So they will use TIME against us.  BUT  time is on our side.\n",
      "\n",
      "This is  psychological warfare against us to make us DOUBT ourselves and what we  WILL accomplish.  We will remain retarded longer then they can remain  solvent.  They bleed interest each day.  A stock's value is based upon  what we place on it.  See TSLA for reference.  WE LIKE THE FUCKING  STOCK.  If my stock is worth 5k to me, I WILL HOLD for 5 fucking K.  WHO  are you to tell us how to perceive VALUE?  OHHHHH, you're an expert who  got caught with your dick in the cookie jar (thx louis rossman).   SHORTING 130-140% of a stock.  These hedgies aren't infallible.  Just  well connected and well resourced.  As long as we own shares that they  NEED, we have time on our side.  Even though it will not feel like it.\n",
      "\n",
      "Obligatory, don't invest what you can't lose.\n",
      "\n",
      "We  cannot let the hedgies deter us.  Now that GME is the dinner  conversation topic of the world, everyone and their moms have an  opinion.  We will be told we don't matter.  We don't know what we are  doing(probably true. I got into stocks 2 weeks ago).  We should have  sold at the peak.  We should have bought lower.  We shouldn't have  gambled.  What people are forgetting is what WE are trying, is to do  better, and be better.  Why kick a guy down when he wants a better  fucking life.  FUCK YOU.\n",
      "\n",
      "LOOK AT  THE PPL SPENDING THEIR TENDIES TO GIVE BACK.  It's our $, let us do what  we want with it.  If a hedgie can irresponsibly short a stock over  100%, why can't we take a CALCULATED risk?  BUUUT funDamentAls.   Gamestop is a dying company.  The former business model of GME is dying.   As most physical businesses are.  See 24 hour fitness.  (I've never  been inside a gym but I read stuff online)  But GME is pivoting.  PAPA  COWEN and the new board members are pivoting to e-commerce.  He's  assembling the fucking avengers to the END GAME but this is just getting  started.  GME is transforming just like Netflix when it went from DVDs  to online streaming.  We are the ugly duckling that gets super sexy  after growing pains.\n",
      "\n",
      "How about  this for fuuunDamentAls.  Hedge funds being allowed to short a stock  over 100% and nobody comments on how that happened.  Why it happened.   And how SHORTING has INFINITE room to lose.  Keep in mind, they are  sophisticated gamblers with other people's money and 401ks.  BUT  according to their calculation it's little to no risk.  Because they can  throw more $ at the problem and manipulate the market, they can fix it!   If they can't, they want to cry to the media, get the public opinion  on their side, and ask for MORE GOVERNMENT REGULATION.  Why would a  greedy $ machine ask for more oversight?  OH, that's because the SEC is  your lapdog and the government will bail you out with tax payer dollars.   SEE 2008 FINANCIAL CRISIS.  Yet, we are not allowed to exploit the law  of supply and demand.  If the demand exceeds 100% of the supply, the  inherit value ROCKETS.  See RTX cards and AMD chips.  FUCK SCALPERS for  good measure :)\n",
      "\n",
      "I want to remind  every single one of you, we do matter.  We have NUMBERS on our side.  As  a collective we've already made shorting a topic of conversation at the  political level.  This may not be a monetary victory but it hopefully  is a step in the right direction to a more equal game.  That or hold  your politicians accountable.  You are their constituents.\n",
      "\n",
      "We  play out in the open.  We share publicly available information and make  decisions base.  Really, it's just autistic people posting the exact  confirmation biases that we needed to see.  It prints $$$$ BRRrrrrr.\n",
      "\n",
      "Let's recap how the odds are stacked against us.\n",
      "\n",
      "\\-We  are too stupid to be allowed to spend our money.  We need government  intervention to \"protect us\".  The little guys, the plebes, the  unsophisticated, etc..  Yet they can't decide on how/when to get a  stimmy check to us.  THEY REALLY REALLY CARE (when hedge funds lose  money).  We some how took wallstreet down with $600.  If the stock  market was that fragile, we have BIGGER issues.\n",
      "\n",
      "\\-Momentum  was killed last week by brokers being held to new collateral  requirements by clearing houses.  Thus restricting stock purchasing with  CASH for specific securities for RETAIL investors.  This is how Phil  Jackson uses timeouts to kill momentum for the other team when they're  running HOT.  BUT Hedge Funds were still allowed to trade.  We were  allowed to sell but NOT buy.  How would NBA games look like if only one  team played while the other team sat on the bench during a timeout?  Fair?  Keep in mind, these brokers were INFORMED pre-market and didn't  have any press conferences until after market close for damage control.   Guess who also informed besides the brokers, YOUUUU SMAAHT, the  hedgies.  Seems legit.\n",
      "\n",
      "\\-News outlet and controlling the narrative.  How many analysts, journalist, and their rich ~~daddies~~  overlords are framing this as WSB pumping and dumping a meme stock.  WE  JUST LIKE THE FUCKING STOCK.  What about the narrative that WSB saved  some business that we would like to keep around post-covid.  FFS you  want to take away the movies and games?  What do you want us to do for  fun?  You deplorable sacks of shit who get no enjoyment out of life  other than sucking the souls and money out of people.  You live to see  more zeros in your account and there is a special place in hell for you.\n",
      "\n",
      "\\-SEC  holding a meeting tonight investigating market manipulation through  social media but no investigative statement on how clearing houses can  magically conjure a rule that halts trading for retail investors.   Robinhood is not the bad guy.  Many trading platforms restricted  trading.  RH is the household name that is the scapegoat.  Get the  fucking clearing house on the line and ask why they increased collateral  from 1-2% to 100 fucking percent on these specific stocks.  OHhhh,  they're not regulated but they want to invoke the SEC to regulate the  retail investors.... NICE.\n",
      "\n",
      "\\-How  shorts magically covered their positions but DO NOT have to report their  positions until weeks later.  Lack of immediate transparency gives them  ample time to reposition and multiple options to cover their asses  while blaming us.\n",
      "\n",
      "Anyways, I could  keep bitching but I just wanted to vent and rally us together.  We took  a mad beating. I just wanted to let you beautiful online strangers that  you aren't alone.  GME has transcended and has evolved into a movement.\n",
      "\n",
      "What  does GME mean to me?  A down-payment to a home for my family and I.  My  wife and I are expecting our first kid.  I'm risking something I can  lose... for a better future.\n",
      "\n",
      "What does GME mean to you?\n",
      "\n",
      "TLDR; We fucking matter.  We are going to be the catalyst of change. HOLD SHARES. Don't risk what you can't lose. APE Strong. 🦍💪💎👐  🚀🚀🚀🚀🚀🚀\n",
      "\n",
      "\n"
     ]
    }
   ],
   "source": [
    "show_sentences(\"l7o2rq\")\n",
    "show_sentences(\"lamwg6\")\n",
    "show_sentences(\"lbieij\")\n",
    "show_sentences(\"lahttc\")\n",
    "show_sentences(\"lc7uaw\")"
   ]
  },
  {
   "cell_type": "markdown",
   "id": "right-journalist",
   "metadata": {},
   "source": [
    "---\n",
    "Looks good overall. It's tempting to try to handle the sectioning that some authors use with asteriskthe s, but That's probably best left as a refinement for later."
   ]
  },
  {
   "cell_type": "markdown",
   "id": "worldwide-comedy",
   "metadata": {},
   "source": [
    "# Output for future processing"
   ]
  },
  {
   "cell_type": "code",
   "execution_count": 33,
   "id": "thrown-armstrong",
   "metadata": {},
   "outputs": [
    {
     "name": "stdout",
     "output_type": "stream",
     "text": [
      "CPU times: user 6.4 ms, sys: 5.84 ms, total: 12.2 ms\n",
      "Wall time: 64.9 ms\n",
      "Processed (and counted) 25647 rows.\n",
      "Wrote csv file inside ../data/sentences_2021-03-02_17:07:51\n",
      "CPU times: user 40.1 ms, sys: 11.1 ms, total: 51.2 ms\n",
      "Wall time: 28.3 s\n"
     ]
    }
   ],
   "source": [
    "%%time\n",
    "df = spark.read.csv(DATA_PATH, \n",
    "                    header=True,\n",
    "                    multiLine=True, \n",
    "                    inferSchema=True,\n",
    "                    quote=\"\\\"\",\n",
    "                    escape=\"\\\"\")\n",
    "# df = df.sample(withReplacement=False, fraction=0.1, seed=2)\n",
    "df = (df.withColumn(\"text\", \n",
    "               F.concat_ws(\". \", df.title, df.body))\n",
    "      .drop(\"title\", \"body\", \"url\", \"comms_num\", \"created\"))\n",
    "\n",
    "texts = (\n",
    "    embedding_pipeline.preprocess_texts(df)\n",
    ")\n",
    "pipeline = embedding_pipeline.build_embedding_preproc_pipeline()\n",
    "\n",
    "pipeline_model = pipeline.fit(texts)\n",
    "light_model = LightPipeline(pipeline_model)\n",
    "def process_texts():\n",
    "    processed_texts = light_model.transform(texts)\n",
    "    return processed_texts\n",
    "%time processed_texts = process_texts()\n",
    "print(f\"Processed (and counted) {df.count()} rows.\")\n",
    "\n",
    "\n",
    "\n",
    "out_df = (\n",
    "    processed_texts\n",
    "    .withColumn(\"num_s\",\n",
    "                processed_texts[\"finished_sentences_metadata\"][0]._2)\n",
    "    .withColumn(\"len_s\",\n",
    "                F.length(processed_texts[\"finished_sentences\"][0]))\n",
    "    .select(\"id\", \n",
    "            \"num_s\",\n",
    "            \"len_s\",\n",
    "            F.col(\"finished_sentences\")[0]\n",
    "            .alias(\"sentence\"))\n",
    ")\n",
    "# out_df.show(50, truncate=80)\n",
    "\n",
    "\n",
    "\n",
    "day, time = str(datetime.now()).split()\n",
    "time = time.split(\".\")[0]\n",
    "timestamp = \"_\".join([day, time])\n",
    "OUTPUT_DIR = f\"../data/sentences_{timestamp}\"\n",
    "out_df.write.csv(OUTPUT_DIR, header=True, sep=\"\\t\")\n",
    "print(f\"Wrote csv file inside {OUTPUT_DIR}\")"
   ]
  },
  {
   "cell_type": "markdown",
   "id": "improved-bulgarian",
   "metadata": {},
   "source": [
    "Write to CSV (but use tab as delimiter)."
   ]
  },
  {
   "cell_type": "markdown",
   "id": "fossil-surgeon",
   "metadata": {},
   "source": [
    "# Process with Tensorflow"
   ]
  },
  {
   "cell_type": "code",
   "execution_count": 2,
   "id": "changed-tampa",
   "metadata": {},
   "outputs": [
    {
     "name": "stdout",
     "output_type": "stream",
     "text": [
      "id\tnum_s\tlen_s\tsentence\n",
      "l6ulcx\t0\t55\tIt's not about the money, it's about sending a message.\n",
      "l6uibd\t0\t80\tMath Professor Scott Steiner says the numbers spell DISASTER for Gamestop shorts\n",
      "l6uhhn\t0\t16\tExit the system.\n",
      "l6uhhn\t1\t101\t\"The CEO of NASDAQ pushed to halt trading \\\"to give investors a chance to recalibrate their positions\\\".\"\n",
      "l6uhhn\t2\t68\tNow SEC is investigating, brokers are disallowing buying more calls.\n",
      "l6uhhn\t3\t180\t\"This is the institutions flat out admitting they will change the rules to bail out the rich but if it happens to us, we get a \\\"well shucks you should have known investing is risky!\"\n",
      "l6uhhn\t4\t79\t\"have you tried cutting out avocados and coffee, maybe doing Uber on the side?\\\".\"\n",
      "l6uhhn\t5\t184\tWe may have collectively driven up enough sentiment in wall street to make other big players go long on GME with us we do not have the money to move the stock as much as it did alone .\n",
      "l6uhhn\t6\t130\twe didn't hurt wall street as a whole, just a few funds went down while others went up and profited off the shorts the same as us.\n"
     ]
    }
   ],
   "source": [
    "DATA_PATH = f\"../data/sentences_2021-03-02_17:07:51/part*\"\n",
    "! head {DATA_PATH}"
   ]
  },
  {
   "cell_type": "code",
   "execution_count": 3,
   "id": "utility-petite",
   "metadata": {},
   "outputs": [
    {
     "data": {
      "text/plain": [
       "<PrefetchDataset shapes: OrderedDict([(id, (8,)), (num_s, (8,)), (len_s, (8,)), (sentence, (8,))]), types: OrderedDict([(id, tf.string), (num_s, tf.int32), (len_s, tf.int32), (sentence, tf.string)])>"
      ]
     },
     "execution_count": 3,
     "metadata": {},
     "output_type": "execute_result"
    }
   ],
   "source": [
    "ds = (tf.data.experimental.make_csv_dataset(\n",
    "    DATA_PATH,\n",
    "    batch_size=8, \n",
    "    field_delim=\"\\t\",\n",
    "    shuffle=False,\n",
    "    header=True,\n",
    "    column_defaults=[tf.string, tf.int32, tf.int32, tf.string],\n",
    "    use_quote_delim=False))\n",
    "ds"
   ]
  },
  {
   "cell_type": "code",
   "execution_count": 4,
   "id": "distinguished-confidence",
   "metadata": {},
   "outputs": [
    {
     "name": "stdout",
     "output_type": "stream",
     "text": [
      "CPU times: user 8.45 s, sys: 684 ms, total: 9.14 s\n",
      "Wall time: 9.12 s\n"
     ]
    }
   ],
   "source": [
    "%%time\n",
    "preprocessor = hub.KerasLayer(\n",
    "    \"https://tfhub.dev/tensorflow/bert_en_uncased_preprocess/3\")\n",
    "encoder = hub.KerasLayer(\n",
    "    \"https://tfhub.dev/google/universal-sentence-encoder-cmlm/en-base/1\")"
   ]
  },
  {
   "cell_type": "code",
   "execution_count": 5,
   "id": "nonprofit-mixer",
   "metadata": {},
   "outputs": [
    {
     "name": "stdout",
     "output_type": "stream",
     "text": [
      "<class 'dict'> dict_keys(['pooled_output', 'sequence_output', 'default'])\n",
      "np.all(emb['default'] == emb['pooled_output']) is True\n"
     ]
    }
   ],
   "source": [
    "emb = encoder(preprocessor([\"here is an example sentence\"]))\n",
    "print(type(emb), emb.keys())\n",
    "boolean = np.all(emb['default'] == emb['pooled_output'])\n",
    "print(f\"np.all(emb['default'] == emb['pooled_output']) is {boolean}\")"
   ]
  },
  {
   "cell_type": "code",
   "execution_count": 46,
   "id": "brutal-berlin",
   "metadata": {},
   "outputs": [],
   "source": [
    "out_ds = (ds.take(2)\n",
    "          .map(lambda t: (t, encoder(preprocessor(t['sentence']))['pooled_output'])))"
   ]
  },
  {
   "cell_type": "code",
   "execution_count": 85,
   "id": "worst-client",
   "metadata": {},
   "outputs": [
    {
     "name": "stderr",
     "output_type": "stream",
     "text": [
      "/home/cody/anaconda3/lib/python3.7/site-packages/umap/umap_.py:2214: UserWarning:\n",
      "\n",
      "n_neighbors is larger than the dataset size; truncating to X.shape[0] - 1\n",
      "\n",
      "/home/cody/anaconda3/lib/python3.7/site-packages/umap/umap_.py:2214: UserWarning:\n",
      "\n",
      "n_neighbors is larger than the dataset size; truncating to X.shape[0] - 1\n",
      "\n"
     ]
    },
    {
     "name": "stdout",
     "output_type": "stream",
     "text": [
      "CPU times: user 28.6 s, sys: 96 ms, total: 28.7 s\n",
      "Wall time: 10.9 s\n"
     ]
    }
   ],
   "source": [
    "%%time \n",
    "reducer = umap.UMAP(random_state=1)\n",
    "sentences = []\n",
    "Z = []\n",
    "for t, X in out_ds:\n",
    "    sentences += [t['sentence'].numpy().astype(np.str)]\n",
    "    new_points = reducer.fit_transform(X)\n",
    "    Z += [new_points]\n",
    "sentences = np.concatenate(sentences)\n",
    "Z = np.concatenate(Z)"
   ]
  },
  {
   "cell_type": "code",
   "execution_count": 91,
   "id": "square-electronics",
   "metadata": {},
   "outputs": [
    {
     "data": {
      "application/vnd.plotly.v1+json": {
       "config": {
        "plotlyServerURL": "https://plot.ly"
       },
       "data": [
        {
         "customdata": [
          [
           "It's not about the money, it's about sending a message."
          ],
          [
           "Math Professor Scott Steiner says the numbers spell DISASTER for Gamestop shorts"
          ],
          [
           "Exit the system."
          ],
          [
           "\"The CEO of NASDAQ pushed to halt trading \\\"to give investors a chance to recalibrate their positions\\\".\""
          ],
          [
           "Now SEC is investigating, brokers are disallowing buying more calls."
          ],
          [
           "\"This is the institutions flat out admitting they will change the rules to bail out the rich but if it happens to us, we get a \\\"well shucks you should have known investing is risky!\""
          ],
          [
           "\"have you tried cutting out avocados and coffee, maybe doing Uber on the side?\\\".\""
          ],
          [
           "We may have collectively driven up enough sentiment in wall street to make other big players go long on GME with us we do not have the money to move the stock as much as it did alone ."
          ],
          [
           "we didn't hurt wall street as a whole, just a few funds went down while others went up and profited off the shorts the same as us."
          ],
          [
           "The media wants to pin the blame on us."
          ],
          [
           "It should be crystal clear that this is a rigged game by now."
          ],
          [
           "Its time to build new exchanges that can't arbitrarily change the rules on us."
          ],
          [
           "Cr o has some version of these, maybe they can be repurposed to be trade stock without government intervention."
          ],
          [
           "I don't know exactly what it will look like yet, but the broad next steps i see are ."
          ],
          [
           "1. exit the current financial system"
          ],
          [
           "2. build a new one."
          ]
         ],
         "hovertemplate": "x0=%{x}<br>x1=%{y}<br>text=%{customdata[0]}<extra></extra>",
         "legendgroup": "",
         "marker": {
          "color": "#636efa",
          "symbol": "circle"
         },
         "mode": "markers",
         "name": "",
         "orientation": "v",
         "showlegend": false,
         "type": "scatter",
         "x": [
          5.908945083618164,
          4.286233425140381,
          6.474703788757324,
          4.311406135559082,
          4.9360809326171875,
          5.406001567840576,
          5.876519203186035,
          5.086558818817139,
          17.912120819091797,
          18.084239959716797,
          16.590864181518555,
          17.189838409423828,
          17.314319610595703,
          15.87470817565918,
          16.48318862915039,
          16.078655242919922
         ],
         "xaxis": "x",
         "y": [
          1.8791471719741821,
          3.352707862854004,
          2.338298797607422,
          2.608423948287964,
          1.8337774276733398,
          3.831521511077881,
          3.162919521331787,
          2.7636311054229736,
          -6.299059867858887,
          -7.347899913787842,
          -7.887046813964844,
          -6.552299976348877,
          -7.284425735473633,
          -7.383812427520752,
          -5.983107566833496,
          -6.576857566833496
         ],
         "yaxis": "y"
        }
       ],
       "layout": {
        "autosize": true,
        "legend": {
         "tracegroupgap": 0
        },
        "margin": {
         "t": 60
        },
        "template": {
         "data": {
          "bar": [
           {
            "error_x": {
             "color": "#2a3f5f"
            },
            "error_y": {
             "color": "#2a3f5f"
            },
            "marker": {
             "line": {
              "color": "#E5ECF6",
              "width": 0.5
             }
            },
            "type": "bar"
           }
          ],
          "barpolar": [
           {
            "marker": {
             "line": {
              "color": "#E5ECF6",
              "width": 0.5
             }
            },
            "type": "barpolar"
           }
          ],
          "carpet": [
           {
            "aaxis": {
             "endlinecolor": "#2a3f5f",
             "gridcolor": "white",
             "linecolor": "white",
             "minorgridcolor": "white",
             "startlinecolor": "#2a3f5f"
            },
            "baxis": {
             "endlinecolor": "#2a3f5f",
             "gridcolor": "white",
             "linecolor": "white",
             "minorgridcolor": "white",
             "startlinecolor": "#2a3f5f"
            },
            "type": "carpet"
           }
          ],
          "choropleth": [
           {
            "colorbar": {
             "outlinewidth": 0,
             "ticks": ""
            },
            "type": "choropleth"
           }
          ],
          "contour": [
           {
            "colorbar": {
             "outlinewidth": 0,
             "ticks": ""
            },
            "colorscale": [
             [
              0,
              "#0d0887"
             ],
             [
              0.1111111111111111,
              "#46039f"
             ],
             [
              0.2222222222222222,
              "#7201a8"
             ],
             [
              0.3333333333333333,
              "#9c179e"
             ],
             [
              0.4444444444444444,
              "#bd3786"
             ],
             [
              0.5555555555555556,
              "#d8576b"
             ],
             [
              0.6666666666666666,
              "#ed7953"
             ],
             [
              0.7777777777777778,
              "#fb9f3a"
             ],
             [
              0.8888888888888888,
              "#fdca26"
             ],
             [
              1,
              "#f0f921"
             ]
            ],
            "type": "contour"
           }
          ],
          "contourcarpet": [
           {
            "colorbar": {
             "outlinewidth": 0,
             "ticks": ""
            },
            "type": "contourcarpet"
           }
          ],
          "heatmap": [
           {
            "colorbar": {
             "outlinewidth": 0,
             "ticks": ""
            },
            "colorscale": [
             [
              0,
              "#0d0887"
             ],
             [
              0.1111111111111111,
              "#46039f"
             ],
             [
              0.2222222222222222,
              "#7201a8"
             ],
             [
              0.3333333333333333,
              "#9c179e"
             ],
             [
              0.4444444444444444,
              "#bd3786"
             ],
             [
              0.5555555555555556,
              "#d8576b"
             ],
             [
              0.6666666666666666,
              "#ed7953"
             ],
             [
              0.7777777777777778,
              "#fb9f3a"
             ],
             [
              0.8888888888888888,
              "#fdca26"
             ],
             [
              1,
              "#f0f921"
             ]
            ],
            "type": "heatmap"
           }
          ],
          "heatmapgl": [
           {
            "colorbar": {
             "outlinewidth": 0,
             "ticks": ""
            },
            "colorscale": [
             [
              0,
              "#0d0887"
             ],
             [
              0.1111111111111111,
              "#46039f"
             ],
             [
              0.2222222222222222,
              "#7201a8"
             ],
             [
              0.3333333333333333,
              "#9c179e"
             ],
             [
              0.4444444444444444,
              "#bd3786"
             ],
             [
              0.5555555555555556,
              "#d8576b"
             ],
             [
              0.6666666666666666,
              "#ed7953"
             ],
             [
              0.7777777777777778,
              "#fb9f3a"
             ],
             [
              0.8888888888888888,
              "#fdca26"
             ],
             [
              1,
              "#f0f921"
             ]
            ],
            "type": "heatmapgl"
           }
          ],
          "histogram": [
           {
            "marker": {
             "colorbar": {
              "outlinewidth": 0,
              "ticks": ""
             }
            },
            "type": "histogram"
           }
          ],
          "histogram2d": [
           {
            "colorbar": {
             "outlinewidth": 0,
             "ticks": ""
            },
            "colorscale": [
             [
              0,
              "#0d0887"
             ],
             [
              0.1111111111111111,
              "#46039f"
             ],
             [
              0.2222222222222222,
              "#7201a8"
             ],
             [
              0.3333333333333333,
              "#9c179e"
             ],
             [
              0.4444444444444444,
              "#bd3786"
             ],
             [
              0.5555555555555556,
              "#d8576b"
             ],
             [
              0.6666666666666666,
              "#ed7953"
             ],
             [
              0.7777777777777778,
              "#fb9f3a"
             ],
             [
              0.8888888888888888,
              "#fdca26"
             ],
             [
              1,
              "#f0f921"
             ]
            ],
            "type": "histogram2d"
           }
          ],
          "histogram2dcontour": [
           {
            "colorbar": {
             "outlinewidth": 0,
             "ticks": ""
            },
            "colorscale": [
             [
              0,
              "#0d0887"
             ],
             [
              0.1111111111111111,
              "#46039f"
             ],
             [
              0.2222222222222222,
              "#7201a8"
             ],
             [
              0.3333333333333333,
              "#9c179e"
             ],
             [
              0.4444444444444444,
              "#bd3786"
             ],
             [
              0.5555555555555556,
              "#d8576b"
             ],
             [
              0.6666666666666666,
              "#ed7953"
             ],
             [
              0.7777777777777778,
              "#fb9f3a"
             ],
             [
              0.8888888888888888,
              "#fdca26"
             ],
             [
              1,
              "#f0f921"
             ]
            ],
            "type": "histogram2dcontour"
           }
          ],
          "mesh3d": [
           {
            "colorbar": {
             "outlinewidth": 0,
             "ticks": ""
            },
            "type": "mesh3d"
           }
          ],
          "parcoords": [
           {
            "line": {
             "colorbar": {
              "outlinewidth": 0,
              "ticks": ""
             }
            },
            "type": "parcoords"
           }
          ],
          "pie": [
           {
            "automargin": true,
            "type": "pie"
           }
          ],
          "scatter": [
           {
            "marker": {
             "colorbar": {
              "outlinewidth": 0,
              "ticks": ""
             }
            },
            "type": "scatter"
           }
          ],
          "scatter3d": [
           {
            "line": {
             "colorbar": {
              "outlinewidth": 0,
              "ticks": ""
             }
            },
            "marker": {
             "colorbar": {
              "outlinewidth": 0,
              "ticks": ""
             }
            },
            "type": "scatter3d"
           }
          ],
          "scattercarpet": [
           {
            "marker": {
             "colorbar": {
              "outlinewidth": 0,
              "ticks": ""
             }
            },
            "type": "scattercarpet"
           }
          ],
          "scattergeo": [
           {
            "marker": {
             "colorbar": {
              "outlinewidth": 0,
              "ticks": ""
             }
            },
            "type": "scattergeo"
           }
          ],
          "scattergl": [
           {
            "marker": {
             "colorbar": {
              "outlinewidth": 0,
              "ticks": ""
             }
            },
            "type": "scattergl"
           }
          ],
          "scattermapbox": [
           {
            "marker": {
             "colorbar": {
              "outlinewidth": 0,
              "ticks": ""
             }
            },
            "type": "scattermapbox"
           }
          ],
          "scatterpolar": [
           {
            "marker": {
             "colorbar": {
              "outlinewidth": 0,
              "ticks": ""
             }
            },
            "type": "scatterpolar"
           }
          ],
          "scatterpolargl": [
           {
            "marker": {
             "colorbar": {
              "outlinewidth": 0,
              "ticks": ""
             }
            },
            "type": "scatterpolargl"
           }
          ],
          "scatterternary": [
           {
            "marker": {
             "colorbar": {
              "outlinewidth": 0,
              "ticks": ""
             }
            },
            "type": "scatterternary"
           }
          ],
          "surface": [
           {
            "colorbar": {
             "outlinewidth": 0,
             "ticks": ""
            },
            "colorscale": [
             [
              0,
              "#0d0887"
             ],
             [
              0.1111111111111111,
              "#46039f"
             ],
             [
              0.2222222222222222,
              "#7201a8"
             ],
             [
              0.3333333333333333,
              "#9c179e"
             ],
             [
              0.4444444444444444,
              "#bd3786"
             ],
             [
              0.5555555555555556,
              "#d8576b"
             ],
             [
              0.6666666666666666,
              "#ed7953"
             ],
             [
              0.7777777777777778,
              "#fb9f3a"
             ],
             [
              0.8888888888888888,
              "#fdca26"
             ],
             [
              1,
              "#f0f921"
             ]
            ],
            "type": "surface"
           }
          ],
          "table": [
           {
            "cells": {
             "fill": {
              "color": "#EBF0F8"
             },
             "line": {
              "color": "white"
             }
            },
            "header": {
             "fill": {
              "color": "#C8D4E3"
             },
             "line": {
              "color": "white"
             }
            },
            "type": "table"
           }
          ]
         },
         "layout": {
          "annotationdefaults": {
           "arrowcolor": "#2a3f5f",
           "arrowhead": 0,
           "arrowwidth": 1
          },
          "autotypenumbers": "strict",
          "coloraxis": {
           "colorbar": {
            "outlinewidth": 0,
            "ticks": ""
           }
          },
          "colorscale": {
           "diverging": [
            [
             0,
             "#8e0152"
            ],
            [
             0.1,
             "#c51b7d"
            ],
            [
             0.2,
             "#de77ae"
            ],
            [
             0.3,
             "#f1b6da"
            ],
            [
             0.4,
             "#fde0ef"
            ],
            [
             0.5,
             "#f7f7f7"
            ],
            [
             0.6,
             "#e6f5d0"
            ],
            [
             0.7,
             "#b8e186"
            ],
            [
             0.8,
             "#7fbc41"
            ],
            [
             0.9,
             "#4d9221"
            ],
            [
             1,
             "#276419"
            ]
           ],
           "sequential": [
            [
             0,
             "#0d0887"
            ],
            [
             0.1111111111111111,
             "#46039f"
            ],
            [
             0.2222222222222222,
             "#7201a8"
            ],
            [
             0.3333333333333333,
             "#9c179e"
            ],
            [
             0.4444444444444444,
             "#bd3786"
            ],
            [
             0.5555555555555556,
             "#d8576b"
            ],
            [
             0.6666666666666666,
             "#ed7953"
            ],
            [
             0.7777777777777778,
             "#fb9f3a"
            ],
            [
             0.8888888888888888,
             "#fdca26"
            ],
            [
             1,
             "#f0f921"
            ]
           ],
           "sequentialminus": [
            [
             0,
             "#0d0887"
            ],
            [
             0.1111111111111111,
             "#46039f"
            ],
            [
             0.2222222222222222,
             "#7201a8"
            ],
            [
             0.3333333333333333,
             "#9c179e"
            ],
            [
             0.4444444444444444,
             "#bd3786"
            ],
            [
             0.5555555555555556,
             "#d8576b"
            ],
            [
             0.6666666666666666,
             "#ed7953"
            ],
            [
             0.7777777777777778,
             "#fb9f3a"
            ],
            [
             0.8888888888888888,
             "#fdca26"
            ],
            [
             1,
             "#f0f921"
            ]
           ]
          },
          "colorway": [
           "#636efa",
           "#EF553B",
           "#00cc96",
           "#ab63fa",
           "#FFA15A",
           "#19d3f3",
           "#FF6692",
           "#B6E880",
           "#FF97FF",
           "#FECB52"
          ],
          "font": {
           "color": "#2a3f5f"
          },
          "geo": {
           "bgcolor": "white",
           "lakecolor": "white",
           "landcolor": "#E5ECF6",
           "showlakes": true,
           "showland": true,
           "subunitcolor": "white"
          },
          "hoverlabel": {
           "align": "left"
          },
          "hovermode": "closest",
          "mapbox": {
           "style": "light"
          },
          "paper_bgcolor": "white",
          "plot_bgcolor": "#E5ECF6",
          "polar": {
           "angularaxis": {
            "gridcolor": "white",
            "linecolor": "white",
            "ticks": ""
           },
           "bgcolor": "#E5ECF6",
           "radialaxis": {
            "gridcolor": "white",
            "linecolor": "white",
            "ticks": ""
           }
          },
          "scene": {
           "xaxis": {
            "backgroundcolor": "#E5ECF6",
            "gridcolor": "white",
            "gridwidth": 2,
            "linecolor": "white",
            "showbackground": true,
            "ticks": "",
            "zerolinecolor": "white"
           },
           "yaxis": {
            "backgroundcolor": "#E5ECF6",
            "gridcolor": "white",
            "gridwidth": 2,
            "linecolor": "white",
            "showbackground": true,
            "ticks": "",
            "zerolinecolor": "white"
           },
           "zaxis": {
            "backgroundcolor": "#E5ECF6",
            "gridcolor": "white",
            "gridwidth": 2,
            "linecolor": "white",
            "showbackground": true,
            "ticks": "",
            "zerolinecolor": "white"
           }
          },
          "shapedefaults": {
           "line": {
            "color": "#2a3f5f"
           }
          },
          "ternary": {
           "aaxis": {
            "gridcolor": "white",
            "linecolor": "white",
            "ticks": ""
           },
           "baxis": {
            "gridcolor": "white",
            "linecolor": "white",
            "ticks": ""
           },
           "bgcolor": "#E5ECF6",
           "caxis": {
            "gridcolor": "white",
            "linecolor": "white",
            "ticks": ""
           }
          },
          "title": {
           "x": 0.05
          },
          "xaxis": {
           "automargin": true,
           "gridcolor": "white",
           "linecolor": "white",
           "ticks": "",
           "title": {
            "standoff": 15
           },
           "zerolinecolor": "white",
           "zerolinewidth": 2
          },
          "yaxis": {
           "automargin": true,
           "gridcolor": "white",
           "linecolor": "white",
           "ticks": "",
           "title": {
            "standoff": 15
           },
           "zerolinecolor": "white",
           "zerolinewidth": 2
          }
         }
        },
        "xaxis": {
         "anchor": "y",
         "autorange": true,
         "domain": [
          0,
          1
         ],
         "range": [
          3.4609465903263557,
          18.909526794530823
         ],
         "title": {
          "text": "x0"
         },
         "type": "linear"
        },
        "yaxis": {
         "anchor": "x",
         "autorange": true,
         "domain": [
          0,
          1
         ],
         "range": [
          -8.71792136371465,
          4.662396060827687
         ],
         "title": {
          "text": "x1"
         },
         "type": "linear"
        }
       }
      },
      "image/png": "[encoded data removed]",
      "text/html": [
       "<div>                            <div id=\"e8b18f01-7ae8-4441-b834-4ef9d7822336\" class=\"plotly-graph-div\" style=\"height:525px; width:100%;\"></div>            <script type=\"text/javascript\">                require([\"plotly\"], function(Plotly) {                    window.PLOTLYENV=window.PLOTLYENV || {};                                    if (document.getElementById(\"e8b18f01-7ae8-4441-b834-4ef9d7822336\")) {                    Plotly.newPlot(                        \"e8b18f01-7ae8-4441-b834-4ef9d7822336\",                        [{\"customdata\": [[\"It's not about the money, it's about sending a message.\"], [\"Math Professor Scott Steiner says the numbers spell DISASTER for Gamestop shorts\"], [\"Exit the system.\"], [\"\\\"The CEO of NASDAQ pushed to halt trading \\\\\\\"to give investors a chance to recalibrate their positions\\\\\\\".\\\"\"], [\"Now SEC is investigating, brokers are disallowing buying more calls.\"], [\"\\\"This is the institutions flat out admitting they will change the rules to bail out the rich but if it happens to us, we get a \\\\\\\"well shucks you should have known investing is risky!\\\"\"], [\"\\\"have you tried cutting out avocados and coffee, maybe doing Uber on the side?\\\\\\\".\\\"\"], [\"We may have collectively driven up enough sentiment in wall street to make other big players go long on GME with us we do not have the money to move the stock as much as it did alone .\"], [\"we didn't hurt wall street as a whole, just a few funds went down while others went up and profited off the shorts the same as us.\"], [\"The media wants to pin the blame on us.\"], [\"It should be crystal clear that this is a rigged game by now.\"], [\"Its time to build new exchanges that can't arbitrarily change the rules on us.\"], [\"Cr o has some version of these, maybe they can be repurposed to be trade stock without government intervention.\"], [\"I don't know exactly what it will look like yet, but the broad next steps i see are .\"], [\"1. exit the current financial system\"], [\"2. build a new one.\"]], \"hovertemplate\": \"x0=%{x}<br>x1=%{y}<br>text=%{customdata[0]}<extra></extra>\", \"legendgroup\": \"\", \"marker\": {\"color\": \"#636efa\", \"symbol\": \"circle\"}, \"mode\": \"markers\", \"name\": \"\", \"orientation\": \"v\", \"showlegend\": false, \"type\": \"scatter\", \"x\": [5.908945083618164, 4.286233425140381, 6.474703788757324, 4.311406135559082, 4.9360809326171875, 5.406001567840576, 5.876519203186035, 5.086558818817139, 17.912120819091797, 18.084239959716797, 16.590864181518555, 17.189838409423828, 17.314319610595703, 15.87470817565918, 16.48318862915039, 16.078655242919922], \"xaxis\": \"x\", \"y\": [1.8791471719741821, 3.352707862854004, 2.338298797607422, 2.608423948287964, 1.8337774276733398, 3.831521511077881, 3.162919521331787, 2.7636311054229736, -6.299059867858887, -7.347899913787842, -7.887046813964844, -6.552299976348877, -7.284425735473633, -7.383812427520752, -5.983107566833496, -6.576857566833496], \"yaxis\": \"y\"}],                        {\"legend\": {\"tracegroupgap\": 0}, \"margin\": {\"t\": 60}, \"template\": {\"data\": {\"bar\": [{\"error_x\": {\"color\": \"#2a3f5f\"}, \"error_y\": {\"color\": \"#2a3f5f\"}, \"marker\": {\"line\": {\"color\": \"#E5ECF6\", \"width\": 0.5}}, \"type\": \"bar\"}], \"barpolar\": [{\"marker\": {\"line\": {\"color\": \"#E5ECF6\", \"width\": 0.5}}, \"type\": \"barpolar\"}], \"carpet\": [{\"aaxis\": {\"endlinecolor\": \"#2a3f5f\", \"gridcolor\": \"white\", \"linecolor\": \"white\", \"minorgridcolor\": \"white\", \"startlinecolor\": \"#2a3f5f\"}, \"baxis\": {\"endlinecolor\": \"#2a3f5f\", \"gridcolor\": \"white\", \"linecolor\": \"white\", \"minorgridcolor\": \"white\", \"startlinecolor\": \"#2a3f5f\"}, \"type\": \"carpet\"}], \"choropleth\": [{\"colorbar\": {\"outlinewidth\": 0, \"ticks\": \"\"}, \"type\": \"choropleth\"}], \"contour\": [{\"colorbar\": {\"outlinewidth\": 0, \"ticks\": \"\"}, \"colorscale\": [[0.0, \"#0d0887\"], [0.1111111111111111, \"#46039f\"], [0.2222222222222222, \"#7201a8\"], [0.3333333333333333, \"#9c179e\"], [0.4444444444444444, \"#bd3786\"], [0.5555555555555556, \"#d8576b\"], [0.6666666666666666, \"#ed7953\"], [0.7777777777777778, \"#fb9f3a\"], [0.8888888888888888, \"#fdca26\"], [1.0, \"#f0f921\"]], \"type\": \"contour\"}], \"contourcarpet\": [{\"colorbar\": {\"outlinewidth\": 0, \"ticks\": \"\"}, \"type\": \"contourcarpet\"}], \"heatmap\": [{\"colorbar\": {\"outlinewidth\": 0, \"ticks\": \"\"}, \"colorscale\": [[0.0, \"#0d0887\"], [0.1111111111111111, \"#46039f\"], [0.2222222222222222, \"#7201a8\"], [0.3333333333333333, \"#9c179e\"], [0.4444444444444444, \"#bd3786\"], [0.5555555555555556, \"#d8576b\"], [0.6666666666666666, \"#ed7953\"], [0.7777777777777778, \"#fb9f3a\"], [0.8888888888888888, \"#fdca26\"], [1.0, \"#f0f921\"]], \"type\": \"heatmap\"}], \"heatmapgl\": [{\"colorbar\": {\"outlinewidth\": 0, \"ticks\": \"\"}, \"colorscale\": [[0.0, \"#0d0887\"], [0.1111111111111111, \"#46039f\"], [0.2222222222222222, \"#7201a8\"], [0.3333333333333333, \"#9c179e\"], [0.4444444444444444, \"#bd3786\"], [0.5555555555555556, \"#d8576b\"], [0.6666666666666666, \"#ed7953\"], [0.7777777777777778, \"#fb9f3a\"], [0.8888888888888888, \"#fdca26\"], [1.0, \"#f0f921\"]], \"type\": \"heatmapgl\"}], \"histogram\": [{\"marker\": {\"colorbar\": {\"outlinewidth\": 0, \"ticks\": \"\"}}, \"type\": \"histogram\"}], \"histogram2d\": [{\"colorbar\": {\"outlinewidth\": 0, \"ticks\": \"\"}, \"colorscale\": [[0.0, \"#0d0887\"], [0.1111111111111111, \"#46039f\"], [0.2222222222222222, \"#7201a8\"], [0.3333333333333333, \"#9c179e\"], [0.4444444444444444, \"#bd3786\"], [0.5555555555555556, \"#d8576b\"], [0.6666666666666666, \"#ed7953\"], [0.7777777777777778, \"#fb9f3a\"], [0.8888888888888888, \"#fdca26\"], [1.0, \"#f0f921\"]], \"type\": \"histogram2d\"}], \"histogram2dcontour\": [{\"colorbar\": {\"outlinewidth\": 0, \"ticks\": \"\"}, \"colorscale\": [[0.0, \"#0d0887\"], [0.1111111111111111, \"#46039f\"], [0.2222222222222222, \"#7201a8\"], [0.3333333333333333, \"#9c179e\"], [0.4444444444444444, \"#bd3786\"], [0.5555555555555556, \"#d8576b\"], [0.6666666666666666, \"#ed7953\"], [0.7777777777777778, \"#fb9f3a\"], [0.8888888888888888, \"#fdca26\"], [1.0, \"#f0f921\"]], \"type\": \"histogram2dcontour\"}], \"mesh3d\": [{\"colorbar\": {\"outlinewidth\": 0, \"ticks\": \"\"}, \"type\": \"mesh3d\"}], \"parcoords\": [{\"line\": {\"colorbar\": {\"outlinewidth\": 0, \"ticks\": \"\"}}, \"type\": \"parcoords\"}], \"pie\": [{\"automargin\": true, \"type\": \"pie\"}], \"scatter\": [{\"marker\": {\"colorbar\": {\"outlinewidth\": 0, \"ticks\": \"\"}}, \"type\": \"scatter\"}], \"scatter3d\": [{\"line\": {\"colorbar\": {\"outlinewidth\": 0, \"ticks\": \"\"}}, \"marker\": {\"colorbar\": {\"outlinewidth\": 0, \"ticks\": \"\"}}, \"type\": \"scatter3d\"}], \"scattercarpet\": [{\"marker\": {\"colorbar\": {\"outlinewidth\": 0, \"ticks\": \"\"}}, \"type\": \"scattercarpet\"}], \"scattergeo\": [{\"marker\": {\"colorbar\": {\"outlinewidth\": 0, \"ticks\": \"\"}}, \"type\": \"scattergeo\"}], \"scattergl\": [{\"marker\": {\"colorbar\": {\"outlinewidth\": 0, \"ticks\": \"\"}}, \"type\": \"scattergl\"}], \"scattermapbox\": [{\"marker\": {\"colorbar\": {\"outlinewidth\": 0, \"ticks\": \"\"}}, \"type\": \"scattermapbox\"}], \"scatterpolar\": [{\"marker\": {\"colorbar\": {\"outlinewidth\": 0, \"ticks\": \"\"}}, \"type\": \"scatterpolar\"}], \"scatterpolargl\": [{\"marker\": {\"colorbar\": {\"outlinewidth\": 0, \"ticks\": \"\"}}, \"type\": \"scatterpolargl\"}], \"scatterternary\": [{\"marker\": {\"colorbar\": {\"outlinewidth\": 0, \"ticks\": \"\"}}, \"type\": \"scatterternary\"}], \"surface\": [{\"colorbar\": {\"outlinewidth\": 0, \"ticks\": \"\"}, \"colorscale\": [[0.0, \"#0d0887\"], [0.1111111111111111, \"#46039f\"], [0.2222222222222222, \"#7201a8\"], [0.3333333333333333, \"#9c179e\"], [0.4444444444444444, \"#bd3786\"], [0.5555555555555556, \"#d8576b\"], [0.6666666666666666, \"#ed7953\"], [0.7777777777777778, \"#fb9f3a\"], [0.8888888888888888, \"#fdca26\"], [1.0, \"#f0f921\"]], \"type\": \"surface\"}], \"table\": [{\"cells\": {\"fill\": {\"color\": \"#EBF0F8\"}, \"line\": {\"color\": \"white\"}}, \"header\": {\"fill\": {\"color\": \"#C8D4E3\"}, \"line\": {\"color\": \"white\"}}, \"type\": \"table\"}]}, \"layout\": {\"annotationdefaults\": {\"arrowcolor\": \"#2a3f5f\", \"arrowhead\": 0, \"arrowwidth\": 1}, \"autotypenumbers\": \"strict\", \"coloraxis\": {\"colorbar\": {\"outlinewidth\": 0, \"ticks\": \"\"}}, \"colorscale\": {\"diverging\": [[0, \"#8e0152\"], [0.1, \"#c51b7d\"], [0.2, \"#de77ae\"], [0.3, \"#f1b6da\"], [0.4, \"#fde0ef\"], [0.5, \"#f7f7f7\"], [0.6, \"#e6f5d0\"], [0.7, \"#b8e186\"], [0.8, \"#7fbc41\"], [0.9, \"#4d9221\"], [1, \"#276419\"]], \"sequential\": [[0.0, \"#0d0887\"], [0.1111111111111111, \"#46039f\"], [0.2222222222222222, \"#7201a8\"], [0.3333333333333333, \"#9c179e\"], [0.4444444444444444, \"#bd3786\"], [0.5555555555555556, \"#d8576b\"], [0.6666666666666666, \"#ed7953\"], [0.7777777777777778, \"#fb9f3a\"], [0.8888888888888888, \"#fdca26\"], [1.0, \"#f0f921\"]], \"sequentialminus\": [[0.0, \"#0d0887\"], [0.1111111111111111, \"#46039f\"], [0.2222222222222222, \"#7201a8\"], [0.3333333333333333, \"#9c179e\"], [0.4444444444444444, \"#bd3786\"], [0.5555555555555556, \"#d8576b\"], [0.6666666666666666, \"#ed7953\"], [0.7777777777777778, \"#fb9f3a\"], [0.8888888888888888, \"#fdca26\"], [1.0, \"#f0f921\"]]}, \"colorway\": [\"#636efa\", \"#EF553B\", \"#00cc96\", \"#ab63fa\", \"#FFA15A\", \"#19d3f3\", \"#FF6692\", \"#B6E880\", \"#FF97FF\", \"#FECB52\"], \"font\": {\"color\": \"#2a3f5f\"}, \"geo\": {\"bgcolor\": \"white\", \"lakecolor\": \"white\", \"landcolor\": \"#E5ECF6\", \"showlakes\": true, \"showland\": true, \"subunitcolor\": \"white\"}, \"hoverlabel\": {\"align\": \"left\"}, \"hovermode\": \"closest\", \"mapbox\": {\"style\": \"light\"}, \"paper_bgcolor\": \"white\", \"plot_bgcolor\": \"#E5ECF6\", \"polar\": {\"angularaxis\": {\"gridcolor\": \"white\", \"linecolor\": \"white\", \"ticks\": \"\"}, \"bgcolor\": \"#E5ECF6\", \"radialaxis\": {\"gridcolor\": \"white\", \"linecolor\": \"white\", \"ticks\": \"\"}}, \"scene\": {\"xaxis\": {\"backgroundcolor\": \"#E5ECF6\", \"gridcolor\": \"white\", \"gridwidth\": 2, \"linecolor\": \"white\", \"showbackground\": true, \"ticks\": \"\", \"zerolinecolor\": \"white\"}, \"yaxis\": {\"backgroundcolor\": \"#E5ECF6\", \"gridcolor\": \"white\", \"gridwidth\": 2, \"linecolor\": \"white\", \"showbackground\": true, \"ticks\": \"\", \"zerolinecolor\": \"white\"}, \"zaxis\": {\"backgroundcolor\": \"#E5ECF6\", \"gridcolor\": \"white\", \"gridwidth\": 2, \"linecolor\": \"white\", \"showbackground\": true, \"ticks\": \"\", \"zerolinecolor\": \"white\"}}, \"shapedefaults\": {\"line\": {\"color\": \"#2a3f5f\"}}, \"ternary\": {\"aaxis\": {\"gridcolor\": \"white\", \"linecolor\": \"white\", \"ticks\": \"\"}, \"baxis\": {\"gridcolor\": \"white\", \"linecolor\": \"white\", \"ticks\": \"\"}, \"bgcolor\": \"#E5ECF6\", \"caxis\": {\"gridcolor\": \"white\", \"linecolor\": \"white\", \"ticks\": \"\"}}, \"title\": {\"x\": 0.05}, \"xaxis\": {\"automargin\": true, \"gridcolor\": \"white\", \"linecolor\": \"white\", \"ticks\": \"\", \"title\": {\"standoff\": 15}, \"zerolinecolor\": \"white\", \"zerolinewidth\": 2}, \"yaxis\": {\"automargin\": true, \"gridcolor\": \"white\", \"linecolor\": \"white\", \"ticks\": \"\", \"title\": {\"standoff\": 15}, \"zerolinecolor\": \"white\", \"zerolinewidth\": 2}}}, \"xaxis\": {\"anchor\": \"y\", \"domain\": [0.0, 1.0], \"title\": {\"text\": \"x0\"}}, \"yaxis\": {\"anchor\": \"x\", \"domain\": [0.0, 1.0], \"title\": {\"text\": \"x1\"}}},                        {\"responsive\": true}                    ).then(function(){\n",
       "                            \n",
       "var gd = document.getElementById('e8b18f01-7ae8-4441-b834-4ef9d7822336');\n",
       "var x = new MutationObserver(function (mutations, observer) {{\n",
       "        var display = window.getComputedStyle(gd).display;\n",
       "        if (!display || display === 'none') {{\n",
       "            console.log([gd, 'removed!']);\n",
       "            Plotly.purge(gd);\n",
       "            observer.disconnect();\n",
       "        }}\n",
       "}});\n",
       "\n",
       "// Listen for the removal of the full notebook cells\n",
       "var notebookContainer = gd.closest('#notebook-container');\n",
       "if (notebookContainer) {{\n",
       "    x.observe(notebookContainer, {childList: true});\n",
       "}}\n",
       "\n",
       "// Listen for the clearing of the current output cell\n",
       "var outputEl = gd.closest('.output');\n",
       "if (outputEl) {{\n",
       "    x.observe(outputEl, {childList: true});\n",
       "}}\n",
       "\n",
       "                        })                };                });            </script>        </div>"
      ]
     },
     "metadata": {},
     "output_type": "display_data"
    }
   ],
   "source": [
    "gdf = (\n",
    "    pd.DataFrame(Z, columns=[\"x0\", \"x1\"])\n",
    ").assign(text=sentences)\n",
    "\n",
    "hover_dict = {\"text\":True}\n",
    "\n",
    "fig = px.scatter(gdf, x=\"x0\", y=\"x1\", hover_data=hover_dict)\n",
    "fig.show()"
   ]
  },
  {
   "cell_type": "markdown",
   "id": "cooperative-catalog",
   "metadata": {},
   "source": [
    "# Scratch: using petastorm for interface Spark <-> Tensorflow\n",
    "Petastorm is one way to avoid outputing the cleaned data to disk and then reimporting. It writes the files to parquet and gives a fast interface to tensorflow. Probably it is more trouble than it's worth (and a tweak is needed for TF2.x?) at the moment?"
   ]
  },
  {
   "cell_type": "code",
   "execution_count": 44,
   "id": "addressed-clearing",
   "metadata": {},
   "outputs": [],
   "source": [
    "# I also looked at using TFRecords, but it seemed\n",
    "# like it might be a pain to integrate the tf-spark\n",
    "# connector with Spark NLP.\n",
    "\n",
    "try:\n",
    "    import petastorm\n",
    "except ModuleNotFoundError:\n",
    "    ! pip install petastorm==0.9.8\n",
    "    import petastorm\n",
    "    \n",
    "from petastorm.spark import (SparkDatasetConverter, \n",
    "                             make_spark_converter)\n",
    "\n",
    "import tensorflow.compat.v1 as tf"
   ]
  },
  {
   "cell_type": "code",
   "execution_count": 28,
   "id": "regional-purse",
   "metadata": {},
   "outputs": [
    {
     "name": "stdout",
     "output_type": "stream",
     "text": [
      "CPU times: user 34.7 ms, sys: 10.7 ms, total: 45.4 ms\n",
      "Wall time: 364 ms\n"
     ]
    }
   ],
   "source": [
    "%%time\n",
    "CACHE_DIR = f\"{os.environ['PWD']}/data/cache/\"\n",
    "spark.conf.set(SparkDatasetConverter.PARENT_CACHE_DIR_URL_CONF,\n",
    "               f\"file://{CACHE_DIR}\")\n",
    "# this writes the parquet file(s)\n",
    "converter = make_spark_converter(out_df)\n",
    "# with this context, we have access to an object of type\n",
    "# tensorflow.python.data.ops.dataset_ops.DatasetV1Adapter\n",
    "dataset_context_manager = converter.make_tf_dataset()"
   ]
  },
  {
   "cell_type": "code",
   "execution_count": 43,
   "id": "linear-session",
   "metadata": {},
   "outputs": [
    {
     "name": "stdout",
     "output_type": "stream",
     "text": [
      "<DatasetV1Adapter shapes: inferred_schema_view(id=(None,), timestamp=(None,), sentence_num=(None,), sentence=(None,)), types: inferred_schema_view(id=tf.string, timestamp=tf.int64, sentence_num=tf.string, sentence=tf.string)> \n",
      "\n",
      "inferred_schema_view(id=<tf.Tensor: shape=(32,), dtype=string, numpy=\n",
      "array([b'l6ulcx', b'l6uibd', b'l6uhhn', b'l6uhhn', b'l6uhhn', b'l6uhhn',\n",
      "       b'l6uhhn', b'l6uhhn', b'l6uhhn', b'l6uhhn', b'l6uhhn', b'l6uhhn',\n",
      "       b'l6uhhn', b'l6uhhn', b'l6uhhn', b'l6ugk6', b'l6ugk6', b'l6ufgy',\n",
      "       b'l6uf7d', b'l6uf6d', b'l6uf6d', b'l6uf6d', b'l6uf6d', b'l6uf6d',\n",
      "       b'l6uf6d', b'l6uf6d', b'l6uf6d', b'l6uf6d', b'l6uf6d', b'l6ub9l',\n",
      "       b'l6ub9l', b'l6ub9l'], dtype=object)>, timestamp=<tf.Tensor: shape=(32,), dtype=int64, numpy=\n",
      "array([1611887861000000000, 1611887530000000000, 1611887435000000000,\n",
      "       1611887435000000000, 1611887435000000000, 1611887435000000000,\n",
      "       1611887435000000000, 1611887435000000000, 1611887435000000000,\n",
      "       1611887435000000000, 1611887435000000000, 1611887435000000000,\n",
      "       1611887435000000000, 1611887435000000000, 1611887435000000000,\n",
      "       1611887337000000000, 1611887337000000000, 1611887216000000000,\n",
      "       1611887190000000000, 1611887187000000000, 1611887187000000000,\n",
      "       1611887187000000000, 1611887187000000000, 1611887187000000000,\n",
      "       1611887187000000000, 1611887187000000000, 1611887187000000000,\n",
      "       1611887187000000000, 1611887187000000000, 1611886771000000000,\n",
      "       1611886771000000000, 1611886771000000000])>, sentence_num=<tf.Tensor: shape=(32,), dtype=string, numpy=\n",
      "array([b'0', b'0', b'0', b'1', b'2', b'3', b'4', b'5', b'6', b'7', b'8',\n",
      "       b'9', b'10', b'11', b'12', b'0', b'1', b'0', b'0', b'0', b'1',\n",
      "       b'2', b'3', b'4', b'5', b'6', b'7', b'8', b'9', b'0', b'1', b'2'],\n",
      "      dtype=object)>, sentence=<tf.Tensor: shape=(32,), dtype=string, numpy=\n",
      "array([b\"It's not about the money, it's about sending a message.\",\n",
      "       b'Math Professor Scott Steiner says the numbers spell DISASTER for Gamestop shorts',\n",
      "       b'Exit the system.',\n",
      "       b'The CEO of NASDAQ pushed to halt trading \"to give investors a chance to recalibrate their positions\".',\n",
      "       b'Now SEC is investigating, brokers are disallowing buying more calls.',\n",
      "       b'This is the institutions flat out admitting they will change the rules to bail out the rich but if it happens to us, we get a \"well shucks you should have known investing is risky!',\n",
      "       b'have you tried cutting out avocados and coffee, maybe doing Uber on the side?\" We may have collectively driven up enough sentiment in wall street to make other big players go long on GME with us we do not have the money to move the stock as much as it did alone .',\n",
      "       b\"we didn't hurt wall street as a whole, just a few funds went down while others went up and profited off the shorts the same as us.\",\n",
      "       b'The media wants to pin the blame on us.',\n",
      "       b'It should be crystal clear that this is a rigged game by now.',\n",
      "       b\"Its time to build new exchanges that can't arbitrarily change the rules on us.\",\n",
      "       b'Cr o has some version of these, maybe they can be repurposed to be trade stock without government intervention.',\n",
      "       b\"I don't know exactly what it will look like yet, but the broad next steps i see are\",\n",
      "       b'1. exit the current financial system', b'2. build a new one.',\n",
      "       b'NEW SEC FILING FOR GME!',\n",
      "       b'CAN SOMEONE LESS RETARDED THAN ME PLEASE INTERPRET?',\n",
      "       b'Not to distract from GME, just thought our AMC brothers should be aware of this',\n",
      "       b'WE BREAKING THROUGH',\n",
      "       b\"SHORT STOCK DOESN'T HAVE AN EXPIRATION DATE.\",\n",
      "       b'Hedgefund whales are spreading disinfo saying Friday is make or break for $GME.',\n",
      "       b'Call options expiring ITM on Friday will drive the price up if levels are maintained, but may not trigger the short squeeze.',\n",
      "       b'It may be Friday, but it could be next week the we see the real squeeze.',\n",
      "       b\"DON'T PANIC IF THE SQUEEZE DOESN'T HAPPEN FRIDAY.\",\n",
      "       b\"It's not guaranteed to.\",\n",
      "       b'The only thing that is guaranteed mathematically is that the shorts will have to cover at some point in the future.',\n",
      "       b\"They are trying to get enough people hooked on the false expectation of Friday so that if when it doesn't happen, enough will sell out of panic despair.\",\n",
      "       b\"DON'T BE THAT PERSON.\", b'WE LIKE THE STOCK',\n",
      "       b'THIS IS THE MOMENT.', b\"Life isn't fair.\",\n",
      "       b'My mother always told me that when I would complain about arbitrary treatment.'],\n",
      "      dtype=object)>)\n"
     ]
    }
   ],
   "source": [
    "with dataset_context_manager as dataset:\n",
    "    print(dataset, \"\\n\")\n",
    "    for batch in dataset.take(1):\n",
    "        print(batch)"
   ]
  }
 ],
 "metadata": {
  "kernelspec": {
   "display_name": "Python 3",
   "language": "python",
   "name": "python3"
  },
  "language_info": {
   "codemirror_mode": {
    "name": "ipython",
    "version": 3
   },
   "file_extension": ".py",
   "mimetype": "text/x-python",
   "name": "python",
   "nbconvert_exporter": "python",
   "pygments_lexer": "ipython3",
   "version": "3.7.7"
  }
 },
 "nbformat": 4,
 "nbformat_minor": 5
}

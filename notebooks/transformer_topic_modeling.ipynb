{
 "cells": [
  {
   "cell_type": "markdown",
   "id": "champion-income",
   "metadata": {},
   "source": [
    "# Plot and investigate UMAP embeddings\n",
    "\n",
    "After using two internal clustering metrics, we don't see any strong evidence for a particular number of k-means clusters for any value of k from 4 to 19. HDBSCAN with default parameters returned a very large number of clusters (~150),  with > 90% of sentences being unclassified. \n"
   ]
  },
  {
   "cell_type": "code",
   "execution_count": 1,
   "id": "desperate-browser",
   "metadata": {},
   "outputs": [
    {
     "name": "stdout",
     "output_type": "stream",
     "text": [
      "Plotly version: 4.14.3\n",
      "Sentences:\n",
      "   ../data/sentences_2021-03-07_12:45:54/part-00000-e0a3b398-ae1e-4b50-b0df-5a518a114681-c000.csv\n",
      "Embedded & clustered:\n",
      "   ../data/sentences_2021-03-07_12:45:54/HDBSCAN_clustered_2021-03-08_05 59 47_dim=5_min_cl_size=20_ep=0.3.csv\n"
     ]
    }
   ],
   "source": [
    "%config Completer.use_jedi = False\n",
    "\n",
    "import os\n",
    "import sys\n",
    "from datetime import datetime\n",
    "import numpy as np\n",
    "import pandas as pd\n",
    "import csv                      # to handle quotes when calling pd.read_csv \n",
    "import matplotlib\n",
    "import matplotlib.pyplot as plt\n",
    "from pathlib import Path\n",
    "import umap, umap.plot\n",
    "\n",
    "try:\n",
    "    import plotly\n",
    "except ImportError as e:\n",
    "    ! pip install plotly==4.14.3\n",
    "    import plotly\n",
    "import plotly.express as px\n",
    "print(f\"Plotly version: {plotly.__version__}\")\n",
    "\n",
    "DATA_DIR = Path(\"../data/\")\n",
    "DATA_PATH = DATA_DIR/\"reddit_wsb.csv\"\n",
    "SENTENCES_DIR = DATA_DIR/\"sentences_2021-03-07_12:45:54\"\n",
    "SENTENCES_PATH = next(SENTENCES_DIR.glob(\"part*.csv\"))\n",
    "EMB_CL_PATH = next(SENTENCES_DIR.glob(\"HDBSCAN*.csv\"))\n",
    "\n",
    "print(\"Sentences:\\n\", \"  \"+str(SENTENCES_PATH))\n",
    "print(\"Embedded & clustered:\\n\", \"  \"+str(EMB_CL_PATH))"
   ]
  },
  {
   "cell_type": "markdown",
   "id": "comfortable-suffering",
   "metadata": {},
   "source": [
    "# Read the data"
   ]
  },
  {
   "cell_type": "code",
   "execution_count": 2,
   "id": "speaking-eating",
   "metadata": {},
   "outputs": [
    {
     "data": {
      "text/html": [
       "<div>\n",
       "<style scoped>\n",
       "    .dataframe tbody tr th:only-of-type {\n",
       "        vertical-align: middle;\n",
       "    }\n",
       "\n",
       "    .dataframe tbody tr th {\n",
       "        vertical-align: top;\n",
       "    }\n",
       "\n",
       "    .dataframe thead th {\n",
       "        text-align: right;\n",
       "    }\n",
       "</style>\n",
       "<table border=\"1\" class=\"dataframe\">\n",
       "  <thead>\n",
       "    <tr style=\"text-align: right;\">\n",
       "      <th></th>\n",
       "      <th>post_id</th>\n",
       "      <th>chunk_num</th>\n",
       "      <th>long_sent</th>\n",
       "    </tr>\n",
       "  </thead>\n",
       "  <tbody>\n",
       "    <tr>\n",
       "      <th>0</th>\n",
       "      <td>l6wydu</td>\n",
       "      <td>0</td>\n",
       "      <td>It seems as though Robinhood is blocking peopl...</td>\n",
       "    </tr>\n",
       "    <tr>\n",
       "      <th>1</th>\n",
       "      <td>l6wzmx</td>\n",
       "      <td>0</td>\n",
       "      <td>RH is no longer supporting GME! Although I am ...</td>\n",
       "    </tr>\n",
       "    <tr>\n",
       "      <th>2</th>\n",
       "      <td>l6yw6k</td>\n",
       "      <td>0</td>\n",
       "      <td>\"Redditors of WSB we \\\"WILL\\\" change the world...</td>\n",
       "    </tr>\n",
       "    <tr>\n",
       "      <th>3</th>\n",
       "      <td>l6ywcd</td>\n",
       "      <td>0</td>\n",
       "      <td>Entered at $390 let's go boys . Bought some sh...</td>\n",
       "    </tr>\n",
       "    <tr>\n",
       "      <th>4</th>\n",
       "      <td>l6yyv2</td>\n",
       "      <td>0</td>\n",
       "      <td>Can someone dumb down and explain what's happe...</td>\n",
       "    </tr>\n",
       "  </tbody>\n",
       "</table>\n",
       "</div>"
      ],
      "text/plain": [
       "  post_id  chunk_num                                          long_sent\n",
       "0  l6wydu          0  It seems as though Robinhood is blocking peopl...\n",
       "1  l6wzmx          0  RH is no longer supporting GME! Although I am ...\n",
       "2  l6yw6k          0  \"Redditors of WSB we \\\"WILL\\\" change the world...\n",
       "3  l6ywcd          0  Entered at $390 let's go boys . Bought some sh...\n",
       "4  l6yyv2          0  Can someone dumb down and explain what's happe..."
      ]
     },
     "execution_count": 2,
     "metadata": {},
     "output_type": "execute_result"
    }
   ],
   "source": [
    "sents = pd.read_csv(str(SENTENCES_PATH), sep=\"\\t\", quoting=csv.QUOTE_NONE)\n",
    "sents.head()"
   ]
  },
  {
   "cell_type": "code",
   "execution_count": 3,
   "id": "computational-pakistan",
   "metadata": {},
   "outputs": [
    {
     "data": {
      "text/html": [
       "<div>\n",
       "<style scoped>\n",
       "    .dataframe tbody tr th:only-of-type {\n",
       "        vertical-align: middle;\n",
       "    }\n",
       "\n",
       "    .dataframe tbody tr th {\n",
       "        vertical-align: top;\n",
       "    }\n",
       "\n",
       "    .dataframe thead th {\n",
       "        text-align: right;\n",
       "    }\n",
       "</style>\n",
       "<table border=\"1\" class=\"dataframe\">\n",
       "  <thead>\n",
       "    <tr style=\"text-align: right;\">\n",
       "      <th></th>\n",
       "      <th>post_id</th>\n",
       "      <th>chunk_num</th>\n",
       "      <th>cluster</th>\n",
       "      <th>z0</th>\n",
       "      <th>z1</th>\n",
       "      <th>z2</th>\n",
       "      <th>z3</th>\n",
       "      <th>z4</th>\n",
       "    </tr>\n",
       "  </thead>\n",
       "  <tbody>\n",
       "    <tr>\n",
       "      <th>0</th>\n",
       "      <td>lc7aj4</td>\n",
       "      <td>0</td>\n",
       "      <td>-1</td>\n",
       "      <td>11.520249</td>\n",
       "      <td>10.176333</td>\n",
       "      <td>10.322124</td>\n",
       "      <td>-0.283960</td>\n",
       "      <td>9.739444</td>\n",
       "    </tr>\n",
       "    <tr>\n",
       "      <th>1</th>\n",
       "      <td>l8q7yg</td>\n",
       "      <td>0</td>\n",
       "      <td>-1</td>\n",
       "      <td>11.060429</td>\n",
       "      <td>9.986012</td>\n",
       "      <td>9.873450</td>\n",
       "      <td>-0.197139</td>\n",
       "      <td>10.654449</td>\n",
       "    </tr>\n",
       "    <tr>\n",
       "      <th>2</th>\n",
       "      <td>l70zah</td>\n",
       "      <td>0</td>\n",
       "      <td>-1</td>\n",
       "      <td>11.421103</td>\n",
       "      <td>9.091762</td>\n",
       "      <td>11.081760</td>\n",
       "      <td>-0.059767</td>\n",
       "      <td>7.914190</td>\n",
       "    </tr>\n",
       "    <tr>\n",
       "      <th>3</th>\n",
       "      <td>l71n3m</td>\n",
       "      <td>0</td>\n",
       "      <td>-1</td>\n",
       "      <td>10.935250</td>\n",
       "      <td>10.059787</td>\n",
       "      <td>10.542604</td>\n",
       "      <td>1.500129</td>\n",
       "      <td>9.251620</td>\n",
       "    </tr>\n",
       "    <tr>\n",
       "      <th>4</th>\n",
       "      <td>l6wyy7</td>\n",
       "      <td>0</td>\n",
       "      <td>-1</td>\n",
       "      <td>10.736950</td>\n",
       "      <td>10.322493</td>\n",
       "      <td>9.951429</td>\n",
       "      <td>1.937703</td>\n",
       "      <td>8.488021</td>\n",
       "    </tr>\n",
       "  </tbody>\n",
       "</table>\n",
       "</div>"
      ],
      "text/plain": [
       "  post_id  chunk_num  cluster         z0         z1         z2        z3  \\\n",
       "0  lc7aj4          0       -1  11.520249  10.176333  10.322124 -0.283960   \n",
       "1  l8q7yg          0       -1  11.060429   9.986012   9.873450 -0.197139   \n",
       "2  l70zah          0       -1  11.421103   9.091762  11.081760 -0.059767   \n",
       "3  l71n3m          0       -1  10.935250  10.059787  10.542604  1.500129   \n",
       "4  l6wyy7          0       -1  10.736950  10.322493   9.951429  1.937703   \n",
       "\n",
       "          z4  \n",
       "0   9.739444  \n",
       "1  10.654449  \n",
       "2   7.914190  \n",
       "3   9.251620  \n",
       "4   8.488021  "
      ]
     },
     "execution_count": 3,
     "metadata": {},
     "output_type": "execute_result"
    }
   ],
   "source": [
    "embcl = pd.read_csv(EMB_CL_PATH)\n",
    "embcl.head()"
   ]
  },
  {
   "cell_type": "markdown",
   "id": "noticed-defensive",
   "metadata": {},
   "source": [
    "Two quick sanity checks:"
   ]
  },
  {
   "cell_type": "code",
   "execution_count": 4,
   "id": "outdoor-pilot",
   "metadata": {},
   "outputs": [
    {
     "data": {
      "text/plain": [
       "True"
      ]
     },
     "execution_count": 4,
     "metadata": {},
     "output_type": "execute_result"
    }
   ],
   "source": [
    "# verify that post_id columns agree up to ordering\n",
    "S1 = sents.iloc[sents.post_id.argsort()].post_id.reset_index(drop=True)\n",
    "S2 = embcl.iloc[embcl.post_id.argsort()].post_id.reset_index(drop=True)\n",
    "np.all(S1==S2)\n",
    "# verify that chunk_num columns agree up to ordering\n",
    "S1 = sents.iloc[sents.chunk_num.argsort()].chunk_num.reset_index(drop=True)\n",
    "S2 = embcl.iloc[embcl.chunk_num.argsort()].chunk_num.reset_index(drop=True)\n",
    "np.all(S1==S2)"
   ]
  },
  {
   "cell_type": "markdown",
   "id": "global-turning",
   "metadata": {},
   "source": [
    "Drop the uncommon topics:"
   ]
  },
  {
   "cell_type": "markdown",
   "id": "hourly-tolerance",
   "metadata": {},
   "source": [
    "Adjoin UMAP embeddings computed in [Colab notebook](../WSB_clustering.ipynb):"
   ]
  },
  {
   "cell_type": "code",
   "execution_count": 5,
   "id": "individual-leonard",
   "metadata": {},
   "outputs": [],
   "source": [
    "Z5 = embcl[[f\"z{i}\" for i in range(5)]]\n",
    "df = embcl"
   ]
  },
  {
   "cell_type": "code",
   "execution_count": 6,
   "id": "indian-closing",
   "metadata": {},
   "outputs": [
    {
     "name": "stdout",
     "output_type": "stream",
     "text": [
      "Starting with 20694 rows and 35 clusters.\n",
      "Thresholding from below at cluster size 200...\n",
      "df has 19302 rows and 10 clusters.\n",
      "\n",
      "\n",
      "Cluster sizes: [8242.0, 4042.0, 2160.0, 2153.0, 690.0, 560.0, 512.0, 448.0, 266.0, 229.0]\n",
      "<class 'pandas.core.frame.DataFrame'>\n",
      "Int64Index: 19302 entries, 0 to 20693\n",
      "Data columns (total 8 columns):\n",
      " #   Column     Non-Null Count  Dtype  \n",
      "---  ------     --------------  -----  \n",
      " 0   post_id    19302 non-null  object \n",
      " 1   chunk_num  19302 non-null  int64  \n",
      " 2   cluster    19302 non-null  int64  \n",
      " 3   z0         19302 non-null  float64\n",
      " 4   z1         19302 non-null  float64\n",
      " 5   z2         19302 non-null  float64\n",
      " 6   z3         19302 non-null  float64\n",
      " 7   z4         19302 non-null  float64\n",
      "dtypes: float64(5), int64(2), object(1)\n",
      "memory usage: 1.3+ MB\n"
     ]
    }
   ],
   "source": [
    "if df.shape[0] == sents.shape[0]:\n",
    "    THRESHOLD = 200  # drop clusters with fewer than this many posts\n",
    "    vcs = df.cluster.value_counts()\n",
    "\n",
    "    print(f\"Starting with {df.shape[0]} rows and {vcs.shape[0]} clusters.\")\n",
    "    print(f\"Thresholding from below at cluster size {THRESHOLD}...\")\n",
    "    dominant_clusters = vcs.where(vcs>THRESHOLD).dropna()\n",
    "    df = (\n",
    "        df[df.cluster.isin(dominant_clusters.index)]\n",
    "    #     .sample(2000, random_state=1)\n",
    "          )\n",
    "print(f\"df has {df.shape[0]} rows and {dominant_clusters.shape[0]} clusters.\")\n",
    "print(\"\\n\")\n",
    "print(\"Cluster sizes:\", list(dominant_clusters))\n",
    "df.info()\n",
    "\n",
    "# redefine Z5 here to drop rows\n",
    "Z5 = df[[f\"z{i}\" for i in range(5)]]"
   ]
  },
  {
   "cell_type": "markdown",
   "id": "rocky-stuff",
   "metadata": {},
   "source": [
    "90% of the data lives in 8 clusters. 40% of the data is treated by noise, but that's reasonable for the purpose of topic discovery. We embed in two dimensions to visualize:"
   ]
  },
  {
   "cell_type": "code",
   "execution_count": null,
   "id": "nonprofit-blade",
   "metadata": {},
   "outputs": [],
   "source": [
    "%%time\n",
    "reducer = umap.UMAP(n_neighbors=300)\n",
    "mapper = reducer.fit(Z5)\n",
    "Z2 = mapper.transform(Z5)\n",
    "Z2 = pd.DataFrame(Z2, columns=[\"x\", \"y\"])"
   ]
  },
  {
   "cell_type": "code",
   "execution_count": null,
   "id": "fiscal-dynamics",
   "metadata": {},
   "outputs": [],
   "source": [
    "ddf = pd.concat(\n",
    "    [df\n",
    "     .merge(sents).reset_index(drop=True)\n",
    "     .drop(columns=[f\"z{i}\" for i in range(5)]), \n",
    "     Z2], axis=1)\n",
    "ddf"
   ]
  },
  {
   "cell_type": "code",
   "execution_count": null,
   "id": "hearing-hypothetical",
   "metadata": {},
   "outputs": [],
   "source": [
    "umap.plot.output_notebook()\n",
    "hover_data = ddf[[\"post_id\", \"cluster\", \"long_sent\"]]\n",
    "hover_data.assign(text=hover_data.long_sent.apply(lambda s: s.replace('\\\\\\\"', '\\\"')))\n",
    "\n",
    "# make my own keymap so that noise is distinct (lighter in color)00\n",
    "cmap = matplotlib.cm.get_cmap(\"tab20\")\n",
    "my_color_key = [matplotlib.colors.to_hex(c) \n",
    "                for c in [(.9,.9,.9)]+list(cmap.colors)]\n",
    "hover_plot = umap.plot.interactive(mapper, \n",
    "                                   labels=ddf.cluster, \n",
    "                                   hover_data=hover_data,\n",
    "                                   point_size=1.6,\n",
    "#                                    color_key_cmap='Set3',\n",
    "                                   color_key = my_color_key,\n",
    "                                   background=\"black\"\n",
    "                                  )\n",
    "hover_plot.title.text = \"r/WallStreetBets excerpts cleaned (SparkNLP), embedded (UMAP), clustered (HDBSCAN), then projected (UMAP).\"\n",
    "umap.plot.show(hover_plot)"
   ]
  },
  {
   "cell_type": "markdown",
   "id": "dedicated-rhythm",
   "metadata": {},
   "source": [
    "## Scratch: alternative approach via Plotly Express"
   ]
  },
  {
   "cell_type": "code",
   "execution_count": 14,
   "id": "valuable-party",
   "metadata": {},
   "outputs": [],
   "source": [
    "import textwrap"
   ]
  },
  {
   "cell_type": "code",
   "execution_count": 15,
   "id": "individual-impossible",
   "metadata": {},
   "outputs": [],
   "source": [
    "plot_df = (\n",
    "    ddf\n",
    "    .assign(long_sent = \n",
    "            ddf.long_sent.apply(\n",
    "                lambda txt: '<br>'.join(textwrap.wrap(txt, width=40))\n",
    "                 )\n",
    "           )\n",
    "    .assign(cluster = ddf.cluster.astype(str)))"
   ]
  },
  {
   "cell_type": "code",
   "execution_count": 144,
   "id": "naval-window",
   "metadata": {},
   "outputs": [],
   "source": [
    "hover_data = {\"x\":False, \"y\":False, \"long_sent\":True}\n",
    "sample_size = 10000\n",
    "fig = px.scatter(\n",
    "    plot_df.sample(sample_size),\n",
    "    x=\"x\", \n",
    "    y=\"y\",\n",
    "    color=\"cluster\",\n",
    "    hover_data=hover_data,\n",
    "    color_discrete_sequence=px.colors.diverging.Armyrose_r,\n",
    "    title = \"Embedding of WSB posts after preprocessing splitting and then recomibining sentences\"\n",
    "          )\n",
    "fig.show()"
   ]
  }
 ],
 "metadata": {
  "kernelspec": {
   "display_name": "Python 3",
   "language": "python",
   "name": "python3"
  },
  "language_info": {
   "codemirror_mode": {
    "name": "ipython",
    "version": 3
   },
   "file_extension": ".py",
   "mimetype": "text/x-python",
   "name": "python",
   "nbconvert_exporter": "python",
   "pygments_lexer": "ipython3",
   "version": "3.7.7"
  }
 },
 "nbformat": 4,
 "nbformat_minor": 5
}

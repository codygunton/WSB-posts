{
 "cells": [
  {
   "cell_type": "markdown",
   "id": "black-disaster",
   "metadata": {},
   "source": [
    "# Illustration of Bag of Words / Bag of Emojis pipeline\n",
    "A work in progresse, this pipeline is designed to preserve symbols, words and phrases of interest (e.g., special vocabulary) in the context of WallStreetBets posts, while splitting off a separate bag of emojis. The token information is preserved with the special unicode character ⓔ (a circled-e; U+24d4). This approach has advantages and disadvantages. It is probably a useful and efficient way of preserving much of the emoji sentiment (and even the evolution of sentiment throughough a post), and especially so when the emojis are used as 'decorators'. It is partially a workaround to handle the fact that there is (apparently) no good solution for normalizing long strings of emojis."
   ]
  },
  {
   "cell_type": "code",
   "execution_count": 1,
   "id": "still-criterion",
   "metadata": {},
   "outputs": [],
   "source": [
    "%config Completer.use_jedi = False\n",
    "\n",
    "%load_ext autoreload\n",
    "%autoreload 1\n",
    "\n",
    "import os\n",
    "import sys\n",
    "import pandas as pd\n",
    "\n",
    "import sparknlp\n",
    "import pyspark.sql.functions as F\n",
    "from sparknlp.base import *\n",
    "from sparknlp.annotator import *\n",
    "from pyspark.ml import Pipeline\n",
    "\n",
    "os.environ[\"JAVA_HOME\"] = \"/usr/lib/jvm/java-8-openjdk\"\n",
    "os.environ[\"PATH\"] = os.environ[\"JAVA_HOME\"] + \"/bin:\" + os.environ[\"PATH\"]\n",
    "\n",
    "data_path = \"../data/reddit_wsb.csv\"\n",
    "\n",
    "spark = sparknlp.start()\n",
    "sys.path.append('..')\n",
    "%aimport pipelines"
   ]
  },
  {
   "cell_type": "code",
   "execution_count": 22,
   "id": "unlikely-broadcasting",
   "metadata": {},
   "outputs": [
    {
     "name": "stdout",
     "output_type": "stream",
     "text": [
      "CPU times: user 139 ms, sys: 42.1 ms, total: 181 ms\n",
      "Wall time: 1.45 s\n"
     ]
    }
   ],
   "source": [
    "%%time\n",
    "df = spark.read.csv(data_path, \n",
    "                    header=True,\n",
    "                    multiLine=True, \n",
    "                    quote=\"\\\"\", \n",
    "                    escape=\"\\\"\")\n",
    "\n",
    "# df = df.sample(withReplacement=False, fraction=0.05, seed=1)\n",
    "\n",
    "df = (df.withColumn(\"text\", \n",
    "               F.concat_ws(\". \", df.title, df.body))\n",
    " .drop(\"title\", \"body\", \"url\", \"comms_num\", \"created\"))\n",
    "\n",
    "emojis_regex = \"[\"+\"\".join(pipelines.emoji_ranges)+\"]\"\n",
    "\n",
    "texts = (\n",
    "    df.withColumn(\"text_no_emojis\",\n",
    "                  F.regexp_replace(df[\"text\"],\n",
    "                                   emojis_regex, \"Ⓔ\"))\n",
    "    .select([\"text\", \"text_no_emojis\"])\n",
    ")\n",
    "\n",
    "pipeline = pipelines.build_bowbae_pipeline()\n",
    "pipeline_model = pipeline.fit(texts)\n",
    "light_model = LightPipeline(pipeline_model)"
   ]
  },
  {
   "cell_type": "code",
   "execution_count": 46,
   "id": "technological-boutique",
   "metadata": {},
   "outputs": [
    {
     "name": "stdout",
     "output_type": "stream",
     "text": [
      "CPU times: user 52.4 ms, sys: 15.4 ms, total: 67.8 ms\n",
      "Wall time: 147 ms\n",
      "CPU times: user 49.2 ms, sys: 6.62 ms, total: 55.8 ms\n",
      "Wall time: 124 ms\n",
      "Processed (and counted) 25647 rows.\n"
     ]
    }
   ],
   "source": [
    "# We compare inference time with and without using light pipeline.\n",
    "# Anecdotally, we get a 10-20% speedup in wall time.\n",
    "%time processed_texts = pipeline_model.transform(texts)\n",
    "%time processed_texts = light_model.transform(texts)\n",
    "print(f\"Processed (and counted) {df.count()} rows.\")"
   ]
  },
  {
   "cell_type": "code",
   "execution_count": 32,
   "id": "noted-greeting",
   "metadata": {},
   "outputs": [
    {
     "name": "stdout",
     "output_type": "stream",
     "text": [
      "+------------------------------------------------------------+------------------------------------------------------------+\n",
      "|                                           finished_unigrams|                                             finished_emojis|\n",
      "+------------------------------------------------------------+------------------------------------------------------------+\n",
      "|                                 [money, send, message, ⓔⓔⓔ]|                                                [🚀, 💎, 🙌]|\n",
      "|[math, professor, scott, steiner, say, number, spell, dis...|                                                          []|\n",
      "|[exit, system, ceo, nasdaq, push, halt, trade, give, inve...|                                                          []|\n",
      "|[new, sec, filing, gme, someone, less, retarded, please, ...|                                                          []|\n",
      "|                 [distract, gme, think, amc, brother, aware]|                                                          []|\n",
      "|                                                  [breaking]|                                                          []|\n",
      "|[short, stock, expiration, date, hedgefund, whale, spread...|                                                          []|\n",
      "|[moment, life, fair, mother, always, tell, complain, arbi...|                                [🚀, 🚀, 🚀, 🚀, 🚀, 🚀, 🚀]|\n",
      "|[currently, holding, amc, nok, retarded, think, move, gme...|                                                          []|\n",
      "|             [nothing, say, bruh, speechless, moon, ⓔⓔⓔⓔⓔⓔⓔ]|                                [🚀, 🚀, 🚀, 💎, 💎, 👋, 👋]|\n",
      "|[need, keep, movement, go, make, history, believe, right,...|                                                          []|\n",
      "|                      [gme, premarket, ⓔ, musk, approve, ⓔⓔ]|                                                [🍁, 🎮, 💎]|\n",
      "|[do, gme, $ag, $slv, gentlemans, short, squeeze, drive, m...|                    [🚀, 🚀, 🚀, 🚀, 🚀, 🚀, 🚀, 🚀, 🚀, 🚀]|\n",
      "|[$gme, price, nothing, fundamental, everything, financial...|        [🚀, 🚀, 🚀, 🚀, 🚀, 🚀, 🚀, 🚀, 🚀, 🚀, 🚀, 🚀, 🚀]|\n",
      "|                                             [love, retards]|                                                          []|\n",
      "|                                   [420, meme, gme, ⓔ, ⓔ, ⓔ]|                                                [🚀, 🚀, 🚀]|\n",
      "|                                   [mass, relays, &, beyond]|                                                          []|\n",
      "|                                    [come, back, turn, tide]|                                                          []|\n",
      "|                               [9, word, bring, fucker, sec]|                                                          []|\n",
      "|[daily, discussion, thread, january, 28, 2021, daily, tra...|                                                          []|\n",
      "|                [gme, 42069, premarket, repeat, $1000, meme]|                                                          []|\n",
      "|[need, stick, together, ⓔ, ever, lovin, shit, opportunity...|                                                        [💎]|\n",
      "|               [patcher, media, outlet, call, ponzi, scheme]|                                                          []|\n",
      "|[proud, far, subreddit, come, still, remember, first, joi...|                                                          []|\n",
      "|        [technical, analysis, gamestop, $gme, moon, ⓔⓔⓔⓔⓔⓔⓔ]|                                [🚀, 🚀, 🚀, 🚀, 🌚, 🌚, 🌚]|\n",
      "|                              [really, evenbuy, gme, amc, ⓔ]|                                                        [😤]|\n",
      "|                                     [get, friend, gme, ⓔⓔⓔ]|                                                [🚀, 💎, 🙌]|\n",
      "|                                        [break, fix, advice]|                                                          []|\n",
      "|[put, another, 30k, nok, calls, go, $gme, $nok, buy, hold...|                                            [🚀, 🚀, 🚀, 🚀]|\n",
      "|                             [aint, much, germany, moon, ⓔⓔ]|                                                    [🚀, 🚀]|\n",
      "|                                    [ready, attack, citadel]|                                                          []|\n",
      "|[another, devastating, hit, europoors, use, trading212, p...|                                            [😤, 😤, 🚀, 🚀]|\n",
      "|                                  [$gme, back, 350usd, hour]|                                                          []|\n",
      "|[much, rest, guy, sub, since, 2016, finally, make, fuckin...|                                                          []|\n",
      "|                                       [try, say, do, nazis]|                                                          []|\n",
      "|[brokerage, want, force, close, gme, call, brokerage, cal...|                                                          []|\n",
      "|             [guys, want, say, never, proud, redditor, life]|                                                          []|\n",
      "|[iacta, alea, est, lucky, one, family, 2008, middle, firs...|                                                          []|\n",
      "|[rocketship, mars, holdbuy, gme, marketcap, high, gdp, pl...|            [🚀, 🚀, 🚀, 🚀, 🚀, 🚀, 🚀, 🚀, 🚀, 🚀, 🚀, 🚀]|\n",
      "|[alternative, system, fucking, stupid, retail, get, chanc...|                                                          []|\n",
      "|         [feeling, like, exercise, dunno, may, delete, late]|                                                          []|\n",
      "|                                    [wsbchurchillspeechmp69]|                                                          []|\n",
      "|[gme, gang, 34, consecutive, days, nyse, threshold, secur...|                                                          []|\n",
      "|[woke, extra, $25k, think, app, take, update, ⓔⓔⓔⓔⓔⓔ, fiz...|                                        [🤷, ‍, ️, 🤷, ‍, ️]|\n",
      "|    [gme, blank, 2, screen, shots, 2am, cali, time, wtf, go]|                                                          []|\n",
      "|                                   [dark, stock, rises, ⓔⓔⓔ]|                                                [🚀, 🦇, 🚀]|\n",
      "|[real, price, gme, infinity, price, option, worth, nothin...|                                                          []|\n",
      "|[ogs, prepare, show, world, time, come, we, show, world, ...|                                                    [🧻, 🤚]|\n",
      "|[little, background, one, lender, give, melvin, money, su...|                                                          []|\n",
      "|                                                      [$gme]|                                                          []|\n",
      "|                               [gordan, ramsay, become, mod]|                                                          []|\n",
      "|[wallstreetbets, war, museum, purpose, make, museum, capt...|                                                          []|\n",
      "|[scared, drop, $bb, $gme, etc, hedge, funds, trade, hour,...|                                                    [🚀, 🚀]|\n",
      "|       [ⓔⓔ$nok, $nok, nokia, join, party, $gme, $amc, $bbⓔⓔ]|                                            [🚀, 🚀, 🚀, 🚀]|\n",
      "|             [paper, hand, turn, diamond, credit, unicobico]|                                                          []|\n",
      "|[gamestop, blackberry, amc, sees, trade, halts, major, us...|                                                          []|\n",
      "|[hear, see, melvin, war, wage, upon, everyone, reddit, vs...|                                                          []|\n",
      "|[robinhood, literally, shut, ability, we, tobuy, certain,...|                                                          []|\n",
      "|                       [1, 2, bebuying, tomorrow, know, 2nd]|                                                          []|\n",
      "|[hate, rh, last, minute, change, may, save, fucking, forg...|                                                          []|\n",
      "|[warning, &, dd, s3, partner, short, interest, accurate, ...|                                                          []|\n",
      "|                [two, essential, apps, download, app, store]|                                                          []|\n",
      "|[late, get, gme, spaceshipⓔⓔⓔ, join, guy, mnⓔⓔⓔⓔ, conside...|[🚀, 🚀, 🚀, ️, 🌚, 🌚, 🌚, 💎, 🙌, 😈, 🥶, 😈, 🥶, 😈, ?...|\n",
      "|                    [sec, monitor, shortsqueeze, volatility]|                                                          []|\n",
      "|[went, ahead, decide, join, party, zerod, rest, paycheck,...|                                                          []|\n",
      "|[dillards, short, play, one, talk, dillards, quietly, gai...|                                                          []|\n",
      "|[financial, times, attempt, link, wsb, altright, let, mai...|                                                          []|\n",
      "|[help, nri, indian, get, board, gme, spaceship, outside, ...|                                            [🚀, 🚀, 🚀, 🚀]|\n",
      "|                                  [pltr, ⓔ, thank, everyone]|                                                        [🚀]|\n",
      "|[total, short, value, underreported, fines, underreportin...|                                                          []|\n",
      "|[gme, money, gme, send, message, recession, cause, job, h...|                                            [🚀, 🚀, 🚀, 🚀]|\n",
      "|[poor, get, pay, week, bill, need, pay, sacrificed, $100,...|                                        [🚀, 🚀, 🚀, 🌝, 😂]|\n",
      "|[sleep, tonight, think, simple, term, everyone, sub, righ...|                                                          []|\n",
      "|[must, fight, censorship, wsb, show, censorship, effect, ...|                                            [🚀, 🚀, 🚀, 🚀]|\n",
      "|[conflict, want, tobuy, tomorrow, 1k, budget, lot, discor...|                                                          []|\n",
      "|                               [song, make, spy, call, hype]|                                                          []|\n",
      "|[next, step, obviously, gme, hype, go, forever, maybe, lo...|                                                          []|\n",
      "|[impending, crash, smh, let, dictate, market, ⓔⓔⓔⓔ, bank,...|                    [🚀, 🚀, 🚀, 🚀, 🚀, 🚀, 🚀, 🚀, 🚀, 🚀]|\n",
      "|[greed, nepotism, fundamentals, blackout, broker, news, m...|                                                          []|\n",
      "|[see, lot, people, talk, aboutselling, friday, sell, frid...|                                    [💎, 💎, 💎, 🚀, 🚀, 🚀]|\n",
      "|[ethically, cash, tendies, already, know, game, stop, go,...|                                                [🚀, 🚀, 🚀]|\n",
      "|[guys, micheal, burry, alexandria, ocasio, cortez, dave, ...|                                                          []|\n",
      "|[bear, position, gme, seriously, crush, downvotes, let, g...|                                                    [🌈, 🐻]|\n",
      "|[rocket, tattoo, fuck, dude, gamestop, get, $1000, get, t...|                                                        [🚀]|\n",
      "|[need, talk, nok, get, play, sayingsell, gme, bot, spy, w...|[🚀, 🚀, 🚀, 🚀, 🚀, 🚀, 🚀, 🚀, 🚀, 🚀, 🚀, 🚀, 🚀, 🚀, ...|\n",
      "|                                              [tell, melvin]|                                                          []|\n",
      "|                        [fuck, shorts, full, video, comment]|                                                          []|\n",
      "|                  [wsb, make, front, page, financial, times]|                                                          []|\n",
      "|[politics, stop, gme, math, say, pt, 1000, math, ortex, s...|                     [💎, ️, 😩, 🌈, 🐻, 🚀, 🚀, 🚀, 🌈, 🐻]|\n",
      "|[letter, national, financial, regulatory, authority, writ...|                                                        [🚀]|\n",
      "|                                   [ⓔⓔamcholding, squozedⓔⓔ]|                                            [💎, 🙌, 🌑, 🚀]|\n",
      "|[nok, going, make, money, new, user, browse, sub, know, n...|                                [🚀, 🚀, 🚀, 🚀, 🚀, 🚀, 🚀]|\n",
      "|[need, talk, real, risk, surprise, rug, pull, sub, 4m, us...|                                                    [💎, 👐]|\n",
      "|                                 [jacked, tits, pickmeuppls]|                                                          []|\n",
      "|[icymi, robinhood, make, money, citadel, market, maker, r...|                                [🚀, 🚀, 🚀, 🚀, 🚀, 🚀, 🚀]|\n",
      "|[record, number, call, option, 37, million, trade, one, day]|                                                          []|\n",
      "|[fair, value, price, gme, 12x, consider, company, asset, ...|                                                          []|\n",
      "|[yesterdays, data, suggest, amc, shortsellers, increase, ...|                                                          []|\n",
      "|[gme, massive, increase, gamma, squeeze, severity, price,...|                                                          []|\n",
      "|[$gme, infinity, war, update, front, line, belligerent, c...|                                            [😡, 🚀, 🌙, 🥜]|\n",
      "+------------------------------------------------------------+------------------------------------------------------------+\n",
      "only showing top 100 rows\n",
      "\n"
     ]
    }
   ],
   "source": [
    "processed_texts.select([\"finished_unigrams\", \"finished_emojis\"]).show(100, truncate=60)"
   ]
  },
  {
   "cell_type": "code",
   "execution_count": null,
   "id": "sitting-shore",
   "metadata": {},
   "outputs": [],
   "source": []
  }
 ],
 "metadata": {
  "kernelspec": {
   "display_name": "Python 3",
   "language": "python",
   "name": "python3"
  },
  "language_info": {
   "codemirror_mode": {
    "name": "ipython",
    "version": 3
   },
   "file_extension": ".py",
   "mimetype": "text/x-python",
   "name": "python",
   "nbconvert_exporter": "python",
   "pygments_lexer": "ipython3",
   "version": "3.7.7"
  }
 },
 "nbformat": 4,
 "nbformat_minor": 5
}

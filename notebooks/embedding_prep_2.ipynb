{
 "cells": [
  {
   "cell_type": "markdown",
   "id": "packed-afternoon",
   "metadata": {},
   "source": [
    "# Further investigation after one round of embedding and clustering\n",
    "\n",
    "After using two internal clustering metrics, we don't see any strong evidence for a particular number of k-means clusters for any value of k from 4 to 19. HDBSCAN with default parameters returned a very large number of clusters (~150),  with > 90% of sentences being unclassified. \n"
   ]
  },
  {
   "cell_type": "code",
   "execution_count": 1,
   "id": "sweet-metropolitan",
   "metadata": {},
   "outputs": [
    {
     "name": "stdout",
     "output_type": "stream",
     "text": [
      "SparkNLP version: 2.7.4\n",
      "Tensorflow version: 2.4.1\n",
      "Plotly version: 4.14.3\n"
     ]
    }
   ],
   "source": [
    "%config Completer.use_jedi = False\n",
    "\n",
    "import os\n",
    "from datetime import datetime\n",
    "import sys\n",
    "import numpy as np\n",
    "import pandas as pd\n",
    "import matplotlib.pyplot as plt\n",
    "\n",
    "import sparknlp\n",
    "print(f\"SparkNLP version: {sparknlp.version()}\")\n",
    "import pyspark.sql.functions as F\n",
    "from pyspark.sql import types as T\n",
    "from sparknlp.base import LightPipeline\n",
    "\n",
    "import tensorflow as tf\n",
    "import tensorflow_hub as hub\n",
    "# this is needed to use some hub modules\n",
    "import tensorflow_text as tftext\n",
    "print(f\"Tensorflow version: {tf.__version__}\")\n",
    "\n",
    "try:\n",
    "    import plotly\n",
    "except ImportError as e:\n",
    "    ! pip install plotly==4.14.3\n",
    "    import plotly\n",
    "import plotly.express as px\n",
    "print(f\"Plotly version: {plotly.__version__}\")\n",
    "\n",
    "DATA_PATH = \"../data/reddit_wsb.csv\"\n",
    "\n",
    "# Spark NLP requires Java 8\n",
    "os.environ[\"JAVA_HOME\"] = \"/usr/lib/jvm/java-8-openjdk\"\n",
    "os.environ[\"PATH\"] = f\"{os.environ['JAVA_HOME']}/bin:{os.environ['PATH']}\"\n",
    "\n",
    "# to allow importing from parent directory of notebooks folder\n",
    "sys.path.append('..')\n",
    "\n",
    "spark = sparknlp.start()\n",
    "\n",
    "%load_ext autoreload\n",
    "%autoreload 1\n",
    "%aimport embedding_pipeline"
   ]
  },
  {
   "cell_type": "markdown",
   "id": "specific-feelings",
   "metadata": {},
   "source": [
    "## Read the data"
   ]
  },
  {
   "cell_type": "code",
   "execution_count": 2,
   "id": "timely-continuity",
   "metadata": {},
   "outputs": [
    {
     "name": "stdout",
     "output_type": "stream",
     "text": [
      "DataFrame[id: string, text: string]\n",
      "CPU times: user 6.08 ms, sys: 2.78 ms, total: 8.86 ms\n",
      "Wall time: 4.71 s\n"
     ]
    }
   ],
   "source": [
    "%%time\n",
    "# read the data frame\n",
    "df = spark.read.csv(DATA_PATH, \n",
    "                    header=True,\n",
    "                    multiLine=True,\n",
    "                    inferSchema=True,\n",
    "                    quote=\"\\\"\",\n",
    "                    escape=\"\\\"\")\n",
    "\n",
    "# # for dev purposes\n",
    "# df = df.sample(withReplacement=False, fraction=0.01, seed=1)\n",
    "\n",
    "# concatenate both text columns. drop everything but id\n",
    "df = (df.withColumn(\"text\", \n",
    "               F.concat_ws(\". \", df.title, df.body))\n",
    "      .select(\"id\", \"text\"))\n",
    "print(df)\n",
    "\n",
    "# i could just rename df, but I do this to avoid unforeseen conflicts\n",
    "full_len_df = df.select(\"id\", \"text\", F.length(F.col(\"text\")).alias('length'))"
   ]
  },
  {
   "cell_type": "code",
   "execution_count": 3,
   "id": "primary-valuation",
   "metadata": {},
   "outputs": [
    {
     "data": {
      "image/png": "[encoded data removed]",
      "text/plain": [
       "<Figure size 432x288 with 1 Axes>"
      ]
     },
     "metadata": {
      "needs_background": "light"
     },
     "output_type": "display_data"
    }
   ],
   "source": [
    "lengths = full_len_df.select(\"length\")\n",
    "pddf = lengths.toPandas()\n",
    "axes = pddf.plot(title=\"Text Lengths\",\n",
    "                 kind=\"hist\",\n",
    "                 **{\"bins\":100})"
   ]
  },
  {
   "cell_type": "code",
   "execution_count": 21,
   "id": "internal-casting",
   "metadata": {},
   "outputs": [
    {
     "data": {
      "image/png": "[encoded data removed]",
      "text/plain": [
       "<Figure size 432x288 with 1 Axes>"
      ]
     },
     "metadata": {
      "needs_background": "light"
     },
     "output_type": "display_data"
    }
   ],
   "source": [
    "qpddf = pddf.query(\"length<1000\")\n",
    "axes = qpddf.plot(title=\"Text Lengths\",\n",
    "                 kind=\"hist\",\n",
    "                 **{\"bins\":100})"
   ]
  },
  {
   "cell_type": "code",
   "execution_count": 46,
   "id": "recorded-alberta",
   "metadata": {},
   "outputs": [
    {
     "name": "stdout",
     "output_type": "stream",
     "text": [
      "+--------------------------------------------------------------------------------------------------+\n",
      "|                                                                                              text|\n",
      "+--------------------------------------------------------------------------------------------------+\n",
      "|                                    It's not about the money, it's about sending a message. 🚀💎🙌|\n",
      "|                  Math Professor Scott Steiner says the numbers spell DISASTER for Gamestop shorts|\n",
      "|                       NEW SEC FILING FOR GME! CAN SOMEONE LESS RETARDED THAN ME PLEASE INTERPRET?|\n",
      "|                   Not to distract from GME, just thought our AMC brothers should be aware of this|\n",
      "|                                                                               WE BREAKING THROUGH|\n",
      "|    Currently Holding AMC and NOK - Is it retarded that I think I should move it all to GME today?|\n",
      "|                         I have nothing to say but BRUH I am speechless TO THE MOON 🚀🚀🚀💎💎👋👋|\n",
      "|                                                            GME Premarket 🍁 Musk approved 🎮🛑💎✋|\n",
      "|                                                                            I Love You Retards!!!!|\n",
      "|                                                                   420 wasn’t a meme. GME 🚀 🚀 🚀|\n",
      "|                                                                       To The Mass Relays & Beyond|\n",
      "|                                                I come back to you now... At the turn of the tide.|\n",
      "|                                                  9 words brought to you by the fuckers at the SEC|\n",
      "|                                      GME 420.69 Pre-Market. Repeat after me: $1000 is not a meme.|\n",
      "|                                    Patcher and other media outlets calling this a \"Ponzi scheme\".|\n",
      "|                                Technical Analysis of GameStop ($GME) - TO THE MOON 🚀🚀🚀🚀🌚🌚🌚|\n",
      "|                                                   Really? I can’t even buy GME or AMC for now? 😤|\n",
      "|                                                   I’ve got a friend who is all in on GME 🚀💎🙌🏼|\n",
      "|                                                     Y'all broke it. How do we fix it? Any advice?|\n",
      "|                   JUST PUT IN ANOTHER 30K IN NOK CALLS LET'S GO! $GME $NOK BUY AND HOLD 🚀🚀 🚀🚀|\n",
      "|                                        It ain’t much, but I’m in! From Germany to the moon ! 🚀🚀|\n",
      "|                             Are we ready to attack the Citadel !!!!. https://youtu.be/BtjhgcAMYU0|\n",
      "|                                                               $GME back up to ~350USD after hours|\n",
      "|                                         They're trying to say this was all done by 'Nazis' now...|\n",
      "|                     Guys i just want to say , i never been more proud being a redditor in my life|\n",
      "|                                              Feeling like exercising, dunno may delete this later|\n",
      "|                                                                         wsb_churchill_speech.mp69|\n",
      "|            GME Gang - 34 Consecutive Days on NYSE Threshold Securities List (Still on the list?!)|\n",
      "|                            Why is GME blank I have 2 screen shots 2am cali time. Wtf is going on?|\n",
      "|                                                                   THE DARK STOCK RISES.... 🚀🦇🚀|\n",
      "|                                                                                              $GME|\n",
      "|                                                                       Gordan Ramsay becomes a MOD|\n",
      "|                                  🚀🚀$NOK, $NOK Nokia is joining the party with $GME $AMC $BB🚀🚀|\n",
      "|                                        Paper hands can turn into diamond (credit to /u/nico_bico)|\n",
      "|                                              1 of 2 I’ll be buying tomorrow and you know the 2nd!|\n",
      "|                                          The only two essential Apps to download on the App Store|\n",
      "|                                                         SEC 'monitoring' short-squeeze volatility|\n",
      "|                                                                     PLTR 🚀 thank you everyone!!!|\n",
      "|                                                              Song I made when SPY calls were hype|\n",
      "|                                                                            Tell Melvin who we are|\n",
      "|                                                          Fuck the Shorts (Full video in comments)|\n",
      "|                                              WSB have made the front page of the Financial Times.|\n",
      "|                                                      💎🙌AMC holding until the 🩳 are squozed🌑🚀|\n",
      "|                                                                JACKED TO THE TITS!!! #pickmeupPLS|\n",
      "|                                      Record number of call options (37 million) traded in one day|\n",
      "|                                           This took me longer than I'd like to admit. Enjoy boys.|\n",
      "|                                          433 AMC shares checking in. Never letting go🚀🚀🚀🎥🎥🎥|\n",
      "|                                                     🎵🎵🎵DO YOU HEAR THE AUTISTS SING???? 🎶🎶🎶|\n",
      "|                                                                  Buy High, Sell Never 💎👐 🚀🚀🚀|\n",
      "|                                                               The game was rigged from the start.|\n",
      "|                                                      The Tendie defender is here to hold GME open|\n",
      "|                                                                        Most Recent Short Interest|\n",
      "|                       Robinhood Announces You Can No Longer Open GME/AMC Positions For Friday. 😱|\n",
      "|                                                                       Chamath CNBC Full Interview|\n",
      "|            AAL, AMC, EXPR, GME, NOK - The Ride to the Moon has Just Begun. History is on Our Side|\n",
      "|                                                                         DeepFuckingValues Pay Day|\n",
      "|                                                                       Hold your ground, HOLD $GME|\n",
      "|                                                                                       DO YOU SEE!|\n",
      "|                                                             I am a bull, like my father before me|\n",
      "|                    How we all bouta look tomorrow morning after burning hedge funds to the ground|\n",
      "|                                                                   WSB when Reddit try’s to Ban Us|\n",
      "|                                                                               I SAY WHEN WE SELL!|\n",
      "|                                                         WE LIKE THE MODS.. We LOVE them actually.|\n",
      "|                       WSB'S REVENGE - CALLING ALL 🦍🦍🦍 TO KEEP YOUR 🍌🍌🍌 AWAY FROM THE 🐍🐍🐍|\n",
      "|                                                                        \"We got 'em on the ropes!\"|\n",
      "|                                                                  WE’RE BACK... AND READY FOR WAR!|\n",
      "|Cramer should up his target to 1,420.69 and only then will honor be regained and balance restored!|\n",
      "|                                                                  Inside the room of a /WSB autist|\n",
      "|                                                                            I see dead hedge funds|\n",
      "|                     None of these individuals are part of Wallstreet Bets. Nobody speaks for WSB.|\n",
      "|                                                           WE LIKE THE STONK, NOTHING WILL STOP US|\n",
      "|                                                                              Thank you, Dr. Burry|\n",
      "|              If we get shut down like this again. Just remember HOLD. One job guys... One job...!|\n",
      "|Reddit group WallStreetBets behind massive GameStop, AMC run-ups goes private, invitation required|\n",
      "|                                                           Where is the man, the myth, the legend?|\n",
      "|                                                                                Move to Signal! 😤|\n",
      "|                                                                                The Moon, You Say?|\n",
      "|                 Apple why is it tanking? It exceeded expectations on earnings? AMC TO THE MOON 🚀|\n",
      "|                                                                                 NOK - To the Moon|\n",
      "|                                                                 Spend sometime in the WSB Discord|\n",
      "|                                                                        Who TF is @redditinvestors|\n",
      "|      Louis Rossmann on financial media starting to equivalate WSB members to hackers. (Long Rant)|\n",
      "|                         Down on amc by a lot. Down heavy on amc, 49k shares @18.90 please help me|\n",
      "|                  SEC LOSERS WATCH THIS. https://youtu.be/cRNypdYQoWk ELON MUSK SPEAKS FOR US BOYS|\n",
      "|                                                                                 Is this our time?|\n",
      "|                                                          So this is the TOP POST of ALL TIME ! 💫|\n",
      "|                                                                       Gain porn/ GME🚀 NOK🚀 BB🚀|\n",
      "|                                                                More GME reinforcements on the way|\n",
      "|             I'm from Argentina. I read the Game Stop story, and I must say, YOU GUYS ARE AWESOME.|\n",
      "|                           How do i invest in GameStop? I don't know anything about stock markets.|\n",
      "|                         Hmmmmmm turns out BlackRock is making use of our weaponized autism ✈️✈️✈️|\n",
      "|     Buy games at GameStop, donate to charity (not GoodWill). Value goes up, kids play video games|\n",
      "|                                                      You all have made Melvin live up to its name|\n",
      "|                                   An autists journey. $150 to $68k in one month. Storytime below.|\n",
      "|      begging is cringe. stop doing it.\n",
      "\n",
      "ex. buy bb please i want my dad to get a liver transplant|\n",
      "|                                                                   Fuck Robinhood! Palantir it is!|\n",
      "|                                                                        Buying dips boys ?? 🚀🚀🚀|\n",
      "|                                                                Cant purchase any more $GME shares|\n",
      "|                                                         One order pending for GameStop. Let’s go!|\n",
      "|                                                                                   Next one guys ?|\n",
      "+--------------------------------------------------------------------------------------------------+\n",
      "only showing top 100 rows\n",
      "\n"
     ]
    },
    {
     "data": {
      "text/plain": [
       "12869"
      ]
     },
     "execution_count": 46,
     "metadata": {},
     "output_type": "execute_result"
    }
   ],
   "source": [
    "short_texts = full_len_df.select(\"text\").where(F.col(\"length\") < 100)\n",
    "short_texts.show(100, truncate=120)\n",
    "short_texts.count()"
   ]
  },
  {
   "cell_type": "markdown",
   "id": "strong-thumbnail",
   "metadata": {},
   "source": [
    "# Process with SparkNLP and SQL 1\n",
    "Process texts of all lengths."
   ]
  },
  {
   "cell_type": "code",
   "execution_count": 5,
   "id": "requested-conference",
   "metadata": {},
   "outputs": [
    {
     "name": "stdout",
     "output_type": "stream",
     "text": [
      "CPU times: user 14 ms, sys: 5.42 ms, total: 19.4 ms\n",
      "Wall time: 337 ms\n",
      "Processed (and counted) 25647 rows.\n"
     ]
    }
   ],
   "source": [
    "# preprocess texts with Spark NLP pipeline\n",
    "texts = (\n",
    "    embedding_pipeline.preprocess_texts(df)\n",
    ")\n",
    "\n",
    "# get pipeline\n",
    "pipeline = embedding_pipeline.build_embedding_preproc_pipeline()\n",
    "pipeline_model = pipeline.fit(texts)\n",
    "light_model = LightPipeline(pipeline_model)\n",
    "\n",
    "# transform texts\n",
    "%time short_sentences = light_model.transform(texts)\n",
    "print(f\"Processed (and counted) {df.count()} rows.\")\n",
    "\n",
    "# register new data frame as a table so I can\n",
    "# run more complex SQL queries against it.\n",
    "short_sentences.registerTempTable(\"short_sents\")"
   ]
  },
  {
   "cell_type": "code",
   "execution_count": 6,
   "id": "disturbed-antarctica",
   "metadata": {},
   "outputs": [
    {
     "name": "stdout",
     "output_type": "stream",
     "text": [
      "CPU times: user 11.3 ms, sys: 6.12 ms, total: 17.4 ms\n",
      "Wall time: 475 ms\n"
     ]
    }
   ],
   "source": [
    "%%time\n",
    "# the sentences are often rather short, so we now concatenate\n",
    "# some of them together up to a length. here we choose it to be close to\n",
    "# but short of the max_seq_length (128) of the USE model we are using,\n",
    "# but one should experiment and fine tune this parameter\n",
    "\n",
    "# define function for counting spaces\n",
    "spark.udf.register(\"count_spaces\", lambda s: s.count(\" \"))\n",
    "\n",
    "# this will limit the lengths of our longer output 'sentences'\n",
    "trunc_len=100\n",
    "\n",
    "ddf = spark.sql(f\"\"\"\n",
    "/* do basic naming/recasting and count spaces as approximation\n",
    "   of number of tokens in seq length. */\n",
    "\n",
    "WITH cte1 AS  \n",
    "(SELECT id AS post_id,\n",
    "        CAST(finished_sentences_metadata[0]._2 AS INTEGER) AS sent_num,\n",
    "        count_spaces(finished_sentences[0]) AS space_count,\n",
    "        finished_sentences[0] as short_sent\n",
    "FROM short_sents),\n",
    "\n",
    "/* sum number of spaces within group and divide by trunc length.\n",
    "   this gives an imperfect but simple, usable and quick-to-compute \n",
    "   index tellilng us when to start concatenating a new group. Note \n",
    "   that, chunk nums could increase as in 0, 1, 3, due to a long\n",
    "   'short_sent', but we fixt that using ROW_NUMBER() in the next\n",
    "   query.*/\n",
    "   \n",
    "     cte2 AS \n",
    "(SELECT post_id,\n",
    "        CAST((SUM(space_count) \n",
    "                OVER (PARTITION BY post_id ORDER BY sent_num)\n",
    "            )/{trunc_len} AS INTEGER)\n",
    "        AS chunk_num,\n",
    "        short_sent FROM cte1)\n",
    "\n",
    "/* now concatenate along chunk_num. */\n",
    "\n",
    "SELECT  post_id,\n",
    "        (ROW_NUMBER() OVER (PARTITION BY post_id ORDER BY chunk_num))-1 \n",
    "        AS chunk_num,\n",
    "        CONCAT_WS(\" \", COLLECT_LIST(short_sent)) AS long_sent\n",
    "FROM cte2\n",
    "GROUP BY post_id, chunk_num\n",
    "\"\"\")\n",
    "\n",
    "ddf.registerTempTable(\"long_sents\")"
   ]
  },
  {
   "cell_type": "code",
   "execution_count": 7,
   "id": "perfect-supplement",
   "metadata": {},
   "outputs": [
    {
     "name": "stdout",
     "output_type": "stream",
     "text": [
      "+-------+---------+--------------------------------------------------------------------------------+\n",
      "|post_id|chunk_num|                                                                       long_sent|\n",
      "+-------+---------+--------------------------------------------------------------------------------+\n",
      "| l6pxtl|        0|                                    The Tendie defender is here to hold GME open|\n",
      "| l6wugo|        0|                                                                          MTNB ?|\n",
      "| l6wx2j|        0|                                          Robinhood not allowing purchase of AMC|\n",
      "| l6wydu|        0|It seems as though Robinhood is blocking people from buying additional shares...|\n",
      "| l6wzmx|        0|RH is no longer supporting GME! Although I am not on his , I am still having ...|\n",
      "| l6yvik|        0|Too late?. Have I missed the bandwagon and is it best to buy GME or AMC if I do?|\n",
      "| l6yvkf|        0|     WE BROKE SCHWAB. The trading system is unavailable. Please try again later.|\n",
      "| l6yvux|        0|                                                                   Next up. $DAL|\n",
      "| l6yw6k|        0|Redditors of WSB we \"WILL\" change the world NOW let's GET BB TO PLUTO . We al...|\n",
      "| l6yw9q|        0|                   Let's $PLAY with some more Hedge Fund Moneeey. $PLAY babyyyy.|\n",
      "| l6ywcd|        0|Entered at $390 let's go boys . Bought some shares at $390 right after openin...|\n",
      "| l6ywul|        0|                                        Robinhood . My oh my how the turntables.|\n",
      "| l6ywyz|        0|                                              $420.69 Historical moment captured|\n",
      "| l6yx08|        0|WTF Robinhood. Since we can't buy anything that's been booming from here. whi...|\n",
      "| l6yyv2|        0|Can someone dumb down and explain what's happening right now and how things w...|\n",
      "| l6yza1|        0|Time to jump ship from Robinhood. With the shit RH is pulling right now, we c...|\n",
      "| l6z0fs|        0|                                       AAL anyone?. Heavily shorted and up today|\n",
      "| l6zcdy|        0|                                                             Buy some doge. Haha|\n",
      "| l6zda7|        0|              We have to destroy Robinhood on the App Store. Give them no stars.|\n",
      "| l6zek4|        0|                 DOGE. Why don't we buy crypto? let's shoot the DOGE on the moon|\n",
      "+-------+---------+--------------------------------------------------------------------------------+\n",
      "only showing top 20 rows\n",
      "\n",
      "Number of rows: 34505\n",
      "CPU times: user 26.3 ms, sys: 7.82 ms, total: 34.1 ms\n",
      "Wall time: 59.8 s\n"
     ]
    }
   ],
   "source": [
    "%%time\n",
    "ddf.show(truncate=80)\n",
    "print(f\"Number of rows: {ddf.count()}\")"
   ]
  },
  {
   "cell_type": "code",
   "execution_count": 8,
   "id": "objective-judgment",
   "metadata": {},
   "outputs": [
    {
     "name": "stdout",
     "output_type": "stream",
     "text": [
      "+-------+-----------------+\n",
      "|summary|              len|\n",
      "+-------+-----------------+\n",
      "|  count|            34505|\n",
      "|   mean|254.4965367338067|\n",
      "| stddev| 228.518156678462|\n",
      "|    min|                3|\n",
      "|    max|             3276|\n",
      "+-------+-----------------+\n",
      "\n"
     ]
    }
   ],
   "source": [
    "len_df = spark.sql(\"\"\"\n",
    "WITH cte AS \n",
    "    (SELECT LENGTH(long_sent) \n",
    "     AS len FROM long_sents)\n",
    "SELECT len\n",
    "FROM cte\n",
    "ORDER BY len\n",
    "\"\"\")\n",
    "desc = len_df.describe()\n",
    "desc.show()"
   ]
  },
  {
   "cell_type": "markdown",
   "id": "legal-andorra",
   "metadata": {},
   "source": [
    "The distribution is bimodal:"
   ]
  },
  {
   "cell_type": "code",
   "execution_count": 9,
   "id": "north-modeling",
   "metadata": {},
   "outputs": [
    {
     "data": {
      "image/png": "[encoded data removed]",
      "text/plain": [
       "<Figure size 432x288 with 1 Axes>"
      ]
     },
     "metadata": {
      "needs_background": "light"
     },
     "output_type": "display_data"
    }
   ],
   "source": [
    "pddf = len_df.toPandas()\n",
    "axes = pddf.plot(title=\"Sentence Lengths\",\n",
    "                 kind=\"hist\",\n",
    "                 **{\"bins\":100, \n",
    "                    \"range\":(0,1000)})"
   ]
  },
  {
   "cell_type": "code",
   "execution_count": 10,
   "id": "expected-contrast",
   "metadata": {},
   "outputs": [
    {
     "data": {
      "image/png": "[encoded data removed]",
      "text/plain": [
       "<Figure size 432x288 with 1 Axes>"
      ]
     },
     "metadata": {
      "needs_background": "light"
     },
     "output_type": "display_data"
    }
   ],
   "source": [
    "axes = pddf.plot(title=\"Sentence Lengths\",\n",
    "                 kind=\"hist\",\n",
    "                 **{\"bins\":100, \n",
    "                    \"range\":(0,200)})"
   ]
  },
  {
   "cell_type": "code",
   "execution_count": 6,
   "id": "danish-elizabeth",
   "metadata": {},
   "outputs": [
    {
     "name": "stdout",
     "output_type": "stream",
     "text": [
      "Wrote csv file inside ../data/sentences_2021-03-05_10:36:08\n",
      "CPU times: user 2.23 ms, sys: 3.23 ms, total: 5.46 ms\n",
      "Wall time: 35.1 s\n"
     ]
    }
   ],
   "source": [
    "%%time\n",
    "day, time = str(datetime.now()).split()\n",
    "time = time.split(\".\")[0]\n",
    "timestamp = \"_\".join([day, time])\n",
    "OUTPUT_DIR = f\"../data/sentences_{timestamp}\"\n",
    "ddf.coalesce(1).write.csv(OUTPUT_DIR, header=True, sep=\"\\t\")\n",
    "print(f\"Wrote csv file inside {OUTPUT_DIR}\")"
   ]
  },
  {
   "cell_type": "markdown",
   "id": "satisfied-pottery",
   "metadata": {},
   "source": [
    "# Process with SparkNLP and SQL 2\n",
    "Process only texts greater than some length. Here we set ``df = full_len_df.where(F.col(\"length\") > 100)``."
   ]
  },
  {
   "cell_type": "code",
   "execution_count": 4,
   "id": "logical-looking",
   "metadata": {},
   "outputs": [
    {
     "name": "stdout",
     "output_type": "stream",
     "text": [
      "CPU times: user 14.8 ms, sys: 3.54 ms, total: 18.4 ms\n",
      "Wall time: 390 ms\n",
      "Processed (and counted) 12691 rows.\n"
     ]
    }
   ],
   "source": [
    "df = full_len_df.where(F.col(\"length\") > 100)\n",
    "\n",
    "# preprocess texts with Spark NLP pipeline\n",
    "texts = (\n",
    "    embedding_pipeline.preprocess_texts(df)\n",
    ")\n",
    "\n",
    "# get pipeline\n",
    "pipeline = embedding_pipeline.build_embedding_preproc_pipeline()\n",
    "pipeline_model = pipeline.fit(texts)\n",
    "light_model = LightPipeline(pipeline_model)\n",
    "\n",
    "# transform texts\n",
    "%time short_sentences = light_model.transform(texts)\n",
    "print(f\"Processed (and counted) {df.count()} rows.\")\n",
    "\n",
    "# register new data frame as a table so I can\n",
    "# run more complex SQL queries against it.\n",
    "short_sentences.registerTempTable(\"short_sents\")"
   ]
  },
  {
   "cell_type": "code",
   "execution_count": 5,
   "id": "binary-inflation",
   "metadata": {},
   "outputs": [
    {
     "name": "stdout",
     "output_type": "stream",
     "text": [
      "CPU times: user 9.38 ms, sys: 3.31 ms, total: 12.7 ms\n",
      "Wall time: 553 ms\n"
     ]
    }
   ],
   "source": [
    "%%time\n",
    "# the sentences are often rather short, so we now concatenate\n",
    "# some of them together up to a length. here we choose it to be close to\n",
    "# but short of the max_seq_length (128) of the USE model we are using,\n",
    "# but one should experiment and fine tune this parameter\n",
    "\n",
    "# define function for counting spaces\n",
    "spark.udf.register(\"count_spaces\", lambda s: s.count(\" \"))\n",
    "\n",
    "# this will limit the lengths of our longer output 'sentences'\n",
    "trunc_len=100\n",
    "\n",
    "ddf = spark.sql(f\"\"\"\n",
    "/* do basic naming/recasting and count spaces as approximation\n",
    "   of number of tokens in seq length. */\n",
    "\n",
    "WITH cte1 AS  \n",
    "(SELECT id AS post_id,\n",
    "        CAST(finished_sentences_metadata[0]._2 AS INTEGER) AS sent_num,\n",
    "        count_spaces(finished_sentences[0]) AS space_count,\n",
    "        finished_sentences[0] as short_sent\n",
    "FROM short_sents),\n",
    "\n",
    "/* sum number of spaces within group and divide by trunc length.\n",
    "   this gives an imperfect but simple, usable and quick-to-compute \n",
    "   index tellilng us when to start concatenating a new group. Note \n",
    "   that, chunk nums could increase as in 0, 1, 3, due to a long\n",
    "   'short_sent', but we fixt that using ROW_NUMBER() in the next\n",
    "   query.*/\n",
    "   \n",
    "     cte2 AS \n",
    "(SELECT post_id,\n",
    "        CAST((SUM(space_count) \n",
    "                OVER (PARTITION BY post_id ORDER BY sent_num)\n",
    "            )/{trunc_len} AS INTEGER)\n",
    "        AS chunk_num,\n",
    "        short_sent FROM cte1)\n",
    "\n",
    "/* now concatenate along chunk_num. */\n",
    "\n",
    "SELECT  post_id,\n",
    "        (ROW_NUMBER() OVER (PARTITION BY post_id ORDER BY chunk_num))-1 \n",
    "        AS chunk_num,\n",
    "        CONCAT_WS(\" \", COLLECT_LIST(short_sent)) AS long_sent\n",
    "FROM cte2\n",
    "GROUP BY post_id, chunk_num\n",
    "\"\"\")\n",
    "\n",
    "ddf.registerTempTable(\"long_sents\")"
   ]
  },
  {
   "cell_type": "code",
   "execution_count": 6,
   "id": "tested-mining",
   "metadata": {},
   "outputs": [
    {
     "name": "stdout",
     "output_type": "stream",
     "text": [
      "+-------+---------+--------------------------------------------------------------------------------+\n",
      "|post_id|chunk_num|                                                                       long_sent|\n",
      "+-------+---------+--------------------------------------------------------------------------------+\n",
      "| l6wydu|        0|It seems as though Robinhood is blocking people from buying additional shares...|\n",
      "| l6wzmx|        0|RH is no longer supporting GME! Although I am not on his , I am still having ...|\n",
      "| l6yw6k|        0|Redditors of WSB we \"WILL\" change the world NOW let's GET BB TO PLUTO . We al...|\n",
      "| l6yw9q|        0|                   Let's $PLAY with some more Hedge Fund Moneeey. $PLAY babyyyy.|\n",
      "| l6ywcd|        0|Entered at $390 let's go boys . Bought some shares at $390 right after openin...|\n",
      "| l6yyv2|        0|Can someone dumb down and explain what's happening right now and how things w...|\n",
      "| l6yza1|        0|Time to jump ship from Robinhood. With the shit RH is pulling right now, we c...|\n",
      "| l6zfs0|        0|Can I get some info on the current situation?. Fellas I'm a little late to th...|\n",
      "| l6zi41|        0|Robinhood removed GME, NOK AND BB. They've locked Doge. I call BS. We need to...|\n",
      "| l6zpoq|        0|HOLD GME APES! TOGETHER STRONG! BUY THE DIP!. Listen bros, we're making a sta...|\n",
      "| l6zu42|        0|How do I even buy GME if brokers are removing that ability?. Downloaded Robin...|\n",
      "| l6zvww|        0|Robinhood contact information for C level assistance. Vlad Tenev. CEO. 571 22...|\n",
      "| l6zxpv|        0|Rate Robinhood 1 star on the app store!. If everyone here did that, their rat...|\n",
      "| l701oy|        0|IT'S WORKING Several Hedge Funds Stung by Market Turmoil. More hedge funds ar...|\n",
      "| l701oy|        1|Candlestick Capital Management, a roughly $3 billion Greenwich, Conn. , hedge...|\n",
      "| l701oy|        2|Steven A. Cohen's Point72 Asset Management, which together with Citadel and i...|\n",
      "| l701oy|        3|One of the people said the losses Wednesday stemmed from degrossing, or cutti...|\n",
      "| l701oy|        4|Individual investors have claimed victory for the violent moves unmoored from...|\n",
      "| l70d19|        0|I figured out how they're going to rig this!. They're going to halt buying GM...|\n",
      "| l70fjk|        0|Can't open accounts with other traders?. This morning I was dealing with the ...|\n",
      "+-------+---------+--------------------------------------------------------------------------------+\n",
      "only showing top 20 rows\n",
      "\n",
      "Number of rows: 21627\n",
      "CPU times: user 25.4 ms, sys: 4.09 ms, total: 29.5 ms\n",
      "Wall time: 57.5 s\n"
     ]
    }
   ],
   "source": [
    "%%time\n",
    "ddf.show(truncate=80)\n",
    "print(f\"Number of rows: {ddf.count()}\")"
   ]
  },
  {
   "cell_type": "code",
   "execution_count": 12,
   "id": "pretty-victim",
   "metadata": {},
   "outputs": [],
   "source": [
    "ddf = spark.sql(\"\"\"\n",
    "    SELECT *, \n",
    "    LENGTH(long_sent) \n",
    "        AS len \n",
    "    FROM long_sents\n",
    "\"\"\")"
   ]
  },
  {
   "cell_type": "code",
   "execution_count": 15,
   "id": "prospective-rouge",
   "metadata": {},
   "outputs": [
    {
     "name": "stdout",
     "output_type": "stream",
     "text": [
      "+-------+------------------+\n",
      "|summary|               len|\n",
      "+-------+------------------+\n",
      "|  count|             21627|\n",
      "|   mean|377.11087991862024|\n",
      "| stddev|206.57482479852607|\n",
      "|    min|                 4|\n",
      "|    max|              3276|\n",
      "+-------+------------------+\n",
      "\n"
     ]
    }
   ],
   "source": [
    "len_df = ddf.select(\"len\")\n",
    "desc = len_df.describe()\n",
    "desc.show()"
   ]
  },
  {
   "cell_type": "code",
   "execution_count": 16,
   "id": "molecular-flood",
   "metadata": {},
   "outputs": [
    {
     "data": {
      "image/png": "[encoded data removed]",
      "text/plain": [
       "<Figure size 432x288 with 1 Axes>"
      ]
     },
     "metadata": {
      "needs_background": "light"
     },
     "output_type": "display_data"
    }
   ],
   "source": [
    "pddf = len_df.toPandas()\n",
    "axes = pddf.plot(title=\"Sentence Lengths\",\n",
    "                 kind=\"hist\",\n",
    "                 **{\"bins\":100, \n",
    "                    \"range\":(0,1000)})"
   ]
  },
  {
   "cell_type": "markdown",
   "id": "furnished-vector",
   "metadata": {},
   "source": [
    "We will drop the truncated bits, which could turn into noise for our density-based clustering algorithms."
   ]
  },
  {
   "cell_type": "code",
   "execution_count": 22,
   "id": "general-rachel",
   "metadata": {},
   "outputs": [
    {
     "data": {
      "text/plain": [
       "20694"
      ]
     },
     "execution_count": 22,
     "metadata": {},
     "output_type": "execute_result"
    }
   ],
   "source": [
    "out_df = ddf.where(\"len > 100\").drop(\"len\")\n",
    "out_df.count()"
   ]
  },
  {
   "cell_type": "code",
   "execution_count": 24,
   "id": "initial-oklahoma",
   "metadata": {},
   "outputs": [
    {
     "data": {
      "text/plain": [
       "646.6875"
      ]
     },
     "execution_count": 24,
     "metadata": {},
     "output_type": "execute_result"
    }
   ],
   "source": [
    "20694 / 32"
   ]
  },
  {
   "cell_type": "code",
   "execution_count": 23,
   "id": "lesbian-lindsay",
   "metadata": {},
   "outputs": [
    {
     "name": "stdout",
     "output_type": "stream",
     "text": [
      "Wrote csv file inside ../data/sentences_2021-03-07_12:45:54\n",
      "CPU times: user 4.64 ms, sys: 325 µs, total: 4.97 ms\n",
      "Wall time: 25.1 s\n"
     ]
    }
   ],
   "source": [
    "%%time\n",
    "day, time = str(datetime.now()).split()\n",
    "time = time.split(\".\")[0]\n",
    "timestamp = \"_\".join([day, time])\n",
    "OUTPUT_DIR = f\"../data/sentences_{timestamp}\"\n",
    "out_df.coalesce(1).write.csv(OUTPUT_DIR, header=True, sep=\"\\t\")\n",
    "print(f\"Wrote csv file inside {OUTPUT_DIR}\")"
   ]
  },
  {
   "cell_type": "markdown",
   "id": "comprehensive-baltimore",
   "metadata": {},
   "source": [
    "# Scratch: using petastorm for interface Spark <-> Tensorflow\n",
    "Petastorm is one way to avoid outputing the cleaned data to disk and then reimporting. It writes the files to parquet and gives a fast interface to Tensorflow. In a production system, it would be better to use this framework, or to run the Tensorflow inference directly in Spark."
   ]
  },
  {
   "cell_type": "code",
   "execution_count": 7,
   "id": "imported-burning",
   "metadata": {},
   "outputs": [],
   "source": [
    "# I also looked at using TFRecords, but it seemed\n",
    "# like it might be a pain to integrate the tf-spark\n",
    "# connector with Spark NLP.\n",
    "\n",
    "try:\n",
    "    import petastorm\n",
    "except ModuleNotFoundError:\n",
    "    ! pip install petastorm==0.9.8\n",
    "    import petastorm\n",
    "    \n",
    "from petastorm.spark import (SparkDatasetConverter, \n",
    "                             make_spark_converter)\n",
    "\n",
    "import tensorflow.compat.v1 as tf"
   ]
  },
  {
   "cell_type": "code",
   "execution_count": 8,
   "id": "raising-airplane",
   "metadata": {},
   "outputs": [
    {
     "name": "stderr",
     "output_type": "stream",
     "text": [
      "Converting floating-point columns to float32\n",
      "The median size 47368 B (< 50 MB) of the parquet files is too small. Total size: 9622619 B. Increase the median file size by calling df.repartition(n) or df.coalesce(n), which might help improve the performance. Parquet files: file:///home/cody/data/cache/20210305105721-appid-local-1614958526738-c1b0851a-4473-45d1-a147-a63ae829e40c/part-00116-74b579b0-7e78-44b1-a92c-c68d3a146a01-c000.parquet, ...\n"
     ]
    },
    {
     "name": "stdout",
     "output_type": "stream",
     "text": [
      "CPU times: user 63 ms, sys: 20.1 ms, total: 83.1 ms\n",
      "Wall time: 31.8 s\n"
     ]
    }
   ],
   "source": [
    "%%time\n",
    "CACHE_DIR = f\"{os.environ['PWD']}/data/cache/\"\n",
    "spark.conf.set(SparkDatasetConverter.PARENT_CACHE_DIR_URL_CONF,\n",
    "               f\"file://{CACHE_DIR}\")\n",
    "# this writes the parquet file(s)\n",
    "converter = make_spark_converter(ddf)\n",
    "# with this context, we have access to an object of type\n",
    "# tensorflow.python.data.ops.dataset_ops.DatasetV1Adapter\n",
    "dataset_context_manager = converter.make_tf_dataset()"
   ]
  },
  {
   "cell_type": "code",
   "execution_count": 9,
   "id": "allied-creek",
   "metadata": {},
   "outputs": [
    {
     "name": "stderr",
     "output_type": "stream",
     "text": [
      "/home/cody/anaconda3/lib/python3.7/site-packages/petastorm/tf_utils.py:135: UnicodeWarning: Tensorflow will convert all unicode strings back to bytes type. You may need to decode values.\n",
      "  \"You may need to decode values.\", UnicodeWarning)\n"
     ]
    },
    {
     "name": "stdout",
     "output_type": "stream",
     "text": [
      "<DatasetV1Adapter shapes: inferred_schema_view(post_id=(None,), chunk_num=(None,), long_sent=(None,)), types: inferred_schema_view(post_id=tf.string, chunk_num=tf.int32, long_sent=tf.string)> \n",
      "\n",
      "inferred_schema_view(post_id=<tf.Tensor: shape=(32,), dtype=string, numpy=\n",
      "array([b'l6o19x', b'l6o19x', b'l6sc6m', b'l6sc6m', b'l6sc6m', b'l6t5uo',\n",
      "       b'l6wwqd', b'l6wwyn', b'l6wzgz', b'l6wzgz', b'l6yw01', b'l6ywaf',\n",
      "       b'l6ywrh', b'l6yy3x', b'l6yyh5', b'l6zcsr', b'l6zdqe', b'l6ze0x',\n",
      "       b'l6ze9d', b'l6zeyt', b'l6zfa2', b'l6zfda', b'l6zfiv', b'l6zgad',\n",
      "       b'l6zgnl', b'l6zgxd', b'l6zh4k', b'l6ziea', b'l6zipy', b'l6zjqa',\n",
      "       b'l6zqek', b'l6zrnp'], dtype=object)>, chunk_num=<tf.Tensor: shape=(32,), dtype=int32, numpy=\n",
      "array([0, 1, 0, 1, 2, 0, 0, 0, 0, 1, 0, 0, 0, 0, 0, 0, 0, 0, 0, 0, 0, 0,\n",
      "       0, 0, 0, 0, 0, 0, 0, 0, 0, 0], dtype=int32)>, long_sent=<tf.Tensor: shape=(32,), dtype=string, numpy=\n",
      "array([b\"I stuffed up. So. been watching all you retards for about 9 months or so but have never been on the market or held any stocks. with all this GME stuff going on i thought fuck it lets jump in on it. So after much googling on how to actually buy shares. I signed up. signed up to a few brokers? App sites thing. couldn't get any of them to work because I am retarded I guess. Anyway I finally managed using Comsec from my commonwealth bank Australia . ending up getting $510 worth of GME stocks.\",\n",
      "       b'only to realise it is a Australian GME stock some kind of nickel and iron ore mining company on the Asx and so Totally different to the game stop stocks. I really am a retarded idiot. now to buy or sell international shares i need to apply and fill out some American tax papers form ect. which due to high demand will take 15 days. ohh well live and learn I guess. Was kinda fun to do anyway.',\n",
      "       b\"Dillard's the short play no one is talking about. Dillard's has been quietly gaining attention thanks to many articles spouting its short interest. Articles below . Dillard's is currently sitting at a short percent of float of 146.36% and will be substantially higher after todays price action. Dillard's $DDS share float is only 4.24 million or 19.26%. What this means is every dollar thrown at Dillard's will affect its price 5x more then a stock with a 100% outstanding float. The lower the float the easier it is to moon. Look at this mornings price action.\",\n",
      "       b\"DDS ran 20% to $128 on 240k of volume before being halted and shorted back down. If this stock gets any attention it will run faster than my dad from his parental duties. Look at the after hours activity. It ran from $82 $93 on 400 shares. That's the type of moon possibility we are dealing with. Any volume premarket can send this up 50% . Worst case scenario and it doesn't squeeze you are invested in a company that trimmed its fat and improved its margins thanks to covid. Reporting 32 million in net income last quarter up from 5.5million in the prior year.\",\n",
      "       b'This post will probably get downvoted to oblivion thanks to the GME stampede but ill keep it up for reference once DDS moons. Price Target 17k. A DDS sells for roughly 17k on runescape, a retail company with hundreds of buildings and locations should be worth atleast that much',\n",
      "       b'GME Gang . 34 Consecutive Days on NYSE Threshold Securities List Still on the list?!',\n",
      "       b\"$GME IS NO LONGER SUPPORTED ON ROBINHOOD! I have a buy pending, went to check on it and it says it's no longer supported. My buy is still pending.\",\n",
      "       b\"Who all with me ??? leavingrobinhood . Let's move to webull . I m moving all my orders to webull . Don't panic and sell\",\n",
      "       b\"New here, from mexico, watching shit unfold and ROOTING FOR MY AMIGOS ON REDDIT. So I've been watching you guys only because i sometime come here, the news down south hasn't said shit about the marvelous feat you guys are doing, after careful consideration y myself bought 2 stocks of gme, 10 of amc, 15 nok, its a very small amount compared to you guys but keep in mind in mexico 1 usd equals 20 of our pesos so yeah.\",\n",
      "       b'Anyways i just want to be a part of this, to be beside you guys while you show the world what a couple of internet nerds can do to the world!',\n",
      "       b'WE ARE BEING SILENCED',\n",
      "       b'My pending GME purchase went through finally. Processing img dpy3vsyc73e61.',\n",
      "       b'All WSB STOCKS BANNED. Talk about market manipulation by the these bitches. ITS DISGUSTING',\n",
      "       b'Explain pls whats happening. Can someone explain wtf has happend? I see memes everywhere did u guys gained a lot of money or something?',\n",
      "       b'Normies like me wanna know what\\'s up $AMC $GME and $NOK. Not sure how long to make this but I\\'ll keep it brief. A lot of people on the outside are watching this because they want to watch the big men burn want in on the action or both. The ones who are broke are . unsure about whether or not they should even try and help because they want in to make gains to help them out a hole or just cuz. What can they do to make the big boys hurt? Is this an \"every penny counts\" kinda thing?',\n",
      "       b'You boys best come back for us Brits over the pond with AMC shares',\n",
      "       b\"Just Bought in at Peak Price on Questrade . Don't let me down\",\n",
      "       b'PUSH %AMC. PUSH %AMC BUY and HOLD', b'Should I buy nakd ?',\n",
      "       b'WHY ARE U FUCKING SELLING RETARDS?',\n",
      "       b'Most banks will let you open a trading account. I did with chase. Took 2 minutes and i bought into AMC and NOK. Do not give in just because of apps being dumb!. Dont do it! HOLD!',\n",
      "       b'BB to the moon!!!. , . , . , GME & BB , . , . , .',\n",
      "       b\"NOK TO THE FUCKING MOON . Buying 1,000 shares and holding baby. They won't stop us. Let's take these suits down.\",\n",
      "       b\"$GME WILL GO TO $1000. $NOK $AMC $BB THE HEDGEFUNDS WERE HEDGING INTO THESE STOCKS IN ORDER TO SAVE THEMSELVES FROM $GME . THEY HAVE LEFT NORMLAL INVESTORS TO BE THE BAG HOLDERS WHICH IS WHY THEY ARE RED TODAY. DON'T BE TRICKED BY THE HEDGEFUNDS AND DIVIDE THE COMMUNITIY'S STRENGTH, FOCUS ON GME!!\",\n",
      "       b'This is a recaps six months of GameStop getting to where it is from the people who initially bought it last summer. I just threw this together but I have 4 more pages if you guys want to read. P.S. Robinhood is gonna get sued.',\n",
      "       b'Joined you retards GME',\n",
      "       b\"Why are people picking so many different stocks?. Shouldn't the guys on this sub be agreeing on one or two stocks instead of loosely talking about 10 different ones? Another question If I have 500 dollars right now, where should I put it?\",\n",
      "       b\"Buy $AMC. Let's go!\",\n",
      "       b\"Hold GME. Don't sell and it will skyrocket\",\n",
      "       b'The dip on NOK? Sus?. So I have a question is the dip on NOK because hedge bastards are moving out or because they are trying to play us? I legitimately want to know what is happening.',\n",
      "       b\"FIDELITY STILL TAKING GME BUY ORDERS. Robinhood and TD Ameritrade might be blocking options and buys of GME now, but Fidelity isn't. Hop over to them if you guys still need to grab your positions. I don't work for them, just use them and am pleased to see they're not fucking with peoples' money like Ameritrade and Robinhood. Furthermore, you guys know what the deal is.\",\n",
      "       b\"ROBINHOOD WOULDNT DELIST ALL THOSE STOCKS IF WALLSTREET WASNT HURTING. No way in hell they'd kamikaze their business model if they're sugar daddy hedge funds weren't seriously hurting. HOLD FAST YOU MOTHERFUCKERS, COME MONDAY WE'LL BE IN OUTER SPACE\"],\n",
      "      dtype=object)>)\n"
     ]
    },
    {
     "name": "stderr",
     "output_type": "stream",
     "text": [
      "/home/cody/anaconda3/lib/python3.7/site-packages/petastorm/arrow_reader_worker.py:53: FutureWarning: Calling .data on ChunkedArray is provided for compatibility after Column was removed, simply drop this attribute\n",
      "  column_as_pandas = column.data.chunks[0].to_pandas()\n"
     ]
    }
   ],
   "source": [
    "with dataset_context_manager as dataset:\n",
    "    print(dataset, \"\\n\")\n",
    "    for batch in dataset.take(1):\n",
    "        print(batch)"
   ]
  }
 ],
 "metadata": {
  "kernelspec": {
   "display_name": "Python 3",
   "language": "python",
   "name": "python3"
  },
  "language_info": {
   "codemirror_mode": {
    "name": "ipython",
    "version": 3
   },
   "file_extension": ".py",
   "mimetype": "text/x-python",
   "name": "python",
   "nbconvert_exporter": "python",
   "pygments_lexer": "ipython3",
   "version": "3.7.7"
  }
 },
 "nbformat": 4,
 "nbformat_minor": 5
}

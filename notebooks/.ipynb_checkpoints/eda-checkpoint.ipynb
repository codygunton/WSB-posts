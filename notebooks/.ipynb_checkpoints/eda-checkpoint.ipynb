{
 "cells": [
  {
   "cell_type": "code",
   "execution_count": 3,
   "metadata": {},
   "outputs": [],
   "source": [
    "%config Completer.use_jedi = False\n",
    "# https://stackoverflow.com/questions/40536560/ipython-and-jupyter-autocomplete-not-working"
   ]
  },
  {
   "cell_type": "code",
   "execution_count": 4,
   "metadata": {},
   "outputs": [],
   "source": [
    "import pandas as pd\n",
    "# import plotly.express as px\n",
    "# import praw  # might use this too scrape some of the comments?\n",
    "data_path = \"../data/reddit_wsb.csv\""
   ]
  },
  {
   "cell_type": "code",
   "execution_count": 5,
   "metadata": {},
   "outputs": [
    {
     "name": "stdout",
     "output_type": "stream",
     "text": [
      "<class 'pandas.core.frame.DataFrame'>\n",
      "DatetimeIndex: 25647 entries, 2021-01-28 09:08:16 to 2021-02-04 17:40:49\n",
      "Data columns (total 7 columns):\n",
      " #   Column     Non-Null Count  Dtype  \n",
      "---  ------     --------------  -----  \n",
      " 0   title      25647 non-null  object \n",
      " 1   score      25647 non-null  int64  \n",
      " 2   id         25647 non-null  object \n",
      " 3   url        25647 non-null  object \n",
      " 4   comms_num  25647 non-null  int64  \n",
      " 5   created    25647 non-null  float64\n",
      " 6   body       12798 non-null  object \n",
      "dtypes: float64(1), int64(2), object(4)\n",
      "memory usage: 1.6+ MB\n",
      "None\n"
     ]
    },
    {
     "data": {
      "text/html": [
       "<div>\n",
       "<style scoped>\n",
       "    .dataframe tbody tr th:only-of-type {\n",
       "        vertical-align: middle;\n",
       "    }\n",
       "\n",
       "    .dataframe tbody tr th {\n",
       "        vertical-align: top;\n",
       "    }\n",
       "\n",
       "    .dataframe thead th {\n",
       "        text-align: right;\n",
       "    }\n",
       "</style>\n",
       "<table border=\"1\" class=\"dataframe\">\n",
       "  <thead>\n",
       "    <tr style=\"text-align: right;\">\n",
       "      <th></th>\n",
       "      <th>title</th>\n",
       "      <th>score</th>\n",
       "      <th>id</th>\n",
       "      <th>url</th>\n",
       "      <th>comms_num</th>\n",
       "      <th>created</th>\n",
       "      <th>body</th>\n",
       "    </tr>\n",
       "    <tr>\n",
       "      <th>timestamp</th>\n",
       "      <th></th>\n",
       "      <th></th>\n",
       "      <th></th>\n",
       "      <th></th>\n",
       "      <th></th>\n",
       "      <th></th>\n",
       "      <th></th>\n",
       "    </tr>\n",
       "  </thead>\n",
       "  <tbody>\n",
       "    <tr>\n",
       "      <th>2021-01-28 09:08:16</th>\n",
       "      <td>An autists journey. $150 to $68k in one month....</td>\n",
       "      <td>50</td>\n",
       "      <td>l6h58v</td>\n",
       "      <td>https://www.reddit.com/gallery/l6h58v</td>\n",
       "      <td>8</td>\n",
       "      <td>1.611818e+09</td>\n",
       "      <td>NaN</td>\n",
       "    </tr>\n",
       "    <tr>\n",
       "      <th>2021-01-28 09:08:17</th>\n",
       "      <td>You all have made Melvin live up to its name</td>\n",
       "      <td>70</td>\n",
       "      <td>l6h59b</td>\n",
       "      <td>https://i.redd.it/59sk10r7iyd61.png</td>\n",
       "      <td>7</td>\n",
       "      <td>1.611818e+09</td>\n",
       "      <td>NaN</td>\n",
       "    </tr>\n",
       "    <tr>\n",
       "      <th>2021-01-28 09:08:18</th>\n",
       "      <td>I got in late on GME but I believe in the caus...</td>\n",
       "      <td>75</td>\n",
       "      <td>l6h5a2</td>\n",
       "      <td>https://www.reddit.com/r/wallstreetbets/commen...</td>\n",
       "      <td>14</td>\n",
       "      <td>1.611818e+09</td>\n",
       "      <td>You guys are amazing. Thank you for sending GM...</td>\n",
       "    </tr>\n",
       "    <tr>\n",
       "      <th>2021-01-28 09:08:19</th>\n",
       "      <td>Highest SI % of Float End of Business Jan 27th...</td>\n",
       "      <td>26</td>\n",
       "      <td>l6h5am</td>\n",
       "      <td>https://www.reddit.com/r/wallstreetbets/commen...</td>\n",
       "      <td>22</td>\n",
       "      <td>1.611818e+09</td>\n",
       "      <td>Will Update Daily At Market Close\\n\\nTop 5 sec...</td>\n",
       "    </tr>\n",
       "    <tr>\n",
       "      <th>2021-01-28 09:08:21</th>\n",
       "      <td>Discord still down</td>\n",
       "      <td>0</td>\n",
       "      <td>l6h5bt</td>\n",
       "      <td>https://www.reddit.com/r/wallstreetbets/commen...</td>\n",
       "      <td>6</td>\n",
       "      <td>1.611818e+09</td>\n",
       "      <td>i can't see how to talk to to any anti bot mea...</td>\n",
       "    </tr>\n",
       "    <tr>\n",
       "      <th>...</th>\n",
       "      <td>...</td>\n",
       "      <td>...</td>\n",
       "      <td>...</td>\n",
       "      <td>...</td>\n",
       "      <td>...</td>\n",
       "      <td>...</td>\n",
       "      <td>...</td>\n",
       "    </tr>\n",
       "    <tr>\n",
       "      <th>2021-02-04 17:35:55</th>\n",
       "      <td>Democrats vow to legalize cannabis this year</td>\n",
       "      <td>0</td>\n",
       "      <td>lcah9m</td>\n",
       "      <td>https://www.reddit.com/r/wallstreetbets/commen...</td>\n",
       "      <td>7</td>\n",
       "      <td>1.612453e+09</td>\n",
       "      <td>Wake up retards. \\nEnough talking about GME. \\...</td>\n",
       "    </tr>\n",
       "    <tr>\n",
       "      <th>2021-02-04 17:36:29</th>\n",
       "      <td>Help out a fellow retard? MARGIN VS CASH quest...</td>\n",
       "      <td>0</td>\n",
       "      <td>lcahli</td>\n",
       "      <td>https://www.reddit.com/r/wallstreetbets/commen...</td>\n",
       "      <td>9</td>\n",
       "      <td>1.612453e+09</td>\n",
       "      <td>I have seen a lot about buying on margin... I ...</td>\n",
       "    </tr>\n",
       "    <tr>\n",
       "      <th>2021-02-04 17:36:48</th>\n",
       "      <td>SHOULD WSB GET A REP AT THE GME BOARD? WE NOW ...</td>\n",
       "      <td>2</td>\n",
       "      <td>lcahqv</td>\n",
       "      <td>https://www.reddit.com/r/wallstreetbets/commen...</td>\n",
       "      <td>7</td>\n",
       "      <td>1.612453e+09</td>\n",
       "      <td>It seems we have bought quite a lot of shares ...</td>\n",
       "    </tr>\n",
       "    <tr>\n",
       "      <th>2021-02-04 17:38:46</th>\n",
       "      <td>\"Not a loss until you sell\" applies most of th...</td>\n",
       "      <td>4</td>\n",
       "      <td>lcaip9</td>\n",
       "      <td>https://www.reddit.com/r/wallstreetbets/commen...</td>\n",
       "      <td>1</td>\n",
       "      <td>1.612453e+09</td>\n",
       "      <td>I've been on this subreddit since 2017 and onl...</td>\n",
       "    </tr>\n",
       "    <tr>\n",
       "      <th>2021-02-04 17:40:49</th>\n",
       "      <td>I'm not going to tell you to hold or sell, but...</td>\n",
       "      <td>1</td>\n",
       "      <td>lcajty</td>\n",
       "      <td>https://www.reddit.com/r/wallstreetbets/commen...</td>\n",
       "      <td>0</td>\n",
       "      <td>1.612453e+09</td>\n",
       "      <td>Please just do some deep diving into why GME i...</td>\n",
       "    </tr>\n",
       "  </tbody>\n",
       "</table>\n",
       "<p>25647 rows × 7 columns</p>\n",
       "</div>"
      ],
      "text/plain": [
       "                                                                 title  score  \\\n",
       "timestamp                                                                       \n",
       "2021-01-28 09:08:16  An autists journey. $150 to $68k in one month....     50   \n",
       "2021-01-28 09:08:17       You all have made Melvin live up to its name     70   \n",
       "2021-01-28 09:08:18  I got in late on GME but I believe in the caus...     75   \n",
       "2021-01-28 09:08:19  Highest SI % of Float End of Business Jan 27th...     26   \n",
       "2021-01-28 09:08:21                                 Discord still down      0   \n",
       "...                                                                ...    ...   \n",
       "2021-02-04 17:35:55       Democrats vow to legalize cannabis this year      0   \n",
       "2021-02-04 17:36:29  Help out a fellow retard? MARGIN VS CASH quest...      0   \n",
       "2021-02-04 17:36:48  SHOULD WSB GET A REP AT THE GME BOARD? WE NOW ...      2   \n",
       "2021-02-04 17:38:46  \"Not a loss until you sell\" applies most of th...      4   \n",
       "2021-02-04 17:40:49  I'm not going to tell you to hold or sell, but...      1   \n",
       "\n",
       "                         id  \\\n",
       "timestamp                     \n",
       "2021-01-28 09:08:16  l6h58v   \n",
       "2021-01-28 09:08:17  l6h59b   \n",
       "2021-01-28 09:08:18  l6h5a2   \n",
       "2021-01-28 09:08:19  l6h5am   \n",
       "2021-01-28 09:08:21  l6h5bt   \n",
       "...                     ...   \n",
       "2021-02-04 17:35:55  lcah9m   \n",
       "2021-02-04 17:36:29  lcahli   \n",
       "2021-02-04 17:36:48  lcahqv   \n",
       "2021-02-04 17:38:46  lcaip9   \n",
       "2021-02-04 17:40:49  lcajty   \n",
       "\n",
       "                                                                   url  \\\n",
       "timestamp                                                                \n",
       "2021-01-28 09:08:16              https://www.reddit.com/gallery/l6h58v   \n",
       "2021-01-28 09:08:17                https://i.redd.it/59sk10r7iyd61.png   \n",
       "2021-01-28 09:08:18  https://www.reddit.com/r/wallstreetbets/commen...   \n",
       "2021-01-28 09:08:19  https://www.reddit.com/r/wallstreetbets/commen...   \n",
       "2021-01-28 09:08:21  https://www.reddit.com/r/wallstreetbets/commen...   \n",
       "...                                                                ...   \n",
       "2021-02-04 17:35:55  https://www.reddit.com/r/wallstreetbets/commen...   \n",
       "2021-02-04 17:36:29  https://www.reddit.com/r/wallstreetbets/commen...   \n",
       "2021-02-04 17:36:48  https://www.reddit.com/r/wallstreetbets/commen...   \n",
       "2021-02-04 17:38:46  https://www.reddit.com/r/wallstreetbets/commen...   \n",
       "2021-02-04 17:40:49  https://www.reddit.com/r/wallstreetbets/commen...   \n",
       "\n",
       "                     comms_num       created  \\\n",
       "timestamp                                      \n",
       "2021-01-28 09:08:16          8  1.611818e+09   \n",
       "2021-01-28 09:08:17          7  1.611818e+09   \n",
       "2021-01-28 09:08:18         14  1.611818e+09   \n",
       "2021-01-28 09:08:19         22  1.611818e+09   \n",
       "2021-01-28 09:08:21          6  1.611818e+09   \n",
       "...                        ...           ...   \n",
       "2021-02-04 17:35:55          7  1.612453e+09   \n",
       "2021-02-04 17:36:29          9  1.612453e+09   \n",
       "2021-02-04 17:36:48          7  1.612453e+09   \n",
       "2021-02-04 17:38:46          1  1.612453e+09   \n",
       "2021-02-04 17:40:49          0  1.612453e+09   \n",
       "\n",
       "                                                                  body  \n",
       "timestamp                                                               \n",
       "2021-01-28 09:08:16                                                NaN  \n",
       "2021-01-28 09:08:17                                                NaN  \n",
       "2021-01-28 09:08:18  You guys are amazing. Thank you for sending GM...  \n",
       "2021-01-28 09:08:19  Will Update Daily At Market Close\\n\\nTop 5 sec...  \n",
       "2021-01-28 09:08:21  i can't see how to talk to to any anti bot mea...  \n",
       "...                                                                ...  \n",
       "2021-02-04 17:35:55  Wake up retards. \\nEnough talking about GME. \\...  \n",
       "2021-02-04 17:36:29  I have seen a lot about buying on margin... I ...  \n",
       "2021-02-04 17:36:48  It seems we have bought quite a lot of shares ...  \n",
       "2021-02-04 17:38:46  I've been on this subreddit since 2017 and onl...  \n",
       "2021-02-04 17:40:49  Please just do some deep diving into why GME i...  \n",
       "\n",
       "[25647 rows x 7 columns]"
      ]
     },
     "execution_count": 5,
     "metadata": {},
     "output_type": "execute_result"
    }
   ],
   "source": [
    "df = pd.read_csv(data_path, index_col=\"timestamp\", parse_dates=True)\n",
    "df = df.sort_index()\n",
    "print(df.info()); df"
   ]
  },
  {
   "cell_type": "code",
   "execution_count": 6,
   "metadata": {},
   "outputs": [
    {
     "data": {
      "text/plain": [
       "25647"
      ]
     },
     "execution_count": 6,
     "metadata": {},
     "output_type": "execute_result"
    }
   ],
   "source": [
    "# The id is unique\n",
    "df.id.nunique()"
   ]
  },
  {
   "cell_type": "markdown",
   "metadata": {},
   "source": [
    "Better (drop some columns and treat as time series):"
   ]
  },
  {
   "cell_type": "code",
   "execution_count": 7,
   "metadata": {},
   "outputs": [
    {
     "name": "stdout",
     "output_type": "stream",
     "text": [
      "<class 'pandas.core.frame.DataFrame'>\n",
      "DatetimeIndex: 25647 entries, 2021-01-28 21:37:41 to 2021-02-04 07:54:27\n",
      "Data columns (total 3 columns):\n",
      " #   Column  Non-Null Count  Dtype \n",
      "---  ------  --------------  ----- \n",
      " 0   id      25647 non-null  object\n",
      " 1   title   25647 non-null  object\n",
      " 2   body    25647 non-null  object\n",
      "dtypes: object(3)\n",
      "memory usage: 801.5+ KB\n"
     ]
    }
   ],
   "source": [
    "df_pd = pd.read_csv(data_path, \n",
    "                 index_col=\"timestamp\", \n",
    "                 parse_dates=True, \n",
    "                 keep_default_na=False)\n",
    "# df_pd = df_pd.assign(timestamp=pd.to_datetime(df_pd.timestamp))\n",
    "df_pd = df_pd[[\"id\", \"title\", \"body\"]]\n",
    "df_pd.info()"
   ]
  },
  {
   "cell_type": "code",
   "execution_count": 8,
   "metadata": {},
   "outputs": [],
   "source": [
    "# # In three cases I checked, the comms_num field is an ovestimate (by maybe 5%?) of the actual number of comments on the post.\n",
    "# # Here are some of the most popular posts:\n",
    "# df.iloc[(-df.comms_num).argsort()].head(10)"
   ]
  },
  {
   "cell_type": "code",
   "execution_count": 9,
   "metadata": {},
   "outputs": [
    {
     "data": {
      "text/plain": [
       "<AxesSubplot:xlabel='timestamp'>"
      ]
     },
     "execution_count": 9,
     "metadata": {},
     "output_type": "execute_result"
    },
    {
     "data": {
      "image/png": "[encoded data removed]",
      "text/plain": [
       "<Figure size 432x288 with 1 Axes>"
      ]
     },
     "metadata": {
      "needs_background": "light"
     },
     "output_type": "display_data"
    }
   ],
   "source": [
    "# activity measured by number of new posts\n",
    "resampler = df[\"id\"].resample(\"3h\")\n",
    "ddf = resampler.count()\n",
    "ddf.plot()"
   ]
  },
  {
   "cell_type": "code",
   "execution_count": 10,
   "metadata": {},
   "outputs": [
    {
     "data": {
      "text/plain": [
       "<AxesSubplot:xlabel='timestamp'>"
      ]
     },
     "execution_count": 10,
     "metadata": {},
     "output_type": "execute_result"
    },
    {
     "data": {
      "image/png": "[encoded data removed]",
      "text/plain": [
       "<Figure size 432x288 with 1 Axes>"
      ]
     },
     "metadata": {
      "needs_background": "light"
     },
     "output_type": "display_data"
    }
   ],
   "source": [
    "# activity measured by number of comments\n",
    "resampler = df[\"comms_num\"].resample(\"3h\")\n",
    "ddf = resampler.sum()\n",
    "ddf.plot()"
   ]
  },
  {
   "cell_type": "markdown",
   "metadata": {},
   "source": [
    "I want to train on the body of a number of posts from a given time window and watch how some indicators of sentiment change. I need to make sure that there are a reasonable number of posts in each window for this to matter. Spikes of high activity are fine."
   ]
  },
  {
   "cell_type": "code",
   "execution_count": 11,
   "metadata": {},
   "outputs": [
    {
     "name": "stdout",
     "output_type": "stream",
     "text": [
      "count       59.000000\n",
      "mean       434.694915\n",
      "std       1656.618463\n",
      "min          0.000000\n",
      "25%         85.500000\n",
      "50%        143.000000\n",
      "75%        209.000000\n",
      "max      12725.000000\n",
      "dtype: float64\n"
     ]
    },
    {
     "data": {
      "text/plain": [
       "0     87\n",
       "1     43\n",
       "2     41\n",
       "3     69\n",
       "18    60\n",
       "19    30\n",
       "20    58\n",
       "26    57\n",
       "27    37\n",
       "28    57\n",
       "34    88\n",
       "35    79\n",
       "38    93\n",
       "39     0\n",
       "43     0\n",
       "44     0\n",
       "50    95\n",
       "51    84\n",
       "55    58\n",
       "dtype: int64"
      ]
     },
     "execution_count": 11,
     "metadata": {},
     "output_type": "execute_result"
    }
   ],
   "source": [
    "# to actually divide by time range\n",
    "bins = pd.cut(df.index, ddf.shape[0], \n",
    "              labels=list(range(ddf.shape[0])))\n",
    "vcs = bins.value_counts()\n",
    "print(vcs.describe())\n",
    "# How many bins have less than 50 comments?\n",
    "vcs[vcs<100]"
   ]
  },
  {
   "cell_type": "code",
   "execution_count": 10,
   "metadata": {},
   "outputs": [],
   "source": [
    "# # check that the id is just a component of the reddit.com address\n",
    "# prefix = \"https://www.reddit.com/r/wallstreetbets/comments/\"\n",
    "# ddf = df.assign(url = df.url.str.extract(prefix + \"(\\w{6})/.*\")); ddf"
   ]
  }
 ],
 "metadata": {
  "kernelspec": {
   "display_name": "Python 3",
   "language": "python",
   "name": "python3"
  },
  "language_info": {
   "codemirror_mode": {
    "name": "ipython",
    "version": 3
   },
   "file_extension": ".py",
   "mimetype": "text/x-python",
   "name": "python",
   "nbconvert_exporter": "python",
   "pygments_lexer": "ipython3",
   "version": "3.7.7"
  }
 },
 "nbformat": 4,
 "nbformat_minor": 4
}
